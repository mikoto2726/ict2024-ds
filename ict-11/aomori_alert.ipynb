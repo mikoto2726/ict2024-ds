{
 "cells": [
  {
   "cell_type": "markdown",
   "id": "b60ee158-b49b-42e5-b939-7316649c9c28",
   "metadata": {},
   "source": [
    "# データ・サイエンス\tデータ・サイエンス社会応用論 / ICT社会応用演習Ⅳ\n",
    "## 11-2. GTFS Realtime : Alert"
   ]
  },
  {
   "cell_type": "markdown",
   "id": "5c7bc2bc-3c88-4101-838e-f31d7548c706",
   "metadata": {},
   "source": [
    "### 1. 下準備"
   ]
  },
  {
   "cell_type": "code",
   "execution_count": null,
   "id": "c7c2769c-0d0c-4c6b-abb6-467c48d53119",
   "metadata": {},
   "outputs": [],
   "source": [
    "import requests\n",
    "from google.transit import gtfs_realtime_pb2\n",
    "import pandas as pd\n",
    "import geopandas as gpd"
   ]
  },
  {
   "cell_type": "code",
   "execution_count": null,
   "id": "7f83f77e-4450-4ac0-9eb5-8be2fe734f60",
   "metadata": {},
   "outputs": [],
   "source": [
    "AOMORI_BUS_ALERT_URL = 'https://api-public.odpt.org/api/v4/gtfs/realtime/odpt_AomoriCity_AllLines_alert'\n",
    "AOMORI_BUS_TRIPUPDATE_URL = 'https://api-public.odpt.org/api/v4/gtfs/realtime/odpt_AomoriCity_AllLines_trip_update'\n",
    "AOMORI_BUS_VEHICLEPOSITION_URL = 'https://api-public.odpt.org/api/v4/gtfs/realtime/odpt_AomoriCity_AllLines_vehicle'"
   ]
  },
  {
   "cell_type": "markdown",
   "id": "5576e95b-ca91-41bf-82aa-6263e1274212",
   "metadata": {},
   "source": [
    "### 2. GTFS Realtime のダウンロード\n",
    "#### 2-a) フィードの読み込み"
   ]
  },
  {
   "cell_type": "code",
   "execution_count": null,
   "id": "2ec6ff6b-4d9b-4b7d-9e25-71585cbdd6f3",
   "metadata": {},
   "outputs": [],
   "source": [
    "response = requests.get(AOMORI_BUS_ALERT_URL)\n",
    "\n",
    "if response.status_code == 200:\n",
    "    pb_data = response.content"
   ]
  },
  {
   "cell_type": "code",
   "execution_count": null,
   "id": "aa30d1ed-a4a5-4e19-b0bb-732560697994",
   "metadata": {},
   "outputs": [],
   "source": [
    "feed = gtfs_realtime_pb2.FeedMessage()\n",
    "feed.ParseFromString(pb_data)"
   ]
  },
  {
   "cell_type": "markdown",
   "id": "53fed8a4-eb35-4217-ba4c-3d35f0b00651",
   "metadata": {},
   "source": [
    "#### 2-b) ヘッダの表示"
   ]
  },
  {
   "cell_type": "code",
   "execution_count": null,
   "id": "7e4bbcde-a65f-4db1-b14d-b843047eb33c",
   "metadata": {},
   "outputs": [],
   "source": [
    "print(feed.header)"
   ]
  },
  {
   "cell_type": "markdown",
   "id": "7b3ab71b-6a84-4b67-86ee-a64ac5edf33b",
   "metadata": {},
   "source": [
    "#### 2-c) エンティティの一覧表示"
   ]
  },
  {
   "cell_type": "code",
   "execution_count": null,
   "id": "478c93f3-b8a7-4308-90ce-4e146ce9f481",
   "metadata": {},
   "outputs": [],
   "source": [
    "for entity in feed.entity:\n",
    "    print(entity)"
   ]
  },
  {
   "cell_type": "code",
   "execution_count": null,
   "id": "f6f41ab5-202b-4c6b-aa03-e1fa3559546d",
   "metadata": {},
   "outputs": [],
   "source": []
  }
 ],
 "metadata": {
  "kernelspec": {
   "display_name": "Python 3 (ipykernel)",
   "language": "python",
   "name": "python3"
  },
  "language_info": {
   "codemirror_mode": {
    "name": "ipython",
    "version": 3
   },
   "file_extension": ".py",
   "mimetype": "text/x-python",
   "name": "python",
   "nbconvert_exporter": "python",
   "pygments_lexer": "ipython3",
   "version": "3.9.20"
  }
 },
 "nbformat": 4,
 "nbformat_minor": 5
}
