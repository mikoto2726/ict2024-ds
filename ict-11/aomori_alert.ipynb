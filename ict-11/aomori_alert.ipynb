{
 "cells": [
  {
   "cell_type": "markdown",
   "id": "b60ee158-b49b-42e5-b939-7316649c9c28",
   "metadata": {},
   "source": [
    "# データ・サイエンス\tデータ・サイエンス社会応用論 / ICT社会応用演習Ⅳ\n",
    "## 11-2. GTFS Realtime : Alert"
   ]
  },
  {
   "cell_type": "markdown",
   "id": "5c7bc2bc-3c88-4101-838e-f31d7548c706",
   "metadata": {},
   "source": [
    "### 1. 下準備"
   ]
  },
  {
   "cell_type": "code",
   "execution_count": 1,
   "id": "c7c2769c-0d0c-4c6b-abb6-467c48d53119",
   "metadata": {
    "execution": {
     "iopub.execute_input": "2024-12-16T08:42:13.929603Z",
     "iopub.status.busy": "2024-12-16T08:42:13.928135Z",
     "iopub.status.idle": "2024-12-16T08:42:16.130124Z",
     "shell.execute_reply": "2024-12-16T08:42:16.128017Z",
     "shell.execute_reply.started": "2024-12-16T08:42:13.929523Z"
    }
   },
   "outputs": [],
   "source": [
    "import requests\n",
    "from google.transit import gtfs_realtime_pb2\n",
    "import pandas as pd\n",
    "import geopandas as gpd"
   ]
  },
  {
   "cell_type": "code",
   "execution_count": 2,
   "id": "7f83f77e-4450-4ac0-9eb5-8be2fe734f60",
   "metadata": {
    "execution": {
     "iopub.execute_input": "2024-12-16T08:42:16.136013Z",
     "iopub.status.busy": "2024-12-16T08:42:16.133980Z",
     "iopub.status.idle": "2024-12-16T08:42:16.146108Z",
     "shell.execute_reply": "2024-12-16T08:42:16.143959Z",
     "shell.execute_reply.started": "2024-12-16T08:42:16.135917Z"
    }
   },
   "outputs": [],
   "source": [
    "AOMORI_BUS_ALERT_URL = 'https://api-public.odpt.org/api/v4/gtfs/realtime/odpt_AomoriCity_AllLines_alert'\n",
    "AOMORI_BUS_TRIPUPDATE_URL = 'https://api-public.odpt.org/api/v4/gtfs/realtime/odpt_AomoriCity_AllLines_trip_update'\n",
    "AOMORI_BUS_VEHICLEPOSITION_URL = 'https://api-public.odpt.org/api/v4/gtfs/realtime/odpt_AomoriCity_AllLines_vehicle'"
   ]
  },
  {
   "cell_type": "markdown",
   "id": "5576e95b-ca91-41bf-82aa-6263e1274212",
   "metadata": {},
   "source": [
    "### 2. GTFS Realtime のダウンロード\n",
    "#### 2-a) フィードの読み込み"
   ]
  },
  {
   "cell_type": "code",
   "execution_count": 3,
   "id": "2ec6ff6b-4d9b-4b7d-9e25-71585cbdd6f3",
   "metadata": {
    "execution": {
     "iopub.execute_input": "2024-12-16T08:42:16.149096Z",
     "iopub.status.busy": "2024-12-16T08:42:16.148484Z",
     "iopub.status.idle": "2024-12-16T08:42:16.247932Z",
     "shell.execute_reply": "2024-12-16T08:42:16.245700Z",
     "shell.execute_reply.started": "2024-12-16T08:42:16.149037Z"
    }
   },
   "outputs": [],
   "source": [
    "response = requests.get(AOMORI_BUS_ALERT_URL)\n",
    "\n",
    "if response.status_code == 200:\n",
    "    pb_data = response.content"
   ]
  },
  {
   "cell_type": "code",
   "execution_count": 4,
   "id": "aa30d1ed-a4a5-4e19-b0bb-732560697994",
   "metadata": {
    "execution": {
     "iopub.execute_input": "2024-12-16T08:42:16.253453Z",
     "iopub.status.busy": "2024-12-16T08:42:16.252594Z",
     "iopub.status.idle": "2024-12-16T08:42:16.281486Z",
     "shell.execute_reply": "2024-12-16T08:42:16.278226Z",
     "shell.execute_reply.started": "2024-12-16T08:42:16.253371Z"
    }
   },
   "outputs": [
    {
     "data": {
      "text/plain": [
       "332"
      ]
     },
     "execution_count": 4,
     "metadata": {},
     "output_type": "execute_result"
    }
   ],
   "source": [
    "feed = gtfs_realtime_pb2.FeedMessage()\n",
    "feed.ParseFromString(pb_data)"
   ]
  },
  {
   "cell_type": "markdown",
   "id": "53fed8a4-eb35-4217-ba4c-3d35f0b00651",
   "metadata": {},
   "source": [
    "#### 2-b) ヘッダの表示"
   ]
  },
  {
   "cell_type": "code",
   "execution_count": 5,
   "id": "7e4bbcde-a65f-4db1-b14d-b843047eb33c",
   "metadata": {
    "execution": {
     "iopub.execute_input": "2024-12-16T08:42:16.285897Z",
     "iopub.status.busy": "2024-12-16T08:42:16.284941Z",
     "iopub.status.idle": "2024-12-16T08:42:16.301253Z",
     "shell.execute_reply": "2024-12-16T08:42:16.297790Z",
     "shell.execute_reply.started": "2024-12-16T08:42:16.285797Z"
    }
   },
   "outputs": [
    {
     "name": "stdout",
     "output_type": "stream",
     "text": [
      "gtfs_realtime_version: \"1.0\"\n",
      "incrementality: FULL_DATASET\n",
      "timestamp: 1727243146\n",
      "\n"
     ]
    }
   ],
   "source": [
    "print(feed.header)"
   ]
  },
  {
   "cell_type": "markdown",
   "id": "7b3ab71b-6a84-4b67-86ee-a64ac5edf33b",
   "metadata": {},
   "source": [
    "#### 2-c) エンティティの一覧表示"
   ]
  },
  {
   "cell_type": "code",
   "execution_count": 6,
   "id": "478c93f3-b8a7-4308-90ce-4e146ce9f481",
   "metadata": {
    "execution": {
     "iopub.execute_input": "2024-12-16T08:42:16.305458Z",
     "iopub.status.busy": "2024-12-16T08:42:16.304341Z",
     "iopub.status.idle": "2024-12-16T08:42:16.320477Z",
     "shell.execute_reply": "2024-12-16T08:42:16.317287Z",
     "shell.execute_reply.started": "2024-12-16T08:42:16.305345Z"
    }
   },
   "outputs": [
    {
     "name": "stdout",
     "output_type": "stream",
     "text": [
      "id: \"AR1\"\n",
      "alert {\n",
      "  active_period {\n",
      "    start: 1727449200\n",
      "    end: 1727621940\n",
      "  }\n",
      "  informed_entity {\n",
      "    agency_id: \"4000020022012\"\n",
      "  }\n",
      "  cause: OTHER_CAUSE\n",
      "  effect: OTHER_EFFECT\n",
      "  url {\n",
      "    translation {\n",
      "      text: \"https://www.city.aomori.aomori.jp/koutsu/iccard-aopass/1day-2day.html\"\n",
      "      language: \"ja\"\n",
      "    }\n",
      "  }\n",
      "  header_text {\n",
      "    translation {\n",
      "      text: \"フリールート1日乗車券のお知らせ\"\n",
      "      language: \"ja\"\n",
      "    }\n",
      "  }\n",
      "  description_text {\n",
      "    translation {\n",
      "      text: \"土・日・祝は、1日500円乗り放題の「フリールート1日乗車券（ICカード限定）」がお得です。\"\n",
      "      language: \"ja\"\n",
      "    }\n",
      "  }\n",
      "}\n",
      "\n"
     ]
    }
   ],
   "source": [
    "for entity in feed.entity:\n",
    "    print(entity)"
   ]
  },
  {
   "cell_type": "code",
   "execution_count": null,
   "id": "f6f41ab5-202b-4c6b-aa03-e1fa3559546d",
   "metadata": {},
   "outputs": [],
   "source": []
  }
 ],
 "metadata": {
  "kernelspec": {
   "display_name": "Python 3 (ipykernel)",
   "language": "python",
   "name": "python3"
  },
  "language_info": {
   "codemirror_mode": {
    "name": "ipython",
    "version": 3
   },
   "file_extension": ".py",
   "mimetype": "text/x-python",
   "name": "python",
   "nbconvert_exporter": "python",
   "pygments_lexer": "ipython3",
   "version": "3.8.18"
  }
 },
 "nbformat": 4,
 "nbformat_minor": 5
}
