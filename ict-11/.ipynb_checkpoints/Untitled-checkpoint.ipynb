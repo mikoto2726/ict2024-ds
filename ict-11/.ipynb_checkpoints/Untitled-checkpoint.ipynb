{
 "cells": [
  {
   "cell_type": "raw",
   "id": "ec4f9cc1-e6fc-4037-98c1-882f9bb45744",
   "metadata": {
    "execution": {
     "iopub.execute_input": "2025-01-07T14:13:21.903462Z",
     "iopub.status.busy": "2025-01-07T14:13:21.902812Z",
     "iopub.status.idle": "2025-01-07T14:13:21.911109Z",
     "shell.execute_reply": "2025-01-07T14:13:21.910326Z",
     "shell.execute_reply.started": "2025-01-07T14:13:21.903437Z"
    }
   },
   "source": [
    "データ・サイエンス データ・サイエンス社会応用論 / ICT社会応用演習Ⅳ\n",
    "第11回課題1-1"
   ]
  },
  {
   "cell_type": "code",
   "execution_count": 2,
   "id": "b7dfc59e-bdd5-45fa-83d4-1c6fd245d4dd",
   "metadata": {
    "execution": {
     "iopub.execute_input": "2025-01-07T14:13:33.642569Z",
     "iopub.status.busy": "2025-01-07T14:13:33.642068Z",
     "iopub.status.idle": "2025-01-07T14:13:34.226190Z",
     "shell.execute_reply": "2025-01-07T14:13:34.225561Z",
     "shell.execute_reply.started": "2025-01-07T14:13:33.642534Z"
    }
   },
   "outputs": [],
   "source": [
    "import requests\n",
    "import zipfile\n",
    "import os\n",
    "from google.transit import gtfs_realtime_pb2\n",
    "import pandas as pd\n",
    "import geopandas as gpd"
   ]
  },
  {
   "cell_type": "code",
   "execution_count": 3,
   "id": "f39f1872-8868-4399-900e-a920ebb336e1",
   "metadata": {
    "execution": {
     "iopub.execute_input": "2025-01-07T14:13:41.651453Z",
     "iopub.status.busy": "2025-01-07T14:13:41.650794Z",
     "iopub.status.idle": "2025-01-07T14:13:41.654576Z",
     "shell.execute_reply": "2025-01-07T14:13:41.654020Z",
     "shell.execute_reply.started": "2025-01-07T14:13:41.651430Z"
    }
   },
   "outputs": [],
   "source": [
    "AOMORI_BUS_TRIPUPDATE_URL = 'https://api-public.odpt.org/api/v4/gtfs/realtime/odpt_AomoriCity_AllLines_trip_update'"
   ]
  },
  {
   "cell_type": "code",
   "execution_count": 4,
   "id": "a12c5929-0854-4372-96dd-fa10703310da",
   "metadata": {
    "execution": {
     "iopub.execute_input": "2025-01-07T14:13:50.570444Z",
     "iopub.status.busy": "2025-01-07T14:13:50.570189Z",
     "iopub.status.idle": "2025-01-07T14:13:50.676569Z",
     "shell.execute_reply": "2025-01-07T14:13:50.675974Z",
     "shell.execute_reply.started": "2025-01-07T14:13:50.570423Z"
    }
   },
   "outputs": [],
   "source": [
    "response = requests.get(AOMORI_BUS_TRIPUPDATE_URL)\n",
    "\n",
    "if response.status_code == 200:\n",
    "    pb_data = response.content"
   ]
  },
  {
   "cell_type": "code",
   "execution_count": 5,
   "id": "8dc12ad2-173f-4c3a-b3c3-aa289fad8ab7",
   "metadata": {
    "execution": {
     "iopub.execute_input": "2025-01-07T14:13:56.142604Z",
     "iopub.status.busy": "2025-01-07T14:13:56.141915Z",
     "iopub.status.idle": "2025-01-07T14:13:56.149009Z",
     "shell.execute_reply": "2025-01-07T14:13:56.148611Z",
     "shell.execute_reply.started": "2025-01-07T14:13:56.142577Z"
    }
   },
   "outputs": [
    {
     "data": {
      "text/plain": [
       "15"
      ]
     },
     "execution_count": 5,
     "metadata": {},
     "output_type": "execute_result"
    }
   ],
   "source": [
    "feed = gtfs_realtime_pb2.FeedMessage()\n",
    "feed.ParseFromString(pb_data)"
   ]
  },
  {
   "cell_type": "code",
   "execution_count": 6,
   "id": "6afd9f96-6671-441a-b752-4786570433a4",
   "metadata": {
    "execution": {
     "iopub.execute_input": "2025-01-07T14:14:06.277683Z",
     "iopub.status.busy": "2025-01-07T14:14:06.277062Z",
     "iopub.status.idle": "2025-01-07T14:14:06.286560Z",
     "shell.execute_reply": "2025-01-07T14:14:06.286149Z",
     "shell.execute_reply.started": "2025-01-07T14:14:06.277656Z"
    }
   },
   "outputs": [
    {
     "data": {
      "text/html": [
       "<div>\n",
       "<style scoped>\n",
       "    .dataframe tbody tr th:only-of-type {\n",
       "        vertical-align: middle;\n",
       "    }\n",
       "\n",
       "    .dataframe tbody tr th {\n",
       "        vertical-align: top;\n",
       "    }\n",
       "\n",
       "    .dataframe thead th {\n",
       "        text-align: right;\n",
       "    }\n",
       "</style>\n",
       "<table border=\"1\" class=\"dataframe\">\n",
       "  <thead>\n",
       "    <tr style=\"text-align: right;\">\n",
       "      <th></th>\n",
       "    </tr>\n",
       "  </thead>\n",
       "  <tbody>\n",
       "  </tbody>\n",
       "</table>\n",
       "</div>"
      ],
      "text/plain": [
       "Empty DataFrame\n",
       "Columns: []\n",
       "Index: []"
      ]
     },
     "execution_count": 6,
     "metadata": {},
     "output_type": "execute_result"
    }
   ],
   "source": [
    "data = []\n",
    "for entity in feed.entity:\n",
    "    if not entity.HasField('trip_update'):\n",
    "        continue\n",
    "    \n",
    "    trip_update = entity.trip_update\n",
    "\n",
    "    for stop_time_update in trip_update.stop_time_update:    \n",
    "        data.append({\n",
    "            'trip_id': trip_update.trip.trip_id,\n",
    "            'stop_sequence': stop_time_update.stop_sequence,\n",
    "            'delay': stop_time_update.departure.delay\n",
    "        })\n",
    "\n",
    "df_trip_update = pd.DataFrame(data)\n",
    "df_trip_update"
   ]
  },
  {
   "cell_type": "code",
   "execution_count": 7,
   "id": "a72c6f7e-fe05-4725-b91f-9ef085ef234c",
   "metadata": {
    "execution": {
     "iopub.execute_input": "2025-01-07T14:14:16.743516Z",
     "iopub.status.busy": "2025-01-07T14:14:16.742649Z",
     "iopub.status.idle": "2025-01-07T14:14:18.439119Z",
     "shell.execute_reply": "2025-01-07T14:14:18.438298Z",
     "shell.execute_reply.started": "2025-01-07T14:14:16.743491Z"
    }
   },
   "outputs": [
    {
     "ename": "KeyError",
     "evalue": "'delay'",
     "output_type": "error",
     "traceback": [
      "\u001b[0;31m---------------------------------------------------------------------------\u001b[0m",
      "\u001b[0;31mKeyError\u001b[0m                                  Traceback (most recent call last)",
      "Cell \u001b[0;32mIn[7], line 1\u001b[0m\n\u001b[0;32m----> 1\u001b[0m \u001b[43mdf_trip_update\u001b[49m\u001b[43m[\u001b[49m\u001b[38;5;124;43m'\u001b[39;49m\u001b[38;5;124;43mdelay\u001b[39;49m\u001b[38;5;124;43m'\u001b[39;49m\u001b[43m]\u001b[49m\u001b[38;5;241m.\u001b[39mdescribe()\n",
      "File \u001b[0;32m~/anaconda3/envs/ict2024-od/lib/python3.9/site-packages/pandas/core/frame.py:4102\u001b[0m, in \u001b[0;36mDataFrame.__getitem__\u001b[0;34m(self, key)\u001b[0m\n\u001b[1;32m   4100\u001b[0m \u001b[38;5;28;01mif\u001b[39;00m \u001b[38;5;28mself\u001b[39m\u001b[38;5;241m.\u001b[39mcolumns\u001b[38;5;241m.\u001b[39mnlevels \u001b[38;5;241m>\u001b[39m \u001b[38;5;241m1\u001b[39m:\n\u001b[1;32m   4101\u001b[0m     \u001b[38;5;28;01mreturn\u001b[39;00m \u001b[38;5;28mself\u001b[39m\u001b[38;5;241m.\u001b[39m_getitem_multilevel(key)\n\u001b[0;32m-> 4102\u001b[0m indexer \u001b[38;5;241m=\u001b[39m \u001b[38;5;28;43mself\u001b[39;49m\u001b[38;5;241;43m.\u001b[39;49m\u001b[43mcolumns\u001b[49m\u001b[38;5;241;43m.\u001b[39;49m\u001b[43mget_loc\u001b[49m\u001b[43m(\u001b[49m\u001b[43mkey\u001b[49m\u001b[43m)\u001b[49m\n\u001b[1;32m   4103\u001b[0m \u001b[38;5;28;01mif\u001b[39;00m is_integer(indexer):\n\u001b[1;32m   4104\u001b[0m     indexer \u001b[38;5;241m=\u001b[39m [indexer]\n",
      "File \u001b[0;32m~/anaconda3/envs/ict2024-od/lib/python3.9/site-packages/pandas/core/indexes/range.py:417\u001b[0m, in \u001b[0;36mRangeIndex.get_loc\u001b[0;34m(self, key)\u001b[0m\n\u001b[1;32m    415\u001b[0m         \u001b[38;5;28;01mraise\u001b[39;00m \u001b[38;5;167;01mKeyError\u001b[39;00m(key) \u001b[38;5;28;01mfrom\u001b[39;00m \u001b[38;5;21;01merr\u001b[39;00m\n\u001b[1;32m    416\u001b[0m \u001b[38;5;28;01mif\u001b[39;00m \u001b[38;5;28misinstance\u001b[39m(key, Hashable):\n\u001b[0;32m--> 417\u001b[0m     \u001b[38;5;28;01mraise\u001b[39;00m \u001b[38;5;167;01mKeyError\u001b[39;00m(key)\n\u001b[1;32m    418\u001b[0m \u001b[38;5;28mself\u001b[39m\u001b[38;5;241m.\u001b[39m_check_indexing_error(key)\n\u001b[1;32m    419\u001b[0m \u001b[38;5;28;01mraise\u001b[39;00m \u001b[38;5;167;01mKeyError\u001b[39;00m(key)\n",
      "\u001b[0;31mKeyError\u001b[0m: 'delay'"
     ]
    }
   ],
   "source": [
    "df_trip_update['delay'].describe()"
   ]
  },
  {
   "cell_type": "code",
   "execution_count": null,
   "id": "1bb899b5-0c0d-4650-8aff-8029e86dec8b",
   "metadata": {},
   "outputs": [],
   "source": []
  }
 ],
 "metadata": {
  "kernelspec": {
   "display_name": "Python 3 (ipykernel)",
   "language": "python",
   "name": "python3"
  },
  "language_info": {
   "codemirror_mode": {
    "name": "ipython",
    "version": 3
   },
   "file_extension": ".py",
   "mimetype": "text/x-python",
   "name": "python",
   "nbconvert_exporter": "python",
   "pygments_lexer": "ipython3",
   "version": "3.9.20"
  }
 },
 "nbformat": 4,
 "nbformat_minor": 5
}
