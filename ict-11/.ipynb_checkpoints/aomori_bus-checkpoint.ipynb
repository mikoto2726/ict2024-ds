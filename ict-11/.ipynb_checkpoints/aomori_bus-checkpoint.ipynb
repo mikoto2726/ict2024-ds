{
 "cells": [
  {
   "cell_type": "markdown",
   "id": "542e7620-edbc-4cc6-a7c9-3f131918e0f0",
   "metadata": {},
   "source": [
    "# データ・サイエンス\tデータ・サイエンス社会応用論 / ICT社会応用演習Ⅳ\n",
    "## 11-1. Protocol Buffer"
   ]
  },
  {
   "cell_type": "markdown",
   "id": "28476a3c-96ba-4ac0-9b65-c1b5f8f116d9",
   "metadata": {},
   "source": [
    "### 1. 下準備"
   ]
  },
  {
   "cell_type": "code",
   "execution_count": null,
   "id": "fd2210e5-7ff8-4b9f-9472-06fda58d904f",
   "metadata": {},
   "outputs": [],
   "source": [
    "import requests\n",
    "from google.transit import gtfs_realtime_pb2\n",
    "from google.protobuf.json_format import MessageToJson"
   ]
  },
  {
   "cell_type": "code",
   "execution_count": null,
   "id": "6facc5c6-6381-41e8-b731-353222bd08d6",
   "metadata": {},
   "outputs": [],
   "source": [
    "AOMORI_BUS_ALERT_URL = 'https://api-public.odpt.org/api/v4/gtfs/realtime/odpt_AomoriCity_AllLines_alert'\n",
    "\n",
    "PB_PATH = 'tmp.pb'\n",
    "JSON_PATH = 'tmp.json'"
   ]
  },
  {
   "cell_type": "markdown",
   "id": "8bf41f1c-6891-45e5-9032-051bef21bb06",
   "metadata": {},
   "source": [
    "### 2. Protocol Buffer のダウンロード\n",
    "#### 2-a) バイナリデータの確認"
   ]
  },
  {
   "cell_type": "code",
   "execution_count": null,
   "id": "0777dedd-8dcb-4530-bf19-e130fdab03bf",
   "metadata": {},
   "outputs": [],
   "source": [
    "response = requests.get(AOMORI_BUS_ALERT_URL)\n",
    "\n",
    "if response.status_code == 200:\n",
    "    pb_data = response.content\n",
    "    byte_values = [f'{byte:02x}' for byte in pb_data]\n",
    "    print(' '.join(byte_values))"
   ]
  },
  {
   "cell_type": "code",
   "execution_count": null,
   "id": "f13a836f-1a7a-445a-9ed1-346b00780b18",
   "metadata": {},
   "outputs": [],
   "source": [
    "with open(PB_PATH, 'wb') as f:\n",
    "    f.write(pb_data)"
   ]
  },
  {
   "cell_type": "markdown",
   "id": "1e876e86-e9f9-4063-bf23-2a2fa251cc7f",
   "metadata": {},
   "source": [
    "#### 2-b) JSON形式への変換"
   ]
  },
  {
   "cell_type": "code",
   "execution_count": null,
   "id": "ee76f7fe-20fa-4592-86de-1df85d36cae3",
   "metadata": {
    "scrolled": true
   },
   "outputs": [],
   "source": [
    "feed = gtfs_realtime_pb2.FeedMessage()\n",
    "\n",
    "with open(PB_PATH, 'rb') as f:\n",
    "    feed.ParseFromString(f.read())\n",
    "\n",
    "feed_json = MessageToJson(feed)\n",
    "print(feed_json)"
   ]
  },
  {
   "cell_type": "code",
   "execution_count": null,
   "id": "c129670a-94b1-4e26-812f-3aa5c601c161",
   "metadata": {},
   "outputs": [],
   "source": [
    "with open(JSON_PATH, 'w') as f:\n",
    "    f.write(feed_json)"
   ]
  },
  {
   "cell_type": "code",
   "execution_count": null,
   "id": "cdf01206-df6e-4a68-9806-46af200fa364",
   "metadata": {},
   "outputs": [],
   "source": []
  }
 ],
 "metadata": {
  "kernelspec": {
   "display_name": "Python 3 (ipykernel)",
   "language": "python",
   "name": "python3"
  },
  "language_info": {
   "codemirror_mode": {
    "name": "ipython",
    "version": 3
   },
   "file_extension": ".py",
   "mimetype": "text/x-python",
   "name": "python",
   "nbconvert_exporter": "python",
   "pygments_lexer": "ipython3",
   "version": "3.9.20"
  }
 },
 "nbformat": 4,
 "nbformat_minor": 5
}
