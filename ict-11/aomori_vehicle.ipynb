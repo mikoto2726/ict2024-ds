{
 "cells": [
  {
   "cell_type": "markdown",
   "id": "03e6de1f-c9bb-4727-b41b-e8b42a35c28c",
   "metadata": {},
   "source": [
    "# データ・サイエンス\tデータ・サイエンス社会応用論 / ICT社会応用演習Ⅳ\n",
    "## 11-3. GTFS Realtime : Vehicle Position"
   ]
  },
  {
   "cell_type": "markdown",
   "id": "50d53d8c-28db-410e-885d-d3c6b81fd6b3",
   "metadata": {},
   "source": [
    "### 1. 下準備"
   ]
  },
  {
   "cell_type": "code",
   "execution_count": null,
   "id": "c7c2769c-0d0c-4c6b-abb6-467c48d53119",
   "metadata": {},
   "outputs": [],
   "source": [
    "import requests\n",
    "import zipfile\n",
    "import os\n",
    "from google.transit import gtfs_realtime_pb2\n",
    "import pandas as pd\n",
    "import geopandas as gpd"
   ]
  },
  {
   "cell_type": "code",
   "execution_count": null,
   "id": "7f83f77e-4450-4ac0-9eb5-8be2fe734f60",
   "metadata": {},
   "outputs": [],
   "source": [
    "AOMORI_BUS_ALERT_URL = 'https://api-public.odpt.org/api/v4/gtfs/realtime/odpt_AomoriCity_AllLines_alert'\n",
    "AOMORI_BUS_TRIPUPDATE_URL = 'https://api-public.odpt.org/api/v4/gtfs/realtime/odpt_AomoriCity_AllLines_trip_update'\n",
    "AOMORI_BUS_VEHICLEPOSITION_URL = 'https://api-public.odpt.org/api/v4/gtfs/realtime/odpt_AomoriCity_AllLines_vehicle'"
   ]
  },
  {
   "cell_type": "markdown",
   "id": "c275ad75-098a-43ce-99ab-47b236afd510",
   "metadata": {},
   "source": [
    "### 2. GTFS Realtime のダウンロード\n",
    "#### 2-a) フィードの読み込み"
   ]
  },
  {
   "cell_type": "code",
   "execution_count": null,
   "id": "2ec6ff6b-4d9b-4b7d-9e25-71585cbdd6f3",
   "metadata": {},
   "outputs": [],
   "source": [
    "response = requests.get(AOMORI_BUS_VEHICLEPOSITION_URL)\n",
    "\n",
    "if response.status_code == 200:\n",
    "    pb_data = response.content"
   ]
  },
  {
   "cell_type": "code",
   "execution_count": null,
   "id": "aa30d1ed-a4a5-4e19-b0bb-732560697994",
   "metadata": {},
   "outputs": [],
   "source": [
    "feed = gtfs_realtime_pb2.FeedMessage()\n",
    "feed.ParseFromString(pb_data)"
   ]
  },
  {
   "cell_type": "markdown",
   "id": "e55a5266-3d30-46fd-af35-05f493428a97",
   "metadata": {},
   "source": [
    "#### 2-b) ヘッダとエンティティの表示"
   ]
  },
  {
   "cell_type": "code",
   "execution_count": null,
   "id": "7e4bbcde-a65f-4db1-b14d-b843047eb33c",
   "metadata": {},
   "outputs": [],
   "source": [
    "print(feed.header)"
   ]
  },
  {
   "cell_type": "code",
   "execution_count": null,
   "id": "478c93f3-b8a7-4308-90ce-4e146ce9f481",
   "metadata": {
    "scrolled": true
   },
   "outputs": [],
   "source": [
    "for entity in feed.entity:\n",
    "    print(entity)"
   ]
  },
  {
   "cell_type": "markdown",
   "id": "177bd7e7-56f4-43aa-bfea-08569e22f911",
   "metadata": {},
   "source": [
    "#### 2-c) Pandas での読み込み"
   ]
  },
  {
   "cell_type": "code",
   "execution_count": null,
   "id": "96f0d552-f89d-4ef8-88f4-39f1e08fc0f1",
   "metadata": {
    "scrolled": true
   },
   "outputs": [],
   "source": [
    "data = []\n",
    "for entity in feed.entity:\n",
    "    if not entity.HasField('vehicle'):\n",
    "        continue\n",
    "    \n",
    "    vehicle = entity.vehicle    \n",
    "    data.append({\n",
    "        'vhiecle_id': vehicle.vehicle.id,\n",
    "        'trip_id': vehicle.trip.trip_id,\n",
    "        'current_stop_sequence': vehicle.current_stop_sequence,\n",
    "        'cuttent_status': vehicle.current_status,\n",
    "        'lat': vehicle.position.latitude,\n",
    "        'lon': vehicle.position.longitude\n",
    "    })\n",
    "\n",
    "df_vehicle = pd.DataFrame(data)\n",
    "df_vehicle"
   ]
  },
  {
   "cell_type": "markdown",
   "id": "756099bc-c244-4d68-8bf8-2fea2b5647b7",
   "metadata": {},
   "source": [
    "#### 2-d) GeoPandas での読み込み"
   ]
  },
  {
   "cell_type": "code",
   "execution_count": null,
   "id": "bc315ecf-3c56-403e-bb76-3a7290eaab9b",
   "metadata": {
    "scrolled": true
   },
   "outputs": [],
   "source": [
    "gdf_vehicle = gpd.GeoDataFrame(df_vehicle, geometry=gpd.points_from_xy(df_vehicle['lon'], df_vehicle['lat']), crs=4326)\n",
    "gdf_vehicle "
   ]
  },
  {
   "cell_type": "code",
   "execution_count": null,
   "id": "c9552830-4f39-4178-9371-3db94cd80db1",
   "metadata": {},
   "outputs": [],
   "source": [
    "gdf_vehicle.explore()"
   ]
  },
  {
   "cell_type": "markdown",
   "id": "76aea949-4139-4366-9dc7-e16909a82f31",
   "metadata": {},
   "source": [
    "### 3. GTFSの読み込み\n",
    "#### 3-a) GTFSのダウンロードと展開"
   ]
  },
  {
   "cell_type": "code",
   "execution_count": null,
   "id": "cdc3363e-2b91-4f46-ac6a-e78222b03079",
   "metadata": {},
   "outputs": [],
   "source": [
    "AOMORI_BUS_GTFS = 'https://api-public.odpt.org/api/v4/files/odpt/AomoriCity/AllLines.zip?date=20241201'\n",
    "\n",
    "ZIP_PATH = 'tmp.zip'\n",
    "TMPDIR_PATH = 'tmp/'"
   ]
  },
  {
   "cell_type": "code",
   "execution_count": null,
   "id": "4643ed8a-7523-4014-be72-83af1a85fb61",
   "metadata": {},
   "outputs": [],
   "source": [
    "response = requests.get(AOMORI_BUS_GTFS)\n",
    "\n",
    "if response.status_code == 200:\n",
    "  with open(ZIP_PATH, 'wb') as f:\n",
    "    f.write(response.content)\n",
    "\n",
    "if not os.path.exists(TMPDIR_PATH):\n",
    "  os.makedirs(TMPDIR_PATH)\n",
    "\n",
    "with zipfile.ZipFile(ZIP_PATH, 'r') as zip_ref:\n",
    "  zip_ref.extractall(TMPDIR_PATH)"
   ]
  },
  {
   "cell_type": "markdown",
   "id": "90453fef-8270-4e25-8ef1-ed7f33e578cb",
   "metadata": {},
   "source": [
    "#### 3-b) stops.txt / routes.txt / trips.txt / stop_times.txt の読み込み"
   ]
  },
  {
   "cell_type": "code",
   "execution_count": null,
   "id": "cd073d8e-d40e-4580-b6ea-9140749c21cd",
   "metadata": {},
   "outputs": [],
   "source": [
    "df_stops = pd.read_csv(TMPDIR_PATH + 'stops.txt')\n",
    "df_stops = df_stops[['stop_id', 'stop_name', 'stop_lat', 'stop_lon']]\n",
    "df_stops"
   ]
  },
  {
   "cell_type": "code",
   "execution_count": null,
   "id": "f33edc4f-038e-40f6-9171-106e40e957c8",
   "metadata": {},
   "outputs": [],
   "source": [
    "df_routes = pd.read_csv(TMPDIR_PATH + 'routes.txt')\n",
    "df_routes = df_routes[['route_id', 'route_short_name', 'route_long_name']]\n",
    "df_routes"
   ]
  },
  {
   "cell_type": "code",
   "execution_count": null,
   "id": "32dd476c-8c32-4a2d-a03d-62cc07a6997a",
   "metadata": {},
   "outputs": [],
   "source": [
    "df_trips = pd.read_csv(TMPDIR_PATH + 'trips.txt')\n",
    "df_trips = df_trips[['route_id', 'service_id', 'trip_id', 'trip_headsign']]\n",
    "df_trips"
   ]
  },
  {
   "cell_type": "code",
   "execution_count": null,
   "id": "dc795164-227b-41a8-b238-88ef9814ec2e",
   "metadata": {
    "scrolled": true
   },
   "outputs": [],
   "source": [
    "df_stop_times = pd.read_csv(TMPDIR_PATH + 'stop_times.txt')\n",
    "df_stop_times = df_stop_times[['trip_id', 'arrival_time', 'departure_time', 'stop_id', 'stop_sequence', 'stop_headsign']]\n",
    "df_stop_times"
   ]
  },
  {
   "cell_type": "markdown",
   "id": "0fa67491-e06d-42fb-86ba-dcecefb55c71",
   "metadata": {},
   "source": [
    "#### 3-c) 特定の路線での絞り込み"
   ]
  },
  {
   "cell_type": "code",
   "execution_count": null,
   "id": "47b41bb8-457b-44e4-b523-fc972f70f2fb",
   "metadata": {},
   "outputs": [],
   "source": [
    "df_routes_a1 = df_routes[df_routes['route_short_name'] == 'A1 国道・古川線']\n",
    "df_trips_a1 = df_routes_a1.merge(df_trips)\n",
    "df_trips_a1"
   ]
  },
  {
   "attachments": {},
   "cell_type": "markdown",
   "id": "8652ea76-635f-4777-9aff-0b94118f4eae",
   "metadata": {},
   "source": [
    "#### 3-d) 特定の路線上の車両位置情報を確認"
   ]
  },
  {
   "cell_type": "code",
   "execution_count": null,
   "id": "3ebf9340-d3d1-4cf1-993c-ad81094de8b9",
   "metadata": {},
   "outputs": [],
   "source": [
    "gdf_vehicle_a1 = gdf_vehicle.merge(df_trips_a1)\n",
    "gdf_vehicle_a1"
   ]
  },
  {
   "cell_type": "code",
   "execution_count": null,
   "id": "9a5d5f9a-0339-486d-b94e-adfb0838a54b",
   "metadata": {},
   "outputs": [],
   "source": [
    "df_stop_times_renamed = df_stop_times.rename(columns={'stop_sequence' : 'current_stop_sequence'})\n",
    "df_stops_names = df_stops[['stop_id', 'stop_name']]\n",
    "gdf_vehicle_a1.merge(df_stop_times_renamed).merge(df_stops_names)"
   ]
  },
  {
   "cell_type": "code",
   "execution_count": null,
   "id": "5af277c1-26c6-474c-86b0-eeee0c394940",
   "metadata": {},
   "outputs": [],
   "source": []
  }
 ],
 "metadata": {
  "kernelspec": {
   "display_name": "Python 3 (ipykernel)",
   "language": "python",
   "name": "python3"
  },
  "language_info": {
   "codemirror_mode": {
    "name": "ipython",
    "version": 3
   },
   "file_extension": ".py",
   "mimetype": "text/x-python",
   "name": "python",
   "nbconvert_exporter": "python",
   "pygments_lexer": "ipython3",
   "version": "3.9.20"
  }
 },
 "nbformat": 4,
 "nbformat_minor": 5
}
