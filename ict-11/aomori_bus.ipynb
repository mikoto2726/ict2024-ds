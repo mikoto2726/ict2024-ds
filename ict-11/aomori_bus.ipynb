{
 "cells": [
  {
   "cell_type": "markdown",
   "id": "542e7620-edbc-4cc6-a7c9-3f131918e0f0",
   "metadata": {},
   "source": [
    "# データ・サイエンス\tデータ・サイエンス社会応用論 / ICT社会応用演習Ⅳ\n",
    "## 11-1. Protocol Buffer"
   ]
  },
  {
   "cell_type": "markdown",
   "id": "28476a3c-96ba-4ac0-9b65-c1b5f8f116d9",
   "metadata": {},
   "source": [
    "### 1. 下準備"
   ]
  },
  {
   "cell_type": "code",
   "execution_count": 1,
   "id": "fd2210e5-7ff8-4b9f-9472-06fda58d904f",
   "metadata": {
    "execution": {
     "iopub.execute_input": "2024-12-16T08:42:28.268795Z",
     "iopub.status.busy": "2024-12-16T08:42:28.266583Z",
     "iopub.status.idle": "2024-12-16T08:42:28.625852Z",
     "shell.execute_reply": "2024-12-16T08:42:28.623030Z",
     "shell.execute_reply.started": "2024-12-16T08:42:28.268554Z"
    }
   },
   "outputs": [],
   "source": [
    "import requests\n",
    "from google.transit import gtfs_realtime_pb2\n",
    "from google.protobuf.json_format import MessageToJson"
   ]
  },
  {
   "cell_type": "code",
   "execution_count": 2,
   "id": "6facc5c6-6381-41e8-b731-353222bd08d6",
   "metadata": {
    "execution": {
     "iopub.execute_input": "2024-12-16T08:42:28.632667Z",
     "iopub.status.busy": "2024-12-16T08:42:28.630307Z",
     "iopub.status.idle": "2024-12-16T08:42:28.650380Z",
     "shell.execute_reply": "2024-12-16T08:42:28.646228Z",
     "shell.execute_reply.started": "2024-12-16T08:42:28.632532Z"
    }
   },
   "outputs": [],
   "source": [
    "AOMORI_BUS_ALERT_URL = 'https://api-public.odpt.org/api/v4/gtfs/realtime/odpt_AomoriCity_AllLines_alert'\n",
    "\n",
    "PB_PATH = 'tmp.pb'\n",
    "JSON_PATH = 'tmp.json'"
   ]
  },
  {
   "cell_type": "markdown",
   "id": "8bf41f1c-6891-45e5-9032-051bef21bb06",
   "metadata": {},
   "source": [
    "### 2. Protocol Buffer のダウンロード\n",
    "#### 2-a) バイナリデータの確認"
   ]
  },
  {
   "cell_type": "code",
   "execution_count": 3,
   "id": "0777dedd-8dcb-4530-bf19-e130fdab03bf",
   "metadata": {
    "execution": {
     "iopub.execute_input": "2024-12-16T08:42:28.656160Z",
     "iopub.status.busy": "2024-12-16T08:42:28.654231Z",
     "iopub.status.idle": "2024-12-16T08:42:28.775785Z",
     "shell.execute_reply": "2024-12-16T08:42:28.769670Z",
     "shell.execute_reply.started": "2024-12-16T08:42:28.656026Z"
    }
   },
   "outputs": [
    {
     "name": "stdout",
     "output_type": "stream",
     "text": [
      "0a 0d 0a 03 31 2e 30 10 00 18 8a c7 ce b7 06 12 ba 02 2a b2 02 0a 0c 08 f0 90 db b7 06 10 b4 d6 e5 b7 06 2a 0f 0a 0d 34 30 30 30 30 32 30 30 32 32 30 31 32 30 02 38 07 52 36 0a 34 0a 2e e3 83 95 e3 83 aa e3 83 bc e3 83 ab e3 83 bc e3 83 88 31 e6 97 a5 e4 b9 97 e8 bb 8a e5 88 b8 e3 81 ae e3 81 8a e7 9f a5 e3 82 89 e3 81 9b 12 02 6a 61 5a 85 01 0a 82 01 0a 7c e5 9c 9f e3 83 bb e6 97 a5 e3 83 bb e7 a5 9d e3 81 af e3 80 81 31 e6 97 a5 35 30 30 e5 86 86 e4 b9 97 e3 82 8a e6 94 be e9 a1 8c e3 81 ae e3 80 8c e3 83 95 e3 83 aa e3 83 bc e3 83 ab e3 83 bc e3 83 88 31 e6 97 a5 e4 b9 97 e8 bb 8a e5 88 b8 ef bc 88 49 43 e3 82 ab e3 83 bc e3 83 89 e9 99 90 e5 ae 9a ef bc 89 e3 80 8d e3 81 8c e3 81 8a e5 be 97 e3 81 a7 e3 81 99 e3 80 82 12 02 6a 61 42 4d 0a 4b 0a 45 68 74 74 70 73 3a 2f 2f 77 77 77 2e 63 69 74 79 2e 61 6f 6d 6f 72 69 2e 61 6f 6d 6f 72 69 2e 6a 70 2f 6b 6f 75 74 73 75 2f 69 63 63 61 72 64 2d 61 6f 70 61 73 73 2f 31 64 61 79 2d 32 64 61 79 2e 68 74 6d 6c 12 02 6a 61 0a 03 41 52 31\n"
     ]
    }
   ],
   "source": [
    "response = requests.get(AOMORI_BUS_ALERT_URL)\n",
    "\n",
    "if response.status_code == 200:\n",
    "    pb_data = response.content\n",
    "    byte_values = [f'{byte:02x}' for byte in pb_data]\n",
    "    print(' '.join(byte_values))"
   ]
  },
  {
   "cell_type": "code",
   "execution_count": 4,
   "id": "f13a836f-1a7a-445a-9ed1-346b00780b18",
   "metadata": {
    "execution": {
     "iopub.execute_input": "2024-12-16T08:42:28.792365Z",
     "iopub.status.busy": "2024-12-16T08:42:28.786901Z",
     "iopub.status.idle": "2024-12-16T08:42:28.818409Z",
     "shell.execute_reply": "2024-12-16T08:42:28.812725Z",
     "shell.execute_reply.started": "2024-12-16T08:42:28.792122Z"
    }
   },
   "outputs": [],
   "source": [
    "with open(PB_PATH, 'wb') as f:\n",
    "    f.write(pb_data)"
   ]
  },
  {
   "cell_type": "markdown",
   "id": "1e876e86-e9f9-4063-bf23-2a2fa251cc7f",
   "metadata": {},
   "source": [
    "#### 2-b) JSON形式への変換"
   ]
  },
  {
   "cell_type": "code",
   "execution_count": 5,
   "id": "ee76f7fe-20fa-4592-86de-1df85d36cae3",
   "metadata": {
    "execution": {
     "iopub.execute_input": "2024-12-16T08:42:28.825458Z",
     "iopub.status.busy": "2024-12-16T08:42:28.823791Z",
     "iopub.status.idle": "2024-12-16T08:42:28.861813Z",
     "shell.execute_reply": "2024-12-16T08:42:28.855452Z",
     "shell.execute_reply.started": "2024-12-16T08:42:28.825311Z"
    },
    "scrolled": true
   },
   "outputs": [
    {
     "name": "stdout",
     "output_type": "stream",
     "text": [
      "{\n",
      "  \"header\": {\n",
      "    \"gtfsRealtimeVersion\": \"1.0\",\n",
      "    \"incrementality\": \"FULL_DATASET\",\n",
      "    \"timestamp\": \"1727243146\"\n",
      "  },\n",
      "  \"entity\": [\n",
      "    {\n",
      "      \"id\": \"AR1\",\n",
      "      \"alert\": {\n",
      "        \"activePeriod\": [\n",
      "          {\n",
      "            \"start\": \"1727449200\",\n",
      "            \"end\": \"1727621940\"\n",
      "          }\n",
      "        ],\n",
      "        \"informedEntity\": [\n",
      "          {\n",
      "            \"agencyId\": \"4000020022012\"\n",
      "          }\n",
      "        ],\n",
      "        \"cause\": \"OTHER_CAUSE\",\n",
      "        \"effect\": \"OTHER_EFFECT\",\n",
      "        \"url\": {\n",
      "          \"translation\": [\n",
      "            {\n",
      "              \"text\": \"https://www.city.aomori.aomori.jp/koutsu/iccard-aopass/1day-2day.html\",\n",
      "              \"language\": \"ja\"\n",
      "            }\n",
      "          ]\n",
      "        },\n",
      "        \"headerText\": {\n",
      "          \"translation\": [\n",
      "            {\n",
      "              \"text\": \"\\u30d5\\u30ea\\u30fc\\u30eb\\u30fc\\u30c81\\u65e5\\u4e57\\u8eca\\u5238\\u306e\\u304a\\u77e5\\u3089\\u305b\",\n",
      "              \"language\": \"ja\"\n",
      "            }\n",
      "          ]\n",
      "        },\n",
      "        \"descriptionText\": {\n",
      "          \"translation\": [\n",
      "            {\n",
      "              \"text\": \"\\u571f\\u30fb\\u65e5\\u30fb\\u795d\\u306f\\u30011\\u65e5500\\u5186\\u4e57\\u308a\\u653e\\u984c\\u306e\\u300c\\u30d5\\u30ea\\u30fc\\u30eb\\u30fc\\u30c81\\u65e5\\u4e57\\u8eca\\u5238\\uff08IC\\u30ab\\u30fc\\u30c9\\u9650\\u5b9a\\uff09\\u300d\\u304c\\u304a\\u5f97\\u3067\\u3059\\u3002\",\n",
      "              \"language\": \"ja\"\n",
      "            }\n",
      "          ]\n",
      "        }\n",
      "      }\n",
      "    }\n",
      "  ]\n",
      "}\n"
     ]
    }
   ],
   "source": [
    "feed = gtfs_realtime_pb2.FeedMessage()\n",
    "\n",
    "with open(PB_PATH, 'rb') as f:\n",
    "    feed.ParseFromString(f.read())\n",
    "\n",
    "feed_json = MessageToJson(feed)\n",
    "print(feed_json)"
   ]
  },
  {
   "cell_type": "code",
   "execution_count": 6,
   "id": "c129670a-94b1-4e26-812f-3aa5c601c161",
   "metadata": {
    "execution": {
     "iopub.execute_input": "2024-12-16T08:42:28.873320Z",
     "iopub.status.busy": "2024-12-16T08:42:28.868588Z",
     "iopub.status.idle": "2024-12-16T08:42:28.898036Z",
     "shell.execute_reply": "2024-12-16T08:42:28.891518Z",
     "shell.execute_reply.started": "2024-12-16T08:42:28.873101Z"
    }
   },
   "outputs": [],
   "source": [
    "with open(JSON_PATH, 'w') as f:\n",
    "    f.write(feed_json)"
   ]
  },
  {
   "cell_type": "code",
   "execution_count": null,
   "id": "cdf01206-df6e-4a68-9806-46af200fa364",
   "metadata": {},
   "outputs": [],
   "source": []
  }
 ],
 "metadata": {
  "kernelspec": {
   "display_name": "Python 3 (ipykernel)",
   "language": "python",
   "name": "python3"
  },
  "language_info": {
   "codemirror_mode": {
    "name": "ipython",
    "version": 3
   },
   "file_extension": ".py",
   "mimetype": "text/x-python",
   "name": "python",
   "nbconvert_exporter": "python",
   "pygments_lexer": "ipython3",
   "version": "3.8.18"
  }
 },
 "nbformat": 4,
 "nbformat_minor": 5
}
