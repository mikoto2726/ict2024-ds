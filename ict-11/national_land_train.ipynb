{
 "cells": [
  {
   "cell_type": "markdown",
   "id": "5bf02a2f-c25a-4123-b2b7-96143dc110b9",
   "metadata": {},
   "source": [
    "# データ・サイエンス\tデータ・サイエンス社会応用論 / ICT社会応用演習Ⅳ\n",
    "## 11-6. 国土数値情報を触ってみよう"
   ]
  },
  {
   "cell_type": "markdown",
   "id": "66f6f58b-2139-417c-98a2-e3cce623d740",
   "metadata": {},
   "source": [
    "### 1. 下準備"
   ]
  },
  {
   "cell_type": "code",
   "execution_count": 1,
   "id": "373ae2f7-1395-49b6-b970-63534eebd767",
   "metadata": {
    "execution": {
     "iopub.execute_input": "2024-12-16T10:34:41.724801Z",
     "iopub.status.busy": "2024-12-16T10:34:41.723514Z",
     "iopub.status.idle": "2024-12-16T10:34:42.823889Z",
     "shell.execute_reply": "2024-12-16T10:34:42.819723Z",
     "shell.execute_reply.started": "2024-12-16T10:34:41.724743Z"
    }
   },
   "outputs": [],
   "source": [
    "import geopandas as gpd"
   ]
  },
  {
   "cell_type": "code",
   "execution_count": 2,
   "id": "35f5842f-4514-4072-aa55-32bfedfddb83",
   "metadata": {
    "execution": {
     "iopub.execute_input": "2024-12-16T10:34:42.831648Z",
     "iopub.status.busy": "2024-12-16T10:34:42.830117Z",
     "iopub.status.idle": "2024-12-16T10:34:42.847566Z",
     "shell.execute_reply": "2024-12-16T10:34:42.841883Z",
     "shell.execute_reply.started": "2024-12-16T10:34:42.831453Z"
    }
   },
   "outputs": [],
   "source": [
    "GEOJSON_RAILROAD = './data/N02-23_RailroadSection.geojson'\n",
    "GEOJSON_STATION = './data/N02-23_Station.geojson'"
   ]
  },
  {
   "cell_type": "markdown",
   "id": "eac4b4e9-aeb8-4781-b039-fb09c96613ea",
   "metadata": {},
   "source": [
    "### 2. データの読み込み\n",
    "#### 2-a) 鉄道駅データの読み込み"
   ]
  },
  {
   "cell_type": "code",
   "execution_count": 3,
   "id": "0d614944-580a-401f-801f-67ea49ad19cb",
   "metadata": {
    "execution": {
     "iopub.execute_input": "2024-12-16T10:34:42.851464Z",
     "iopub.status.busy": "2024-12-16T10:34:42.850331Z",
     "iopub.status.idle": "2024-12-16T10:34:44.516832Z",
     "shell.execute_reply": "2024-12-16T10:34:44.512092Z",
     "shell.execute_reply.started": "2024-12-16T10:34:42.851338Z"
    }
   },
   "outputs": [
    {
     "ename": "AttributeError",
     "evalue": "module 'fiona' has no attribute 'path'",
     "output_type": "error",
     "traceback": [
      "\u001b[0;31m---------------------------------------------------------------------------\u001b[0m",
      "\u001b[0;31mAttributeError\u001b[0m                            Traceback (most recent call last)",
      "Cell \u001b[0;32mIn[3], line 1\u001b[0m\n\u001b[0;32m----> 1\u001b[0m gdf_station \u001b[38;5;241m=\u001b[39m \u001b[43mgpd\u001b[49m\u001b[38;5;241;43m.\u001b[39;49m\u001b[43mread_file\u001b[49m\u001b[43m(\u001b[49m\u001b[43mGEOJSON_STATION\u001b[49m\u001b[43m)\u001b[49m\n\u001b[1;32m      2\u001b[0m gdf_station[gdf_station[\u001b[38;5;124m'\u001b[39m\u001b[38;5;124mN02_004\u001b[39m\u001b[38;5;124m'\u001b[39m] \u001b[38;5;241m==\u001b[39m \u001b[38;5;124m'\u001b[39m\u001b[38;5;124m東日本旅客鉄道\u001b[39m\u001b[38;5;124m'\u001b[39m]\n",
      "File \u001b[0;32m~/anaconda3/envs/ds2024-cv2/lib/python3.8/site-packages/geopandas/io/file.py:281\u001b[0m, in \u001b[0;36m_read_file\u001b[0;34m(filename, bbox, mask, rows, engine, **kwargs)\u001b[0m\n\u001b[1;32m    278\u001b[0m     \u001b[38;5;28;01melse\u001b[39;00m:\n\u001b[1;32m    279\u001b[0m         path_or_bytes \u001b[38;5;241m=\u001b[39m filename\n\u001b[0;32m--> 281\u001b[0m     \u001b[38;5;28;01mreturn\u001b[39;00m \u001b[43m_read_file_fiona\u001b[49m\u001b[43m(\u001b[49m\n\u001b[1;32m    282\u001b[0m \u001b[43m        \u001b[49m\u001b[43mpath_or_bytes\u001b[49m\u001b[43m,\u001b[49m\u001b[43m \u001b[49m\u001b[43mfrom_bytes\u001b[49m\u001b[43m,\u001b[49m\u001b[43m \u001b[49m\u001b[43mbbox\u001b[49m\u001b[38;5;241;43m=\u001b[39;49m\u001b[43mbbox\u001b[49m\u001b[43m,\u001b[49m\u001b[43m \u001b[49m\u001b[43mmask\u001b[49m\u001b[38;5;241;43m=\u001b[39;49m\u001b[43mmask\u001b[49m\u001b[43m,\u001b[49m\u001b[43m \u001b[49m\u001b[43mrows\u001b[49m\u001b[38;5;241;43m=\u001b[39;49m\u001b[43mrows\u001b[49m\u001b[43m,\u001b[49m\u001b[43m \u001b[49m\u001b[38;5;241;43m*\u001b[39;49m\u001b[38;5;241;43m*\u001b[39;49m\u001b[43mkwargs\u001b[49m\n\u001b[1;32m    283\u001b[0m \u001b[43m    \u001b[49m\u001b[43m)\u001b[49m\n\u001b[1;32m    285\u001b[0m \u001b[38;5;28;01melse\u001b[39;00m:\n\u001b[1;32m    286\u001b[0m     \u001b[38;5;28;01mraise\u001b[39;00m \u001b[38;5;167;01mValueError\u001b[39;00m(\u001b[38;5;124mf\u001b[39m\u001b[38;5;124m\"\u001b[39m\u001b[38;5;124munknown engine \u001b[39m\u001b[38;5;124m'\u001b[39m\u001b[38;5;132;01m{\u001b[39;00mengine\u001b[38;5;132;01m}\u001b[39;00m\u001b[38;5;124m'\u001b[39m\u001b[38;5;124m\"\u001b[39m)\n",
      "File \u001b[0;32m~/anaconda3/envs/ds2024-cv2/lib/python3.8/site-packages/geopandas/io/file.py:299\u001b[0m, in \u001b[0;36m_read_file_fiona\u001b[0;34m(path_or_bytes, from_bytes, bbox, mask, rows, where, **kwargs)\u001b[0m\n\u001b[1;32m    293\u001b[0m     \u001b[38;5;28;01mraise\u001b[39;00m \u001b[38;5;167;01mNotImplementedError\u001b[39;00m(\u001b[38;5;124m\"\u001b[39m\u001b[38;5;124mwhere requires fiona 1.9+\u001b[39m\u001b[38;5;124m\"\u001b[39m)\n\u001b[1;32m    295\u001b[0m \u001b[38;5;28;01mif\u001b[39;00m \u001b[38;5;129;01mnot\u001b[39;00m from_bytes:\n\u001b[1;32m    296\u001b[0m     \u001b[38;5;66;03m# Opening a file via URL or file-like-object above automatically detects a\u001b[39;00m\n\u001b[1;32m    297\u001b[0m     \u001b[38;5;66;03m# zipped file. In order to match that behavior, attempt to add a zip scheme\u001b[39;00m\n\u001b[1;32m    298\u001b[0m     \u001b[38;5;66;03m# if missing.\u001b[39;00m\n\u001b[0;32m--> 299\u001b[0m     \u001b[38;5;28;01mif\u001b[39;00m \u001b[43m_is_zip\u001b[49m\u001b[43m(\u001b[49m\u001b[38;5;28;43mstr\u001b[39;49m\u001b[43m(\u001b[49m\u001b[43mpath_or_bytes\u001b[49m\u001b[43m)\u001b[49m\u001b[43m)\u001b[49m:\n\u001b[1;32m    300\u001b[0m         parsed \u001b[38;5;241m=\u001b[39m fiona\u001b[38;5;241m.\u001b[39mparse_path(\u001b[38;5;28mstr\u001b[39m(path_or_bytes))\n\u001b[1;32m    301\u001b[0m         \u001b[38;5;28;01mif\u001b[39;00m \u001b[38;5;28misinstance\u001b[39m(parsed, fiona\u001b[38;5;241m.\u001b[39mpath\u001b[38;5;241m.\u001b[39mParsedPath):\n\u001b[1;32m    302\u001b[0m             \u001b[38;5;66;03m# If fiona is able to parse the path, we can safely look at the scheme\u001b[39;00m\n\u001b[1;32m    303\u001b[0m             \u001b[38;5;66;03m# and update it to have a zip scheme if necessary.\u001b[39;00m\n",
      "File \u001b[0;32m~/anaconda3/envs/ds2024-cv2/lib/python3.8/site-packages/geopandas/io/file.py:166\u001b[0m, in \u001b[0;36m_is_zip\u001b[0;34m(path)\u001b[0m\n\u001b[1;32m    164\u001b[0m \u001b[38;5;28;01mdef\u001b[39;00m \u001b[38;5;21m_is_zip\u001b[39m(path):\n\u001b[1;32m    165\u001b[0m \u001b[38;5;250m    \u001b[39m\u001b[38;5;124;03m\"\"\"Check if a given path is a zipfile\"\"\"\u001b[39;00m\n\u001b[0;32m--> 166\u001b[0m     parsed \u001b[38;5;241m=\u001b[39m \u001b[43mfiona\u001b[49m\u001b[38;5;241;43m.\u001b[39;49m\u001b[43mpath\u001b[49m\u001b[38;5;241m.\u001b[39mParsedPath\u001b[38;5;241m.\u001b[39mfrom_uri(path)\n\u001b[1;32m    167\u001b[0m     \u001b[38;5;28;01mreturn\u001b[39;00m (\n\u001b[1;32m    168\u001b[0m         parsed\u001b[38;5;241m.\u001b[39marchive\u001b[38;5;241m.\u001b[39mendswith(\u001b[38;5;124m\"\u001b[39m\u001b[38;5;124m.zip\u001b[39m\u001b[38;5;124m\"\u001b[39m)\n\u001b[1;32m    169\u001b[0m         \u001b[38;5;28;01mif\u001b[39;00m parsed\u001b[38;5;241m.\u001b[39marchive\n\u001b[1;32m    170\u001b[0m         \u001b[38;5;28;01melse\u001b[39;00m parsed\u001b[38;5;241m.\u001b[39mpath\u001b[38;5;241m.\u001b[39mendswith(\u001b[38;5;124m\"\u001b[39m\u001b[38;5;124m.zip\u001b[39m\u001b[38;5;124m\"\u001b[39m)\n\u001b[1;32m    171\u001b[0m     )\n",
      "\u001b[0;31mAttributeError\u001b[0m: module 'fiona' has no attribute 'path'"
     ]
    }
   ],
   "source": [
    "gdf_station = gpd.read_file(GEOJSON_STATION)\n",
    "gdf_station[gdf_station['N02_004'] == '東日本旅客鉄道']"
   ]
  },
  {
   "cell_type": "code",
   "execution_count": 4,
   "id": "87fb0d2e-6fb4-4f87-be9a-25d0b5a4cac7",
   "metadata": {
    "execution": {
     "iopub.execute_input": "2024-12-16T10:34:53.646353Z",
     "iopub.status.busy": "2024-12-16T10:34:53.644818Z",
     "iopub.status.idle": "2024-12-16T10:34:53.701216Z",
     "shell.execute_reply": "2024-12-16T10:34:53.697937Z",
     "shell.execute_reply.started": "2024-12-16T10:34:53.646273Z"
    }
   },
   "outputs": [
    {
     "ename": "NameError",
     "evalue": "name 'gdf_station' is not defined",
     "output_type": "error",
     "traceback": [
      "\u001b[0;31m---------------------------------------------------------------------------\u001b[0m",
      "\u001b[0;31mNameError\u001b[0m                                 Traceback (most recent call last)",
      "Cell \u001b[0;32mIn[4], line 1\u001b[0m\n\u001b[0;32m----> 1\u001b[0m \u001b[43mgdf_station\u001b[49m\u001b[38;5;241m.\u001b[39mexplore()\n",
      "\u001b[0;31mNameError\u001b[0m: name 'gdf_station' is not defined"
     ]
    }
   ],
   "source": [
    "gdf_station.explore()"
   ]
  },
  {
   "cell_type": "markdown",
   "id": "9fc48f89-befa-412e-86e2-6c8a39b02326",
   "metadata": {},
   "source": [
    "#### 2-b) 鉄道路線データの読み込み"
   ]
  },
  {
   "cell_type": "code",
   "execution_count": null,
   "id": "06021621-e510-49e5-8c00-020f98721254",
   "metadata": {
    "execution": {
     "iopub.status.busy": "2024-12-16T10:34:44.523401Z",
     "iopub.status.idle": "2024-12-16T10:34:44.524560Z",
     "shell.execute_reply": "2024-12-16T10:34:44.524063Z",
     "shell.execute_reply.started": "2024-12-16T10:34:44.524005Z"
    }
   },
   "outputs": [],
   "source": [
    "gdf_railroad = gpd.read_file(GEOJSON_RAILROAD)\n",
    "gdf_railroad"
   ]
  },
  {
   "cell_type": "code",
   "execution_count": null,
   "id": "af7b8073-1b46-4b26-90da-db85ab9c62db",
   "metadata": {
    "execution": {
     "iopub.status.busy": "2024-12-16T10:34:44.527505Z",
     "iopub.status.idle": "2024-12-16T10:34:44.528750Z",
     "shell.execute_reply": "2024-12-16T10:34:44.528114Z",
     "shell.execute_reply.started": "2024-12-16T10:34:44.528062Z"
    }
   },
   "outputs": [],
   "source": [
    "gdf_railroad.explore()"
   ]
  },
  {
   "cell_type": "code",
   "execution_count": null,
   "id": "b054cea8-bc85-40f3-9135-6a3cdf6634d0",
   "metadata": {},
   "outputs": [],
   "source": []
  }
 ],
 "metadata": {
  "kernelspec": {
   "display_name": "Python 3 (ipykernel)",
   "language": "python",
   "name": "python3"
  },
  "language_info": {
   "codemirror_mode": {
    "name": "ipython",
    "version": 3
   },
   "file_extension": ".py",
   "mimetype": "text/x-python",
   "name": "python",
   "nbconvert_exporter": "python",
   "pygments_lexer": "ipython3",
   "version": "3.8.18"
  }
 },
 "nbformat": 4,
 "nbformat_minor": 5
}
