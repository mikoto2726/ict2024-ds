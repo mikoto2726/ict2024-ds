{
 "cells": [
  {
   "cell_type": "markdown",
   "id": "5bf02a2f-c25a-4123-b2b7-96143dc110b9",
   "metadata": {},
   "source": [
    "# データ・サイエンス\tデータ・サイエンス社会応用論 / ICT社会応用演習Ⅳ\n",
    "## 11-6. 国土数値情報を触ってみよう"
   ]
  },
  {
   "cell_type": "markdown",
   "id": "66f6f58b-2139-417c-98a2-e3cce623d740",
   "metadata": {},
   "source": [
    "### 1. 下準備"
   ]
  },
  {
   "cell_type": "code",
   "execution_count": null,
   "id": "373ae2f7-1395-49b6-b970-63534eebd767",
   "metadata": {},
   "outputs": [],
   "source": [
    "import geopandas as gpd"
   ]
  },
  {
   "cell_type": "code",
   "execution_count": null,
   "id": "35f5842f-4514-4072-aa55-32bfedfddb83",
   "metadata": {},
   "outputs": [],
   "source": [
    "GEOJSON_RAILROAD = './data/N02-23_RailroadSection.geojson'\n",
    "GEOJSON_STATION = './data/N02-23_Station.geojson'"
   ]
  },
  {
   "cell_type": "markdown",
   "id": "eac4b4e9-aeb8-4781-b039-fb09c96613ea",
   "metadata": {},
   "source": [
    "### 2. データの読み込み\n",
    "#### 2-a) 鉄道駅データの読み込み"
   ]
  },
  {
   "cell_type": "code",
   "execution_count": null,
   "id": "0d614944-580a-401f-801f-67ea49ad19cb",
   "metadata": {},
   "outputs": [],
   "source": [
    "gdf_station = gpd.read_file(GEOJSON_STATION)\n",
    "gdf_station[gdf_station['N02_004'] == '東日本旅客鉄道']"
   ]
  },
  {
   "cell_type": "code",
   "execution_count": null,
   "id": "87fb0d2e-6fb4-4f87-be9a-25d0b5a4cac7",
   "metadata": {},
   "outputs": [],
   "source": [
    "gdf_station.explore()"
   ]
  },
  {
   "cell_type": "markdown",
   "id": "9fc48f89-befa-412e-86e2-6c8a39b02326",
   "metadata": {},
   "source": [
    "#### 2-b) 鉄道路線データの読み込み"
   ]
  },
  {
   "cell_type": "code",
   "execution_count": null,
   "id": "06021621-e510-49e5-8c00-020f98721254",
   "metadata": {},
   "outputs": [],
   "source": [
    "gdf_railroad = gpd.read_file(GEOJSON_RAILROAD)\n",
    "gdf_railroad"
   ]
  },
  {
   "cell_type": "code",
   "execution_count": null,
   "id": "af7b8073-1b46-4b26-90da-db85ab9c62db",
   "metadata": {},
   "outputs": [],
   "source": [
    "gdf_railroad.explore()"
   ]
  },
  {
   "cell_type": "code",
   "execution_count": null,
   "id": "b054cea8-bc85-40f3-9135-6a3cdf6634d0",
   "metadata": {},
   "outputs": [],
   "source": []
  }
 ],
 "metadata": {
  "kernelspec": {
   "display_name": "Python 3 (ipykernel)",
   "language": "python",
   "name": "python3"
  },
  "language_info": {
   "codemirror_mode": {
    "name": "ipython",
    "version": 3
   },
   "file_extension": ".py",
   "mimetype": "text/x-python",
   "name": "python",
   "nbconvert_exporter": "python",
   "pygments_lexer": "ipython3",
   "version": "3.9.20"
  }
 },
 "nbformat": 4,
 "nbformat_minor": 5
}
