{
 "cells": [
  {
   "cell_type": "markdown",
   "id": "c4f6d84d-7786-4fcb-aa44-a7827c631611",
   "metadata": {},
   "source": [
    "# データ・サイエンス\tデータ・サイエンス社会応用論 / ICT社会応用演習Ⅳ\n",
    "## 11-5. GBFSを触ってみよう"
   ]
  },
  {
   "cell_type": "markdown",
   "id": "80152df7-9c7c-40cf-9681-bd124e8a2e67",
   "metadata": {},
   "source": [
    "### 1. 下準備"
   ]
  },
  {
   "cell_type": "code",
   "execution_count": null,
   "id": "24dae5c4-eb98-4cad-96db-db94f1e28bcd",
   "metadata": {},
   "outputs": [],
   "source": [
    "from urllib import request, parse\n",
    "import json\n",
    "import pandas as pd\n",
    "import geopandas as gpd"
   ]
  },
  {
   "cell_type": "code",
   "execution_count": null,
   "id": "3ff30a62-13b7-42fa-bd6f-47e637e2fd0d",
   "metadata": {},
   "outputs": [],
   "source": [
    "DOCOMO_STATION_INFO = 'https://api-public.odpt.org/api/v4/gbfs/docomo-cycle/station_information.json'\n",
    "DOCOMO_STATION_STATUS = 'https://api-public.odpt.org/api/v4/gbfs/docomo-cycle/station_status.json'"
   ]
  },
  {
   "cell_type": "markdown",
   "id": "f31ed59d-fcaa-4fb9-9875-58145314d8be",
   "metadata": {},
   "source": [
    "### 2. GBFS のダウンロード\n",
    "#### 2-a) station_information.json の読み込み"
   ]
  },
  {
   "cell_type": "code",
   "execution_count": null,
   "id": "7e3d5e49-143d-4be8-ba62-e7d07bad8054",
   "metadata": {
    "scrolled": true
   },
   "outputs": [],
   "source": [
    "res = request.urlopen(DOCOMO_STATION_INFO)\n",
    "result = json.loads(res.read().decode('utf-8'))\n",
    "res.close()\n",
    "result"
   ]
  },
  {
   "cell_type": "code",
   "execution_count": null,
   "id": "cd0bd2f5-a06d-47d0-ac24-63b1927872ed",
   "metadata": {
    "scrolled": true
   },
   "outputs": [],
   "source": [
    "df_station_info = pd.DataFrame(result['data']['stations'])\n",
    "df_station_info"
   ]
  },
  {
   "cell_type": "code",
   "execution_count": null,
   "id": "fe4e645a-8a4e-4607-8c81-269b497b0841",
   "metadata": {
    "scrolled": true
   },
   "outputs": [],
   "source": [
    "gdf_station_info = gpd.GeoDataFrame(df_station_info, geometry=gpd.points_from_xy(df_station_info['lon'], df_station_info['lat']), crs=4326)\n",
    "gdf_station_info"
   ]
  },
  {
   "cell_type": "markdown",
   "id": "9cf06c7a-3ee8-48b9-b8b8-0a71c6e4433a",
   "metadata": {},
   "source": [
    "#### 2-b) station_status.json の読み込み"
   ]
  },
  {
   "cell_type": "code",
   "execution_count": null,
   "id": "815b5abf-73a2-42c2-9b42-99b8ee31dfcc",
   "metadata": {
    "scrolled": true
   },
   "outputs": [],
   "source": [
    "res = request.urlopen(DOCOMO_STATION_STATUS)\n",
    "result = json.loads(res.read().decode('utf-8'))\n",
    "res.close()\n",
    "result"
   ]
  },
  {
   "cell_type": "code",
   "execution_count": null,
   "id": "f9b4696b-5fb6-47e2-893d-e0f82476c582",
   "metadata": {},
   "outputs": [],
   "source": [
    "df_station_status = pd.DataFrame(result['data']['stations'])\n",
    "df_station_status"
   ]
  },
  {
   "cell_type": "markdown",
   "id": "a0e95596-9d3e-411a-85eb-44b168feea7b",
   "metadata": {},
   "source": [
    "### 3. フィードのマージ\n",
    "#### 3-a) station_information と station_status のマージ"
   ]
  },
  {
   "cell_type": "code",
   "execution_count": null,
   "id": "316964d3-26b0-47ab-b9a1-21660514bac0",
   "metadata": {},
   "outputs": [],
   "source": [
    "gdf_stations = gdf_station_info.merge(df_station_status)\n",
    "gdf_stations"
   ]
  },
  {
   "cell_type": "markdown",
   "id": "946413cc-f1c0-497b-89bf-80cce42a65f4",
   "metadata": {},
   "source": [
    "#### 3-b) データを確認"
   ]
  },
  {
   "cell_type": "code",
   "execution_count": null,
   "id": "58751e6d-4574-4151-bb0a-69d23e1ba268",
   "metadata": {
    "scrolled": true
   },
   "outputs": [],
   "source": [
    "gdf_stations.explore()"
   ]
  },
  {
   "cell_type": "code",
   "execution_count": null,
   "id": "ceff729e-f731-450b-8da6-df7e0acafeec",
   "metadata": {},
   "outputs": [],
   "source": [
    "gdf_stations[gdf_stations['name'].str.contains('王子')]"
   ]
  },
  {
   "cell_type": "code",
   "execution_count": null,
   "id": "c806c13e-fb0f-492c-af9a-ed4969c9213c",
   "metadata": {
    "scrolled": true
   },
   "outputs": [],
   "source": [
    "gdf_stations[gdf_stations['num_bikes_available'] == 0]"
   ]
  },
  {
   "cell_type": "code",
   "execution_count": null,
   "id": "df803499-c73e-4e4e-9b34-094516da8dd1",
   "metadata": {
    "scrolled": true
   },
   "outputs": [],
   "source": [
    "gdf_stations[gdf_stations['num_docks_available'] == 0]"
   ]
  },
  {
   "cell_type": "code",
   "execution_count": null,
   "id": "83f4bd9e-42e9-484b-961e-de2eaedd32f5",
   "metadata": {},
   "outputs": [],
   "source": []
  }
 ],
 "metadata": {
  "kernelspec": {
   "display_name": "Python 3 (ipykernel)",
   "language": "python",
   "name": "python3"
  },
  "language_info": {
   "codemirror_mode": {
    "name": "ipython",
    "version": 3
   },
   "file_extension": ".py",
   "mimetype": "text/x-python",
   "name": "python",
   "nbconvert_exporter": "python",
   "pygments_lexer": "ipython3",
   "version": "3.9.20"
  }
 },
 "nbformat": 4,
 "nbformat_minor": 5
}
