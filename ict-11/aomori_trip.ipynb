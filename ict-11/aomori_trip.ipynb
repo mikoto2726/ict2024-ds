{
 "cells": [
  {
   "cell_type": "markdown",
   "id": "906867cc-732f-4a58-9727-ef2ad0ea711b",
   "metadata": {},
   "source": [
    "# データ・サイエンス\tデータ・サイエンス社会応用論 / ICT社会応用演習Ⅳ\n",
    "## 11-4. GTFS Realtime : Trip Update"
   ]
  },
  {
   "cell_type": "markdown",
   "id": "9435fae4-902c-44cf-9a52-453756992d6e",
   "metadata": {},
   "source": [
    "### 1. 下準備"
   ]
  },
  {
   "cell_type": "code",
   "execution_count": null,
   "id": "cd70b2cc-5d88-4fbc-a09e-3b872b161c81",
   "metadata": {},
   "outputs": [],
   "source": [
    "import requests\n",
    "import zipfile\n",
    "import os\n",
    "from google.transit import gtfs_realtime_pb2\n",
    "import pandas as pd\n",
    "import geopandas as gpd"
   ]
  },
  {
   "cell_type": "code",
   "execution_count": null,
   "id": "a38188a4-fc18-4f5a-9be7-a7d020604632",
   "metadata": {},
   "outputs": [],
   "source": [
    "AOMORI_BUS_ALERT_URL = 'https://api-public.odpt.org/api/v4/gtfs/realtime/odpt_AomoriCity_AllLines_alert'\n",
    "AOMORI_BUS_TRIPUPDATE_URL = 'https://api-public.odpt.org/api/v4/gtfs/realtime/odpt_AomoriCity_AllLines_trip_update'\n",
    "AOMORI_BUS_VEHICLEPOSITION_URL = 'https://api-public.odpt.org/api/v4/gtfs/realtime/odpt_AomoriCity_AllLines_vehicle'"
   ]
  },
  {
   "cell_type": "markdown",
   "id": "e960d356-85d7-445f-8f9e-63426266e0f5",
   "metadata": {},
   "source": [
    "### 2. GTFS Realtime のダウンロード\n",
    "#### 2-a) フィードの読み込み"
   ]
  },
  {
   "cell_type": "code",
   "execution_count": null,
   "id": "5a3f7442-a968-4f38-9c13-35a2008a3d14",
   "metadata": {},
   "outputs": [],
   "source": [
    "response = requests.get(AOMORI_BUS_TRIPUPDATE_URL)\n",
    "\n",
    "if response.status_code == 200:\n",
    "    pb_data = response.content"
   ]
  },
  {
   "cell_type": "code",
   "execution_count": null,
   "id": "d318a154-e70a-4691-a215-9de6fab24cb3",
   "metadata": {},
   "outputs": [],
   "source": [
    "feed = gtfs_realtime_pb2.FeedMessage()\n",
    "feed.ParseFromString(pb_data)"
   ]
  },
  {
   "cell_type": "markdown",
   "id": "c6c668ac-6eb6-442a-bda9-bded26d516f3",
   "metadata": {},
   "source": [
    "#### 2-b) ヘッダとエンティティの表示"
   ]
  },
  {
   "cell_type": "code",
   "execution_count": null,
   "id": "6b523cfa-bffe-4f90-9ca0-79f944ce8205",
   "metadata": {},
   "outputs": [],
   "source": [
    "print(feed.header)"
   ]
  },
  {
   "cell_type": "code",
   "execution_count": null,
   "id": "06c15ddf-f3d5-41b8-ba09-dcdb5699c646",
   "metadata": {
    "scrolled": true
   },
   "outputs": [],
   "source": [
    "for entity in feed.entity:\n",
    "    print(entity)"
   ]
  },
  {
   "cell_type": "markdown",
   "id": "f93eb679-6846-46b4-a845-b50699636f73",
   "metadata": {},
   "source": [
    "#### 2-c) Pandas での読み込み"
   ]
  },
  {
   "cell_type": "code",
   "execution_count": null,
   "id": "c83cb20b-28cb-4447-837f-e4d09ec8f754",
   "metadata": {
    "scrolled": true
   },
   "outputs": [],
   "source": [
    "data = []\n",
    "for entity in feed.entity:\n",
    "    if not entity.HasField('trip_update'):\n",
    "        continue\n",
    "    \n",
    "    trip_update = entity.trip_update\n",
    "\n",
    "    for stop_time_update in trip_update.stop_time_update:    \n",
    "        data.append({\n",
    "            'trip_id': trip_update.trip.trip_id,\n",
    "            'stop_sequence': stop_time_update.stop_sequence,\n",
    "            'delay': stop_time_update.departure.delay\n",
    "        })\n",
    "\n",
    "df_trip_update = pd.DataFrame(data)\n",
    "df_trip_update"
   ]
  },
  {
   "cell_type": "markdown",
   "id": "f5f252c0-8108-4a7c-9c21-f7aa052fc432",
   "metadata": {},
   "source": [
    "### 3. GTFSの読み込み\n",
    "#### 3-a) GTFSのダウンロードと展開"
   ]
  },
  {
   "cell_type": "code",
   "execution_count": null,
   "id": "1a4a9c04-c43d-49c9-a7ac-440037bc519a",
   "metadata": {},
   "outputs": [],
   "source": [
    "AOMORI_BUS_GTFS = 'https://api-public.odpt.org/api/v4/files/odpt/AomoriCity/AllLines.zip?date=20241201'\n",
    "\n",
    "ZIP_PATH = 'tmp.zip'\n",
    "TMPDIR_PATH = 'tmp/'"
   ]
  },
  {
   "cell_type": "code",
   "execution_count": null,
   "id": "207a0940-269d-483a-a590-c7f3c0368e74",
   "metadata": {},
   "outputs": [],
   "source": [
    "response = requests.get(AOMORI_BUS_GTFS)\n",
    "\n",
    "if response.status_code == 200:\n",
    "  with open(ZIP_PATH, 'wb') as f:\n",
    "    f.write(response.content)\n",
    "\n",
    "if not os.path.exists(TMPDIR_PATH):\n",
    "  os.makedirs(TMPDIR_PATH)\n",
    "\n",
    "with zipfile.ZipFile(ZIP_PATH, 'r') as zip_ref:\n",
    "  zip_ref.extractall(TMPDIR_PATH)"
   ]
  },
  {
   "cell_type": "markdown",
   "id": "38d25076-b652-49c0-93c1-6e862c7a4c3c",
   "metadata": {},
   "source": [
    "#### 3-b) stops.txt / routes.txt / trips.txt / stop_times.txt の読み込み"
   ]
  },
  {
   "cell_type": "code",
   "execution_count": null,
   "id": "7c0d0605-e331-4ce6-9f4b-42083259be80",
   "metadata": {},
   "outputs": [],
   "source": [
    "df_stops = pd.read_csv(TMPDIR_PATH + 'stops.txt')\n",
    "df_stops = df_stops[['stop_id', 'stop_name', 'stop_lat', 'stop_lon']]\n",
    "df_stops"
   ]
  },
  {
   "cell_type": "code",
   "execution_count": null,
   "id": "378d81be-3e40-4fe6-acd7-640256509d76",
   "metadata": {},
   "outputs": [],
   "source": [
    "df_routes = pd.read_csv(TMPDIR_PATH + 'routes.txt')\n",
    "df_routes = df_routes[['route_id', 'route_short_name', 'route_long_name']]\n",
    "df_routes"
   ]
  },
  {
   "cell_type": "code",
   "execution_count": null,
   "id": "f1ea64b0-11f0-41eb-8886-1ea8915209c1",
   "metadata": {},
   "outputs": [],
   "source": [
    "df_trips = pd.read_csv(TMPDIR_PATH + 'trips.txt')\n",
    "df_trips = df_trips[['route_id', 'service_id', 'trip_id', 'trip_headsign']]\n",
    "df_trips"
   ]
  },
  {
   "cell_type": "code",
   "execution_count": null,
   "id": "2676c0a2-2ee1-47c2-96da-d34cef743f22",
   "metadata": {},
   "outputs": [],
   "source": [
    "df_stop_times = pd.read_csv(TMPDIR_PATH + 'stop_times.txt')\n",
    "df_stop_times = df_stop_times[['trip_id', 'arrival_time', 'departure_time', 'stop_id', 'stop_sequence', 'stop_headsign']]\n",
    "df_stop_times"
   ]
  },
  {
   "cell_type": "markdown",
   "id": "d1774905-b9e6-4bfa-8d94-4c58eb3795ba",
   "metadata": {},
   "source": [
    "#### 3-c) 特定の路線での絞り込み"
   ]
  },
  {
   "cell_type": "code",
   "execution_count": null,
   "id": "17ff4dfe-076c-47e8-80e6-58c4a3750bd8",
   "metadata": {},
   "outputs": [],
   "source": [
    "df_routes_a1 = df_routes[df_routes['route_short_name'] == 'A1 国道・古川線']\n",
    "df_trips_a1 = df_routes_a1.merge(df_trips)\n",
    "df_trips_a1"
   ]
  },
  {
   "cell_type": "markdown",
   "id": "1ec50611-a4d5-4e13-a422-cee6eaaf2a75",
   "metadata": {},
   "source": [
    "#### 3-d) 特定の路線上のルート更新情報を確認"
   ]
  },
  {
   "cell_type": "code",
   "execution_count": null,
   "id": "01ac90ae-2e3b-4bab-83bf-eb02f660b238",
   "metadata": {},
   "outputs": [],
   "source": [
    "df_trip_update_a1 = df_trip_update.merge(df_trips_a1)\n",
    "df_trip_update_a1"
   ]
  },
  {
   "cell_type": "code",
   "execution_count": null,
   "id": "4b1e0030-125b-4c90-8ea4-ae1b2fe0d1bd",
   "metadata": {},
   "outputs": [],
   "source": [
    "df_stops_names = df_stops[['stop_id', 'stop_name']]\n",
    "df_trip_update_a1.merge(df_stop_times).merge(df_stops_names)"
   ]
  },
  {
   "cell_type": "code",
   "execution_count": null,
   "id": "e14470ea-003d-4972-a920-f6cbbd3dda3a",
   "metadata": {},
   "outputs": [],
   "source": []
  }
 ],
 "metadata": {
  "kernelspec": {
   "display_name": "Python 3 (ipykernel)",
   "language": "python",
   "name": "python3"
  },
  "language_info": {
   "codemirror_mode": {
    "name": "ipython",
    "version": 3
   },
   "file_extension": ".py",
   "mimetype": "text/x-python",
   "name": "python",
   "nbconvert_exporter": "python",
   "pygments_lexer": "ipython3",
   "version": "3.9.20"
  }
 },
 "nbformat": 4,
 "nbformat_minor": 5
}
