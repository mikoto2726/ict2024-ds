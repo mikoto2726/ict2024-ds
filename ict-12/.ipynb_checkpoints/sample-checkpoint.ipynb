{
 "cells": [
  {
   "cell_type": "markdown",
   "id": "a1577b3e-249c-4288-9a37-ac3f397b9501",
   "metadata": {},
   "source": [
    "# データ・サイエンス\tデータ・サイエンス社会応用論 / ICT社会応用演習Ⅳ\n",
    "## GeoPandasの練習"
   ]
  },
  {
   "cell_type": "code",
   "execution_count": null,
   "id": "44d8d48c-f5cd-49ad-985c-a94072d7f019",
   "metadata": {},
   "outputs": [],
   "source": [
    "import geopandas as gpd\n",
    "from shapely.geometry import Point, Polygon, LineString"
   ]
  },
  {
   "cell_type": "markdown",
   "id": "51e2a041-8c37-4d96-a582-12ad6272fff5",
   "metadata": {},
   "source": [
    "#### 1. データの読み込み"
   ]
  },
  {
   "cell_type": "code",
   "execution_count": null,
   "id": "62477c1c-7fb4-451b-a143-e388246b12bf",
   "metadata": {},
   "outputs": [],
   "source": [
    "gdf1 = gpd.GeoDataFrame({\n",
    "    'name': ['INIAD', 'HAKUSAN', 'KAWAGOE'],\n",
    "    'geometry': [Point(139.715514, 35.7804420), Point(139.750289, 35.722939), Point(139.432321, 35.935428)]\n",
    "}, crs=\"EPSG:4326\")\n",
    "gdf1"
   ]
  },
  {
   "cell_type": "code",
   "execution_count": null,
   "id": "5591684e-4afc-4548-bff2-4a6cd77a5b5b",
   "metadata": {},
   "outputs": [],
   "source": [
    "gdf2 = gpd.GeoDataFrame({\n",
    "    'name': ['Area'],\n",
    "    'geometry': [Polygon([(139.6, 35.6), (139.6, 35.8), (139.8, 35.8), (139.8, 35.6)])]\n",
    "}, crs=\"EPSG:4326\")\n",
    "gdf2"
   ]
  },
  {
   "cell_type": "code",
   "execution_count": null,
   "id": "6a27acf0-944f-42ae-a889-e7f78c355766",
   "metadata": {},
   "outputs": [],
   "source": [
    "FILE_PATH = 'data/nl/N03-20240101_13.geojson'\n",
    "gdf3 = gpd.read_file(FILE_PATH)\n",
    "gdf3"
   ]
  },
  {
   "cell_type": "code",
   "execution_count": null,
   "id": "22eff338-4c29-4c6b-b8a5-d008491b7031",
   "metadata": {},
   "outputs": [],
   "source": [
    "gdf3.area"
   ]
  },
  {
   "cell_type": "code",
   "execution_count": null,
   "id": "8ed1121a-8d58-46a0-ade0-34df4138969d",
   "metadata": {},
   "outputs": [],
   "source": [
    "gdf3.centroid"
   ]
  },
  {
   "cell_type": "code",
   "execution_count": null,
   "id": "beee0bdc-5483-42a7-95c1-ddffaae454c4",
   "metadata": {},
   "outputs": [],
   "source": [
    "gdf3.boundary"
   ]
  },
  {
   "cell_type": "markdown",
   "id": "825993c0-ee6f-4fc1-84e3-fcb9e94ea389",
   "metadata": {},
   "source": [
    "座標系変換"
   ]
  },
  {
   "cell_type": "code",
   "execution_count": null,
   "id": "1926a017-1f56-442b-8b4d-aba328c44130",
   "metadata": {},
   "outputs": [],
   "source": [
    "gdf3.to_crs('epsg:6691').area"
   ]
  },
  {
   "cell_type": "markdown",
   "id": "08fb1269-8d00-459d-8baf-21e5ea955776",
   "metadata": {},
   "source": [
    "#### 2. 地図上への表示"
   ]
  },
  {
   "cell_type": "code",
   "execution_count": null,
   "id": "b8bd19bc-1a41-4079-97ba-1ed318d93405",
   "metadata": {},
   "outputs": [],
   "source": [
    "gdf2.plot()"
   ]
  },
  {
   "cell_type": "code",
   "execution_count": null,
   "id": "350573bf-481f-4f4f-9159-6b7062dbdae0",
   "metadata": {},
   "outputs": [],
   "source": [
    "gdf2.explore()"
   ]
  },
  {
   "cell_type": "markdown",
   "id": "66bd2634-1923-4936-9e01-70db17b9481b",
   "metadata": {},
   "source": [
    "#### 3. 空間解析"
   ]
  },
  {
   "cell_type": "code",
   "execution_count": null,
   "id": "db181229-62cd-48d6-8c18-979ae5d68496",
   "metadata": {},
   "outputs": [],
   "source": [
    "polygon = Polygon([(139.6, 35.6), (139.6, 35.8), (139.8, 35.8), (139.8, 35.6)])\n",
    "gdf3[gdf3.within(polygon)].explore()"
   ]
  },
  {
   "cell_type": "code",
   "execution_count": null,
   "id": "09611717-8874-413a-803f-db4210ba8b41",
   "metadata": {},
   "outputs": [],
   "source": [
    "polygon = Polygon([(139.6, 35.6), (139.6, 35.8), (139.8, 35.8), (139.8, 35.6)])\n",
    "gdf3[gdf3.intersects(polygon)].explore()"
   ]
  },
  {
   "cell_type": "code",
   "execution_count": null,
   "id": "36e7af57-e170-4e80-a1d6-21c30095a0ee",
   "metadata": {},
   "outputs": [],
   "source": [
    "gdf3.dissolve(by='N03_007')"
   ]
  },
  {
   "cell_type": "code",
   "execution_count": null,
   "id": "679a2a57-7901-4a2b-9016-2f6a30d25896",
   "metadata": {},
   "outputs": [],
   "source": [
    "gdf1.sjoin(gdf2, how='inner', predicate='within')"
   ]
  },
  {
   "cell_type": "code",
   "execution_count": null,
   "id": "0737c3fa-c71c-48cb-bfb5-7f3e7ac0ac6b",
   "metadata": {},
   "outputs": [],
   "source": [
    "gdf3.sjoin(gdf1, how='inner', predicate='contains')"
   ]
  },
  {
   "cell_type": "code",
   "execution_count": null,
   "id": "08064d18-2985-4875-bcb2-95334d99a2ae",
   "metadata": {},
   "outputs": [],
   "source": []
  }
 ],
 "metadata": {
  "kernelspec": {
   "display_name": "Python 3 (ipykernel)",
   "language": "python",
   "name": "python3"
  },
  "language_info": {
   "codemirror_mode": {
    "name": "ipython",
    "version": 3
   },
   "file_extension": ".py",
   "mimetype": "text/x-python",
   "name": "python",
   "nbconvert_exporter": "python",
   "pygments_lexer": "ipython3",
   "version": "3.9.20"
  }
 },
 "nbformat": 4,
 "nbformat_minor": 5
}
