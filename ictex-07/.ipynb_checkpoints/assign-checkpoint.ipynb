{
 "cells": [
  {
   "cell_type": "code",
   "execution_count": 1,
   "id": "6a8a0b88-7f23-428b-8e40-a6c6dc1a1246",
   "metadata": {
    "execution": {
     "iopub.execute_input": "2024-11-20T17:43:32.383415Z",
     "iopub.status.busy": "2024-11-20T17:43:32.383098Z",
     "iopub.status.idle": "2024-11-20T17:43:32.551721Z",
     "shell.execute_reply": "2024-11-20T17:43:32.550604Z",
     "shell.execute_reply.started": "2024-11-20T17:43:32.383390Z"
    },
    "tags": []
   },
   "outputs": [
    {
     "ename": "ModuleNotFoundError",
     "evalue": "No module named 'openai'",
     "output_type": "error",
     "traceback": [
      "\u001b[0;31m---------------------------------------------------------------------------\u001b[0m",
      "\u001b[0;31mModuleNotFoundError\u001b[0m                       Traceback (most recent call last)",
      "Cell \u001b[0;32mIn[1], line 2\u001b[0m\n\u001b[1;32m      1\u001b[0m \u001b[38;5;66;03m#Cell_1.\u001b[39;00m\n\u001b[0;32m----> 2\u001b[0m \u001b[38;5;28;01mimport\u001b[39;00m \u001b[38;5;21;01mopenai\u001b[39;00m\n\u001b[1;32m      3\u001b[0m \u001b[38;5;28;01mimport\u001b[39;00m \u001b[38;5;21;01mre\u001b[39;00m\n\u001b[1;32m      4\u001b[0m \u001b[38;5;28;01mimport\u001b[39;00m \u001b[38;5;21;01mos\u001b[39;00m\n",
      "\u001b[0;31mModuleNotFoundError\u001b[0m: No module named 'openai'"
     ]
    }
   ],
   "source": [
    "#Cell_1.\n",
    "import openai\n",
    "import re\n",
    "import os\n",
    "from openai import OpenAI\n",
    "\n",
    "oai = OpenAI(\n",
    "    api_key = 'Ypg_N7E8mt0fkyOxmYe1-SNBzoMHf1oAby5yw6u6GWglIYuKFNE_0J9KhkBGNpeJfk8n9BjABG6Cj2_Mso4GN-w',\n",
    "    base_url = \"https://api.openai.iniad.org/api/v1\"\n",
    ")"
   ]
  },
  {
   "cell_type": "code",
   "execution_count": null,
   "id": "1e099acf-a446-469b-86f0-f04c78a25f09",
   "metadata": {
    "execution": {
     "iopub.status.busy": "2024-11-20T17:43:32.552040Z",
     "iopub.status.idle": "2024-11-20T17:43:32.552322Z",
     "shell.execute_reply": "2024-11-20T17:43:32.552232Z",
     "shell.execute_reply.started": "2024-11-20T17:43:32.552222Z"
    },
    "tags": []
   },
   "outputs": [],
   "source": [
    "#Cell_2.\n",
    "with open('used_motorcycle_en.csv', 'r', encoding='utf-8') as file:\n",
    "       file_content = file.read()"
   ]
  },
  {
   "cell_type": "code",
   "execution_count": null,
   "id": "3e48a333-502b-4129-9f18-40b5389527e4",
   "metadata": {
    "execution": {
     "iopub.status.busy": "2024-11-20T17:43:32.552736Z",
     "iopub.status.idle": "2024-11-20T17:43:32.552946Z",
     "shell.execute_reply": "2024-11-20T17:43:32.552860Z",
     "shell.execute_reply.started": "2024-11-20T17:43:32.552851Z"
    },
    "tags": []
   },
   "outputs": [],
   "source": [
    "#Cell_3.\n",
    "sysmsg =\"あなたはデータサイエンティストです。\"\n",
    "\n",
    "messages=[\n",
    "       {\"role\": \"system\", \"content\": \"いまアップロードしたデータ'used_motorcycle_en.csv'について解説してください。\"},\n",
    "       {\"role\": \"user\", \"content\": file_content}\n",
    "]\n",
    "\n",
    "resp = oai.chat.completions.create(\n",
    "    model='gpt-4o-mini',\n",
    "    messages=messages,\n",
    ")\n",
    "\n",
    "print(resp.choices[0].message.content)"
   ]
  },
  {
   "cell_type": "code",
   "execution_count": null,
   "id": "ea710964-efc9-4963-b356-be88245101d1",
   "metadata": {
    "execution": {
     "iopub.status.busy": "2024-11-20T17:43:32.553589Z",
     "iopub.status.idle": "2024-11-20T17:43:32.553814Z",
     "shell.execute_reply": "2024-11-20T17:43:32.553714Z",
     "shell.execute_reply.started": "2024-11-20T17:43:32.553702Z"
    },
    "tags": []
   },
   "outputs": [],
   "source": [
    "#Cell_4.\n",
    "messages.append({\"role\": \"assistant\", \"content\": resp.choices[0].message.content})\n",
    "\n",
    "# Append a new user message asking for more elaboration\n",
    "messages=[\n",
    "       {\"role\": \"system\", \"content\": \"有難うございます。そうしましたら、このused_mortercycle_en.csvからデータに基づいて中古バイク価格を説明するモデルを作りたいとした時、上記データに含まれていないような潜在的な要因を列挙して\"},\n",
    "       {\"role\": \"user\", \"content\": file_content}\n",
    "]\n",
    "\n",
    "resp = oai.chat.completions.create(\n",
    "    model='gpt-4o-mini',\n",
    "    messages=messages,\n",
    ")\n",
    "\n",
    "print(resp.choices[0].message.content)"
   ]
  },
  {
   "cell_type": "code",
   "execution_count": null,
   "id": "3e5f31ab-95a0-461b-9353-59b004c1d3e3",
   "metadata": {
    "execution": {
     "iopub.status.busy": "2024-11-20T17:43:32.554152Z",
     "iopub.status.idle": "2024-11-20T17:43:32.554320Z",
     "shell.execute_reply": "2024-11-20T17:43:32.554241Z",
     "shell.execute_reply.started": "2024-11-20T17:43:32.554233Z"
    },
    "tags": []
   },
   "outputs": [],
   "source": [
    "#実際にやってみましょう。"
   ]
  },
  {
   "cell_type": "code",
   "execution_count": null,
   "id": "a5910082-0404-4e1f-b80a-2ffd2466b6ef",
   "metadata": {
    "execution": {
     "iopub.status.busy": "2024-11-20T17:43:32.554871Z",
     "iopub.status.idle": "2024-11-20T17:43:32.555037Z",
     "shell.execute_reply": "2024-11-20T17:43:32.554959Z",
     "shell.execute_reply.started": "2024-11-20T17:43:32.554951Z"
    },
    "tags": []
   },
   "outputs": [],
   "source": [
    "#Cell_6.\n",
    "messages.append({\"role\": \"assistant\", \"content\": resp.choices[0].message.content})\n",
    "\n",
    "# Append a new user message asking for more elaboration\n",
    "messages=[\n",
    "       {\"role\": \"system\", \"content\": \"\"\"有難うございます。Now, we would like to make a path diagram of the relationshipw between factors in this data. \n",
    "    Could you tell me your idea on any possible one? Thank you in advamce!\"\"\"},\n",
    "       {\"role\": \"user\", \"content\": file_content}\n",
    "]\n",
    "\n",
    "resp = oai.chat.completions.create(\n",
    "    model='gpt-4o-mini',\n",
    "    messages=messages,\n",
    ")\n",
    "\n",
    "print(resp.choices[0].message.content)"
   ]
  },
  {
   "cell_type": "code",
   "execution_count": null,
   "id": "1d62cb24-6452-4bdb-8994-e2963d8a0f97",
   "metadata": {},
   "outputs": [],
   "source": []
  }
 ],
 "metadata": {
  "kernelspec": {
   "display_name": "Python 3 (ipykernel)",
   "language": "python",
   "name": "python3"
  },
  "language_info": {
   "codemirror_mode": {
    "name": "ipython",
    "version": 3
   },
   "file_extension": ".py",
   "mimetype": "text/x-python",
   "name": "python",
   "nbconvert_exporter": "python",
   "pygments_lexer": "ipython3",
   "version": "3.8.18"
  }
 },
 "nbformat": 4,
 "nbformat_minor": 5
}
