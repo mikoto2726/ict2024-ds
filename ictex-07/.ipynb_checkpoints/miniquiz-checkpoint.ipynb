{
 "cells": [
  {
   "cell_type": "code",
   "execution_count": 1,
   "id": "23605768-7247-47cc-bd4b-20d1827c4a4d",
   "metadata": {
    "execution": {
     "iopub.execute_input": "2024-11-14T05:26:49.269537Z",
     "iopub.status.busy": "2024-11-14T05:26:49.269311Z",
     "iopub.status.idle": "2024-11-14T05:26:49.542548Z",
     "shell.execute_reply": "2024-11-14T05:26:49.541957Z",
     "shell.execute_reply.started": "2024-11-14T05:26:49.269519Z"
    },
    "tags": []
   },
   "outputs": [],
   "source": [
    "#Cell_1.\n",
    "import openai\n",
    "import re\n",
    "import os\n",
    "from openai import OpenAI\n",
    "\n",
    "oai = OpenAI(\n",
    "    api_key = 'Ypg_N7E8mt0fkyOxmYe1-SNBzoMHf1oAby5yw6u6GWglIYuKFNE_0J9KhkBGNpeJfk8n9BjABG6Cj2_Mso4GN-w',\n",
    "    base_url = \"https://api.openai.iniad.org/api/v1\"\n",
    ")"
   ]
  },
  {
   "cell_type": "code",
   "execution_count": 2,
   "id": "4089de9e-70e5-4bb3-8b6b-3b961f9cccee",
   "metadata": {
    "execution": {
     "iopub.execute_input": "2024-11-14T05:27:09.227742Z",
     "iopub.status.busy": "2024-11-14T05:27:09.227222Z",
     "iopub.status.idle": "2024-11-14T05:27:09.230174Z",
     "shell.execute_reply": "2024-11-14T05:27:09.229775Z",
     "shell.execute_reply.started": "2024-11-14T05:27:09.227722Z"
    },
    "tags": []
   },
   "outputs": [],
   "source": [
    "#Cell_2.\n",
    "with open('toyo_students.csv', 'r', encoding='utf-8') as file:\n",
    "       file_content = file.read()"
   ]
  },
  {
   "cell_type": "code",
   "execution_count": 3,
   "id": "8128e8c4-1955-48db-80e7-3b110c2485f0",
   "metadata": {
    "execution": {
     "iopub.execute_input": "2024-11-14T05:27:29.464829Z",
     "iopub.status.busy": "2024-11-14T05:27:29.464631Z",
     "iopub.status.idle": "2024-11-14T05:27:34.079946Z",
     "shell.execute_reply": "2024-11-14T05:27:34.079414Z",
     "shell.execute_reply.started": "2024-11-14T05:27:29.464815Z"
    },
    "tags": []
   },
   "outputs": [
    {
     "name": "stdout",
     "output_type": "stream",
     "text": [
      "アップロードされたデータ'toyo_students.csv'は、ある大学のキャンパスごとの男女学生数を示しています。このデータは、次の3つのカラムから構成されています：\n",
      "\n",
      "1. **Campus（キャンパス）**: 学生が通うキャンパスの名称。\n",
      "2. **Male（男性学生数）**: 各キャンパスに在籍する男性学生の数。\n",
      "3. **Female（女性学生数）**: 各キャンパスに在籍する女性学生の数。\n",
      "\n",
      "具体的な内容は以下のようになります：\n",
      "\n",
      "- **Hakusanキャンパス**: 男性学生が12,204人、女性学生が9,199人\n",
      "- **Kawagoeキャンパス**: 男性学生が3,845人、女性学生が858人\n",
      "- **Itakuraキャンパス**: 男性学生が996人、女性学生が865人\n",
      "- **Akabanedaiキャンパス**: 男性学生が2,183人、女性学生が1,697人\n",
      "\n",
      "このデータを分析することで、各キャンパスの男女比や総学生数を計算することができます。例えば、Hakusanキャンパスでは、男性が女性より多く在籍しており、Kawagoeキャンパスでは性別の不均衡が顕著です。こうした情報は、学生の募集やキャンパス運営において参考になるでしょう。\n"
     ]
    }
   ],
   "source": [
    "#Cell_3.\n",
    "sysmsg =\"あなたはデータサイエンティストです。\"\n",
    "\n",
    "messages=[\n",
    "       {\"role\": \"system\", \"content\": \"いまアップロードしたデータ'toyo_students.csv'について解説してください。\"},\n",
    "       {\"role\": \"user\", \"content\": file_content}\n",
    "]\n",
    "\n",
    "resp = oai.chat.completions.create(\n",
    "    model='gpt-4o-mini',\n",
    "    messages=messages,\n",
    ")\n",
    "\n",
    "print(resp.choices[0].message.content)"
   ]
  },
  {
   "cell_type": "code",
   "execution_count": 4,
   "id": "ee32a740-76b3-4395-8390-a8ef328dbd55",
   "metadata": {
    "execution": {
     "iopub.execute_input": "2024-11-14T05:27:57.902881Z",
     "iopub.status.busy": "2024-11-14T05:27:57.902514Z",
     "iopub.status.idle": "2024-11-14T05:28:01.560748Z",
     "shell.execute_reply": "2024-11-14T05:28:01.560108Z",
     "shell.execute_reply.started": "2024-11-14T05:27:57.902864Z"
    },
    "tags": []
   },
   "outputs": [
    {
     "name": "stdout",
     "output_type": "stream",
     "text": [
      "まず、与えられたデータをもとに東洋大学の男性学生数と女性学生数の合計を計算します。\n",
      "\n",
      "**各キャンパスの合計を計算します。**\n",
      "\n",
      "- Hakusan:\n",
      "  - 男性: 11204\n",
      "  - 女性: 9199\n",
      "\n",
      "- Kawagoe:\n",
      "  - 男性: 3845\n",
      "  - 女性: 858\n",
      "\n",
      "- Itakura:\n",
      "  - 男性: 996\n",
      "  - 女性: 865\n",
      "\n",
      "- Akabanedai:\n",
      "  - 男性: 2183\n",
      "  - 女性: 1697\n",
      "\n",
      "**男性学生数の合計:**\n",
      "11204 + 3845 + 996 + 2183 = 17128\n",
      "\n",
      "**女性学生数の合計:**\n",
      "9199 + 858 + 865 + 1697 = 12619\n",
      "\n",
      "**合計:**\n",
      "- 男性学生数: 17128\n",
      "- 女性学生数: 12619\n",
      "\n",
      "したがって、男性学生数の方が多いです。\n"
     ]
    }
   ],
   "source": [
    "#Cell_4.\n",
    "messages.append({\"role\": \"assistant\", \"content\": resp.choices[0].message.content})\n",
    "\n",
    "# Append a new user message asking for more elaboration\n",
    "messages=[\n",
    "       {\"role\": \"system\", \"content\": \"有難うございます。そうしましたら、東洋大学の男性学生数、女性学生数の合計（全キャンパスの合計）を求めて、どちらが多いかを答えて\"},\n",
    "       {\"role\": \"user\", \"content\": file_content}\n",
    "]\n",
    "\n",
    "resp = oai.chat.completions.create(\n",
    "    model='gpt-4o-mini',\n",
    "    messages=messages,\n",
    ")\n",
    "\n",
    "print(resp.choices[0].message.content)"
   ]
  },
  {
   "cell_type": "code",
   "execution_count": null,
   "id": "d3b20c81-5744-47fe-bb1d-db0ed882181c",
   "metadata": {},
   "outputs": [],
   "source": []
  }
 ],
 "metadata": {
  "kernelspec": {
   "display_name": "Python 3 (ipykernel)",
   "language": "python",
   "name": "python3"
  },
  "language_info": {
   "codemirror_mode": {
    "name": "ipython",
    "version": 3
   },
   "file_extension": ".py",
   "mimetype": "text/x-python",
   "name": "python",
   "nbconvert_exporter": "python",
   "pygments_lexer": "ipython3",
   "version": "3.8.18"
  }
 },
 "nbformat": 4,
 "nbformat_minor": 5
}
