{
 "cells": [
  {
   "cell_type": "code",
   "execution_count": 1,
   "id": "042f7242-ab29-4aa4-a7f3-0d98365ebced",
   "metadata": {
    "execution": {
     "iopub.execute_input": "2024-11-20T17:03:24.142608Z",
     "iopub.status.busy": "2024-11-20T17:03:24.142305Z",
     "iopub.status.idle": "2024-11-20T17:03:25.124748Z",
     "shell.execute_reply": "2024-11-20T17:03:25.124200Z",
     "shell.execute_reply.started": "2024-11-20T17:03:24.142570Z"
    }
   },
   "outputs": [],
   "source": [
    "#Cell_1.\n",
    "%matplotlib notebook\n",
    "# グラフをインラインで表示\n",
    "# %matplotlib inline\n",
    "import warnings\n",
    "warnings.simplefilter('ignore')\n",
    "\n",
    "import gc\n",
    "import math\n",
    "import pickle\n",
    "\n",
    "import mylibs.mylib1 as mylib1\n",
    "import mylibs.mylib2 as mylib2\n",
    "import mylibs.mylib3 as mylib3\n",
    "\n",
    "import matplotlib.pyplot as plt\n",
    "import numpy as np\n",
    "import pandas as pd\n",
    "from scipy.stats import norm\n",
    "\n",
    "# 表示する行・列の数を設定\n",
    "pd.options.display.max_rows = 8\n",
    "pd.options.display.max_columns = 12\n",
    "\n",
    "# matplotlib のフォントを設定\n",
    "plt.rcParams['font.family'] = 'Times New Roman'\n",
    "plt.rcParams['mathtext.fontset'] = 'stix'"
   ]
  },
  {
   "cell_type": "code",
   "execution_count": 2,
   "id": "e8f5b8e9-774a-4c21-be12-c8121d8a91d5",
   "metadata": {
    "execution": {
     "iopub.execute_input": "2024-11-20T17:03:25.125962Z",
     "iopub.status.busy": "2024-11-20T17:03:25.125701Z",
     "iopub.status.idle": "2024-11-20T17:03:25.138430Z",
     "shell.execute_reply": "2024-11-20T17:03:25.137947Z",
     "shell.execute_reply.started": "2024-11-20T17:03:25.125944Z"
    }
   },
   "outputs": [],
   "source": [
    "#Cell_2.\n",
    "df_bp = pd.read_csv('./public_stats/processed/df_bp.csv')\n",
    "\n",
    "f = open('./public_stats/processed/dict_bp_min_dist.binaryfile', 'rb')  # rb: Read Binary\n",
    "dict_bp_min_dist = pickle.load(f)\n",
    "f.close()\n",
    "\n",
    "f = open('./public_stats/processed/dict_sbp_max.binaryfile', 'rb')  # rb: Read Binary\n",
    "dict_sbp_max = pickle.load(f)\n",
    "f.close()\n",
    "\n",
    "f = open('./public_stats/processed/dict_dbp_max.binaryfile', 'rb')  # rb: Read Binary\n",
    "dict_dbp_max = pickle.load(f)\n",
    "f.close()"
   ]
  },
  {
   "cell_type": "code",
   "execution_count": 3,
   "id": "d2315935-d8c1-490e-83a5-33647b3345e6",
   "metadata": {
    "execution": {
     "iopub.execute_input": "2024-11-20T17:03:25.139074Z",
     "iopub.status.busy": "2024-11-20T17:03:25.138940Z",
     "iopub.status.idle": "2024-11-20T17:03:25.142850Z",
     "shell.execute_reply": "2024-11-20T17:03:25.142311Z",
     "shell.execute_reply.started": "2024-11-20T17:03:25.139059Z"
    }
   },
   "outputs": [
    {
     "data": {
      "text/plain": [
       "dict_keys(['20s', '30s', '40s', '50s', '60s', '70s'])"
      ]
     },
     "execution_count": 3,
     "metadata": {},
     "output_type": "execute_result"
    }
   ],
   "source": [
    "#Cell_3.\n",
    "dict_bp_min_dist['F']['dbp'].keys()"
   ]
  },
  {
   "cell_type": "code",
   "execution_count": 4,
   "id": "48f3e443-b60d-4eb3-a9d5-61f205a28c58",
   "metadata": {
    "execution": {
     "iopub.execute_input": "2024-11-20T17:03:25.143471Z",
     "iopub.status.busy": "2024-11-20T17:03:25.143322Z",
     "iopub.status.idle": "2024-11-20T17:03:25.147790Z",
     "shell.execute_reply": "2024-11-20T17:03:25.147215Z",
     "shell.execute_reply.started": "2024-11-20T17:03:25.143455Z"
    }
   },
   "outputs": [
    {
     "data": {
      "text/plain": [
       "'50s'"
      ]
     },
     "execution_count": 4,
     "metadata": {},
     "output_type": "execute_result"
    }
   ],
   "source": [
    "#Cell_4.\n",
    "def alb_to_ageband(alb):\n",
    "    if alb <= 29:\n",
    "        return '20s'\n",
    "    elif alb >= 70:\n",
    "        return '70s'\n",
    "    else:\n",
    "        return str(int(alb // 10 * 10)) + 's'\n",
    "\n",
    "\n",
    "alb_to_ageband(55)"
   ]
  },
  {
   "cell_type": "code",
   "execution_count": 5,
   "id": "e7ebfd2d-19e7-403c-859d-a88ba1bfa110",
   "metadata": {
    "execution": {
     "iopub.execute_input": "2024-11-20T17:03:25.148978Z",
     "iopub.status.busy": "2024-11-20T17:03:25.148804Z",
     "iopub.status.idle": "2024-11-20T17:03:25.153574Z",
     "shell.execute_reply": "2024-11-20T17:03:25.153020Z",
     "shell.execute_reply.started": "2024-11-20T17:03:25.148961Z"
    }
   },
   "outputs": [
    {
     "data": {
      "text/plain": [
       "array([ 60,  70,  70,  80,  80,  80,  80,  80,  80,  70,  70,  50,  60,\n",
       "        60,  60,  60,  70,  70,  60,  70,  50,  50,  60,  50,  60,  70,\n",
       "        60,  70,  70,  60,  50,  70,  60,  70,  70,  60,  60,  60,  70,\n",
       "        70,  60,  80,  80,  60,  70,  60,  50,  70,  80,  60,  60,  80,\n",
       "        80,  80,  70,  80,  70,  60,  60,  80,  60,  60,  40,  70,  60,\n",
       "        50,  60,  60,  70,  70,  60,  60,  80,  60, 100,  70,  80,  70,\n",
       "        70,  70,  70,  60,  70,  70,  60,  70,  90,  60,  50,  50,  50,\n",
       "        60,  60,  60,  60,  80,  70,  70,  50,  80], dtype=int16)"
      ]
     },
     "execution_count": 5,
     "metadata": {},
     "output_type": "execute_result"
    }
   ],
   "source": [
    "#Cell_5.\n",
    "np.random.choice(dict_bp_min_dist['F']['dbp']['30s'], 100, replace=True)"
   ]
  },
  {
   "cell_type": "code",
   "execution_count": 6,
   "id": "9a257728-a7ce-4619-9e10-cadc80e7cd5b",
   "metadata": {
    "execution": {
     "iopub.execute_input": "2024-11-20T17:03:25.154337Z",
     "iopub.status.busy": "2024-11-20T17:03:25.154173Z",
     "iopub.status.idle": "2024-11-20T17:03:25.362372Z",
     "shell.execute_reply": "2024-11-20T17:03:25.361858Z",
     "shell.execute_reply.started": "2024-11-20T17:03:25.154321Z"
    }
   },
   "outputs": [
    {
     "data": {
      "text/plain": [
       "Text(0.5, 1.0, 'Distribution of DBP (FeMmle, 30s)')"
      ]
     },
     "execution_count": 6,
     "metadata": {},
     "output_type": "execute_result"
    },
    {
     "data": {
      "image/png": "[encoded data removed]",
      "text/plain": [
       "<Figure size 640x480 with 1 Axes>"
      ]
     },
     "metadata": {},
     "output_type": "display_data"
    }
   ],
   "source": [
    "%matplotlib inline\n",
    "#Cell_6.\n",
    "# np.random.choice による出力が元の分布に従っていることをヒストグラムにより確認\n",
    "\n",
    "import seaborn as sns\n",
    "sns.set()\n",
    "\n",
    "fig = plt.figure()\n",
    "ax = fig.add_subplot(111)\n",
    "\n",
    "# Original Distribution\n",
    "dbp_min_0 = dict_bp_min_dist['F']['dbp']['30s']\n",
    "dbp_max_0 = [dict_dbp_max[dbp_min] for dbp_min in dbp_min_0]\n",
    "dbp_0 = (dbp_min_0 + dbp_max_0 + 1) / 2  # 血圧\n",
    "l = len(np.unique(dbp_0))\n",
    "label = 'Original (N=' + str(len(dbp_0)) + ')'\n",
    "ax.hist(dbp_0, bins=l, range=(40, 120), label=label, zorder=2)\n",
    "\n",
    "# Reproducted Distribution\n",
    "dbp_min_1 = np.random.choice(\n",
    "    dict_bp_min_dist['F']['dbp']['30s'], 1000, replace=True)\n",
    "dbp_max_1 = [dict_dbp_max[dbp_min] for dbp_min in dbp_min_1]\n",
    "dbp_1 = (dbp_min_1 + dbp_max_1 + 1) / 2\n",
    "label = 'Reproducted (N=1000)'\n",
    "ax.hist(dbp_1, bins=l, range=(40, 120), label=label, zorder=1)\n",
    "ax.set_xlabel('DBP')\n",
    "ax.set_ylabel('N')\n",
    "\n",
    "ax.legend(loc='best')\n",
    "ax.set_title('Distribution of DBP (FeMmle, 30s)', fontsize=15)"
   ]
  },
  {
   "cell_type": "code",
   "execution_count": null,
   "id": "403ffa1a-57c5-4ab4-8274-db09081bb39f",
   "metadata": {},
   "outputs": [],
   "source": []
  }
 ],
 "metadata": {
  "kernelspec": {
   "display_name": "Python 3 (ipykernel)",
   "language": "python",
   "name": "python3"
  },
  "language_info": {
   "codemirror_mode": {
    "name": "ipython",
    "version": 3
   },
   "file_extension": ".py",
   "mimetype": "text/x-python",
   "name": "python",
   "nbconvert_exporter": "python",
   "pygments_lexer": "ipython3",
   "version": "3.8.18"
  }
 },
 "nbformat": 4,
 "nbformat_minor": 5
}
