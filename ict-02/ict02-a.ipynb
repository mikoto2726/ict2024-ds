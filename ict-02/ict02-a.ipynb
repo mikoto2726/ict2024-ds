{
 "cells": [
  {
   "cell_type": "code",
   "execution_count": 1,
   "metadata": {
    "execution": {
     "iopub.execute_input": "2024-11-20T15:24:43.170676Z",
     "iopub.status.busy": "2024-11-20T15:24:43.170265Z",
     "iopub.status.idle": "2024-11-20T15:24:44.096647Z",
     "shell.execute_reply": "2024-11-20T15:24:44.096084Z",
     "shell.execute_reply.started": "2024-11-20T15:24:43.170642Z"
    }
   },
   "outputs": [],
   "source": [
    "#Cell_1.\n",
    "%matplotlib notebook\n",
    "# グラフをインラインで表示\n",
    "# %matplotlib inline\n",
    "import warnings\n",
    "warnings.simplefilter('ignore')\n",
    "\n",
    "import gc\n",
    "import math\n",
    "import pickle\n",
    "\n",
    "import mylibs.mylib1 as mylib1\n",
    "import mylibs.mylib2 as mylib2\n",
    "import mylibs.mylib3 as mylib3\n",
    "\n",
    "import matplotlib.pyplot as plt\n",
    "import numpy as np\n",
    "import pandas as pd\n",
    "from scipy.stats import norm\n",
    "\n",
    "# 表示する行・列の数を設定\n",
    "pd.options.display.max_rows = 8\n",
    "pd.options.display.max_columns = 12\n",
    "\n",
    "# matplotlib のフォントを設定\n",
    "plt.rcParams['font.family'] = 'Times New Roman'\n",
    "plt.rcParams['mathtext.fontset'] = 'stix'"
   ]
  },
  {
   "cell_type": "code",
   "execution_count": 2,
   "metadata": {
    "execution": {
     "iopub.execute_input": "2024-11-20T15:24:44.097912Z",
     "iopub.status.busy": "2024-11-20T15:24:44.097698Z",
     "iopub.status.idle": "2024-11-20T15:24:44.103668Z",
     "shell.execute_reply": "2024-11-20T15:24:44.103312Z",
     "shell.execute_reply.started": "2024-11-20T15:24:44.097896Z"
    }
   },
   "outputs": [],
   "source": [
    "#Cell_2.\n",
    "df_bp = pd.read_csv('./public_stats/processed/df_bp.csv')\n",
    "\n",
    "f = open('./public_stats/processed/dict_bp_min_dist.binaryfile', 'rb')  # rb: Read Binary\n",
    "dict_bp_min_dist = pickle.load(f)\n",
    "f.close()\n",
    "\n",
    "f = open('./public_stats/processed/dict_sbp_max.binaryfile', 'rb')  # rb: Read Binary\n",
    "dict_sbp_max = pickle.load(f)\n",
    "f.close()\n",
    "\n",
    "f = open('./public_stats/processed/dict_dbp_max.binaryfile', 'rb')  # rb: Read Binary\n",
    "dict_dbp_max = pickle.load(f)\n",
    "f.close()"
   ]
  },
  {
   "cell_type": "markdown",
   "metadata": {
    "colab_type": "text",
    "id": "C20o-2k0-oug"
   },
   "source": [
    "### 健診レコードの擬似生成"
   ]
  },
  {
   "cell_type": "code",
   "execution_count": 3,
   "metadata": {
    "execution": {
     "iopub.execute_input": "2024-11-20T15:24:44.104415Z",
     "iopub.status.busy": "2024-11-20T15:24:44.104138Z",
     "iopub.status.idle": "2024-11-20T15:24:44.113002Z",
     "shell.execute_reply": "2024-11-20T15:24:44.112648Z",
     "shell.execute_reply.started": "2024-11-20T15:24:44.104390Z"
    }
   },
   "outputs": [
    {
     "data": {
      "text/plain": [
       "dict_keys(['20s', '30s', '40s', '50s', '60s', '70s'])"
      ]
     },
     "execution_count": 3,
     "metadata": {},
     "output_type": "execute_result"
    }
   ],
   "source": [
    "#Cell_3.\n",
    "dict_bp_min_dist['M']['dbp'].keys()"
   ]
  },
  {
   "cell_type": "code",
   "execution_count": 4,
   "metadata": {
    "execution": {
     "iopub.execute_input": "2024-11-20T15:24:44.113625Z",
     "iopub.status.busy": "2024-11-20T15:24:44.113464Z",
     "iopub.status.idle": "2024-11-20T15:24:44.117020Z",
     "shell.execute_reply": "2024-11-20T15:24:44.116644Z",
     "shell.execute_reply.started": "2024-11-20T15:24:44.113612Z"
    }
   },
   "outputs": [
    {
     "data": {
      "text/plain": [
       "'50s'"
      ]
     },
     "execution_count": 4,
     "metadata": {},
     "output_type": "execute_result"
    }
   ],
   "source": [
    "#Cell_4.\n",
    "def alb_to_ageband(alb):\n",
    "    if alb <= 29:\n",
    "        return '20s'\n",
    "    elif alb >= 70:\n",
    "        return '70s'\n",
    "    else:\n",
    "        return str(int(alb // 10 * 10)) + 's'\n",
    "\n",
    "\n",
    "alb_to_ageband(55)"
   ]
  },
  {
   "cell_type": "code",
   "execution_count": 5,
   "metadata": {
    "execution": {
     "iopub.execute_input": "2024-11-20T15:24:44.118203Z",
     "iopub.status.busy": "2024-11-20T15:24:44.117965Z",
     "iopub.status.idle": "2024-11-20T15:24:44.121352Z",
     "shell.execute_reply": "2024-11-20T15:24:44.121002Z",
     "shell.execute_reply.started": "2024-11-20T15:24:44.118190Z"
    }
   },
   "outputs": [
    {
     "data": {
      "text/plain": [
       "array([ 70,  80,  80,  70,  80,  80,  60,  80,  80,  80,  80,  60,  60,\n",
       "        60,  70,  70,  80,  80, 110,  60,  80,  80,  80,  70,  80,  60,\n",
       "        70,  60,  60,  80,  70,  80,  60,  70,  60,  80,  80,  70,  50,\n",
       "        70,  80,  70,  80,  70,  70,  50,  70,  70, 110,  60,  80,  60,\n",
       "        70,  70,  60,  80,  70,  60,  90,  80,  70,  60,  80,  70,  60,\n",
       "        80,  70,  80,  80,  60,  60,  90,  80,  60,  80,  70,  70,  60,\n",
       "        70,  60,  80,  60,  60,  70,  70,  80,  70,  70,  70,  60,  60,\n",
       "        70,  70,  70,  80,  80,  60,  80,  70,  60], dtype=int16)"
      ]
     },
     "execution_count": 5,
     "metadata": {},
     "output_type": "execute_result"
    }
   ],
   "source": [
    "#Cell_5.\n",
    "np.random.choice(dict_bp_min_dist['M']['dbp']['20s'], 100, replace=True)"
   ]
  },
  {
   "cell_type": "code",
   "execution_count": 6,
   "metadata": {
    "execution": {
     "iopub.execute_input": "2024-11-20T15:24:44.121807Z",
     "iopub.status.busy": "2024-11-20T15:24:44.121694Z",
     "iopub.status.idle": "2024-11-20T15:24:44.316182Z",
     "shell.execute_reply": "2024-11-20T15:24:44.315637Z",
     "shell.execute_reply.started": "2024-11-20T15:24:44.121795Z"
    }
   },
   "outputs": [
    {
     "data": {
      "text/plain": [
       "Text(0.5, 1.0, 'Distribution of SBP (Male, 60s)')"
      ]
     },
     "execution_count": 6,
     "metadata": {},
     "output_type": "execute_result"
    },
    {
     "data": {
      "image/png": "[encoded data removed]",
      "text/plain": [
       "<Figure size 640x480 with 1 Axes>"
      ]
     },
     "metadata": {},
     "output_type": "display_data"
    }
   ],
   "source": [
    "%matplotlib inline\n",
    "#Cell_6.\n",
    "# np.random.choice による出力が元の分布に従っていることをヒストグラムにより確認\n",
    "\n",
    "import seaborn as sns\n",
    "sns.set()\n",
    "\n",
    "fig = plt.figure()\n",
    "ax = fig.add_subplot(111)\n",
    "\n",
    "# Original Distribution\n",
    "sbp_min_0 = dict_bp_min_dist['M']['sbp']['60s']\n",
    "sbp_max_0 = [dict_sbp_max[sbp_min] for sbp_min in sbp_min_0]\n",
    "sbp_0 = (sbp_min_0 + sbp_max_0 + 1) / 2  # 血圧\n",
    "l = len(np.unique(sbp_0))\n",
    "label = 'Original (N=' + str(len(sbp_0)) + ')'\n",
    "ax.hist(sbp_0, bins=l, range=(80, 180), label=label, zorder=2)\n",
    "\n",
    "# Reproducted Distribution\n",
    "sbp_min_1 = np.random.choice(\n",
    "    dict_bp_min_dist['M']['sbp']['60s'], 1000, replace=True)\n",
    "sbp_max_1 = [dict_sbp_max[sbp_min] for sbp_min in sbp_min_1]\n",
    "sbp_1 = (sbp_min_1 + sbp_max_1 + 1) / 2\n",
    "label = 'Reproducted (N=1000)'\n",
    "ax.hist(sbp_1, bins=l, range=(80, 180), label=label, zorder=1)\n",
    "ax.set_xlabel('SBP')\n",
    "ax.set_ylabel('N')\n",
    "\n",
    "ax.legend(loc='best')\n",
    "ax.set_title('Distribution of SBP (Male, 60s)', fontsize=15)"
   ]
  },
  {
   "cell_type": "code",
   "execution_count": 7,
   "metadata": {
    "execution": {
     "iopub.execute_input": "2024-11-20T15:24:44.316954Z",
     "iopub.status.busy": "2024-11-20T15:24:44.316786Z",
     "iopub.status.idle": "2024-11-20T15:24:44.321670Z",
     "shell.execute_reply": "2024-11-20T15:24:44.320877Z",
     "shell.execute_reply.started": "2024-11-20T15:24:44.316939Z"
    }
   },
   "outputs": [],
   "source": [
    "#Cell_7.\n",
    "def make_random_bp_in_range(dbp_min, dbp_max, sbp_min, sbp_max, rs): \n",
    "    n = len(sbp_min)\n",
    "    np.random.seed(rs)\n",
    "    j = np.random.choice(np.arange(n), 1)\n",
    "    rs = rs + 1\n",
    "    np.random.seed(rs)\n",
    "    dbp = int(np.random.rand() *\n",
    "              (dbp_max[j] - dbp_min[j]) + dbp_min[j])\n",
    "    rs = rs + 1\n",
    "    np.random.seed(rs)\n",
    "    sbp = int(np.random.rand() *\n",
    "              (sbp_max[j] - sbp_min[j]) + sbp_min[j])\n",
    "    rs = rs + 1\n",
    "    return (dbp, sbp, rs)"
   ]
  },
  {
   "cell_type": "code",
   "execution_count": 8,
   "metadata": {
    "execution": {
     "iopub.execute_input": "2024-11-20T15:24:44.322510Z",
     "iopub.status.busy": "2024-11-20T15:24:44.322329Z",
     "iopub.status.idle": "2024-11-20T15:24:44.404101Z",
     "shell.execute_reply": "2024-11-20T15:24:44.403621Z",
     "shell.execute_reply.started": "2024-11-20T15:24:44.322494Z"
    }
   },
   "outputs": [
    {
     "name": "stdout",
     "output_type": "stream",
     "text": [
      "(74, 115)\n",
      "(114, 155)\n",
      "None\n"
     ]
    }
   ],
   "source": [
    "#Cell_8.\n",
    "def make_random_bp(dict_bp_min_dist, sex, alb, bp_class, rs):  # rs: Random Seed\n",
    "    dbp_class_border = [40, 80,  85,  90, 100, 110, 160]\n",
    "    sbp_class_border = [70, 120, 130, 140, 160, 180, 200]\n",
    "    if not(-1 <= bp_class <= 5):\n",
    "        return None\n",
    "    else:\n",
    "        ageband = alb_to_ageband(alb)\n",
    "        dbp_min = dict_bp_min_dist[sex]['dbp'][ageband]\n",
    "        dbp_max = np.array([dict_dbp_max[dbpm] for dbpm in dbp_min])\n",
    "        sbp_min = dict_bp_min_dist[sex]['sbp'][ageband]\n",
    "        sbp_max = np.array([dict_sbp_max[sbpm] for sbpm in sbp_min])\n",
    "        if bp_class == -1:\n",
    "            # 血圧分類属性を指定せず血圧ランダム生成\n",
    "            (dbp, sbp, rs) = make_random_bp_in_range(dbp_min, dbp_max, sbp_min, sbp_max, rs)\n",
    "            return (dbp, sbp)\n",
    "        else:\n",
    "            # 血圧分類属性を指定して血圧ランダム生成\n",
    "            satisfy_dbp = (dbp_class_border[bp_class] <= dbp_min) & (\n",
    "                        dbp_min < dbp_class_border[bp_class + 1])\n",
    "            satisfy_sbp = (sbp_class_border[bp_class] <= sbp_min) & (\n",
    "                        sbp_min < sbp_class_border[bp_class + 1])\n",
    "            dbp_min = np.append(dbp_min[satisfy_dbp], dbp_min[satisfy_sbp])\n",
    "            dbp_max = np.append(dbp_max[satisfy_dbp], dbp_max[satisfy_sbp])\n",
    "            sbp_min = np.append(sbp_min[satisfy_dbp], sbp_min[satisfy_sbp])\n",
    "            sbp_max = np.append(sbp_max[satisfy_dbp], sbp_max[satisfy_sbp])\n",
    "            # 血圧をランダム生成\n",
    "            try:\n",
    "                (dbp, sbp, rs) = make_random_bp_in_range(dbp_min, dbp_max, sbp_min, sbp_max, rs)\n",
    "            except:\n",
    "                dbp = int((dbp_class_border[bp_class] + dbp_class_border[bp_class + 1]) / 2)\n",
    "                sbp = int((sbp_class_border[bp_class] + sbp_class_border[bp_class + 1]) / 2)\n",
    "            return (dbp, sbp)\n",
    "\n",
    "\n",
    "(sex, alb, bp_class, rs) = ('M', 55, -1, 100)\n",
    "print(make_random_bp(dict_bp_min_dist, sex, alb, bp_class, rs))\n",
    "\n",
    "(sex, alb, bp_class, rs) = ('M', 20, 5, 100)\n",
    "print(make_random_bp(dict_bp_min_dist, sex, alb, bp_class, rs))\n",
    "\n",
    "(sex, alb, bp_class, rs) = ('M', 20, 6, 100)\n",
    "print(make_random_bp(dict_bp_min_dist, sex, alb, bp_class, rs))"
   ]
  },
  {
   "cell_type": "code",
   "execution_count": 9,
   "metadata": {
    "execution": {
     "iopub.execute_input": "2024-11-20T15:24:44.404867Z",
     "iopub.status.busy": "2024-11-20T15:24:44.404670Z",
     "iopub.status.idle": "2024-11-20T15:24:44.421792Z",
     "shell.execute_reply": "2024-11-20T15:24:44.421312Z",
     "shell.execute_reply.started": "2024-11-20T15:24:44.404849Z"
    }
   },
   "outputs": [
    {
     "data": {
      "text/html": [
       "<div>\n",
       "<style scoped>\n",
       "    .dataframe tbody tr th:only-of-type {\n",
       "        vertical-align: middle;\n",
       "    }\n",
       "\n",
       "    .dataframe tbody tr th {\n",
       "        vertical-align: top;\n",
       "    }\n",
       "\n",
       "    .dataframe thead th {\n",
       "        text-align: right;\n",
       "    }\n",
       "</style>\n",
       "<table border=\"1\" class=\"dataframe\">\n",
       "  <thead>\n",
       "    <tr style=\"text-align: right;\">\n",
       "      <th></th>\n",
       "      <th>iid</th>\n",
       "      <th>hc_ym</th>\n",
       "      <th>dbp</th>\n",
       "      <th>sbp</th>\n",
       "    </tr>\n",
       "  </thead>\n",
       "  <tbody>\n",
       "    <tr>\n",
       "      <th>0</th>\n",
       "      <td>i000000</td>\n",
       "      <td>2010/07</td>\n",
       "      <td>74</td>\n",
       "      <td>115</td>\n",
       "    </tr>\n",
       "  </tbody>\n",
       "</table>\n",
       "</div>"
      ],
      "text/plain": [
       "       iid    hc_ym dbp  sbp\n",
       "0  i000000  2010/07  74  115"
      ]
     },
     "execution_count": 9,
     "metadata": {},
     "output_type": "execute_result"
    }
   ],
   "source": [
    "#Cell_9.\n",
    "def make_new_df_hc(df_info, i, hct, rs):\n",
    "    (iid, sex, birth_ym, bp_class) = df_info.loc[i, [\n",
    "        'iid', 'sex', 'birth_ym', 'bp_class']].values\n",
    "    birth_t = mylib1.ym_to_t(birth_ym)\n",
    "    alb = int(hct - birth_t)\n",
    "    (dbp, sbp) = make_random_bp(dict_bp_min_dist, sex, alb, bp_class, rs)\n",
    "    hc_ym = mylib1.t_to_ym(hct)\n",
    "    # １行データは１列データに変換されてしまうため転置\n",
    "    df_hc = pd.DataFrame([iid, hc_ym, dbp, sbp]).T\n",
    "    df_hc.columns = ['iid', 'hc_ym', 'dbp', 'sbp']\n",
    "    return df_hc\n",
    "\n",
    "\n",
    "df_info = pd.read_csv('./pseudo_medical/records/excl_bp/info.csv')\n",
    "df_info['bp_class'] = -1  # 初期値設定\n",
    "(i, hct, rs) = (0, 2010.55, 100)\n",
    "df_hc = make_new_df_hc(df_info, i, hct, rs)\n",
    "\n",
    "df_hc"
   ]
  },
  {
   "cell_type": "code",
   "execution_count": 10,
   "metadata": {
    "execution": {
     "iopub.execute_input": "2024-11-20T15:24:44.422369Z",
     "iopub.status.busy": "2024-11-20T15:24:44.422241Z",
     "iopub.status.idle": "2024-11-20T15:25:05.704863Z",
     "shell.execute_reply": "2024-11-20T15:25:05.704014Z",
     "shell.execute_reply.started": "2024-11-20T15:24:44.422355Z"
    }
   },
   "outputs": [],
   "source": [
    "#Cell_10.\n",
    "rs = 0  # 初期値設定\n",
    "df_hcs = None  # # DataFrame of Health CheckupS\n",
    "\n",
    "for i in df_info.index:\n",
    "    st = mylib1.ym_to_t(df_info.loc[i, 'start_obs_ym'])\n",
    "    et = mylib1.ym_to_t(df_info.loc[i, 'end_obs_ym'])\n",
    "    # 血圧分類属性の決定\n",
    "    rs = rs + 1\n",
    "    df_hc = make_new_df_hc(df_info, i, st, rs)\n",
    "    (dbp, sbp) = df_hc[['dbp', 'sbp']].values[0]\n",
    "    bp_class = mylib3.calc_bp_class(dbp, sbp)\n",
    "    df_info.loc[i, 'bp_class'] = bp_class\n",
    "\n",
    "    # 健診レコードの擬似生成\n",
    "    df_hcs_for_i = None\n",
    "    rs = rs + 1\n",
    "    np.random.seed(rs)\n",
    "    if np.random.rand() > 0.5:  # 被保険者の半分が健診レコードを持つこととする\n",
    "        rs = rs + 1\n",
    "        pass\n",
    "    else:\n",
    "        # 健診レコードを観察開始から6か月後に、以後1年ごとに登場させる。\n",
    "        if st + 0.5 > et:\n",
    "            pass\n",
    "        else:  # 健診レコード作成\n",
    "            hct = st + 0.5  # 初期値\n",
    "            make_record = True\n",
    "            while make_record:\n",
    "                rs = rs + 1\n",
    "                # print(i, hct, rs)\n",
    "                df_hc = make_new_df_hc(df_info, i, hct, rs)\n",
    "                df_hcs_for_i = pd.concat([df_hcs_for_i, df_hc], axis=0)\n",
    "                if hct + 1 > et:\n",
    "                    make_record = False\n",
    "                else:\n",
    "                    hct = hct + 1\n",
    "            df_hcs = pd.concat([df_hcs, df_hcs_for_i], axis=0)"
   ]
  },
  {
   "cell_type": "code",
   "execution_count": 11,
   "metadata": {
    "colab": {},
    "colab_type": "code",
    "execution": {
     "iopub.execute_input": "2024-11-20T15:25:05.705657Z",
     "iopub.status.busy": "2024-11-20T15:25:05.705511Z",
     "iopub.status.idle": "2024-11-20T15:25:05.713560Z",
     "shell.execute_reply": "2024-11-20T15:25:05.713062Z",
     "shell.execute_reply.started": "2024-11-20T15:25:05.705643Z"
    },
    "id": "kGXpIM4k-oum",
    "outputId": "025c856e-ce89-47c8-8145-3b4f88b67975"
   },
   "outputs": [
    {
     "name": "stdout",
     "output_type": "stream",
     "text": [
      "(4815, 8)\n"
     ]
    },
    {
     "data": {
      "text/html": [
       "<div>\n",
       "<style scoped>\n",
       "    .dataframe tbody tr th:only-of-type {\n",
       "        vertical-align: middle;\n",
       "    }\n",
       "\n",
       "    .dataframe tbody tr th {\n",
       "        vertical-align: top;\n",
       "    }\n",
       "\n",
       "    .dataframe thead th {\n",
       "        text-align: right;\n",
       "    }\n",
       "</style>\n",
       "<table border=\"1\" class=\"dataframe\">\n",
       "  <thead>\n",
       "    <tr style=\"text-align: right;\">\n",
       "      <th></th>\n",
       "      <th>iid</th>\n",
       "      <th>sex</th>\n",
       "      <th>family</th>\n",
       "      <th>birth_ym</th>\n",
       "      <th>start_obs_ym</th>\n",
       "      <th>end_obs_ym</th>\n",
       "      <th>death</th>\n",
       "      <th>bp_class</th>\n",
       "    </tr>\n",
       "  </thead>\n",
       "  <tbody>\n",
       "    <tr>\n",
       "      <th>0</th>\n",
       "      <td>i000000</td>\n",
       "      <td>M</td>\n",
       "      <td>1</td>\n",
       "      <td>1952/06</td>\n",
       "      <td>2010/01</td>\n",
       "      <td>2013/09</td>\n",
       "      <td>0</td>\n",
       "      <td>1</td>\n",
       "    </tr>\n",
       "    <tr>\n",
       "      <th>1</th>\n",
       "      <td>i000001</td>\n",
       "      <td>F</td>\n",
       "      <td>2</td>\n",
       "      <td>1972/11</td>\n",
       "      <td>2010/01</td>\n",
       "      <td>2019/12</td>\n",
       "      <td>0</td>\n",
       "      <td>0</td>\n",
       "    </tr>\n",
       "    <tr>\n",
       "      <th>2</th>\n",
       "      <td>i000002</td>\n",
       "      <td>M</td>\n",
       "      <td>1</td>\n",
       "      <td>1978/03</td>\n",
       "      <td>2010/01</td>\n",
       "      <td>2016/09</td>\n",
       "      <td>0</td>\n",
       "      <td>0</td>\n",
       "    </tr>\n",
       "    <tr>\n",
       "      <th>3</th>\n",
       "      <td>i000003</td>\n",
       "      <td>M</td>\n",
       "      <td>2</td>\n",
       "      <td>1989/03</td>\n",
       "      <td>2010/01</td>\n",
       "      <td>2013/12</td>\n",
       "      <td>0</td>\n",
       "      <td>0</td>\n",
       "    </tr>\n",
       "    <tr>\n",
       "      <th>4</th>\n",
       "      <td>i000006</td>\n",
       "      <td>M</td>\n",
       "      <td>1</td>\n",
       "      <td>1973/11</td>\n",
       "      <td>2010/04</td>\n",
       "      <td>2013/09</td>\n",
       "      <td>0</td>\n",
       "      <td>0</td>\n",
       "    </tr>\n",
       "  </tbody>\n",
       "</table>\n",
       "</div>"
      ],
      "text/plain": [
       "       iid sex  family birth_ym start_obs_ym end_obs_ym  death  bp_class\n",
       "0  i000000   M       1  1952/06      2010/01    2013/09      0         1\n",
       "1  i000001   F       2  1972/11      2010/01    2019/12      0         0\n",
       "2  i000002   M       1  1978/03      2010/01    2016/09      0         0\n",
       "3  i000003   M       2  1989/03      2010/01    2013/12      0         0\n",
       "4  i000006   M       1  1973/11      2010/04    2013/09      0         0"
      ]
     },
     "execution_count": 11,
     "metadata": {},
     "output_type": "execute_result"
    }
   ],
   "source": [
    "#Cell_11.\n",
    "print(df_info.shape)\n",
    "df_info.head()"
   ]
  },
  {
   "cell_type": "code",
   "execution_count": 12,
   "metadata": {
    "colab": {},
    "colab_type": "code",
    "execution": {
     "iopub.execute_input": "2024-11-20T15:25:05.714317Z",
     "iopub.status.busy": "2024-11-20T15:25:05.714105Z",
     "iopub.status.idle": "2024-11-20T15:25:05.726049Z",
     "shell.execute_reply": "2024-11-20T15:25:05.725524Z",
     "shell.execute_reply.started": "2024-11-20T15:25:05.714300Z"
    },
    "id": "rRqMkBeL-oup",
    "outputId": "b114df87-606e-4285-d1a2-2eb5eef59dc6"
   },
   "outputs": [
    {
     "name": "stdout",
     "output_type": "stream",
     "text": [
      "(12632, 4)\n",
      "2241\n"
     ]
    },
    {
     "data": {
      "text/html": [
       "<div>\n",
       "<style scoped>\n",
       "    .dataframe tbody tr th:only-of-type {\n",
       "        vertical-align: middle;\n",
       "    }\n",
       "\n",
       "    .dataframe tbody tr th {\n",
       "        vertical-align: top;\n",
       "    }\n",
       "\n",
       "    .dataframe thead th {\n",
       "        text-align: right;\n",
       "    }\n",
       "</style>\n",
       "<table border=\"1\" class=\"dataframe\">\n",
       "  <thead>\n",
       "    <tr style=\"text-align: right;\">\n",
       "      <th></th>\n",
       "      <th>iid</th>\n",
       "      <th>hc_ym</th>\n",
       "      <th>dbp</th>\n",
       "      <th>sbp</th>\n",
       "    </tr>\n",
       "  </thead>\n",
       "  <tbody>\n",
       "    <tr>\n",
       "      <th>0</th>\n",
       "      <td>i000000</td>\n",
       "      <td>2010/07</td>\n",
       "      <td>88</td>\n",
       "      <td>131</td>\n",
       "    </tr>\n",
       "    <tr>\n",
       "      <th>0</th>\n",
       "      <td>i000000</td>\n",
       "      <td>2011/07</td>\n",
       "      <td>81</td>\n",
       "      <td>138</td>\n",
       "    </tr>\n",
       "    <tr>\n",
       "      <th>0</th>\n",
       "      <td>i000000</td>\n",
       "      <td>2012/07</td>\n",
       "      <td>88</td>\n",
       "      <td>140</td>\n",
       "    </tr>\n",
       "    <tr>\n",
       "      <th>0</th>\n",
       "      <td>i000000</td>\n",
       "      <td>2013/07</td>\n",
       "      <td>70</td>\n",
       "      <td>127</td>\n",
       "    </tr>\n",
       "    <tr>\n",
       "      <th>0</th>\n",
       "      <td>i000002</td>\n",
       "      <td>2010/07</td>\n",
       "      <td>76</td>\n",
       "      <td>114</td>\n",
       "    </tr>\n",
       "  </tbody>\n",
       "</table>\n",
       "</div>"
      ],
      "text/plain": [
       "       iid    hc_ym dbp  sbp\n",
       "0  i000000  2010/07  88  131\n",
       "0  i000000  2011/07  81  138\n",
       "0  i000000  2012/07  88  140\n",
       "0  i000000  2013/07  70  127\n",
       "0  i000002  2010/07  76  114"
      ]
     },
     "execution_count": 12,
     "metadata": {},
     "output_type": "execute_result"
    }
   ],
   "source": [
    "#Cell_12.\n",
    "print(df_hcs.shape)\n",
    "# 健診レコードを保有する被保険者の人数を確認\n",
    "print(len(df_hcs['iid'].unique()))\n",
    "df_hcs.head()"
   ]
  },
  {
   "cell_type": "code",
   "execution_count": 13,
   "metadata": {
    "execution": {
     "iopub.execute_input": "2024-11-20T15:25:05.726676Z",
     "iopub.status.busy": "2024-11-20T15:25:05.726536Z",
     "iopub.status.idle": "2024-11-20T15:25:05.753126Z",
     "shell.execute_reply": "2024-11-20T15:25:05.752574Z",
     "shell.execute_reply.started": "2024-11-20T15:25:05.726662Z"
    }
   },
   "outputs": [],
   "source": [
    "#Cell_13.\n",
    "df_info.to_csv('./pseudo_medical/records/incl_bp/info.csv', index=False)\n",
    "df_hcs.to_csv('./pseudo_medical/records/incl_bp/healthckeckup.csv', index=False)"
   ]
  },
  {
   "cell_type": "code",
   "execution_count": null,
   "metadata": {},
   "outputs": [],
   "source": []
  }
 ],
 "metadata": {
  "colab": {
   "name": "publish-04.ipynb",
   "provenance": [],
   "toc_visible": true
  },
  "kernelspec": {
   "display_name": "Python 3 (ipykernel)",
   "language": "python",
   "name": "python3"
  },
  "language_info": {
   "codemirror_mode": {
    "name": "ipython",
    "version": 3
   },
   "file_extension": ".py",
   "mimetype": "text/x-python",
   "name": "python",
   "nbconvert_exporter": "python",
   "pygments_lexer": "ipython3",
   "version": "3.8.18"
  }
 },
 "nbformat": 4,
 "nbformat_minor": 4
}
