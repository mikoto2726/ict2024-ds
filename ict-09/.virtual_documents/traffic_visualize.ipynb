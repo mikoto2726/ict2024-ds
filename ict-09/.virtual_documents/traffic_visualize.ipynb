





import pandas as pd
import geopandas as gpd
import matplotlib.pyplot as plt





df_accident = pd.read_csv('data/accident/honhyo_2019.csv', encoding='SHIFT-JIS')
df_accident





def to_degree(v):
    FILL_IN_HERE
    ...

df_accident['地点　緯度（北緯）'] = df_accident['地点　緯度（北緯）'].apply(to_degree)
df_accident['地点　経度（東経）'] = df_accident['地点　経度（東経）'].apply(to_degree)
df_accident





gdf_accident = gpd.GeoDataFrame(df_accident, geometry=gpd.points_from_xy(df_accident['地点　経度（東経）'], df_accident['地点　緯度（北緯）']), crs=4326)
gdf_accident





gdf_accident_tokyo12 = gdf_accident[(gdf_accident['都道府県コード'] == 30) & (gdf_accident['発生日時　　月'] == 12)]
gdf_accident_tokyo12.explore(tiles='OpenStreetMap')



