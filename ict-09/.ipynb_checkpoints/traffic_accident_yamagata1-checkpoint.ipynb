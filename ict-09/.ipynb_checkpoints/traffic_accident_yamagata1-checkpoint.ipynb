{
 "cells": [
  {
   "cell_type": "markdown",
   "id": "6bf375d6-395c-4624-b4d0-794069715418",
   "metadata": {},
   "source": [
    "# データ・サイエンス\tデータ・サイエンス社会応用論 / ICT社会応用演習Ⅳ\n",
    "## 9-3. 交通事故統計情報の分析（山形県内日次集計）"
   ]
  },
  {
   "cell_type": "markdown",
   "id": "d26c1fb7-d2af-4b8c-a272-15994e503167",
   "metadata": {},
   "source": [
    "### 1. 下準備\n",
    "#### 1-a) ライブラリのインポート"
   ]
  },
  {
   "cell_type": "code",
   "execution_count": 1,
   "id": "1955c38f-abf8-4c0c-bbf1-9b8a949cf727",
   "metadata": {
    "execution": {
     "iopub.execute_input": "2024-11-28T02:28:01.418843Z",
     "iopub.status.busy": "2024-11-28T02:28:01.418584Z",
     "iopub.status.idle": "2024-11-28T02:28:02.089468Z",
     "shell.execute_reply": "2024-11-28T02:28:02.088852Z",
     "shell.execute_reply.started": "2024-11-28T02:28:01.418824Z"
    }
   },
   "outputs": [],
   "source": [
    "import pandas as pd\n",
    "import matplotlib.pyplot as plt\n",
    "from datetime import datetime, timedelta\n",
    "import jpholiday\n",
    "import japanize_matplotlib"
   ]
  },
  {
   "cell_type": "markdown",
   "id": "40caf2c9-cfdd-45d1-8d18-a00c45759413",
   "metadata": {
    "tags": []
   },
   "source": [
    "#### 1-b) 交通事故統計情報の読み込み"
   ]
  },
  {
   "cell_type": "code",
   "execution_count": 2,
   "id": "73253dc6-2783-40c0-9873-b66913d3c1c5",
   "metadata": {
    "execution": {
     "iopub.execute_input": "2024-11-28T02:28:02.090772Z",
     "iopub.status.busy": "2024-11-28T02:28:02.090520Z",
     "iopub.status.idle": "2024-11-28T02:28:06.362788Z",
     "shell.execute_reply": "2024-11-28T02:28:06.362255Z",
     "shell.execute_reply.started": "2024-11-28T02:28:02.090755Z"
    }
   },
   "outputs": [
    {
     "data": {
      "text/html": [
       "<div>\n",
       "<style scoped>\n",
       "    .dataframe tbody tr th:only-of-type {\n",
       "        vertical-align: middle;\n",
       "    }\n",
       "\n",
       "    .dataframe tbody tr th {\n",
       "        vertical-align: top;\n",
       "    }\n",
       "\n",
       "    .dataframe thead th {\n",
       "        text-align: right;\n",
       "    }\n",
       "</style>\n",
       "<table border=\"1\" class=\"dataframe\">\n",
       "  <thead>\n",
       "    <tr style=\"text-align: right;\">\n",
       "      <th></th>\n",
       "      <th>資料区分</th>\n",
       "      <th>都道府県コード</th>\n",
       "      <th>警察署等コード</th>\n",
       "      <th>本票番号</th>\n",
       "      <th>事故内容</th>\n",
       "      <th>死者数</th>\n",
       "      <th>負傷者数</th>\n",
       "      <th>路線コード</th>\n",
       "      <th>上下線</th>\n",
       "      <th>地点コード</th>\n",
       "      <th>...</th>\n",
       "      <th>エアバッグの装備（当事者B）</th>\n",
       "      <th>サイドエアバッグの装備（当事者A）</th>\n",
       "      <th>サイドエアバッグの装備（当事者B）</th>\n",
       "      <th>人身損傷程度（当事者A）</th>\n",
       "      <th>人身損傷程度（当事者B）</th>\n",
       "      <th>地点　緯度（北緯）</th>\n",
       "      <th>地点　経度（東経）</th>\n",
       "      <th>曜日(発生年月日)</th>\n",
       "      <th>祝日(発生年月日)</th>\n",
       "      <th>年月日</th>\n",
       "    </tr>\n",
       "  </thead>\n",
       "  <tbody>\n",
       "    <tr>\n",
       "      <th>0</th>\n",
       "      <td>1</td>\n",
       "      <td>10</td>\n",
       "      <td>59</td>\n",
       "      <td>1</td>\n",
       "      <td>2</td>\n",
       "      <td>0</td>\n",
       "      <td>1</td>\n",
       "      <td>40030</td>\n",
       "      <td>2</td>\n",
       "      <td>0</td>\n",
       "      <td>...</td>\n",
       "      <td>2</td>\n",
       "      <td>2</td>\n",
       "      <td>2</td>\n",
       "      <td>4</td>\n",
       "      <td>4</td>\n",
       "      <td>431412959</td>\n",
       "      <td>1414947029</td>\n",
       "      <td>6</td>\n",
       "      <td>3</td>\n",
       "      <td>2018-12-28</td>\n",
       "    </tr>\n",
       "    <tr>\n",
       "      <th>1</th>\n",
       "      <td>1</td>\n",
       "      <td>10</td>\n",
       "      <td>59</td>\n",
       "      <td>2</td>\n",
       "      <td>2</td>\n",
       "      <td>0</td>\n",
       "      <td>2</td>\n",
       "      <td>40020</td>\n",
       "      <td>2</td>\n",
       "      <td>0</td>\n",
       "      <td>...</td>\n",
       "      <td>2</td>\n",
       "      <td>2</td>\n",
       "      <td>2</td>\n",
       "      <td>4</td>\n",
       "      <td>4</td>\n",
       "      <td>425706029</td>\n",
       "      <td>1413039991</td>\n",
       "      <td>1</td>\n",
       "      <td>3</td>\n",
       "      <td>2019-01-06</td>\n",
       "    </tr>\n",
       "    <tr>\n",
       "      <th>2</th>\n",
       "      <td>1</td>\n",
       "      <td>10</td>\n",
       "      <td>59</td>\n",
       "      <td>3</td>\n",
       "      <td>2</td>\n",
       "      <td>0</td>\n",
       "      <td>1</td>\n",
       "      <td>50020</td>\n",
       "      <td>1</td>\n",
       "      <td>0</td>\n",
       "      <td>...</td>\n",
       "      <td>2</td>\n",
       "      <td>2</td>\n",
       "      <td>2</td>\n",
       "      <td>4</td>\n",
       "      <td>4</td>\n",
       "      <td>424115557</td>\n",
       "      <td>1414158530</td>\n",
       "      <td>3</td>\n",
       "      <td>3</td>\n",
       "      <td>2018-12-18</td>\n",
       "    </tr>\n",
       "    <tr>\n",
       "      <th>3</th>\n",
       "      <td>1</td>\n",
       "      <td>10</td>\n",
       "      <td>59</td>\n",
       "      <td>4</td>\n",
       "      <td>2</td>\n",
       "      <td>0</td>\n",
       "      <td>1</td>\n",
       "      <td>40020</td>\n",
       "      <td>2</td>\n",
       "      <td>0</td>\n",
       "      <td>...</td>\n",
       "      <td>1</td>\n",
       "      <td>2</td>\n",
       "      <td>2</td>\n",
       "      <td>4</td>\n",
       "      <td>2</td>\n",
       "      <td>425647051</td>\n",
       "      <td>1413100440</td>\n",
       "      <td>7</td>\n",
       "      <td>3</td>\n",
       "      <td>2019-01-05</td>\n",
       "    </tr>\n",
       "    <tr>\n",
       "      <th>4</th>\n",
       "      <td>1</td>\n",
       "      <td>10</td>\n",
       "      <td>59</td>\n",
       "      <td>5</td>\n",
       "      <td>2</td>\n",
       "      <td>0</td>\n",
       "      <td>1</td>\n",
       "      <td>40140</td>\n",
       "      <td>2</td>\n",
       "      <td>0</td>\n",
       "      <td>...</td>\n",
       "      <td>2</td>\n",
       "      <td>2</td>\n",
       "      <td>2</td>\n",
       "      <td>4</td>\n",
       "      <td>2</td>\n",
       "      <td>425606992</td>\n",
       "      <td>1420518034</td>\n",
       "      <td>2</td>\n",
       "      <td>2</td>\n",
       "      <td>2018-12-31</td>\n",
       "    </tr>\n",
       "    <tr>\n",
       "      <th>...</th>\n",
       "      <td>...</td>\n",
       "      <td>...</td>\n",
       "      <td>...</td>\n",
       "      <td>...</td>\n",
       "      <td>...</td>\n",
       "      <td>...</td>\n",
       "      <td>...</td>\n",
       "      <td>...</td>\n",
       "      <td>...</td>\n",
       "      <td>...</td>\n",
       "      <td>...</td>\n",
       "      <td>...</td>\n",
       "      <td>...</td>\n",
       "      <td>...</td>\n",
       "      <td>...</td>\n",
       "      <td>...</td>\n",
       "      <td>...</td>\n",
       "      <td>...</td>\n",
       "      <td>...</td>\n",
       "      <td>...</td>\n",
       "      <td>...</td>\n",
       "    </tr>\n",
       "    <tr>\n",
       "      <th>305191</th>\n",
       "      <td>1</td>\n",
       "      <td>97</td>\n",
       "      <td>114</td>\n",
       "      <td>166</td>\n",
       "      <td>2</td>\n",
       "      <td>0</td>\n",
       "      <td>4</td>\n",
       "      <td>33410</td>\n",
       "      <td>0</td>\n",
       "      <td>0</td>\n",
       "      <td>...</td>\n",
       "      <td>1</td>\n",
       "      <td>2</td>\n",
       "      <td>2</td>\n",
       "      <td>2</td>\n",
       "      <td>2</td>\n",
       "      <td>261031432</td>\n",
       "      <td>1273909676</td>\n",
       "      <td>6</td>\n",
       "      <td>3</td>\n",
       "      <td>2021-12-10</td>\n",
       "    </tr>\n",
       "    <tr>\n",
       "      <th>305192</th>\n",
       "      <td>1</td>\n",
       "      <td>97</td>\n",
       "      <td>114</td>\n",
       "      <td>167</td>\n",
       "      <td>2</td>\n",
       "      <td>0</td>\n",
       "      <td>1</td>\n",
       "      <td>33410</td>\n",
       "      <td>0</td>\n",
       "      <td>0</td>\n",
       "      <td>...</td>\n",
       "      <td>2</td>\n",
       "      <td>2</td>\n",
       "      <td>2</td>\n",
       "      <td>4</td>\n",
       "      <td>2</td>\n",
       "      <td>260918133</td>\n",
       "      <td>1274003673</td>\n",
       "      <td>4</td>\n",
       "      <td>3</td>\n",
       "      <td>2021-12-15</td>\n",
       "    </tr>\n",
       "    <tr>\n",
       "      <th>305193</th>\n",
       "      <td>1</td>\n",
       "      <td>97</td>\n",
       "      <td>114</td>\n",
       "      <td>168</td>\n",
       "      <td>2</td>\n",
       "      <td>0</td>\n",
       "      <td>1</td>\n",
       "      <td>10070</td>\n",
       "      <td>0</td>\n",
       "      <td>0</td>\n",
       "      <td>...</td>\n",
       "      <td>2</td>\n",
       "      <td>2</td>\n",
       "      <td>2</td>\n",
       "      <td>4</td>\n",
       "      <td>2</td>\n",
       "      <td>261022159</td>\n",
       "      <td>1274124558</td>\n",
       "      <td>4</td>\n",
       "      <td>3</td>\n",
       "      <td>2021-12-22</td>\n",
       "    </tr>\n",
       "    <tr>\n",
       "      <th>305194</th>\n",
       "      <td>1</td>\n",
       "      <td>97</td>\n",
       "      <td>114</td>\n",
       "      <td>169</td>\n",
       "      <td>2</td>\n",
       "      <td>0</td>\n",
       "      <td>1</td>\n",
       "      <td>33410</td>\n",
       "      <td>0</td>\n",
       "      <td>0</td>\n",
       "      <td>...</td>\n",
       "      <td>0</td>\n",
       "      <td>2</td>\n",
       "      <td>0</td>\n",
       "      <td>4</td>\n",
       "      <td>2</td>\n",
       "      <td>260955144</td>\n",
       "      <td>1273944244</td>\n",
       "      <td>6</td>\n",
       "      <td>3</td>\n",
       "      <td>2021-12-24</td>\n",
       "    </tr>\n",
       "    <tr>\n",
       "      <th>305195</th>\n",
       "      <td>1</td>\n",
       "      <td>97</td>\n",
       "      <td>114</td>\n",
       "      <td>170</td>\n",
       "      <td>2</td>\n",
       "      <td>0</td>\n",
       "      <td>1</td>\n",
       "      <td>3310</td>\n",
       "      <td>2</td>\n",
       "      <td>22</td>\n",
       "      <td>...</td>\n",
       "      <td>0</td>\n",
       "      <td>2</td>\n",
       "      <td>0</td>\n",
       "      <td>4</td>\n",
       "      <td>2</td>\n",
       "      <td>261152551</td>\n",
       "      <td>1273939654</td>\n",
       "      <td>2</td>\n",
       "      <td>3</td>\n",
       "      <td>2021-07-26</td>\n",
       "    </tr>\n",
       "  </tbody>\n",
       "</table>\n",
       "<p>995611 rows × 59 columns</p>\n",
       "</div>"
      ],
      "text/plain": [
       "        資料区分  都道府県コード  警察署等コード  本票番号  事故内容  死者数  負傷者数  路線コード  上下線  地点コード  ...  \\\n",
       "0          1       10       59     1     2    0     1  40030    2      0  ...   \n",
       "1          1       10       59     2     2    0     2  40020    2      0  ...   \n",
       "2          1       10       59     3     2    0     1  50020    1      0  ...   \n",
       "3          1       10       59     4     2    0     1  40020    2      0  ...   \n",
       "4          1       10       59     5     2    0     1  40140    2      0  ...   \n",
       "...      ...      ...      ...   ...   ...  ...   ...    ...  ...    ...  ...   \n",
       "305191     1       97      114   166     2    0     4  33410    0      0  ...   \n",
       "305192     1       97      114   167     2    0     1  33410    0      0  ...   \n",
       "305193     1       97      114   168     2    0     1  10070    0      0  ...   \n",
       "305194     1       97      114   169     2    0     1  33410    0      0  ...   \n",
       "305195     1       97      114   170     2    0     1   3310    2     22  ...   \n",
       "\n",
       "        エアバッグの装備（当事者B）  サイドエアバッグの装備（当事者A）  サイドエアバッグの装備（当事者B）  人身損傷程度（当事者A）  \\\n",
       "0                    2                  2                  2             4   \n",
       "1                    2                  2                  2             4   \n",
       "2                    2                  2                  2             4   \n",
       "3                    1                  2                  2             4   \n",
       "4                    2                  2                  2             4   \n",
       "...                ...                ...                ...           ...   \n",
       "305191               1                  2                  2             2   \n",
       "305192               2                  2                  2             4   \n",
       "305193               2                  2                  2             4   \n",
       "305194               0                  2                  0             4   \n",
       "305195               0                  2                  0             4   \n",
       "\n",
       "        人身損傷程度（当事者B）  地点　緯度（北緯）   地点　経度（東経）  曜日(発生年月日)  祝日(発生年月日)        年月日  \n",
       "0                  4  431412959  1414947029          6          3 2018-12-28  \n",
       "1                  4  425706029  1413039991          1          3 2019-01-06  \n",
       "2                  4  424115557  1414158530          3          3 2018-12-18  \n",
       "3                  2  425647051  1413100440          7          3 2019-01-05  \n",
       "4                  2  425606992  1420518034          2          2 2018-12-31  \n",
       "...              ...        ...         ...        ...        ...        ...  \n",
       "305191             2  261031432  1273909676          6          3 2021-12-10  \n",
       "305192             2  260918133  1274003673          4          3 2021-12-15  \n",
       "305193             2  261022159  1274124558          4          3 2021-12-22  \n",
       "305194             2  260955144  1273944244          6          3 2021-12-24  \n",
       "305195             2  261152551  1273939654          2          3 2021-07-26  \n",
       "\n",
       "[995611 rows x 59 columns]"
      ]
     },
     "execution_count": 2,
     "metadata": {},
     "output_type": "execute_result"
    }
   ],
   "source": [
    "df_accident1 = pd.read_csv('data/accident/honhyo_2019.csv', encoding='SHIFT-JIS')\n",
    "df_accident2 = pd.read_csv('data/accident/honhyo_2020.csv', encoding='SHIFT-JIS')\n",
    "df_accident3 = pd.read_csv('data/accident/honhyo_2021.csv', encoding='SHIFT-JIS')\n",
    "\n",
    "df_accident = pd.concat([df_accident1, df_accident2, df_accident3])\n",
    "df_accident['年月日'] = pd.to_datetime({\n",
    "    'year' : df_accident['発生日時　　年'], 'month' : df_accident['発生日時　　月'],\n",
    "    'day' : df_accident['発生日時　　日']\n",
    "})\n",
    "df_accident"
   ]
  },
  {
   "cell_type": "markdown",
   "id": "1e489276-b126-4401-8983-d5f2d06c9e0c",
   "metadata": {},
   "source": [
    "#### 1-c) 山形県内の2019年1月1日以降のデータの抽出"
   ]
  },
  {
   "cell_type": "code",
   "execution_count": 3,
   "id": "c9ba709e-8cf5-4384-a893-52c9b5faee76",
   "metadata": {
    "execution": {
     "iopub.execute_input": "2024-11-28T02:28:06.363719Z",
     "iopub.status.busy": "2024-11-28T02:28:06.363519Z",
     "iopub.status.idle": "2024-11-28T02:28:06.811672Z",
     "shell.execute_reply": "2024-11-28T02:28:06.810322Z",
     "shell.execute_reply.started": "2024-11-28T02:28:06.363695Z"
    }
   },
   "outputs": [
    {
     "ename": "NameError",
     "evalue": "name 'FILL_IN_HERE' is not defined",
     "output_type": "error",
     "traceback": [
      "\u001b[0;31m---------------------------------------------------------------------------\u001b[0m",
      "\u001b[0;31mNameError\u001b[0m                                 Traceback (most recent call last)",
      "Cell \u001b[0;32mIn[3], line 1\u001b[0m\n\u001b[0;32m----> 1\u001b[0m df_accident_yamagata \u001b[38;5;241m=\u001b[39m df_accident[df_accident[\u001b[38;5;124m'\u001b[39m\u001b[38;5;124m都道府県コード\u001b[39m\u001b[38;5;124m'\u001b[39m] \u001b[38;5;241m==\u001b[39m \u001b[43mFILL_IN_HERE\u001b[49m]\n\u001b[1;32m      2\u001b[0m df_accident_yamagata \u001b[38;5;241m=\u001b[39m df_accident_yamagata[df_accident_yamagata[\u001b[38;5;124m'\u001b[39m\u001b[38;5;124m年月日\u001b[39m\u001b[38;5;124m'\u001b[39m] \u001b[38;5;241m>\u001b[39m\u001b[38;5;241m=\u001b[39m datetime(\u001b[38;5;241m2019\u001b[39m, \u001b[38;5;241m1\u001b[39m, \u001b[38;5;241m1\u001b[39m)]\n\u001b[1;32m      3\u001b[0m df_accident_yamagata\n",
      "\u001b[0;31mNameError\u001b[0m: name 'FILL_IN_HERE' is not defined"
     ]
    }
   ],
   "source": [
    "df_accident_yamagata = df_accident[df_accident['都道府県コード'] == FILL_IN_HERE]\n",
    "df_accident_yamagata = df_accident_yamagata[df_accident_yamagata['年月日'] >= datetime(2019, 1, 1)]\n",
    "df_accident_yamagata"
   ]
  },
  {
   "cell_type": "markdown",
   "id": "4972c1f6-8b53-498e-aa74-6c5eb6ebda84",
   "metadata": {},
   "source": [
    "#### 1-d) 日毎の集計"
   ]
  },
  {
   "cell_type": "code",
   "execution_count": null,
   "id": "aa443b7d-f735-43bc-b7ed-49f1f20b1526",
   "metadata": {
    "execution": {
     "iopub.status.busy": "2024-11-28T02:28:06.812361Z",
     "iopub.status.idle": "2024-11-28T02:28:06.812563Z",
     "shell.execute_reply": "2024-11-28T02:28:06.812474Z",
     "shell.execute_reply.started": "2024-11-28T02:28:06.812464Z"
    }
   },
   "outputs": [],
   "source": [
    "df_accident_yamagata_daily = df_accident_yamagata.groupby(['年月日'], as_index=False)[['死者数', '負傷者数']].sum()\n",
    "df_accident_yamagata_daily"
   ]
  },
  {
   "cell_type": "markdown",
   "id": "56a0024a-d0e2-405e-9138-76619b4c8d37",
   "metadata": {},
   "source": [
    "#### 1-e) 気象データの読み込み"
   ]
  },
  {
   "cell_type": "code",
   "execution_count": null,
   "id": "eee124e2-bdcd-440d-b3cf-e972aedaf292",
   "metadata": {
    "execution": {
     "iopub.status.busy": "2024-11-28T02:28:06.813110Z",
     "iopub.status.idle": "2024-11-28T02:28:06.813288Z",
     "shell.execute_reply": "2024-11-28T02:28:06.813213Z",
     "shell.execute_reply.started": "2024-11-28T02:28:06.813193Z"
    }
   },
   "outputs": [],
   "source": [
    "df_weather = pd.read_csv('data/weather/weather_yamagata.csv', encoding='SHIFT-JIS', header=2)\n",
    "df_weather = df_weather.drop([0,1]).reset_index(drop=True)\n",
    "df_weather['年月日'] = pd.to_datetime(df_weather['年月日'])\n",
    "df_weather"
   ]
  },
  {
   "cell_type": "markdown",
   "id": "75d5507e-2c08-49b3-a513-6c6cbeca144b",
   "metadata": {},
   "source": [
    "#### 1-f) 事故データと天候データの結合"
   ]
  },
  {
   "cell_type": "code",
   "execution_count": null,
   "id": "3b2c0f17-4973-484c-8eab-cc04a6895f22",
   "metadata": {
    "execution": {
     "iopub.status.busy": "2024-11-28T02:28:06.813915Z",
     "iopub.status.idle": "2024-11-28T02:28:06.814070Z",
     "shell.execute_reply": "2024-11-28T02:28:06.813997Z",
     "shell.execute_reply.started": "2024-11-28T02:28:06.813989Z"
    }
   },
   "outputs": [],
   "source": [
    "df_accident_weather = pd.merge(df_accident_yamagata_daily, df_weather, on='年月日', how='right').fillna(0)\n",
    "df_accident_weather"
   ]
  },
  {
   "cell_type": "markdown",
   "id": "26816646-3b72-4487-bab9-db22f4557920",
   "metadata": {},
   "source": [
    "#### 1-g) 曜日と休日の追加"
   ]
  },
  {
   "cell_type": "code",
   "execution_count": null,
   "id": "79f87c61-d59a-4246-b78a-0de3b24eaf61",
   "metadata": {
    "execution": {
     "iopub.status.busy": "2024-11-28T02:28:06.814583Z",
     "iopub.status.idle": "2024-11-28T02:28:06.814730Z",
     "shell.execute_reply": "2024-11-28T02:28:06.814660Z",
     "shell.execute_reply.started": "2024-11-28T02:28:06.814653Z"
    }
   },
   "outputs": [],
   "source": [
    "df_accident_weather['曜日'] = df_accident_weather['年月日'].dt.weekday\n",
    "df_accident_weather['祝日'] = df_accident_weather['年月日'].dt.date.map(jpholiday.is_holiday).astype(int)\n",
    "df_accident_weather"
   ]
  },
  {
   "cell_type": "markdown",
   "id": "ca4af9c2-ab51-47ab-931d-e57572e76c2f",
   "metadata": {},
   "source": [
    "### 2. 負傷者数の分析\n",
    "#### 2-a) 傷者数と死者数の推移の可視化"
   ]
  },
  {
   "cell_type": "code",
   "execution_count": null,
   "id": "66e6229d-0821-4f43-b188-ca0563d3dbf7",
   "metadata": {
    "execution": {
     "iopub.status.busy": "2024-11-28T02:28:06.815201Z",
     "iopub.status.idle": "2024-11-28T02:28:06.815359Z",
     "shell.execute_reply": "2024-11-28T02:28:06.815278Z",
     "shell.execute_reply.started": "2024-11-28T02:28:06.815271Z"
    }
   },
   "outputs": [],
   "source": [
    "df_accident_weather.plot(x='年月日', y=['負傷者数', '死者数'], figsize=(20,4))\n",
    "plt.show()"
   ]
  },
  {
   "cell_type": "markdown",
   "id": "d989c03e-7561-4a4f-a310-08bf72823209",
   "metadata": {},
   "source": [
    "#### 2-b) 曜日と負傷者数の関係の可視化"
   ]
  },
  {
   "cell_type": "code",
   "execution_count": null,
   "id": "06a6bb2d-1ab8-44e2-bb8d-13b58aa84590",
   "metadata": {
    "execution": {
     "iopub.status.busy": "2024-11-28T02:28:06.815829Z",
     "iopub.status.idle": "2024-11-28T02:28:06.815973Z",
     "shell.execute_reply": "2024-11-28T02:28:06.815904Z",
     "shell.execute_reply.started": "2024-11-28T02:28:06.815897Z"
    }
   },
   "outputs": [],
   "source": [
    "df_accident_weather.groupby('曜日')['負傷者数'].describe()"
   ]
  },
  {
   "cell_type": "code",
   "execution_count": null,
   "id": "502726b8-9c7f-4539-9338-681a6c6386a3",
   "metadata": {
    "execution": {
     "iopub.status.busy": "2024-11-28T02:28:06.816520Z",
     "iopub.status.idle": "2024-11-28T02:28:06.816663Z",
     "shell.execute_reply": "2024-11-28T02:28:06.816596Z",
     "shell.execute_reply.started": "2024-11-28T02:28:06.816589Z"
    }
   },
   "outputs": [],
   "source": [
    "df_accident_weather.boxplot('負傷者数', '曜日')\n",
    "plt.tight_layout()\n",
    "plt.show()"
   ]
  },
  {
   "cell_type": "markdown",
   "id": "edcb86ea-6b90-4c00-918d-a3866e2777ec",
   "metadata": {},
   "source": [
    "#### 2-c) 移動平均の算出"
   ]
  },
  {
   "cell_type": "code",
   "execution_count": null,
   "id": "0aea0f3e-5822-4b9c-af1e-1fbb76d7637c",
   "metadata": {
    "execution": {
     "iopub.status.busy": "2024-11-28T02:28:06.817188Z",
     "iopub.status.idle": "2024-11-28T02:28:06.817332Z",
     "shell.execute_reply": "2024-11-28T02:28:06.817263Z",
     "shell.execute_reply.started": "2024-11-28T02:28:06.817256Z"
    }
   },
   "outputs": [],
   "source": [
    "df_accident_weather['負傷者数_移動平均'] = df_accident_weather['負傷者数'].rolling(7).mean()\n",
    "df_accident_weather['死者数_移動平均'] = df_accident_weather['死者数'].rolling(7).mean()\n",
    "df_accident_weather"
   ]
  },
  {
   "cell_type": "markdown",
   "id": "fc42d9cb-adc9-43cb-9f2c-dfeb924df1e2",
   "metadata": {},
   "source": [
    "#### 2-d) 負傷者数および死者数の移動平均の推移の可視化"
   ]
  },
  {
   "cell_type": "code",
   "execution_count": null,
   "id": "b5c09e15-c143-4ccd-a23f-7d19738f2a5d",
   "metadata": {
    "execution": {
     "iopub.status.busy": "2024-11-28T02:28:06.817702Z",
     "iopub.status.idle": "2024-11-28T02:28:06.817865Z",
     "shell.execute_reply": "2024-11-28T02:28:06.817788Z",
     "shell.execute_reply.started": "2024-11-28T02:28:06.817780Z"
    }
   },
   "outputs": [],
   "source": [
    "df_accident_weather.plot(x='年月日', y=['負傷者数_移動平均', '死者数_移動平均'], figsize=(20,4))\n",
    "plt.show()"
   ]
  },
  {
   "cell_type": "markdown",
   "id": "868b3aa6-262a-4476-9e69-7b128d88d112",
   "metadata": {
    "tags": []
   },
   "source": [
    "### 3. 気象データと組み合わせた分析\n",
    "#### 3-a) データの絞り込み"
   ]
  },
  {
   "cell_type": "code",
   "execution_count": null,
   "id": "6c8a4920-5ea3-45f0-a9ee-8c7617dc48d2",
   "metadata": {
    "execution": {
     "iopub.status.busy": "2024-11-28T02:28:06.818318Z",
     "iopub.status.idle": "2024-11-28T02:28:06.818461Z",
     "shell.execute_reply": "2024-11-28T02:28:06.818393Z",
     "shell.execute_reply.started": "2024-11-28T02:28:06.818386Z"
    }
   },
   "outputs": [],
   "source": [
    "df_accident_weather_2019 = df_accident_weather[df_accident_weather['年月日'] <= datetime(2019, 12, 31)]\n",
    "df_accident_weather_2019"
   ]
  },
  {
   "cell_type": "markdown",
   "id": "b25961a0-e6b7-42f9-becd-a841be661ebd",
   "metadata": {},
   "source": [
    "#### 3-b) 降雪・降雨と負傷者数の関係"
   ]
  },
  {
   "cell_type": "code",
   "execution_count": null,
   "id": "d51ebeca-33eb-4411-b5c1-4149ea3a9087",
   "metadata": {
    "execution": {
     "iopub.status.busy": "2024-11-28T02:28:06.818880Z",
     "iopub.status.idle": "2024-11-28T02:28:06.819022Z",
     "shell.execute_reply": "2024-11-28T02:28:06.818954Z",
     "shell.execute_reply.started": "2024-11-28T02:28:06.818947Z"
    }
   },
   "outputs": [],
   "source": [
    "df_accident_weather_2019.plot.scatter('降雪量合計(cm)', '負傷者数')\n",
    "plt.show()"
   ]
  },
  {
   "cell_type": "code",
   "execution_count": null,
   "id": "45ae22b3-0aa6-433c-9e68-ce42ac2b93a9",
   "metadata": {
    "execution": {
     "iopub.status.busy": "2024-11-28T02:28:06.819510Z",
     "iopub.status.idle": "2024-11-28T02:28:06.819648Z",
     "shell.execute_reply": "2024-11-28T02:28:06.819582Z",
     "shell.execute_reply.started": "2024-11-28T02:28:06.819575Z"
    }
   },
   "outputs": [],
   "source": [
    "df_accident_weather_2019.plot.scatter('最深積雪(cm)', '負傷者数')\n",
    "plt.show()"
   ]
  },
  {
   "cell_type": "code",
   "execution_count": null,
   "id": "c85e911d-9f15-45f1-a9e3-3278f3bbc79b",
   "metadata": {
    "execution": {
     "iopub.status.busy": "2024-11-28T02:28:06.820161Z",
     "iopub.status.idle": "2024-11-28T02:28:06.820302Z",
     "shell.execute_reply": "2024-11-28T02:28:06.820234Z",
     "shell.execute_reply.started": "2024-11-28T02:28:06.820227Z"
    }
   },
   "outputs": [],
   "source": [
    "df_accident_weather_2019.plot.scatter('降水量の合計(mm)', '負傷者数')\n",
    "plt.show()"
   ]
  },
  {
   "cell_type": "code",
   "execution_count": null,
   "id": "41bfba6e-2a17-4633-8b51-60b35d1df0f2",
   "metadata": {
    "execution": {
     "iopub.status.busy": "2024-11-28T02:28:06.820710Z",
     "iopub.status.idle": "2024-11-28T02:28:06.820856Z",
     "shell.execute_reply": "2024-11-28T02:28:06.820782Z",
     "shell.execute_reply.started": "2024-11-28T02:28:06.820775Z"
    }
   },
   "outputs": [],
   "source": [
    "df_accident_weather_2019[['降雪量合計(cm)', '最深積雪(cm)', '降水量の合計(mm)', '負傷者数']].corr()"
   ]
  },
  {
   "cell_type": "markdown",
   "id": "56000e38-5a9f-4115-868b-bb063a338539",
   "metadata": {},
   "source": [
    "#### 3-c) 冬季データへの絞り込み"
   ]
  },
  {
   "cell_type": "code",
   "execution_count": null,
   "id": "223412ea-58da-4354-8561-0d8558437842",
   "metadata": {
    "execution": {
     "iopub.status.busy": "2024-11-28T02:28:06.821265Z",
     "iopub.status.idle": "2024-11-28T02:28:06.821408Z",
     "shell.execute_reply": "2024-11-28T02:28:06.821338Z",
     "shell.execute_reply.started": "2024-11-28T02:28:06.821331Z"
    },
    "tags": []
   },
   "outputs": [],
   "source": [
    "df_accident_weather_winter = df_accident_weather_2019[(df_accident_weather_2019['年月日'] < datetime(2019,5,1)) | (df_accident_weather_2019['年月日'] >= datetime(2019,12,1)) ]\n",
    "df_accident_weather_winter"
   ]
  },
  {
   "cell_type": "code",
   "execution_count": null,
   "id": "be10970c-0de1-4083-8a81-fc897cbf2706",
   "metadata": {
    "execution": {
     "iopub.status.busy": "2024-11-28T02:28:06.821833Z",
     "iopub.status.idle": "2024-11-28T02:28:06.821970Z",
     "shell.execute_reply": "2024-11-28T02:28:06.821905Z",
     "shell.execute_reply.started": "2024-11-28T02:28:06.821899Z"
    }
   },
   "outputs": [],
   "source": [
    "df_accident_weather_winter.plot.scatter('降雪量合計(cm)', '負傷者数')\n",
    "plt.show()"
   ]
  },
  {
   "cell_type": "code",
   "execution_count": null,
   "id": "97f2b4ec-28c8-4ba3-bb37-0c2ad21b16d9",
   "metadata": {
    "execution": {
     "iopub.status.busy": "2024-11-28T02:28:06.822583Z",
     "iopub.status.idle": "2024-11-28T02:28:06.822803Z",
     "shell.execute_reply": "2024-11-28T02:28:06.822655Z",
     "shell.execute_reply.started": "2024-11-28T02:28:06.822648Z"
    }
   },
   "outputs": [],
   "source": [
    "df_accident_weather_winter[['降雪量合計(cm)', '最深積雪(cm)', '降水量の合計(mm)', '負傷者数']].corr()"
   ]
  },
  {
   "cell_type": "markdown",
   "id": "210318ca-a33e-4a7e-8a61-e2f50bdbdaeb",
   "metadata": {},
   "source": [
    "#### 3-c) 降雪がある時の統計量の確認"
   ]
  },
  {
   "cell_type": "code",
   "execution_count": null,
   "id": "23d8df1d-a032-4a65-a99d-8822b1de53a9",
   "metadata": {
    "execution": {
     "iopub.status.busy": "2024-11-28T02:28:06.823257Z",
     "iopub.status.idle": "2024-11-28T02:28:06.823395Z",
     "shell.execute_reply": "2024-11-28T02:28:06.823329Z",
     "shell.execute_reply.started": "2024-11-28T02:28:06.823322Z"
    }
   },
   "outputs": [],
   "source": [
    "df_accident_weather_nosnow = df_accident_weather_winter[df_accident_weather_winter['降雪量合計(cm)'] == 0]['負傷者数']\n",
    "df_accident_weather_nosnow.describe()"
   ]
  },
  {
   "cell_type": "markdown",
   "id": "1a168184-e231-4caf-8fb1-64e727ee2be7",
   "metadata": {},
   "source": [
    "#### 3-d) 降雪がある時の統計量の確認"
   ]
  },
  {
   "cell_type": "code",
   "execution_count": null,
   "id": "06c30cbe-faf4-4cd6-9886-a9087b4e746f",
   "metadata": {
    "execution": {
     "iopub.status.busy": "2024-11-28T02:28:06.823780Z",
     "iopub.status.idle": "2024-11-28T02:28:06.823924Z",
     "shell.execute_reply": "2024-11-28T02:28:06.823854Z",
     "shell.execute_reply.started": "2024-11-28T02:28:06.823847Z"
    }
   },
   "outputs": [],
   "source": [
    "df_accident_weather_snow = df_accident_weather_winter[df_accident_weather_winter['降雪量合計(cm)'] > 0]['負傷者数']\n",
    "df_accident_weather_snow.describe()"
   ]
  },
  {
   "cell_type": "code",
   "execution_count": null,
   "id": "919f5f97-102f-4e8d-ac06-b4a37d13007e",
   "metadata": {},
   "outputs": [],
   "source": []
  }
 ],
 "metadata": {
  "kernelspec": {
   "display_name": "Python 3 (ipykernel)",
   "language": "python",
   "name": "python3"
  },
  "language_info": {
   "codemirror_mode": {
    "name": "ipython",
    "version": 3
   },
   "file_extension": ".py",
   "mimetype": "text/x-python",
   "name": "python",
   "nbconvert_exporter": "python",
   "pygments_lexer": "ipython3",
   "version": "3.9.20"
  }
 },
 "nbformat": 4,
 "nbformat_minor": 5
}
