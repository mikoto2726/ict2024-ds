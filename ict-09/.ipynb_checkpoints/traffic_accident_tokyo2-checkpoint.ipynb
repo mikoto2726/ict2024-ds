{
 "cells": [
  {
   "cell_type": "markdown",
   "id": "6bf375d6-395c-4624-b4d0-794069715418",
   "metadata": {},
   "source": [
    "# データ・サイエンス\tデータ・サイエンス社会応用論 / ICT社会応用演習Ⅳ\n",
    "## 9-4. 交通事故統計情報の分析（東京都内毎時集計）"
   ]
  },
  {
   "cell_type": "markdown",
   "id": "d26c1fb7-d2af-4b8c-a272-15994e503167",
   "metadata": {},
   "source": [
    "### 1. 下準備\n",
    "#### 1-a) ライブラリのインポート"
   ]
  },
  {
   "cell_type": "code",
   "execution_count": null,
   "id": "1955c38f-abf8-4c0c-bbf1-9b8a949cf727",
   "metadata": {},
   "outputs": [],
   "source": [
    "import pandas as pd\n",
    "import matplotlib.pyplot as plt\n",
    "from datetime import datetime, timedelta\n",
    "import jpholiday\n",
    "import japanize_matplotlib"
   ]
  },
  {
   "cell_type": "markdown",
   "id": "40caf2c9-cfdd-45d1-8d18-a00c45759413",
   "metadata": {
    "tags": []
   },
   "source": [
    "#### 1-b) 交通事故統計情報の読み込み"
   ]
  },
  {
   "cell_type": "code",
   "execution_count": null,
   "id": "c23c56a9-71ce-4b62-86ed-25c0f251ca37",
   "metadata": {},
   "outputs": [],
   "source": [
    "df_accident1 = pd.read_csv('data/accident/honhyo_2019.csv', encoding='SHIFT-JIS')\n",
    "df_accident2 = pd.read_csv('data/accident/honhyo_2020.csv', encoding='SHIFT-JIS')\n",
    "df_accident3 = pd.read_csv('data/accident/honhyo_2021.csv', encoding='SHIFT-JIS')\n",
    "df_accident = pd.concat([df_accident1, df_accident2, df_accident3])\n",
    "df_accident['年月日時'] = pd.to_datetime({\n",
    "    'year' : df_accident['発生日時　　年'], 'month' : df_accident['発生日時　　月'], \n",
    "    'day' : df_accident['発生日時　　日'], 'hour' : df_accident['発生日時　　時']\n",
    "})\n",
    "df_accident"
   ]
  },
  {
   "cell_type": "markdown",
   "id": "1e489276-b126-4401-8983-d5f2d06c9e0c",
   "metadata": {},
   "source": [
    "#### 1-c) 東京都内の2019年1月1日以降のデータの抽出"
   ]
  },
  {
   "cell_type": "code",
   "execution_count": null,
   "id": "c9ba709e-8cf5-4384-a893-52c9b5faee76",
   "metadata": {},
   "outputs": [],
   "source": [
    "df_accident_tokyo = df_accident[df_accident['都道府県コード'] == FILL_IN_HERE]\n",
    "df_accident_tokyo = df_accident_tokyo[df_accident_tokyo['年月日時'] >= datetime(2019, 1, 1)]\n",
    "df_accident_tokyo"
   ]
  },
  {
   "cell_type": "markdown",
   "id": "4972c1f6-8b53-498e-aa74-6c5eb6ebda84",
   "metadata": {},
   "source": [
    "#### 1-d) 日時毎の集計"
   ]
  },
  {
   "cell_type": "code",
   "execution_count": null,
   "id": "aa443b7d-f735-43bc-b7ed-49f1f20b1526",
   "metadata": {},
   "outputs": [],
   "source": [
    "df_accident_tokyo_hourly = df_accident_tokyo.groupby(['年月日時'], as_index=False)[['死者数', '負傷者数']].sum()\n",
    "df_accident_tokyo_hourly"
   ]
  },
  {
   "cell_type": "markdown",
   "id": "868b3aa6-262a-4476-9e69-7b128d88d112",
   "metadata": {},
   "source": [
    "#### 1-e) 気象データの読み込み"
   ]
  },
  {
   "cell_type": "code",
   "execution_count": null,
   "id": "d180316d-80eb-47c0-a2ca-b272d8805c26",
   "metadata": {},
   "outputs": [],
   "source": [
    "df_weather1 = pd.read_csv('data/weather/rain_tokyo_2019.csv', encoding='SHIFT-JIS', header=2)\n",
    "df_weather1 = df_weather1.drop([0,1]).reset_index(drop=True)\n",
    "\n",
    "df_weather2 = pd.read_csv('data/weather/rain_tokyo_2020.csv', encoding='SHIFT-JIS', header=2)\n",
    "df_weather2 = df_weather2.drop([0,1]).reset_index(drop=True)\n",
    "\n",
    "df_weather3 = pd.read_csv('data/weather/rain_tokyo_2021.csv', encoding='SHIFT-JIS', header=2)\n",
    "df_weather3 = df_weather3.drop([0,1]).reset_index(drop=True)\n",
    "\n",
    "df_weather = pd.concat([df_weather1, df_weather2, df_weather3])\n",
    "df_weather['年月日時'] = pd.to_datetime(df_weather['年月日時']) - timedelta(hours=1)\n",
    "df_weather"
   ]
  },
  {
   "cell_type": "markdown",
   "id": "4663c35f-d6f2-42dc-9a46-00395688cd16",
   "metadata": {},
   "source": [
    "#### 1-f) 事故データと天候データの結合"
   ]
  },
  {
   "cell_type": "code",
   "execution_count": null,
   "id": "6c8a4920-5ea3-45f0-a9ee-8c7617dc48d2",
   "metadata": {},
   "outputs": [],
   "source": [
    "df_accident_weather = pd.merge(df_accident_tokyo_hourly, df_weather, on='年月日時', how='right').fillna(0)\n",
    "df_accident_weather"
   ]
  },
  {
   "cell_type": "markdown",
   "id": "26816646-3b72-4487-bab9-db22f4557920",
   "metadata": {
    "tags": []
   },
   "source": [
    "#### 1-g) 曜日と祝日の追加"
   ]
  },
  {
   "cell_type": "code",
   "execution_count": null,
   "id": "d08c6ad0-a9d9-42d8-bbce-9055a4a5f8a8",
   "metadata": {},
   "outputs": [],
   "source": [
    "df_accident_weather['曜日'] = df_accident_weather['年月日時'].dt.weekday\n",
    "df_accident_weather['祝日'] = df_accident_weather['年月日時'].dt.date.map(jpholiday.is_holiday).astype(int)\n",
    "df_accident_weather['時'] = df_accident_weather['年月日時'].dt.hour\n",
    "df_accident_weather"
   ]
  },
  {
   "cell_type": "markdown",
   "id": "a422c0e9-3a6c-4dd4-973e-a7b395c32283",
   "metadata": {},
   "source": [
    "### 2. 気象データと組み合わせた分析\n",
    "#### 2-a) 平日と休日の分割"
   ]
  },
  {
   "cell_type": "code",
   "execution_count": null,
   "id": "d9dd6866-ec77-4637-8148-55fe73ba1e3b",
   "metadata": {},
   "outputs": [],
   "source": [
    "df_accident_weather_normal = df_accident_weather[(df_accident_weather['曜日'] < 5) & (df_accident_weather['祝日'] == False)]\n",
    "df_accident_weather_normal"
   ]
  },
  {
   "cell_type": "code",
   "execution_count": null,
   "id": "36853d59-1eb5-4777-ae1f-ae02017f07d5",
   "metadata": {},
   "outputs": [],
   "source": [
    "df_accident_weather_holiday = df_accident_weather[(df_accident_weather['曜日'] >= 5) | (df_accident_weather['祝日'] == True)]\n",
    "df_accident_weather_holiday"
   ]
  },
  {
   "cell_type": "markdown",
   "id": "b25961a0-e6b7-42f9-becd-a841be661ebd",
   "metadata": {},
   "source": [
    "#### 2-b) 平日の1時間あたりの負傷者数の分布"
   ]
  },
  {
   "cell_type": "code",
   "execution_count": null,
   "id": "06c30cbe-faf4-4cd6-9886-a9087b4e746f",
   "metadata": {},
   "outputs": [],
   "source": [
    "df_accident_weather_normal_rain = df_accident_weather_normal[df_accident_weather_normal['降水量(mm)'] > 0]\n",
    "df_accident_weather_normal_norain = df_accident_weather_normal[df_accident_weather_normal['降水量(mm)'] == 0]"
   ]
  },
  {
   "cell_type": "code",
   "execution_count": null,
   "id": "5cdc9490-2728-4fb6-8d93-a4230692c739",
   "metadata": {},
   "outputs": [],
   "source": [
    "rain = df_accident_weather_normal_rain.groupby('時')['負傷者数'].mean()\n",
    "norain = df_accident_weather_normal_norain.groupby('時')['負傷者数'].mean()\n",
    "\n",
    "df_accident_weather_normal_average = pd.DataFrame({ '雨天' : rain, '雨以外' : norain })\n",
    "df_accident_weather_normal_average.plot(figsize=(10, 4))\n",
    "plt.show()"
   ]
  },
  {
   "cell_type": "markdown",
   "id": "87baea6b-db43-4092-8e2c-767ff74c1dad",
   "metadata": {},
   "source": [
    "#### 2-c) 休日の1時間あたりの負傷者数の分布"
   ]
  },
  {
   "cell_type": "code",
   "execution_count": null,
   "id": "da4ebc25-c2fe-4e4f-b91b-725b5444e49a",
   "metadata": {},
   "outputs": [],
   "source": [
    "df_accident_weather_holiday_norain = df_accident_weather_holiday[df_accident_weather_holiday['降水量(mm)'] == 0]\n",
    "df_accident_weather_holiday_rain = df_accident_weather_holiday[df_accident_weather_holiday['降水量(mm)'] > 0]"
   ]
  },
  {
   "cell_type": "code",
   "execution_count": null,
   "id": "c9b9a113-2c9e-468f-8127-655ff5262b84",
   "metadata": {},
   "outputs": [],
   "source": [
    "rain = df_accident_weather_holiday_rain.groupby('時')['負傷者数'].mean()\n",
    "norain = df_accident_weather_holiday_norain.groupby('時')['負傷者数'].mean()\n",
    "\n",
    "df_accident_weather_holiday_average = pd.DataFrame({ '雨天' : rain, '雨以外' : norain })\n",
    "df_accident_weather_holiday_average.plot(figsize=(10, 4))\n",
    "plt.show()"
   ]
  },
  {
   "cell_type": "code",
   "execution_count": null,
   "id": "60191c76-0440-423e-8170-81f754ee6217",
   "metadata": {},
   "outputs": [],
   "source": []
  }
 ],
 "metadata": {
  "kernelspec": {
   "display_name": "Python 3 (ipykernel)",
   "language": "python",
   "name": "python3"
  },
  "language_info": {
   "codemirror_mode": {
    "name": "ipython",
    "version": 3
   },
   "file_extension": ".py",
   "mimetype": "text/x-python",
   "name": "python",
   "nbconvert_exporter": "python",
   "pygments_lexer": "ipython3",
   "version": "3.9.20"
  }
 },
 "nbformat": 4,
 "nbformat_minor": 5
}
