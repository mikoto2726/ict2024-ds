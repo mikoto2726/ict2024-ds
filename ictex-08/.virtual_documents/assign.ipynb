#Cell_1.
import re
import os


import requests
from bs4 import BeautifulSoup

# スクレイピング対象のURL
url = "https://webscraper.io/test-sites"

# ページのHTMLを取得
response = requests.get(url)
soup = BeautifulSoup(response.text, 'html.parser')

# 情報の抽出
sites = soup.find_all('div', class_='test-site')
results = []

for site in sites:
    title = site.find('h2').text.strip()
    description = site.find('p').text.strip()
    link = site.find('a')['href']
    full_link = "https://webscraper.io" + link  # フルURLに変換
    results.append({
        'Title': title,
        'Description': description,
        'Link': full_link
    })

# 結果の出力
for result in results:
    print(f"Title: {result['Title']}")
    print(f"Description: {result['Description']}")
    print(f"Link: {result['Link']}")
    print('-' * 50)

