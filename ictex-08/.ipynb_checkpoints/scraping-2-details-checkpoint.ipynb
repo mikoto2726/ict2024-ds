{
 "cells": [
  {
   "cell_type": "code",
   "execution_count": 9,
   "id": "709762c3-6f06-4303-9e69-16892e6ca028",
   "metadata": {},
   "outputs": [
    {
     "name": "stdout",
     "output_type": "stream",
     "text": [
      "Albert Einstein\n",
      "J.K. Rowling\n",
      "Albert Einstein\n",
      "Jane Austen\n",
      "Marilyn Monroe\n",
      "Albert Einstein\n",
      "André Gide\n",
      "Thomas A. Edison\n",
      "Eleanor Roosevelt\n",
      "Steve Martin\n"
     ]
    }
   ],
   "source": [
    "#Cell_1.\n",
    "import requests\n",
    "import bs4 #import BeautifulSoup\n",
    "base_url = 'http://quotes.toscrape.com/'\n",
    "result = requests.get('http://quotes.toscrape.com/')\n",
    "\n",
    "soup = bs4.BeautifulSoup(result.text,'html.parser')\n",
    "\n",
    "\n",
    "soup.select('.author')\n",
    "\n",
    "for author in soup.select('.author'):\n",
    "    print(author.text)"
   ]
  },
  {
   "cell_type": "code",
   "execution_count": 2,
   "id": "d9097da0-064d-4773-bd74-7e8395d4e515",
   "metadata": {},
   "outputs": [],
   "source": [
    "#Cell_2.\n",
    "authors = set()\n",
    "\n",
    "for author in soup.select('.author'):\n",
    "    authors.add(author.text)"
   ]
  },
  {
   "cell_type": "code",
   "execution_count": 3,
   "id": "bf40e6f7-1645-4178-988a-2a6c8cb10529",
   "metadata": {},
   "outputs": [
    {
     "name": "stdout",
     "output_type": "stream",
     "text": [
      "{'Thomas A. Edison', 'André Gide', 'Jane Austen', 'Marilyn Monroe', 'Steve Martin', 'Albert Einstein', 'Eleanor Roosevelt', 'J.K. Rowling'}\n"
     ]
    }
   ],
   "source": [
    "#Cell_3.\n",
    "print(authors)"
   ]
  },
  {
   "cell_type": "code",
   "execution_count": 4,
   "id": "7fa1cb90-2c13-468b-be77-51be0b08d96f",
   "metadata": {},
   "outputs": [
    {
     "name": "stdout",
     "output_type": "stream",
     "text": [
      "<class 'set'>\n"
     ]
    }
   ],
   "source": [
    "#Cell_4.\n",
    "print(type(authors))"
   ]
  },
  {
   "cell_type": "code",
   "execution_count": 5,
   "id": "ba1af38c-f505-4af8-ba55-ac5447237f99",
   "metadata": {},
   "outputs": [],
   "source": [
    "#Cell_5.\n",
    "quotes = []\n",
    "\n",
    "for quote in soup.select('.text'):\n",
    "    quotes.append(quote.text)"
   ]
  },
  {
   "cell_type": "code",
   "execution_count": 6,
   "id": "0cdbf768-c73c-450f-9d0b-c7ff00558b89",
   "metadata": {},
   "outputs": [
    {
     "name": "stdout",
     "output_type": "stream",
     "text": [
      "['“The world as we have created it is a process of our thinking. It cannot be changed without changing our thinking.”', '“It is our choices, Harry, that show what we truly are, far more than our abilities.”', '“There are only two ways to live your life. One is as though nothing is a miracle. The other is as though everything is a miracle.”', '“The person, be it gentleman or lady, who has not pleasure in a good novel, must be intolerably stupid.”', \"“Imperfection is beauty, madness is genius and it's better to be absolutely ridiculous than absolutely boring.”\", '“Try not to become a man of success. Rather become a man of value.”', '“It is better to be hated for what you are than to be loved for what you are not.”', \"“I have not failed. I've just found 10,000 ways that won't work.”\", \"“A woman is like a tea bag; you never know how strong it is until it's in hot water.”\", '“A day without sunshine is like, you know, night.”']\n"
     ]
    }
   ],
   "source": [
    "#Cell_6.\n",
    "print(quotes)"
   ]
  },
  {
   "cell_type": "code",
   "execution_count": 7,
   "id": "615a0cd6-63a1-4272-8043-ae62d5781bf5",
   "metadata": {},
   "outputs": [
    {
     "data": {
      "text/plain": [
       "[<span class=\"tag-item\">\n",
       " <a class=\"tag\" href=\"/tag/love/\" style=\"font-size: 28px\">love</a>\n",
       " </span>,\n",
       " <span class=\"tag-item\">\n",
       " <a class=\"tag\" href=\"/tag/inspirational/\" style=\"font-size: 26px\">inspirational</a>\n",
       " </span>,\n",
       " <span class=\"tag-item\">\n",
       " <a class=\"tag\" href=\"/tag/life/\" style=\"font-size: 26px\">life</a>\n",
       " </span>,\n",
       " <span class=\"tag-item\">\n",
       " <a class=\"tag\" href=\"/tag/humor/\" style=\"font-size: 24px\">humor</a>\n",
       " </span>,\n",
       " <span class=\"tag-item\">\n",
       " <a class=\"tag\" href=\"/tag/books/\" style=\"font-size: 22px\">books</a>\n",
       " </span>,\n",
       " <span class=\"tag-item\">\n",
       " <a class=\"tag\" href=\"/tag/reading/\" style=\"font-size: 14px\">reading</a>\n",
       " </span>,\n",
       " <span class=\"tag-item\">\n",
       " <a class=\"tag\" href=\"/tag/friendship/\" style=\"font-size: 10px\">friendship</a>\n",
       " </span>,\n",
       " <span class=\"tag-item\">\n",
       " <a class=\"tag\" href=\"/tag/friends/\" style=\"font-size: 8px\">friends</a>\n",
       " </span>,\n",
       " <span class=\"tag-item\">\n",
       " <a class=\"tag\" href=\"/tag/truth/\" style=\"font-size: 8px\">truth</a>\n",
       " </span>,\n",
       " <span class=\"tag-item\">\n",
       " <a class=\"tag\" href=\"/tag/simile/\" style=\"font-size: 6px\">simile</a>\n",
       " </span>]"
      ]
     },
     "execution_count": 7,
     "metadata": {},
     "output_type": "execute_result"
    }
   ],
   "source": [
    "#Cell_7.\n",
    "    soup.select('.tag-item')"
   ]
  },
  {
   "cell_type": "code",
   "execution_count": 14,
   "id": "e05eb256-4486-431b-a226-2b845f8aa8d3",
   "metadata": {},
   "outputs": [
    {
     "name": "stdout",
     "output_type": "stream",
     "text": [
      "\n",
      "love\n",
      "\n",
      "\n",
      "inspirational\n",
      "\n",
      "\n",
      "life\n",
      "\n",
      "\n",
      "humor\n",
      "\n",
      "\n",
      "books\n",
      "\n",
      "\n",
      "reading\n",
      "\n",
      "\n",
      "friendship\n",
      "\n",
      "\n",
      "friends\n",
      "\n",
      "\n",
      "truth\n",
      "\n",
      "\n",
      "simile\n",
      "\n"
     ]
    }
   ],
   "source": [
    "#Cell_8.\n",
    "for tag in soup.select('.tag-item'):\n",
    "    print(tag.text)"
   ]
  },
  {
   "cell_type": "code",
   "execution_count": 15,
   "id": "6e5073fb-0547-4cba-8018-1b04d6ba416f",
   "metadata": {},
   "outputs": [],
   "source": [
    "#Cell_9.\n",
    "base_url = 'http://quotes.toscrape.com/page/'"
   ]
  },
  {
   "cell_type": "code",
   "execution_count": 19,
   "id": "54946860-cf99-4dac-8b70-b53793e5f1cd",
   "metadata": {},
   "outputs": [],
   "source": [
    "#Cell_10.\n",
    "authors = set()\n",
    "\n",
    "for i in range (1,11):\n",
    "    scrape_url = base_url + str(i)\n",
    "    result = requests.get(scrape_url)\n",
    "    soup = bs4.BeautifulSoup(result.text,'html.parser')\n",
    "\n",
    "    for author in soup.select('.author'):\n",
    "        authors.add(author.text)"
   ]
  },
  {
   "cell_type": "code",
   "execution_count": 8,
   "id": "62733d33-de31-48d9-a6c7-87ef565f6c3f",
   "metadata": {},
   "outputs": [
    {
     "name": "stdout",
     "output_type": "stream",
     "text": [
      "{'Thomas A. Edison', 'André Gide', 'Jane Austen', 'Marilyn Monroe', 'Steve Martin', 'Albert Einstein', 'Eleanor Roosevelt', 'J.K. Rowling'}\n"
     ]
    }
   ],
   "source": [
    "#Cell_11.\n",
    "print(authors)"
   ]
  },
  {
   "cell_type": "code",
   "execution_count": 10,
   "id": "97c9c0a1-4d6b-47e6-8c0a-33cb2e60fc39",
   "metadata": {},
   "outputs": [
    {
     "data": {
      "text/plain": [
       "<!DOCTYPE html>\n",
       "\n",
       "<html lang=\"en\">\n",
       "<title>404 Not Found</title>\n",
       "<h1>Not Found</h1>\n",
       "<p>The requested URL was not found on the server. If you entered the URL manually please check your spelling and try again.</p>\n",
       "</html>"
      ]
     },
     "execution_count": 10,
     "metadata": {},
     "output_type": "execute_result"
    }
   ],
   "source": [
    "#Cell_12.\n",
    "scrape_url = base_url + str(999999)\n",
    "result = requests.get(scrape_url)\n",
    "soup = bs4.BeautifulSoup(result.text,'html.parser')\n",
    "\n",
    "soup"
   ]
  },
  {
   "cell_type": "code",
   "execution_count": 11,
   "id": "fa349a0b-ed24-4ef9-a13f-09f1bff6ffbc",
   "metadata": {},
   "outputs": [
    {
     "name": "stdout",
     "output_type": "stream",
     "text": [
      "1\n",
      "2\n",
      "3\n",
      "4\n",
      "5\n",
      "6\n",
      "7\n",
      "8\n",
      "9\n",
      "10\n",
      "11\n"
     ]
    }
   ],
   "source": [
    "#Cell_13.\n",
    "page_valid = True\n",
    "page = 1\n",
    "authors = set()\n",
    "base_url = 'http://quotes.toscrape.com/page/'\n",
    "\n",
    "while page_valid:\n",
    "    print(page)\n",
    "    scrape_url = base_url + str(page)\n",
    "    result = requests.get(scrape_url)\n",
    "\n",
    "    if 'No quotes found!' in result.text:\n",
    "        break\n",
    "\n",
    "    soup = bs4.BeautifulSoup(result.text,'html.parser')\n",
    "\n",
    "    for author in soup.select('.author'):\n",
    "        authors.add(author.text)\n",
    "\n",
    "    page +=1"
   ]
  },
  {
   "cell_type": "code",
   "execution_count": 12,
   "id": "82b8b70a-fbfc-4e00-ae34-087184dff746",
   "metadata": {},
   "outputs": [
    {
     "name": "stdout",
     "output_type": "stream",
     "text": [
      "{'Pablo Neruda', 'Thomas A. Edison', 'Mother Teresa', 'Martin Luther King Jr.', 'Haruki Murakami', 'Helen Keller', 'E.E. Cummings', \"Madeleine L'Engle\", 'George Eliot', 'Jimi Hendrix', 'Suzanne Collins', 'William Nicholson', 'John Lennon', 'J.K. Rowling', 'W.C. Fields', 'George R.R. Martin', 'C.S. Lewis', 'Bob Marley', 'James Baldwin', 'J.D. Salinger', 'Garrison Keillor', 'Terry Pratchett', 'Ayn Rand', 'Eleanor Roosevelt', 'Khaled Hosseini', 'Harper Lee', 'J.R.R. Tolkien', 'Jorge Luis Borges', 'Friedrich Nietzsche', 'André Gide', 'Jane Austen', 'Marilyn Monroe', 'Dr. Seuss', 'Elie Wiesel', 'Charles Bukowski', 'Douglas Adams', 'Mark Twain', 'Jim Henson', 'Alfred Tennyson', 'Ernest Hemingway', 'Ralph Waldo Emerson', 'Stephenie Meyer', 'George Bernard Shaw', 'J.M. Barrie', 'Alexandre Dumas fils', 'Steve Martin', 'George Carlin', 'Allen Saunders', 'Charles M. Schulz', 'Albert Einstein'}\n"
     ]
    }
   ],
   "source": [
    "#Cell_14.\n",
    "print(authors)"
   ]
  }
 ],
 "metadata": {
  "kernelspec": {
   "display_name": "Python 3 (ipykernel)",
   "language": "python",
   "name": "python3"
  },
  "language_info": {
   "codemirror_mode": {
    "name": "ipython",
    "version": 3
   },
   "file_extension": ".py",
   "mimetype": "text/x-python",
   "name": "python",
   "nbconvert_exporter": "python",
   "pygments_lexer": "ipython3",
   "version": "3.9.15"
  }
 },
 "nbformat": 4,
 "nbformat_minor": 5
}
