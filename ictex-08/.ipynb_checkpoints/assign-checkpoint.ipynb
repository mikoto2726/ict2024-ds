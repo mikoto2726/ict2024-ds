{
 "cells": [
  {
   "cell_type": "code",
   "execution_count": 5,
   "id": "6a8a0b88-7f23-428b-8e40-a6c6dc1a1246",
   "metadata": {
    "execution": {
     "iopub.execute_input": "2024-11-27T08:50:01.941634Z",
     "iopub.status.busy": "2024-11-27T08:50:01.941213Z",
     "iopub.status.idle": "2024-11-27T08:50:01.946206Z",
     "shell.execute_reply": "2024-11-27T08:50:01.945309Z",
     "shell.execute_reply.started": "2024-11-27T08:50:01.941605Z"
    }
   },
   "outputs": [],
   "source": [
    "#Cell_1.\n",
    "import re\n",
    "import os"
   ]
  },
  {
   "cell_type": "code",
   "execution_count": 6,
   "id": "fbaf3456-9e2e-4698-ae92-49cd54f21155",
   "metadata": {
    "execution": {
     "iopub.execute_input": "2024-11-27T08:50:02.307303Z",
     "iopub.status.busy": "2024-11-27T08:50:02.306919Z",
     "iopub.status.idle": "2024-11-27T08:50:02.512908Z",
     "shell.execute_reply": "2024-11-27T08:50:02.511700Z",
     "shell.execute_reply.started": "2024-11-27T08:50:02.307273Z"
    }
   },
   "outputs": [
    {
     "name": "stdout",
     "output_type": "stream",
     "text": [
      "Title: E-commerce site\n",
      "Description: E-commerce site with multiple categories, subcategories.\n",
      "\t\t\t\t\tAll items are loaded in one page.\n",
      "Link: https://webscraper.io/test-sites/e-commerce/allinone\n",
      "--------------------------------------------------\n",
      "Title: E-commerce site with pagination links\n",
      "Description: E-commerce site with multiple categories, subcategories.\n",
      "\t\t\t\t\tStandard links are used for pagination.\n",
      "Link: https://webscraper.io/test-sites/e-commerce/static\n",
      "--------------------------------------------------\n",
      "Title: E-commerce site with AJAX pagination links\n",
      "Description: E-commerce site with multiple categories, subcategories.\n",
      "\t\t\t\t\tDynamic links that use data without reloading the page for\n",
      "\t\t\t\t\tpagination.\n",
      "Link: https://webscraper.io/test-sites/e-commerce/ajax\n",
      "--------------------------------------------------\n",
      "Title: E-commerce site with \"Load more\" buttons\n",
      "Description: E-commerce site with multiple categories, subcategories.\n",
      "\t\t\t\t\tInstead of using pagination this site uses a \"Load more\"\n",
      "\t\t\t\t\tbutton to load more items.\n",
      "Link: https://webscraper.io/test-sites/e-commerce/more\n",
      "--------------------------------------------------\n",
      "Title: E-commerce site that loads items while scrolling\n",
      "Description: E-commerce site with multiple categories, subcategories.\n",
      "\t\t\t\t\tInstead of using pagination this site loads items when user\n",
      "\t\t\t\t\tscrolls the page down.\n",
      "Link: https://webscraper.io/test-sites/e-commerce/scroll\n",
      "--------------------------------------------------\n",
      "Title: Table playground\n",
      "Description: This page contains multiple tables. You can train using Table\n",
      "\t\t\t\t\tselector here.\n",
      "Link: https://webscraper.io/test-sites/tables\n",
      "--------------------------------------------------\n"
     ]
    }
   ],
   "source": [
    "import requests\n",
    "from bs4 import BeautifulSoup\n",
    "\n",
    "# スクレイピング対象のURL\n",
    "url = \"https://webscraper.io/test-sites\"\n",
    "\n",
    "# ページのHTMLを取得\n",
    "response = requests.get(url)\n",
    "soup = BeautifulSoup(response.text, 'html.parser')\n",
    "\n",
    "# 情報の抽出\n",
    "sites = soup.find_all('div', class_='test-site')\n",
    "results = []\n",
    "\n",
    "for site in sites:\n",
    "    title = site.find('h2').text.strip()\n",
    "    description = site.find('p').text.strip()\n",
    "    link = site.find('a')['href']\n",
    "    full_link = \"https://webscraper.io\" + link  # フルURLに変換\n",
    "    results.append({\n",
    "        'Title': title,\n",
    "        'Description': description,\n",
    "        'Link': full_link\n",
    "    })\n",
    "\n",
    "# 結果の出力\n",
    "for result in results:\n",
    "    print(f\"Title: {result['Title']}\")\n",
    "    print(f\"Description: {result['Description']}\")\n",
    "    print(f\"Link: {result['Link']}\")\n",
    "    print('-' * 50)\n"
   ]
  }
 ],
 "metadata": {
  "kernelspec": {
   "display_name": "Python 3 (ipykernel)",
   "language": "python",
   "name": "python3"
  },
  "language_info": {
   "codemirror_mode": {
    "name": "ipython",
    "version": 3
   },
   "file_extension": ".py",
   "mimetype": "text/x-python",
   "name": "python",
   "nbconvert_exporter": "python",
   "pygments_lexer": "ipython3",
   "version": "3.8.18"
  }
 },
 "nbformat": 4,
 "nbformat_minor": 5
}
