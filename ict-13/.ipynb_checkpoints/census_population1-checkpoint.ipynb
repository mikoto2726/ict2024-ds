{
 "cells": [
  {
   "attachments": {},
   "cell_type": "markdown",
   "id": "f3094d63-83cf-4ffa-a64a-a5e330090c35",
   "metadata": {},
   "source": [
    "# データ・サイエンス\tデータ・サイエンス社会応用論 / ICT社会応用演習Ⅳ\n",
    "## 13-3. 基礎自治体の人口の確認"
   ]
  },
  {
   "cell_type": "markdown",
   "id": "8510cad2-e59c-46a0-a806-8ac10886f36f",
   "metadata": {},
   "source": [
    "### 1. e-Stat のデータの読み込み\n",
    "#### 1-a) 下準備"
   ]
  },
  {
   "cell_type": "code",
   "execution_count": null,
   "id": "b60cf32b-718c-4560-99e0-3bfe1e3ab7b0",
   "metadata": {},
   "outputs": [],
   "source": [
    "import pandas as pd\n",
    "import geopandas as gpd\n",
    "from shapely.geometry import Polygon\n",
    "import japanize_matplotlib"
   ]
  },
  {
   "cell_type": "code",
   "execution_count": null,
   "id": "8a9f5467-5af2-4336-bed6-96a45c4c9d70",
   "metadata": {},
   "outputs": [],
   "source": [
    "CENSUS_POPULATION_PATH = 'data/FEH_00200521_250109003235.csv'\n",
    "LG_CODE_PATH = 'data/000925835.xlsx'\n",
    "TOKYO_ADMIN_PATH = 'data/shape/N03-20240101_13.geojson'"
   ]
  },
  {
   "cell_type": "markdown",
   "id": "f1a6e214-2a34-48b4-836d-41e4af756386",
   "metadata": {},
   "source": [
    "#### 1-b) DataFrameへの読み込み"
   ]
  },
  {
   "cell_type": "code",
   "execution_count": null,
   "id": "c150c7a9-42f4-4965-922d-26a2816355b8",
   "metadata": {},
   "outputs": [],
   "source": [
    "df_population = pd.read_csv(CENSUS_POPULATION_PATH, encoding='shift-jis', skiprows=14)\n",
    "df_population"
   ]
  },
  {
   "cell_type": "markdown",
   "id": "5324af90-5c59-46f9-b22f-572b9e21ba34",
   "metadata": {},
   "source": [
    "#### 1-c) DataFrameの下処理"
   ]
  },
  {
   "cell_type": "code",
   "execution_count": null,
   "id": "18d0505e-19aa-466b-a7a4-5f51d44d325f",
   "metadata": {},
   "outputs": [],
   "source": [
    "df_population = df_population.rename(columns={\n",
    "    '全国，都道府県，市区町村（2000年市区町村含む） コード': 'code',\n",
    "    '全国，都道府県，市区町村（2000年市区町村含む）': 'name',\n",
    "    '総数': 'total',\n",
    "    '男': 'male',\n",
    "    '女': 'female'\n",
    "})\n",
    "df_population['total'] = df_population['total'].apply(pd.to_numeric, errors='coerce')\n",
    "df_population['male'] = df_population['male'].apply(pd.to_numeric, errors='coerce')\n",
    "df_population['female'] = df_population['female'].apply(pd.to_numeric, errors='coerce')\n",
    "df_population['ratio'] = df_population['male'] / df_population['female']\n",
    "df_population = df_population[['code', 'name', 'total', 'male', 'female', 'ratio']]\n",
    "df_population "
   ]
  },
  {
   "cell_type": "markdown",
   "id": "150cb92f-a5b3-4413-9ab1-e4fe856073d7",
   "metadata": {},
   "source": [
    "### 2. 地方公共団体コードの読み込み\n",
    "#### 2-a) DataFrameへの読み込み"
   ]
  },
  {
   "cell_type": "code",
   "execution_count": null,
   "id": "16960127-8c69-4371-96c4-6f70ea07c451",
   "metadata": {},
   "outputs": [],
   "source": [
    "df_lg = pd.read_excel(LG_CODE_PATH, dtype=str)\n",
    "df_lg"
   ]
  },
  {
   "cell_type": "markdown",
   "id": "4d7e42a5-0b54-4cc4-b602-aa464462e76a",
   "metadata": {},
   "source": [
    "#### 2-b) DataFrameの下処理"
   ]
  },
  {
   "cell_type": "code",
   "execution_count": null,
   "id": "23c2361e-913a-47a9-ab6d-2ee83ed291fd",
   "metadata": {},
   "outputs": [],
   "source": [
    "df_lg = df_lg.rename(columns = {\n",
    "    '団体コード': 'code',\n",
    "    '都道府県名\\n（漢字）': 'prefecture',\n",
    "    '市区町村名\\n（漢字）': 'city'\n",
    "})\n",
    "df_lg = df_lg[['code', 'prefecture', 'city']]\n",
    "df_lg"
   ]
  },
  {
   "cell_type": "code",
   "execution_count": null,
   "id": "b7de76d3-ef68-43bd-9459-06d53508ad76",
   "metadata": {},
   "outputs": [],
   "source": [
    "df_lg['code'] = df_lg['code'].apply(lambda x: x[:5])\n",
    "df_lg = df_lg[~df_lg['code'].str.endswith('000')]\n",
    "df_lg"
   ]
  },
  {
   "cell_type": "markdown",
   "id": "f8f10098-3a46-4258-b90f-f92e61ddc967",
   "metadata": {},
   "source": [
    "### 3. 国勢調査のデータと基礎自治体データの結合\n",
    "#### 3-a) DataFrameの結合"
   ]
  },
  {
   "cell_type": "code",
   "execution_count": null,
   "id": "a9baf9d4-2906-467d-bc4e-b77f7a678dfd",
   "metadata": {},
   "outputs": [],
   "source": [
    "df_lg_population = df_population.merge(df_lg, how='inner')\n",
    "df_lg_population"
   ]
  },
  {
   "cell_type": "markdown",
   "id": "9e845c40-ceb9-4838-aba7-6d5f50b9a50e",
   "metadata": {},
   "source": [
    "#### 3-b) データの確認"
   ]
  },
  {
   "cell_type": "code",
   "execution_count": null,
   "id": "66dbb961-f6c3-4a55-b1b5-e416065b7267",
   "metadata": {},
   "outputs": [],
   "source": [
    "df_lg_population.sort_values('total', ascending=False)"
   ]
  },
  {
   "cell_type": "code",
   "execution_count": null,
   "id": "07545f71-e993-42f5-807d-1d30105316d5",
   "metadata": {},
   "outputs": [],
   "source": [
    "df_lg_population.sort_values('ratio', ascending=False)"
   ]
  },
  {
   "cell_type": "markdown",
   "id": "4595109b-0971-48a5-b63f-9c13b96159e4",
   "metadata": {},
   "source": [
    "### 4. コロプレス図の作成\n",
    "#### 4-a) 行政区域データの読み込み"
   ]
  },
  {
   "cell_type": "code",
   "execution_count": null,
   "id": "8f590a0f-c27c-480a-b86d-ea702d31f5df",
   "metadata": {},
   "outputs": [],
   "source": [
    "gdf_tokyo_admin = gpd.read_file(TOKYO_ADMIN_PATH)\n",
    "gdf_tokyo_admin"
   ]
  },
  {
   "cell_type": "markdown",
   "id": "e851060e-149b-4f6a-a2da-338bbbaf6ed8",
   "metadata": {},
   "source": [
    "#### 4-b) 地方公共団体コードでグルーピング"
   ]
  },
  {
   "cell_type": "code",
   "execution_count": null,
   "id": "4ada1f82-8e23-4eb8-a349-c16b094bf228",
   "metadata": {},
   "outputs": [],
   "source": [
    "gdf_tokyo_admin_grouped = gdf_tokyo_admin.dissolve(by='N03_007')\n",
    "gdf_tokyo_admin_grouped = gdf_tokyo_admin_grouped.reset_index()\n",
    "gdf_tokyo_admin_grouped"
   ]
  },
  {
   "cell_type": "markdown",
   "id": "7bc251e0-c75c-454c-8ece-960e8d7fe43b",
   "metadata": {},
   "source": [
    "#### 4-c) 国勢調査のDataFrameを結合"
   ]
  },
  {
   "cell_type": "code",
   "execution_count": null,
   "id": "1592029b-1beb-4d7c-a7f8-c6bdf4375669",
   "metadata": {},
   "outputs": [],
   "source": [
    "gdf_tokyo_population = gdf_tokyo_admin_grouped.merge(df_population, left_on='N03_007', right_on='code')\n",
    "gdf_tokyo_population"
   ]
  },
  {
   "attachments": {},
   "cell_type": "markdown",
   "id": "3c007d26-1f36-4dd5-b36d-705cd9be5ef3",
   "metadata": {},
   "source": [
    "#### 4-d) 島嶼部の削除"
   ]
  },
  {
   "cell_type": "code",
   "execution_count": null,
   "id": "98942808-40c5-45ac-85b1-f1becbb285e4",
   "metadata": {},
   "outputs": [],
   "source": [
    "min_lon, min_lat = 138.0, 35.0\n",
    "max_lon, max_lat = 140.0, 36.0\n",
    "   \n",
    "bbox_polygon = Polygon([(min_lon, min_lat), (min_lon, max_lat), (max_lon, max_lat), (max_lon, min_lat)])"
   ]
  },
  {
   "cell_type": "code",
   "execution_count": null,
   "id": "a83ec380-ca9c-46ad-8454-8ac0a326b6a0",
   "metadata": {
    "scrolled": true
   },
   "outputs": [],
   "source": [
    "gdf_tokyo_population_clipped = gdf_tokyo_population[gdf_tokyo_population.within(bbox_polygon)]\n",
    "gdf_tokyo_population_clipped"
   ]
  },
  {
   "cell_type": "markdown",
   "id": "c3932589-916d-44b3-ad52-a9f6bc42e75b",
   "metadata": {},
   "source": [
    "#### 4-e) コロプレス図の表示"
   ]
  },
  {
   "cell_type": "code",
   "execution_count": null,
   "id": "08f7fd8b-163e-4bfe-ba99-f62084318462",
   "metadata": {},
   "outputs": [],
   "source": [
    "gdf_tokyo_population_clipped.plot(column='total', cmap='OrRd', legend=True, figsize=(20,4))"
   ]
  },
  {
   "cell_type": "code",
   "execution_count": null,
   "id": "86eab0ad-63ad-4f81-ada3-a543cfd73152",
   "metadata": {},
   "outputs": [],
   "source": [
    "gdf_tokyo_population_clipped.plot(column='ratio', cmap='OrRd', legend=True, figsize=(20,4))"
   ]
  },
  {
   "cell_type": "code",
   "execution_count": null,
   "id": "15ff2797-9f29-498d-93e5-ddd0177529af",
   "metadata": {},
   "outputs": [],
   "source": []
  }
 ],
 "metadata": {
  "kernelspec": {
   "display_name": "Python 3 (ipykernel)",
   "language": "python",
   "name": "python3"
  },
  "language_info": {
   "codemirror_mode": {
    "name": "ipython",
    "version": 3
   },
   "file_extension": ".py",
   "mimetype": "text/x-python",
   "name": "python",
   "nbconvert_exporter": "python",
   "pygments_lexer": "ipython3",
   "version": "3.9.20"
  }
 },
 "nbformat": 4,
 "nbformat_minor": 5
}
