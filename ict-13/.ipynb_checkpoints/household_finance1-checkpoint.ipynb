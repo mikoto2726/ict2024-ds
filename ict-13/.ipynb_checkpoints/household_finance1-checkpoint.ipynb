{
 "cells": [
  {
   "cell_type": "markdown",
   "id": "65e288d1-5cae-4e1f-a5aa-6d83e92b8ae2",
   "metadata": {},
   "source": [
    "# データ・サイエンス\tデータ・サイエンス社会応用論 / ICT社会応用演習Ⅳ\n",
    "## 13-1. e-Stat のデータを可視化する"
   ]
  },
  {
   "cell_type": "markdown",
   "id": "e12befb2-78af-4072-b8ba-e17630068c94",
   "metadata": {},
   "source": [
    "### 1. e-Stat のデータの読み込み\n",
    "#### 1-a) 下準備"
   ]
  },
  {
   "cell_type": "code",
   "execution_count": null,
   "id": "6cb169a8-5ba3-486f-98ff-6da9d23621db",
   "metadata": {},
   "outputs": [],
   "source": [
    "import pandas as pd\n",
    "import japanize_matplotlib"
   ]
  },
  {
   "cell_type": "code",
   "execution_count": null,
   "id": "78ec4a56-158d-4b63-bcdd-dac23976cc6e",
   "metadata": {},
   "outputs": [],
   "source": [
    "DATA_PATH = 'data/FEH_00200561_250109002500.csv'"
   ]
  },
  {
   "cell_type": "markdown",
   "id": "efe1091d-d964-47b4-a03c-f18416415d27",
   "metadata": {},
   "source": [
    "#### 1-b) DataFrameへの読み込み"
   ]
  },
  {
   "cell_type": "code",
   "execution_count": null,
   "id": "8dab196a-60bc-4dff-b4a1-d1da7c1bb23f",
   "metadata": {
    "scrolled": true
   },
   "outputs": [],
   "source": [
    "df = pd.read_csv(DATA_PATH, encoding='shift-jis', skiprows=12)\n",
    "df"
   ]
  },
  {
   "cell_type": "markdown",
   "id": "e1faab5f-f919-475b-8e0d-c520d0021238",
   "metadata": {},
   "source": [
    "#### 1-c) データの下処理"
   ]
  },
  {
   "cell_type": "code",
   "execution_count": null,
   "id": "036b9a1b-5b45-4440-9dd0-6f4b6fcf002a",
   "metadata": {
    "scrolled": true
   },
   "outputs": [],
   "source": [
    "df_filtered = df[df['世帯区分'] == '勤労者世帯']\n",
    "df_filtered.set_index('時間軸（年次）', inplace=True)\n",
    "df_filtered"
   ]
  },
  {
   "cell_type": "markdown",
   "id": "2f995caf-b411-4825-bc90-6ffad4f3df93",
   "metadata": {},
   "source": [
    "### 2.データの可視化\n",
    "#### 2-a) 社会保険料の推移の可視化"
   ]
  },
  {
   "cell_type": "code",
   "execution_count": null,
   "id": "46f8fb0d-7c56-49cd-b372-838649429291",
   "metadata": {},
   "outputs": [],
   "source": [
    "df_target = df_filtered[['公的年金保険料【円】', '健康保険料【円】', '介護保険料【円】', '他の社会保険料【円】']]\n",
    "df_target = df_target.apply(pd.to_numeric, errors='coerce')\n",
    "df_target.plot(figsize=(10, 5))"
   ]
  },
  {
   "cell_type": "markdown",
   "id": "7fe933f1-f267-4604-a00f-f0eb7751a92e",
   "metadata": {},
   "source": [
    "#### 2-b) 光熱・水道費の推移の可視化"
   ]
  },
  {
   "cell_type": "code",
   "execution_count": null,
   "id": "ec39e8bb-ee5d-40c2-bcb6-4e682c019ee2",
   "metadata": {},
   "outputs": [],
   "source": [
    "df_target = df_filtered[['電気代【円】', 'ガス代【円】', '他の光熱【円】', '上下水道料【円】']]\n",
    "df_target = df_target.apply(pd.to_numeric, errors='coerce')\n",
    "df_target.plot(figsize=(10, 5))"
   ]
  },
  {
   "cell_type": "code",
   "execution_count": null,
   "id": "1fd908aa-5327-44c5-881b-f674cb9af1ef",
   "metadata": {},
   "outputs": [],
   "source": []
  }
 ],
 "metadata": {
  "kernelspec": {
   "display_name": "Python 3 (ipykernel)",
   "language": "python",
   "name": "python3"
  },
  "language_info": {
   "codemirror_mode": {
    "name": "ipython",
    "version": 3
   },
   "file_extension": ".py",
   "mimetype": "text/x-python",
   "name": "python",
   "nbconvert_exporter": "python",
   "pygments_lexer": "ipython3",
   "version": "3.9.20"
  }
 },
 "nbformat": 4,
 "nbformat_minor": 5
}
