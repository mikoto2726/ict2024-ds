{
 "cells": [
  {
   "attachments": {},
   "cell_type": "markdown",
   "id": "f3094d63-83cf-4ffa-a64a-a5e330090c35",
   "metadata": {},
   "source": [
    "# データ・サイエンス\tデータ・サイエンス社会応用論 / ICT社会応用演習Ⅳ\n",
    "## 13-4. 北区の人口の確認"
   ]
  },
  {
   "cell_type": "markdown",
   "id": "8510cad2-e59c-46a0-a806-8ac10886f36f",
   "metadata": {},
   "source": [
    "### 1. e-Stat のデータの読み込み\n",
    "#### 1-a) 下準備"
   ]
  },
  {
   "cell_type": "code",
   "execution_count": null,
   "id": "b60cf32b-718c-4560-99e0-3bfe1e3ab7b0",
   "metadata": {},
   "outputs": [],
   "source": [
    "import pandas as pd\n",
    "import geopandas as gpd\n",
    "import japanize_matplotlib"
   ]
  },
  {
   "cell_type": "code",
   "execution_count": null,
   "id": "8a9f5467-5af2-4336-bed6-96a45c4c9d70",
   "metadata": {},
   "outputs": [],
   "source": [
    "CENSUS_SUBREGION_POPULATION_PATH = 'data/h02_13.csv'\n",
    "KITA_REGION_PATH = 'data/shape/r2ka13117.shp'"
   ]
  },
  {
   "cell_type": "markdown",
   "id": "f1a6e214-2a34-48b4-836d-41e4af756386",
   "metadata": {},
   "source": [
    "#### 1-b) CSVデータの読み込み"
   ]
  },
  {
   "cell_type": "code",
   "execution_count": null,
   "id": "c150c7a9-42f4-4965-922d-26a2816355b8",
   "metadata": {},
   "outputs": [],
   "source": [
    "df_population = pd.read_csv(CENSUS_SUBREGION_POPULATION_PATH, encoding='shift-jis', skiprows=4)\n",
    "df_population"
   ]
  },
  {
   "cell_type": "markdown",
   "id": "5324af90-5c59-46f9-b22f-572b9e21ba34",
   "metadata": {},
   "source": [
    "#### 1-c) DataFrameの下処理"
   ]
  },
  {
   "cell_type": "code",
   "execution_count": null,
   "id": "18d0505e-19aa-466b-a7a4-5f51d44d325f",
   "metadata": {},
   "outputs": [],
   "source": [
    "df_population = df_population.rename(columns={\n",
    "    '市区町村コード': 'lg_code',\n",
    "    '町丁字コード': 'town_code',\n",
    "    '総数': 'total',\n",
    "    '男': 'male',\n",
    "    '女': 'female',\n",
    "    '-' : 'foreign'\n",
    "})\n",
    "df_population['total'] = df_population['total'].apply(pd.to_numeric, errors='coerce')\n",
    "df_population['male'] = df_population['male'].apply(pd.to_numeric, errors='coerce')\n",
    "df_population['female'] = df_population['female'].apply(pd.to_numeric, errors='coerce')\n",
    "df_population['foreign'] = df_population['foreign'].apply(pd.to_numeric, errors='coerce')\n",
    "df_population['town_code'] = df_population['town_code'].apply(lambda x: x + '00' if len(x) == 4 else x)\n",
    "df_population = df_population[['lg_code', 'town_code', 'total', 'male', 'female', 'foreign']]\n",
    "df_population "
   ]
  },
  {
   "cell_type": "markdown",
   "id": "828a56a8-52a0-4e6d-a0b7-e78800782f91",
   "metadata": {},
   "source": [
    "#### 1-d) 東京都北区のデータでの絞り込み"
   ]
  },
  {
   "cell_type": "code",
   "execution_count": null,
   "id": "5c8b004d-714c-4bf0-bb43-35785e1e329f",
   "metadata": {},
   "outputs": [],
   "source": [
    "df_kita_population = df_population[df_population['lg_code'] == 13117]\n",
    "df_kita_population"
   ]
  },
  {
   "cell_type": "markdown",
   "id": "4595109b-0971-48a5-b63f-9c13b96159e4",
   "metadata": {},
   "source": [
    "### 2. コロプレス図の作成\n",
    "#### 2-a) 境界データの読み込み"
   ]
  },
  {
   "cell_type": "code",
   "execution_count": null,
   "id": "8f590a0f-c27c-480a-b86d-ea702d31f5df",
   "metadata": {},
   "outputs": [],
   "source": [
    "gdf_kita_region = gpd.read_file(KITA_REGION_PATH)\n",
    "gdf_kita_region"
   ]
  },
  {
   "cell_type": "markdown",
   "id": "0e4304a3-d616-4745-8d7c-ed935c48cdaa",
   "metadata": {},
   "source": [
    "#### 2-b) GeoDataFrameの下処理"
   ]
  },
  {
   "cell_type": "code",
   "execution_count": null,
   "id": "a2308846-db98-4c16-bb36-74c02bdebf6b",
   "metadata": {},
   "outputs": [],
   "source": [
    "gdf_kita_region = gdf_kita_region[['S_AREA', 'PREF_NAME', 'CITY_NAME', 'S_NAME', 'AREA', 'geometry']]\n",
    "gdf_kita_region"
   ]
  },
  {
   "cell_type": "markdown",
   "id": "7bc251e0-c75c-454c-8ece-960e8d7fe43b",
   "metadata": {},
   "source": [
    "#### 2-c) 国勢調査のDataFrameを結合"
   ]
  },
  {
   "cell_type": "code",
   "execution_count": null,
   "id": "1592029b-1beb-4d7c-a7f8-c6bdf4375669",
   "metadata": {},
   "outputs": [],
   "source": [
    "gdf_kita_population = gdf_kita_region.merge(df_kita_population, left_on='S_AREA', right_on='town_code', how='left')\n",
    "gdf_kita_population"
   ]
  },
  {
   "cell_type": "markdown",
   "id": "ece09c0c-173a-497c-b753-3078a3777452",
   "metadata": {},
   "source": [
    "#### 2-d) 人口密度の列の追加"
   ]
  },
  {
   "cell_type": "code",
   "execution_count": null,
   "id": "1eeab57a-45b6-4011-a7cd-fea5b2406efe",
   "metadata": {},
   "outputs": [],
   "source": [
    "gdf_kita_population['density'] = gdf_kita_population['total'] / gdf_kita_population['AREA']\n",
    "gdf_kita_population"
   ]
  },
  {
   "cell_type": "markdown",
   "id": "01ec1059-0aca-4e4f-9387-39d0e21e9667",
   "metadata": {},
   "source": [
    "#### 2-e) データの確認"
   ]
  },
  {
   "cell_type": "code",
   "execution_count": null,
   "id": "3601ca3a-ef67-41b7-9d4f-fb6281e9cfae",
   "metadata": {},
   "outputs": [],
   "source": [
    "gdf_kita_population.sort_values('total', ascending=False)"
   ]
  },
  {
   "cell_type": "code",
   "execution_count": null,
   "id": "fd8fb147-c44a-4317-8966-d7337d0232ac",
   "metadata": {},
   "outputs": [],
   "source": [
    "gdf_kita_population.sort_values('density', ascending=False)"
   ]
  },
  {
   "cell_type": "markdown",
   "id": "c3932589-916d-44b3-ad52-a9f6bc42e75b",
   "metadata": {},
   "source": [
    "#### 2-f) コロプレス図の表示"
   ]
  },
  {
   "cell_type": "code",
   "execution_count": null,
   "id": "08f7fd8b-163e-4bfe-ba99-f62084318462",
   "metadata": {},
   "outputs": [],
   "source": [
    "gdf_kita_population.plot(column='total', cmap='OrRd', legend=True, figsize=(20,4))"
   ]
  },
  {
   "cell_type": "code",
   "execution_count": null,
   "id": "86eab0ad-63ad-4f81-ada3-a543cfd73152",
   "metadata": {},
   "outputs": [],
   "source": [
    "gdf_kita_population.plot(column='density', cmap='OrRd', legend=True, figsize=(20,4))"
   ]
  },
  {
   "cell_type": "code",
   "execution_count": null,
   "id": "c11e50b2-8fbe-4166-90fc-12cdf4f1a94c",
   "metadata": {},
   "outputs": [],
   "source": []
  }
 ],
 "metadata": {
  "kernelspec": {
   "display_name": "Python 3 (ipykernel)",
   "language": "python",
   "name": "python3"
  },
  "language_info": {
   "codemirror_mode": {
    "name": "ipython",
    "version": 3
   },
   "file_extension": ".py",
   "mimetype": "text/x-python",
   "name": "python",
   "nbconvert_exporter": "python",
   "pygments_lexer": "ipython3",
   "version": "3.9.20"
  }
 },
 "nbformat": 4,
 "nbformat_minor": 5
}
