{
 "cells": [
  {
   "cell_type": "code",
   "execution_count": 1,
   "id": "4bb86342",
   "metadata": {
    "execution": {
     "iopub.execute_input": "2024-11-20T17:19:50.853605Z",
     "iopub.status.busy": "2024-11-20T17:19:50.853068Z",
     "iopub.status.idle": "2024-11-20T17:19:53.941528Z",
     "shell.execute_reply": "2024-11-20T17:19:53.940700Z",
     "shell.execute_reply.started": "2024-11-20T17:19:50.853569Z"
    }
   },
   "outputs": [
    {
     "name": "stderr",
     "output_type": "stream",
     "text": [
      "2024-11-21 02:19:52.424347: I tensorflow/tsl/cuda/cudart_stub.cc:28] Could not find cuda drivers on your machine, GPU will not be used.\n",
      "2024-11-21 02:19:52.472327: I tensorflow/tsl/cuda/cudart_stub.cc:28] Could not find cuda drivers on your machine, GPU will not be used.\n",
      "2024-11-21 02:19:52.473299: I tensorflow/core/platform/cpu_feature_guard.cc:182] This TensorFlow binary is optimized to use available CPU instructions in performance-critical operations.\n",
      "To enable the following instructions: AVX2 FMA, in other operations, rebuild TensorFlow with the appropriate compiler flags.\n",
      "2024-11-21 02:19:53.262847: W tensorflow/compiler/tf2tensorrt/utils/py_utils.cc:38] TF-TRT Warning: Could not find TensorRT\n"
     ]
    }
   ],
   "source": [
    "#Cell_1.\n",
    "# -*- coding: utf-8 -*-\n",
    "import os\n",
    "import cv2\n",
    "import pandas as pd\n",
    "import numpy as np\n",
    "import random\n",
    "import matplotlib.pyplot as plt\n",
    "import csv\n",
    "from sklearn.model_selection import train_test_split\n",
    "from tensorflow.keras.utils import to_categorical\n",
    "from tensorflow.keras import Input, Model\n",
    "from tensorflow.keras.layers import Conv2D, Activation, MaxPooling2D, Flatten, Dense, Dropout\n",
    "from sklearn.metrics import confusion_matrix\n",
    "\n",
    "import tensorflow\n",
    "seedval = 13\n",
    "tensorflow.random.set_seed(seedval)\n",
    "np.random.seed(seedval)\n",
    "random.seed(seedval)\n",
    "os.environ[\"PYTHONHASHSEED\"] = str(seedval)"
   ]
  },
  {
   "cell_type": "code",
   "execution_count": 2,
   "id": "48b1a611",
   "metadata": {
    "execution": {
     "iopub.execute_input": "2024-11-20T17:19:53.943831Z",
     "iopub.status.busy": "2024-11-20T17:19:53.943229Z",
     "iopub.status.idle": "2024-11-20T17:19:53.953769Z",
     "shell.execute_reply": "2024-11-20T17:19:53.952994Z",
     "shell.execute_reply.started": "2024-11-20T17:19:53.943779Z"
    }
   },
   "outputs": [],
   "source": [
    "#Cell_2.\n",
    "IMAGESIZE = 64  #読み込んだ画像は(IMAGESIZE,IMAGESIZE)のサイズにリサイズする\n",
    "\n",
    "# ディレクトリ内の画像を読み込む\n",
    "# inputpath: ディレクトリ文字列, imagesize: 画像サイズ, type_color: ColorかGray\n",
    "def load_images(inputpath, imagesize, type_color):\n",
    "    imglist = []\n",
    "    filenamelist = []\n",
    "\n",
    "    for root, dirs, files in os.walk(inputpath):\n",
    "        for fn in sorted(files):\n",
    "            bn, ext = os.path.splitext(fn)\n",
    "            if ext not in [\".bmp\", \".BMP\", \".jpg\", \".JPG\", \".jpeg\", \".JPEG\", \".png\", \".PNG\"]:\n",
    "                continue\n",
    "\n",
    "            filename = os.path.join(root, fn)\n",
    "            \n",
    "            if type_color == 'Color':\n",
    "                # カラー画像の場合\n",
    "                testimage = cv2.imread(filename, cv2.IMREAD_COLOR)\n",
    "                # サイズ変更\n",
    "                height, width = testimage.shape[:2]\n",
    "                testimage = cv2.resize(testimage, (imagesize, imagesize), interpolation = cv2.INTER_AREA)  #主に縮小するのでINTER_AREA使用\n",
    "                testimage = np.asarray(testimage, dtype=np.float64)\n",
    "                # 色チャンネル，高さ，幅に入れ替え．data_format=\"channels_first\"を使うとき必要\n",
    "                #testimage = testimage.transpose(2, 0, 1)\n",
    "                # チャンネルをbgrの順からrgbの順に変更\n",
    "                testimage = testimage[:,:,::-1]\n",
    "            \n",
    "            elif type_color == 'Gray':\n",
    "                # グレースケール画像の場合\n",
    "                testimage = cv2.imread(filename, cv2.IMREAD_GRAYSCALE)\n",
    "                # サイズ変更\n",
    "                height, width = testimage.shape[:2]\n",
    "                testimage = cv2.resize(testimage, (imagesize, imagesize), interpolation = cv2.INTER_AREA)  #主に縮小するのでINTER_AREA使用\n",
    "                # チャンネルの次元がないので1次元追加する\n",
    "                testimage = np.asarray([testimage], dtype=np.float64)\n",
    "                testimage = np.asarray(testimage, dtype=np.float64).reshape((imagesize, imagesize, 1))\n",
    "                # チャンネル，高さ，幅に入れ替え．data_format=\"channels_first\"を使うとき必要\n",
    "                #testimage = testimage.transpose(2, 0, 1)\n",
    "\n",
    "            imglist.append(testimage)\n",
    "            filenamelist.append(fn)\n",
    "    imgsdata = np.asarray(imglist, dtype=np.float32)\n",
    "\n",
    "    return imgsdata, filenamelist  # 画像リストとファイル名のリストを返す\n"
   ]
  },
  {
   "cell_type": "code",
   "execution_count": 3,
   "id": "94a8b1ec",
   "metadata": {
    "execution": {
     "iopub.execute_input": "2024-11-20T17:19:53.954758Z",
     "iopub.status.busy": "2024-11-20T17:19:53.954456Z",
     "iopub.status.idle": "2024-11-20T17:20:16.450059Z",
     "shell.execute_reply": "2024-11-20T17:20:16.449322Z",
     "shell.execute_reply.started": "2024-11-20T17:19:53.954737Z"
    }
   },
   "outputs": [
    {
     "name": "stdout",
     "output_type": "stream",
     "text": [
      "*** Loading images ***\n"
     ]
    }
   ],
   "source": [
    "#Cell_3.\n",
    "#%%\n",
    "### データ準備 ###\n",
    "print('*** Loading images ***')\n",
    "\n",
    "# 画像読み込みとラベル値作成\n",
    "# クラス0\n",
    "image0, filenames_image0 = load_images('./sundatabase_negative/', IMAGESIZE, 'Color')\n",
    "label0 = np.full(image0.shape[0], 0)    #画像数と同数のラベル値を含むリスト\n",
    "\n",
    "# クラス1\n",
    "image1, filenames_image1 = load_images('./sundatabase_positive/', IMAGESIZE, 'Color')\n",
    "label1 = np.full(image1.shape[0], 1)    #画像数と同数のラベル値を含むリスト\n",
    "\n",
    "\n",
    "# 画像，ラベル値，ファイル名それぞれ1つの配列にまとめる\n",
    "image_all = np.concatenate([image0, image1], axis=0)\n",
    "label_all = np.append(label0, label1)\n",
    "filename_all = filenames_image0 + filenames_image1\n"
   ]
  },
  {
   "cell_type": "code",
   "execution_count": 4,
   "id": "61811ce8-489f-43e4-bd7a-ab9ea3209675",
   "metadata": {
    "execution": {
     "iopub.execute_input": "2024-11-20T17:20:16.451008Z",
     "iopub.status.busy": "2024-11-20T17:20:16.450828Z",
     "iopub.status.idle": "2024-11-20T17:20:16.475333Z",
     "shell.execute_reply": "2024-11-20T17:20:16.474803Z",
     "shell.execute_reply.started": "2024-11-20T17:20:16.450980Z"
    }
   },
   "outputs": [],
   "source": [
    "#Cell_4.\n",
    "indices = np.array(range(image_all.shape[0]))\n",
    "image_train, image_test, label_train, label_test, index_train, index_test = train_test_split(image_all, label_all, indices, test_size=0.2)"
   ]
  },
  {
   "cell_type": "code",
   "execution_count": 5,
   "id": "5e1c641b-d632-492c-a20a-dbfab636f36e",
   "metadata": {
    "execution": {
     "iopub.execute_input": "2024-11-20T17:20:16.476750Z",
     "iopub.status.busy": "2024-11-20T17:20:16.476544Z",
     "iopub.status.idle": "2024-11-20T17:20:16.480580Z",
     "shell.execute_reply": "2024-11-20T17:20:16.479927Z",
     "shell.execute_reply.started": "2024-11-20T17:20:16.476732Z"
    }
   },
   "outputs": [
    {
     "name": "stdout",
     "output_type": "stream",
     "text": [
      "[   0    1    2 ... 1810 1811 1812]\n",
      "1450\n",
      "363\n"
     ]
    }
   ],
   "source": [
    "#Cell_5.\n",
    "print(indices)\n",
    "print(len(label_train))\n",
    "print(len(label_test))"
   ]
  },
  {
   "cell_type": "code",
   "execution_count": 6,
   "id": "6fa62dc2-ac3d-44a7-b017-2a0dd9fa1e51",
   "metadata": {
    "execution": {
     "iopub.execute_input": "2024-11-20T17:20:16.481518Z",
     "iopub.status.busy": "2024-11-20T17:20:16.481274Z",
     "iopub.status.idle": "2024-11-20T17:20:16.501567Z",
     "shell.execute_reply": "2024-11-20T17:20:16.500879Z",
     "shell.execute_reply.started": "2024-11-20T17:20:16.481491Z"
    }
   },
   "outputs": [
    {
     "name": "stdout",
     "output_type": "stream",
     "text": [
      "Loaded images: 1450 for training and 363 for testing.\n"
     ]
    }
   ],
   "source": [
    "#Cell_6.\n",
    "# testデータのファイル名リスト作成\n",
    "filenames_test = []\n",
    "for i in range(len(index_test)):\n",
    "    filenames_test.append(filename_all[index_test[i]])\n",
    "\n",
    "\n",
    "# 画像の画素値を0-1に正規化\n",
    "image_train /= 255.0\n",
    "image_test /= 255.0\n",
    "\n",
    "# ラベルをone hot vector形式に変換\n",
    "label_train_binary = to_categorical(label_train)\n",
    "label_test_binary = to_categorical(label_test)\n",
    "\n",
    "print('Loaded images: ' + repr(image_train.shape[0]) + ' for training and ' + repr(image_test.shape[0]) + ' for testing.')\n"
   ]
  },
  {
   "cell_type": "code",
   "execution_count": 7,
   "id": "7a072c1f-fc28-4b69-b9a8-99b4e4eb6bd4",
   "metadata": {
    "execution": {
     "iopub.execute_input": "2024-11-20T17:20:16.502473Z",
     "iopub.status.busy": "2024-11-20T17:20:16.502252Z",
     "iopub.status.idle": "2024-11-20T17:20:16.654906Z",
     "shell.execute_reply": "2024-11-20T17:20:16.654292Z",
     "shell.execute_reply.started": "2024-11-20T17:20:16.502452Z"
    }
   },
   "outputs": [
    {
     "name": "stdout",
     "output_type": "stream",
     "text": [
      "*** Training ***\n",
      "Model: \"model\"\n",
      "_________________________________________________________________\n",
      " Layer (type)                Output Shape              Param #   \n",
      "=================================================================\n",
      " input_1 (InputLayer)        [(None, 64, 64, 3)]       0         \n",
      "                                                                 \n",
      " conv2d (Conv2D)             (None, 64, 64, 32)        896       \n",
      "                                                                 \n",
      " activation (Activation)     (None, 64, 64, 32)        0         \n",
      "                                                                 \n",
      " max_pooling2d (MaxPooling2  (None, 16, 16, 32)        0         \n",
      " D)                                                              \n",
      "                                                                 \n",
      " conv2d_1 (Conv2D)           (None, 16, 16, 64)        18496     \n",
      "                                                                 \n",
      " activation_1 (Activation)   (None, 16, 16, 64)        0         \n",
      "                                                                 \n",
      " max_pooling2d_1 (MaxPoolin  (None, 4, 4, 64)          0         \n",
      " g2D)                                                            \n",
      "                                                                 \n",
      " conv2d_2 (Conv2D)           (None, 4, 4, 128)         73856     \n",
      "                                                                 \n",
      " activation_2 (Activation)   (None, 4, 4, 128)         0         \n",
      "                                                                 \n",
      " max_pooling2d_2 (MaxPoolin  (None, 1, 1, 128)         0         \n",
      " g2D)                                                            \n",
      "                                                                 \n",
      " conv2d_3 (Conv2D)           (None, 1, 1, 256)         295168    \n",
      "                                                                 \n",
      " activation_3 (Activation)   (None, 1, 1, 256)         0         \n",
      "                                                                 \n",
      " flatten (Flatten)           (None, 256)               0         \n",
      "                                                                 \n",
      " dense (Dense)               (None, 100)               25700     \n",
      "                                                                 \n",
      " activation_4 (Activation)   (None, 100)               0         \n",
      "                                                                 \n",
      " dropout (Dropout)           (None, 100)               0         \n",
      "                                                                 \n",
      " dense_1 (Dense)             (None, 10)                1010      \n",
      "                                                                 \n",
      " activation_5 (Activation)   (None, 10)                0         \n",
      "                                                                 \n",
      " dropout_1 (Dropout)         (None, 10)                0         \n",
      "                                                                 \n",
      " dense_2 (Dense)             (None, 2)                 22        \n",
      "                                                                 \n",
      " activation_6 (Activation)   (None, 2)                 0         \n",
      "                                                                 \n",
      "=================================================================\n",
      "Total params: 415148 (1.58 MB)\n",
      "Trainable params: 415148 (1.58 MB)\n",
      "Non-trainable params: 0 (0.00 Byte)\n",
      "_________________________________________________________________\n",
      "None\n"
     ]
    }
   ],
   "source": [
    "#Cell_7.\n",
    "### 画像分類モデル定義と学習処理の実行 ###\n",
    "print('*** Training ***')\n",
    "\n",
    "# 層の数を増やした分類CNN\n",
    "def classification_model_deep1():\n",
    "    input_img = Input(shape=(IMAGESIZE, IMAGESIZE, 3))\n",
    "\n",
    "    x = Conv2D(filters=32, kernel_size=3, strides=1, padding='same')(input_img)\n",
    "    x = Activation('relu')(x)\n",
    "    x = MaxPooling2D(pool_size=4, strides=4)(x)\n",
    "\n",
    "    x = Conv2D(filters=64, kernel_size=3, strides=1, padding='same')(x)\n",
    "    x = Activation('relu')(x)\n",
    "    x = MaxPooling2D(pool_size=4, strides=4)(x)\n",
    "\n",
    "    x = Conv2D(filters=128, kernel_size=3, strides=1, padding='same')(x)\n",
    "    x = Activation('relu')(x)\n",
    "    x = MaxPooling2D(pool_size=4, strides=4)(x)\n",
    "    \n",
    "    x = Conv2D(filters=256, kernel_size=3, strides=1, padding='same')(x)\n",
    "    x = Activation('relu')(x)\n",
    "    x\n",
    "    \n",
    "    x = Flatten()(x)\n",
    "\n",
    "    x = Dense(100)(x)\n",
    "    x = Activation('relu')(x)\n",
    "    x = Dropout(0.5)(x)\n",
    "\n",
    "    x = Dense(10)(x)\n",
    "    x = Activation('relu')(x)\n",
    "    x = Dropout(0.5)(x)\n",
    "\n",
    "    x = Dense(2)(x)\n",
    "    x = Activation('softmax')(x)\n",
    "    \n",
    "    model = Model(inputs=input_img, outputs=x)\n",
    "    \n",
    "    return model\n",
    "\n",
    "\n",
    "# 分類モデル定義関数を呼び出す\n",
    "model = classification_model_deep1()   #層の数を増やしたCNNを呼び出す場合はこちらを有効化する．上の行はコメントアウトする．\n",
    "\n",
    "# モデルを表示\n",
    "print(model.summary())\n",
    "\n"
   ]
  },
  {
   "cell_type": "code",
   "execution_count": 8,
   "id": "87f797d8-cec5-402b-ba69-6c54ef5523b1",
   "metadata": {
    "execution": {
     "iopub.execute_input": "2024-11-20T17:20:16.655688Z",
     "iopub.status.busy": "2024-11-20T17:20:16.655504Z",
     "iopub.status.idle": "2024-11-20T17:21:08.117266Z",
     "shell.execute_reply": "2024-11-20T17:21:08.116248Z",
     "shell.execute_reply.started": "2024-11-20T17:20:16.655669Z"
    }
   },
   "outputs": [
    {
     "name": "stdout",
     "output_type": "stream",
     "text": [
      "Epoch 1/100\n",
      "10/10 [==============================] - 3s 179ms/step - loss: 0.6085 - accuracy: 0.7078 - val_loss: 0.4803 - val_accuracy: 0.7241\n",
      "Epoch 2/100\n",
      "10/10 [==============================] - 2s 152ms/step - loss: 0.4859 - accuracy: 0.7250 - val_loss: 0.3024 - val_accuracy: 0.8759\n",
      "Epoch 3/100\n",
      "10/10 [==============================] - 2s 153ms/step - loss: 0.3827 - accuracy: 0.8241 - val_loss: 0.2222 - val_accuracy: 0.9517\n",
      "Epoch 4/100\n",
      "10/10 [==============================] - 2s 154ms/step - loss: 0.2940 - accuracy: 0.8741 - val_loss: 0.1717 - val_accuracy: 0.9621\n",
      "Epoch 5/100\n",
      "10/10 [==============================] - 2s 153ms/step - loss: 0.2122 - accuracy: 0.9353 - val_loss: 0.0705 - val_accuracy: 0.9931\n",
      "Epoch 6/100\n",
      "10/10 [==============================] - 2s 159ms/step - loss: 0.1753 - accuracy: 0.9397 - val_loss: 0.0500 - val_accuracy: 0.9897\n",
      "Epoch 7/100\n",
      "10/10 [==============================] - 2s 156ms/step - loss: 0.1751 - accuracy: 0.9371 - val_loss: 0.0582 - val_accuracy: 0.9862\n",
      "Epoch 8/100\n",
      "10/10 [==============================] - 2s 155ms/step - loss: 0.1071 - accuracy: 0.9672 - val_loss: 2.3307 - val_accuracy: 0.2759\n",
      "Epoch 9/100\n",
      "10/10 [==============================] - 2s 156ms/step - loss: 0.3523 - accuracy: 0.8966 - val_loss: 0.0358 - val_accuracy: 0.9966\n",
      "Epoch 10/100\n",
      "10/10 [==============================] - 2s 156ms/step - loss: 0.1082 - accuracy: 0.9552 - val_loss: 0.0414 - val_accuracy: 0.9966\n",
      "Epoch 11/100\n",
      "10/10 [==============================] - 2s 155ms/step - loss: 0.1065 - accuracy: 0.9500 - val_loss: 0.2853 - val_accuracy: 0.9586\n",
      "Epoch 12/100\n",
      "10/10 [==============================] - 2s 164ms/step - loss: 0.1267 - accuracy: 0.9603 - val_loss: 0.0238 - val_accuracy: 0.9966\n",
      "Epoch 13/100\n",
      "10/10 [==============================] - 2s 159ms/step - loss: 0.0858 - accuracy: 0.9638 - val_loss: 0.0308 - val_accuracy: 0.9966\n",
      "Epoch 14/100\n",
      "10/10 [==============================] - 2s 157ms/step - loss: 0.0862 - accuracy: 0.9621 - val_loss: 0.0352 - val_accuracy: 0.9966\n",
      "Epoch 15/100\n",
      "10/10 [==============================] - 2s 155ms/step - loss: 0.0724 - accuracy: 0.9647 - val_loss: 0.0302 - val_accuracy: 0.9966\n",
      "Epoch 16/100\n",
      "10/10 [==============================] - 2s 156ms/step - loss: 0.0640 - accuracy: 0.9638 - val_loss: 0.0391 - val_accuracy: 0.9966\n",
      "Epoch 17/100\n",
      "10/10 [==============================] - 2s 156ms/step - loss: 0.0783 - accuracy: 0.9672 - val_loss: 0.0326 - val_accuracy: 0.9966\n",
      "Epoch 18/100\n",
      "10/10 [==============================] - 2s 155ms/step - loss: 0.0583 - accuracy: 0.9672 - val_loss: 0.0307 - val_accuracy: 0.9966\n",
      "Epoch 19/100\n",
      "10/10 [==============================] - 2s 158ms/step - loss: 0.0769 - accuracy: 0.9629 - val_loss: 0.2071 - val_accuracy: 0.9724\n",
      "Epoch 20/100\n",
      "10/10 [==============================] - 2s 157ms/step - loss: 0.0916 - accuracy: 0.9612 - val_loss: 0.0228 - val_accuracy: 0.9966\n",
      "Epoch 21/100\n",
      "10/10 [==============================] - 2s 159ms/step - loss: 0.0542 - accuracy: 0.9698 - val_loss: 0.0376 - val_accuracy: 0.9966\n",
      "Epoch 22/100\n",
      "10/10 [==============================] - 2s 157ms/step - loss: 0.0528 - accuracy: 0.9655 - val_loss: 0.0358 - val_accuracy: 0.9966\n",
      "Epoch 23/100\n",
      "10/10 [==============================] - 2s 158ms/step - loss: 0.0583 - accuracy: 0.9638 - val_loss: 0.0372 - val_accuracy: 0.9966\n",
      "Epoch 24/100\n",
      "10/10 [==============================] - 2s 159ms/step - loss: 0.0540 - accuracy: 0.9638 - val_loss: 0.0437 - val_accuracy: 0.9966\n",
      "Epoch 25/100\n",
      "10/10 [==============================] - 2s 158ms/step - loss: 0.0622 - accuracy: 0.9526 - val_loss: 0.2072 - val_accuracy: 0.9759\n",
      "Epoch 26/100\n",
      "10/10 [==============================] - 2s 158ms/step - loss: 0.0516 - accuracy: 0.9595 - val_loss: 0.0489 - val_accuracy: 0.9966\n",
      "Epoch 27/100\n",
      "10/10 [==============================] - 2s 158ms/step - loss: 0.0526 - accuracy: 0.9664 - val_loss: 0.0553 - val_accuracy: 0.9966\n",
      "Epoch 28/100\n",
      "10/10 [==============================] - 2s 158ms/step - loss: 0.0533 - accuracy: 0.9603 - val_loss: 0.0660 - val_accuracy: 0.9966\n",
      "Epoch 29/100\n",
      "10/10 [==============================] - 2s 157ms/step - loss: 0.1992 - accuracy: 0.9293 - val_loss: 0.1486 - val_accuracy: 0.9897\n",
      "Epoch 30/100\n",
      "10/10 [==============================] - 2s 159ms/step - loss: 0.0509 - accuracy: 0.9681 - val_loss: 0.0639 - val_accuracy: 0.9966\n",
      "Epoch 31/100\n",
      "10/10 [==============================] - 2s 158ms/step - loss: 0.0411 - accuracy: 0.9724 - val_loss: 0.0454 - val_accuracy: 0.9966\n",
      "Epoch 32/100\n",
      "10/10 [==============================] - 2s 161ms/step - loss: 0.0409 - accuracy: 0.9690 - val_loss: 0.0550 - val_accuracy: 0.9966\n",
      "Epoch 32: early stopping\n",
      "CPU times: user 7min 37s, sys: 1min 58s, total: 9min 36s\n",
      "Wall time: 51.5 s\n"
     ]
    }
   ],
   "source": [
    "%%time\n",
    "#Cell_8.\n",
    "n_epochs=100\n",
    "val_split=0.2\n",
    "batch_size=128\n",
    "from tensorflow.keras.callbacks import CSVLogger\n",
    "from tensorflow.keras.callbacks import EarlyStopping\n",
    "\n",
    "history_file=\"history-w{}.csv\".format(IMAGESIZE)\n",
    "model.compile(loss='binary_crossentropy', optimizer='rmsprop',\n",
    "              metrics=['accuracy'])\n",
    "cl=CSVLogger(history_file)\n",
    "es=EarlyStopping(monitor='val_loss', patience=12, verbose=1)\n",
    "\n",
    "fit_log=model.fit(image_train, label_train_binary, batch_size=batch_size,\n",
    "                  epochs=n_epochs, validation_split=val_split,\n",
    "                  callbacks=[cl, es])\n",
    "#model14.compile(loss='binary_crossentropy', optimizer='adam', metrics=['accuracy'])\n",
    "\n",
    "# training実行\n",
    "#training = model.fit(image_train, label_train_binary, epochs=100, batch_size=2, verbose=1)"
   ]
  },
  {
   "cell_type": "code",
   "execution_count": 9,
   "id": "cedb36a9-4d7a-4826-88db-71ed30e21529",
   "metadata": {
    "execution": {
     "iopub.execute_input": "2024-11-20T17:21:08.118654Z",
     "iopub.status.busy": "2024-11-20T17:21:08.118315Z",
     "iopub.status.idle": "2024-11-20T17:21:08.529587Z",
     "shell.execute_reply": "2024-11-20T17:21:08.528382Z",
     "shell.execute_reply.started": "2024-11-20T17:21:08.118621Z"
    }
   },
   "outputs": [
    {
     "data": {
      "image/png": "[encoded data removed]",
      "text/plain": [
       "<Figure size 640x480 with 1 Axes>"
      ]
     },
     "metadata": {},
     "output_type": "display_data"
    },
    {
     "data": {
      "image/png": "[encoded data removed]",
      "text/plain": [
       "<Figure size 640x480 with 1 Axes>"
      ]
     },
     "metadata": {},
     "output_type": "display_data"
    }
   ],
   "source": [
    "#Cell_10.\n",
    "loss=fit_log.history['loss']\n",
    "val_loss=fit_log.history['val_loss']\n",
    "acc=fit_log.history['accuracy']\n",
    "val_acc=fit_log.history['val_accuracy']\n",
    "epoch=range(len(loss))\n",
    "\n",
    "plt.plot(epoch, loss, label='train')\n",
    "plt.plot(epoch, val_loss, label='valid')\n",
    "plt.title('Model Loss')\n",
    "plt.xlabel('Epochs')\n",
    "plt.ylabel('Loss')\n",
    "plt.legend()\n",
    "plt.show()\n",
    "\n",
    "plt.plot(epoch, acc, label='train')\n",
    "plt.plot(epoch, val_acc, label='valid')\n",
    "plt.title('Model Accuracy')\n",
    "plt.xlabel('Epochs')\n",
    "plt.ylabel('Accuracy')\n",
    "plt.legend()\n",
    "plt.show()"
   ]
  },
  {
   "cell_type": "code",
   "execution_count": 10,
   "id": "cd6b324d-2bdf-41a9-a104-cf160ddc2ed6",
   "metadata": {
    "execution": {
     "iopub.execute_input": "2024-11-20T17:21:08.530933Z",
     "iopub.status.busy": "2024-11-20T17:21:08.530593Z",
     "iopub.status.idle": "2024-11-20T17:21:08.729489Z",
     "shell.execute_reply": "2024-11-20T17:21:08.728149Z",
     "shell.execute_reply.started": "2024-11-20T17:21:08.530899Z"
    }
   },
   "outputs": [
    {
     "name": "stdout",
     "output_type": "stream",
     "text": [
      "loss= 0.03622973710298538\n",
      "accuracy= 0.997245192527771\n"
     ]
    }
   ],
   "source": [
    "#Cell_12.\n",
    "score=model.evaluate(image_test, label_test_binary, verbose=0)\n",
    "print('loss=', score[0])\n",
    "print('accuracy=', score[1])"
   ]
  },
  {
   "cell_type": "code",
   "execution_count": 11,
   "id": "4a3dcb37-5d45-4aa3-922a-7497eda0c113",
   "metadata": {
    "execution": {
     "iopub.execute_input": "2024-11-20T17:21:08.731827Z",
     "iopub.status.busy": "2024-11-20T17:21:08.730827Z",
     "iopub.status.idle": "2024-11-20T17:21:09.151591Z",
     "shell.execute_reply": "2024-11-20T17:21:09.150170Z",
     "shell.execute_reply.started": "2024-11-20T17:21:08.731778Z"
    }
   },
   "outputs": [
    {
     "data": {
      "text/html": [
       "<div>\n",
       "<style scoped>\n",
       "    .dataframe tbody tr th:only-of-type {\n",
       "        vertical-align: middle;\n",
       "    }\n",
       "\n",
       "    .dataframe tbody tr th {\n",
       "        vertical-align: top;\n",
       "    }\n",
       "\n",
       "    .dataframe thead th {\n",
       "        text-align: right;\n",
       "    }\n",
       "</style>\n",
       "<table border=\"1\" class=\"dataframe\">\n",
       "  <thead>\n",
       "    <tr style=\"text-align: right;\">\n",
       "      <th>col_0</th>\n",
       "      <th>0</th>\n",
       "      <th>1</th>\n",
       "    </tr>\n",
       "    <tr>\n",
       "      <th>row_0</th>\n",
       "      <th></th>\n",
       "      <th></th>\n",
       "    </tr>\n",
       "  </thead>\n",
       "  <tbody>\n",
       "    <tr>\n",
       "      <th>0</th>\n",
       "      <td>98</td>\n",
       "      <td>1</td>\n",
       "    </tr>\n",
       "    <tr>\n",
       "      <th>1</th>\n",
       "      <td>0</td>\n",
       "      <td>264</td>\n",
       "    </tr>\n",
       "  </tbody>\n",
       "</table>\n",
       "</div>"
      ],
      "text/plain": [
       "col_0   0    1\n",
       "row_0         \n",
       "0      98    1\n",
       "1       0  264"
      ]
     },
     "metadata": {},
     "output_type": "display_data"
    }
   ],
   "source": [
    "#Cell_13.\n",
    "y_test_pred=model.predict(image_test, verbose=0)\n",
    "ct = pd.crosstab(label_test_binary.argmax(axis=1),\n",
    "                 y_test_pred.argmax(axis=1))\n",
    "display(ct)"
   ]
  },
  {
   "cell_type": "code",
   "execution_count": 12,
   "id": "d11965f1-84dd-441c-84fc-cfc8474a6c58",
   "metadata": {
    "execution": {
     "iopub.execute_input": "2024-11-20T17:21:09.153744Z",
     "iopub.status.busy": "2024-11-20T17:21:09.153264Z",
     "iopub.status.idle": "2024-11-20T17:21:09.176297Z",
     "shell.execute_reply": "2024-11-20T17:21:09.175071Z",
     "shell.execute_reply.started": "2024-11-20T17:21:09.153698Z"
    },
    "tags": []
   },
   "outputs": [],
   "source": [
    "#Cell_14.\n",
    "# testデータの分類結果をcsvファイルに書き出し\n",
    "f = open('./result_deep.csv', 'w')\n",
    "writer = csv.writer(f, lineterminator='\\n')\n",
    "\n",
    "savedata = ['filename', 'true_class', 'estimate_class', 'estimate_likelihood_max', 'estimate_likelihood_class0', 'estimate_likelihood_class1']\n",
    "writer.writerow(savedata)\n",
    "\n",
    "for i in range(len(image_test)):\n",
    "    savedata = [filenames_test[i], label_test[i], np.argmax(y_test_pred[i]), np.max(y_test_pred[i]), y_test_pred[i][0], y_test_pred[i][1]]\n",
    "    writer.writerow(savedata)\n",
    "    \n",
    "f.close()"
   ]
  }
 ],
 "metadata": {
  "kernelspec": {
   "display_name": "Python 3 (ipykernel)",
   "language": "python",
   "name": "python3"
  },
  "language_info": {
   "codemirror_mode": {
    "name": "ipython",
    "version": 3
   },
   "file_extension": ".py",
   "mimetype": "text/x-python",
   "name": "python",
   "nbconvert_exporter": "python",
   "pygments_lexer": "ipython3",
   "version": "3.8.18"
  }
 },
 "nbformat": 4,
 "nbformat_minor": 5
}
