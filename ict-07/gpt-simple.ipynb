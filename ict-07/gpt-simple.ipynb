{
 "cells": [
  {
   "cell_type": "code",
   "execution_count": 6,
   "id": "6a8a0b88-7f23-428b-8e40-a6c6dc1a1246",
   "metadata": {
    "execution": {
     "iopub.execute_input": "2024-11-14T02:11:37.441313Z",
     "iopub.status.busy": "2024-11-14T02:11:37.440975Z",
     "iopub.status.idle": "2024-11-14T02:11:37.450180Z",
     "shell.execute_reply": "2024-11-14T02:11:37.449614Z",
     "shell.execute_reply.started": "2024-11-14T02:11:37.441291Z"
    },
    "tags": []
   },
   "outputs": [],
   "source": [
    "#Cell_1.\n",
    "import openai\n",
    "import re\n",
    "import os\n",
    "from openai import OpenAI\n",
    "\n",
    "oai = OpenAI(\n",
    "    api_key = 'Ypg_N7E8mt0fkyOxmYe1-SNBzoMHf1oAby5yw6u6GWglIYuKFNE_0J9KhkBGNpeJfk8n9BjABG6Cj2_Mso4GN-w',\n",
    "    base_url = \"https://api.openai.iniad.org/api/v1\"\n",
    ")"
   ]
  },
  {
   "cell_type": "code",
   "execution_count": 7,
   "id": "d9672854-3a32-470f-b179-16fe174bd6d6",
   "metadata": {
    "execution": {
     "iopub.execute_input": "2024-11-14T02:11:38.145730Z",
     "iopub.status.busy": "2024-11-14T02:11:38.145432Z",
     "iopub.status.idle": "2024-11-14T02:11:38.884273Z",
     "shell.execute_reply": "2024-11-14T02:11:38.883712Z",
     "shell.execute_reply.started": "2024-11-14T02:11:38.145701Z"
    },
    "tags": []
   },
   "outputs": [
    {
     "name": "stdout",
     "output_type": "stream",
     "text": [
      "こんにちは！今日はどんなことを話したいですか？\n"
     ]
    }
   ],
   "source": [
    "#Cell_2.\n",
    "sysmsg =\"あなたは親切な友人です\"\n",
    "text = \"\"\"こんにちは！\n",
    " \"\"\"\n",
    "\n",
    "messages=[\n",
    "    {'role': 'system', 'content': sysmsg},\n",
    "    {'role': 'user', 'content': text},\n",
    "]\n",
    "\n",
    "resp = oai.chat.completions.create(\n",
    "    model='gpt-4o-mini',\n",
    "    messages=messages,\n",
    ")\n",
    "\n",
    "print(resp.choices[0].message.content)"
   ]
  },
  {
   "cell_type": "code",
   "execution_count": null,
   "id": "037bb760-664a-4e98-a5ed-8e943710edba",
   "metadata": {},
   "outputs": [],
   "source": []
  }
 ],
 "metadata": {
  "kernelspec": {
   "display_name": "Python 3 (ipykernel)",
   "language": "python",
   "name": "python3"
  },
  "language_info": {
   "codemirror_mode": {
    "name": "ipython",
    "version": 3
   },
   "file_extension": ".py",
   "mimetype": "text/x-python",
   "name": "python",
   "nbconvert_exporter": "python",
   "pygments_lexer": "ipython3",
   "version": "3.7.1"
  }
 },
 "nbformat": 4,
 "nbformat_minor": 5
}
