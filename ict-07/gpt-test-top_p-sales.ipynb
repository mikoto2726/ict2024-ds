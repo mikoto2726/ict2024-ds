{
 "cells": [
  {
   "cell_type": "code",
   "execution_count": 1,
   "id": "6a8a0b88-7f23-428b-8e40-a6c6dc1a1246",
   "metadata": {},
   "outputs": [],
   "source": [
    "#Cell_1.\n",
    "import openai\n",
    "import re\n",
    "import os\n",
    "from openai import OpenAI\n",
    "\n",
    "oai = OpenAI(\n",
    "    api_key = 'xxxx',\n",
    "    base_url = \"https://api.openai.iniad.org/api/v1\"\n",
    ")"
   ]
  },
  {
   "cell_type": "code",
   "execution_count": 2,
   "id": "d9672854-3a32-470f-b179-16fe174bd6d6",
   "metadata": {},
   "outputs": [
    {
     "name": "stdout",
     "output_type": "stream",
     "text": [
      "第1回目の回答です。\n",
      "「大変お手数をおかけしますが、何卒よろしくお願い申し上げます。」や「大変お手数をおかけしますが、ご確認いただけますと幸いです。」などが一般的な続きの表現です。具体的な内容に応じて調整してください。\n",
      "第2回目の回答です。\n",
      "「大変お手数をおかけいたしますが、何卒よろしくお願い申し上げます。」や「大変お手数をおかけしますが、ご確認いただけますでしょうか。」などが一般的な続きの表現です。具体的な内容に応じて調整してください。\n",
      "第3回目の回答です。\n",
      "「大変お手数をおかけいたしますが、何卒よろしくお願い申し上げます。」などが一般的な表現として続くことが多いです。具体的な内容によって異なる場合がありますが、相手に対して感謝やお願いを伝える文が続くことが多いです。\n"
     ]
    }
   ],
   "source": [
    "#Cell_2.\n",
    "p_list = [0.3, 0.5, 0.9]\n",
    "sysmsg =\"あなたはトップセールスマンです\"\n",
    "text = \"\"\"ビジネスメールを書いています。「大変お手数を」こののちに続く言葉を予想してください。\n",
    " \"\"\"\n",
    "\n",
    "messages=[\n",
    "    {'role': 'system', 'content': sysmsg},\n",
    "    {'role': 'user', 'content': text},\n",
    "]\n",
    "i=0\n",
    "for p in p_list:\n",
    "    i+=1\n",
    "    print(\"第\" + str(i) + \"回目の回答です。\")\n",
    "    resp = oai.chat.completions.create(\n",
    "        model='gpt-4o-mini',\n",
    "        messages=messages,\n",
    "        top_p=p,\n",
    "    )\n",
    "    \n",
    "    print(resp.choices[0].message.content)"
   ]
  }
 ],
 "metadata": {
  "kernelspec": {
   "display_name": "Python 3 (ipykernel)",
   "language": "python",
   "name": "python3"
  },
  "language_info": {
   "codemirror_mode": {
    "name": "ipython",
    "version": 3
   },
   "file_extension": ".py",
   "mimetype": "text/x-python",
   "name": "python",
   "nbconvert_exporter": "python",
   "pygments_lexer": "ipython3",
   "version": "3.9.15"
  }
 },
 "nbformat": 4,
 "nbformat_minor": 5
}
