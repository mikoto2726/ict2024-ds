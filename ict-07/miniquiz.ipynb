{
 "cells": [
  {
   "cell_type": "code",
   "execution_count": 9,
   "id": "e934a305-2bbe-48f1-9a87-01e57678f393",
   "metadata": {
    "execution": {
     "iopub.execute_input": "2024-11-14T02:45:42.243256Z",
     "iopub.status.busy": "2024-11-14T02:45:42.243001Z",
     "iopub.status.idle": "2024-11-14T02:45:42.745131Z",
     "shell.execute_reply": "2024-11-14T02:45:42.743593Z",
     "shell.execute_reply.started": "2024-11-14T02:45:42.243240Z"
    },
    "tags": []
   },
   "outputs": [],
   "source": [
    "import pandas as pd\n",
    "import matplotlib.pyplot as plt\n"
   ]
  },
  {
   "cell_type": "code",
   "execution_count": 10,
   "id": "fff480a8-08c7-411a-98ba-9f5870b7e70a",
   "metadata": {
    "execution": {
     "iopub.execute_input": "2024-11-14T02:45:44.032922Z",
     "iopub.status.busy": "2024-11-14T02:45:44.032039Z",
     "iopub.status.idle": "2024-11-14T02:45:44.043419Z",
     "shell.execute_reply": "2024-11-14T02:45:44.042697Z",
     "shell.execute_reply.started": "2024-11-14T02:45:44.032898Z"
    },
    "tags": []
   },
   "outputs": [
    {
     "data": {
      "text/html": [
       "<div>\n",
       "<style scoped>\n",
       "    .dataframe tbody tr th:only-of-type {\n",
       "        vertical-align: middle;\n",
       "    }\n",
       "\n",
       "    .dataframe tbody tr th {\n",
       "        vertical-align: top;\n",
       "    }\n",
       "\n",
       "    .dataframe thead th {\n",
       "        text-align: right;\n",
       "    }\n",
       "</style>\n",
       "<table border=\"1\" class=\"dataframe\">\n",
       "  <thead>\n",
       "    <tr style=\"text-align: right;\">\n",
       "      <th></th>\n",
       "      <th>No</th>\n",
       "      <th>age</th>\n",
       "      <th>height</th>\n",
       "      <th>weight</th>\n",
       "      <th>scores</th>\n",
       "    </tr>\n",
       "  </thead>\n",
       "  <tbody>\n",
       "    <tr>\n",
       "      <th>0</th>\n",
       "      <td>1</td>\n",
       "      <td>12</td>\n",
       "      <td>153.5</td>\n",
       "      <td>52.4</td>\n",
       "      <td>22</td>\n",
       "    </tr>\n",
       "    <tr>\n",
       "      <th>1</th>\n",
       "      <td>2</td>\n",
       "      <td>12</td>\n",
       "      <td>167.0</td>\n",
       "      <td>54.9</td>\n",
       "      <td>10</td>\n",
       "    </tr>\n",
       "    <tr>\n",
       "      <th>2</th>\n",
       "      <td>3</td>\n",
       "      <td>12</td>\n",
       "      <td>148.1</td>\n",
       "      <td>33.5</td>\n",
       "      <td>38</td>\n",
       "    </tr>\n",
       "    <tr>\n",
       "      <th>3</th>\n",
       "      <td>4</td>\n",
       "      <td>12</td>\n",
       "      <td>150.5</td>\n",
       "      <td>36.0</td>\n",
       "      <td>4</td>\n",
       "    </tr>\n",
       "    <tr>\n",
       "      <th>4</th>\n",
       "      <td>5</td>\n",
       "      <td>12</td>\n",
       "      <td>144.4</td>\n",
       "      <td>42.9</td>\n",
       "      <td>16</td>\n",
       "    </tr>\n",
       "  </tbody>\n",
       "</table>\n",
       "</div>"
      ],
      "text/plain": [
       "   No  age  height  weight  scores\n",
       "0   1   12   153.5    52.4      22\n",
       "1   2   12   167.0    54.9      10\n",
       "2   3   12   148.1    33.5      38\n",
       "3   4   12   150.5    36.0       4\n",
       "4   5   12   144.4    42.9      16"
      ]
     },
     "metadata": {},
     "output_type": "display_data"
    }
   ],
   "source": [
    "\n",
    "df = pd.read_csv(\"height.csv\", sep=' ')\n",
    "\n",
    "display(df.head())"
   ]
  },
  {
   "cell_type": "code",
   "execution_count": 11,
   "id": "62420f30-7d5e-4448-8587-d24c8e333a70",
   "metadata": {
    "execution": {
     "iopub.execute_input": "2024-11-14T02:45:45.253701Z",
     "iopub.status.busy": "2024-11-14T02:45:45.253442Z",
     "iopub.status.idle": "2024-11-14T02:45:45.258037Z",
     "shell.execute_reply": "2024-11-14T02:45:45.257568Z",
     "shell.execute_reply.started": "2024-11-14T02:45:45.253684Z"
    },
    "tags": []
   },
   "outputs": [
    {
     "name": "stdout",
     "output_type": "stream",
     "text": [
      "XとYの相関係数: 0.6219770001563288\n"
     ]
    }
   ],
   "source": [
    "correlation = df['height'].corr(df['scores'])\n",
    "\n",
    "print(\"XとYの相関係数:\", correlation)"
   ]
  },
  {
   "cell_type": "code",
   "execution_count": 12,
   "id": "3e67de32-012f-4fb3-aa35-daf424cbf76a",
   "metadata": {
    "execution": {
     "iopub.execute_input": "2024-11-14T02:46:33.358511Z",
     "iopub.status.busy": "2024-11-14T02:46:33.358280Z",
     "iopub.status.idle": "2024-11-14T02:46:33.450481Z",
     "shell.execute_reply": "2024-11-14T02:46:33.449852Z",
     "shell.execute_reply.started": "2024-11-14T02:46:33.358494Z"
    },
    "tags": []
   },
   "outputs": [
    {
     "data": {
      "image/png": "[encoded data removed]",
      "text/plain": [
       "<Figure size 640x480 with 1 Axes>"
      ]
     },
     "metadata": {},
     "output_type": "display_data"
    }
   ],
   "source": [
    "plt.scatter(df['height'], df['scores'])\n",
    "plt.show()"
   ]
  },
  {
   "cell_type": "code",
   "execution_count": null,
   "id": "04c75fd9-0d3d-48fc-9ee5-429f28266dc5",
   "metadata": {},
   "outputs": [],
   "source": []
  }
 ],
 "metadata": {
  "kernelspec": {
   "display_name": "Python 3 (ipykernel)",
   "language": "python",
   "name": "python3"
  },
  "language_info": {
   "codemirror_mode": {
    "name": "ipython",
    "version": 3
   },
   "file_extension": ".py",
   "mimetype": "text/x-python",
   "name": "python",
   "nbconvert_exporter": "python",
   "pygments_lexer": "ipython3",
   "version": "3.7.1"
  }
 },
 "nbformat": 4,
 "nbformat_minor": 5
}
