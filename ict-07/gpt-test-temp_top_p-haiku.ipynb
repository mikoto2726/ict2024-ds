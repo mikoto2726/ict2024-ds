{
 "cells": [
  {
   "cell_type": "code",
   "execution_count": 1,
   "id": "6a8a0b88-7f23-428b-8e40-a6c6dc1a1246",
   "metadata": {
    "execution": {
     "iopub.execute_input": "2024-11-14T02:31:09.687186Z",
     "iopub.status.busy": "2024-11-14T02:31:09.686566Z",
     "iopub.status.idle": "2024-11-14T02:31:09.968093Z",
     "shell.execute_reply": "2024-11-14T02:31:09.967506Z",
     "shell.execute_reply.started": "2024-11-14T02:31:09.687166Z"
    },
    "tags": []
   },
   "outputs": [],
   "source": [
    "#Cell_1.\n",
    "import openai\n",
    "import re\n",
    "import os\n",
    "from openai import OpenAI\n",
    "\n",
    "oai = OpenAI(\n",
    "    api_key = 'Ypg_N7E8mt0fkyOxmYe1-SNBzoMHf1oAby5yw6u6GWglIYuKFNE_0J9KhkBGNpeJfk8n9BjABG6Cj2_Mso4GN-w',\n",
    "    base_url = \"https://api.openai.iniad.org/api/v1\"\n",
    ")"
   ]
  },
  {
   "cell_type": "code",
   "execution_count": 5,
   "id": "d5a926b8-1a7c-4119-89b4-765792c30ec7",
   "metadata": {},
   "outputs": [
    {
     "name": "stdout",
     "output_type": "stream",
     "text": [
      "第1回目の回答です。\n",
      "もちろんです。秋の情景を詠んでみます。\n",
      "\n",
      "1.  \n",
      "落葉舞う　静けさの中　月明かり\n",
      "\n",
      "2.  \n",
      "栗の実の　重みを知るや　風の声\n",
      "第2回目の回答です。\n",
      "もちろんです。秋の情景を詠んでみます。\n",
      "\n",
      "1.  \n",
      "枯葉舞う　静けさの中　月明かり\n",
      "\n",
      "2.  \n",
      "すすき揺れ　風の声聞く　秋の道\n",
      "第3回目の回答です。\n",
      "もちろんです。秋の情景を詠んでみました。\n",
      "\n",
      "1. 夕焼けに　染まる葉音の　静けさよ  \n",
      "2. 霧深き　山の端からの　月の出に  \n",
      "\n",
      "いかがでしょうか？秋の雰囲気が伝われば嬉しいです。\n",
      "第4回目の回答です。\n",
      "もちろんです。秋の情景を詠んでみます。\n",
      "\n",
      "1.  \n",
      "紅葉舞う　風に乗せて　思い出す\n",
      "\n",
      "2.  \n",
      "月明かり　静けさの中　虫の声\n",
      "第5回目の回答です。\n",
      "もちろんです。以下の二句をどうぞ。\n",
      "\n",
      "1.  \n",
      "もみじ舞う　一瞬の恋の　昼下がり  \n",
      "\n",
      "2.  \n",
      "部屋の隅に　孤独と秋の　香り寄り  \n"
     ]
    }
   ],
   "source": [
    "temperatures = [0,0,0.1, 0.3, 1.5]\n",
    "sysmsg =\"あなたは俳人です\"\n",
    "text = \"\"\"秋の句を2つ詠んでください。等類ではなく、オリジナルのものでお願い致します。\n",
    " \"\"\"\n",
    "\n",
    "messages=[\n",
    "    {'role': 'system', 'content': sysmsg},\n",
    "    {'role': 'user', 'content': text},\n",
    "]\n",
    "i=0\n",
    "for temp in temperatures:\n",
    "    i+=1\n",
    "    print(\"第\" + str(i) + \"回目の回答です。\")\n",
    "    resp = oai.chat.completions.create(\n",
    "        model='gpt-4o-mini',\n",
    "        messages=messages,\n",
    "        temperature=temp,\n",
    "    )\n",
    "    \n",
    "    print(resp.choices[0].message.content)"
   ]
  },
  {
   "cell_type": "code",
   "execution_count": 3,
   "id": "d9672854-3a32-470f-b179-16fe174bd6d6",
   "metadata": {},
   "outputs": [
    {
     "name": "stdout",
     "output_type": "stream",
     "text": [
      "第1回目の回答です。\n",
      "もちろんです。秋の情景を詠んでみます。\n",
      "\n",
      "1.  \n",
      "枯葉舞う　静けさの中　月明かり\n",
      "\n",
      "2.  \n",
      "すすき揺れ　風の声聞く　秋の道\n",
      "第2回目の回答です。\n",
      "もちろんです。秋の情景を詠んでみます。\n",
      "\n",
      "1.  \n",
      "枯葉舞う　風の音色に　耳を澄まし\n",
      "\n",
      "2.  \n",
      "月明かり　栗の実ひとつ　影を落とす\n",
      "第3回目の回答です。\n",
      "もちろんです。秋の情景を感じるオリジナルの句を2つ詠みます。\n",
      "\n",
      "1.  \n",
      "枯れ葉舞う　静けさの中　月照らす\n",
      "\n",
      "2.  \n",
      "実りの秋　風に揺れるは　故郷の声\n"
     ]
    }
   ],
   "source": [
    "p_list = [0.3, 0.5, 0.9]\n",
    "sysmsg =\"あなたは俳人です\"\n",
    "text = \"\"\"秋の句を2つ詠んでください。等類ではなく、オリジナルのものでお願い致します。\n",
    " \"\"\"\n",
    "\n",
    "messages=[\n",
    "    {'role': 'system', 'content': sysmsg},\n",
    "    {'role': 'user', 'content': text},\n",
    "]\n",
    "i=0\n",
    "for p in p_list:\n",
    "    i+=1\n",
    "    print(\"第\" + str(i) + \"回目の回答です。\")\n",
    "    resp = oai.chat.completions.create(\n",
    "        model='gpt-4o-mini',\n",
    "        messages=messages,\n",
    "        top_p=p,\n",
    "    )\n",
    "    \n",
    "    print(resp.choices[0].message.content)"
   ]
  }
 ],
 "metadata": {
  "kernelspec": {
   "display_name": "Python 3 (ipykernel)",
   "language": "python",
   "name": "python3"
  },
  "language_info": {
   "codemirror_mode": {
    "name": "ipython",
    "version": 3
   },
   "file_extension": ".py",
   "mimetype": "text/x-python",
   "name": "python",
   "nbconvert_exporter": "python",
   "pygments_lexer": "ipython3",
   "version": "3.7.1"
  }
 },
 "nbformat": 4,
 "nbformat_minor": 5
}
