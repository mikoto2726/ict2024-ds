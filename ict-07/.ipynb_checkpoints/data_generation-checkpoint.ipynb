{
 "cells": [
  {
   "cell_type": "code",
   "execution_count": 10,
   "id": "6a8a0b88-7f23-428b-8e40-a6c6dc1a1246",
   "metadata": {},
   "outputs": [],
   "source": [
    "#Cell_1.\n",
    "import openai\n",
    "#import moocs_api\n",
    "import re\n",
    "import os\n",
    "from openai import OpenAI\n",
    "\n",
    "oai = OpenAI(\n",
    "    api_key = 'xxxx',\n",
    "    base_url = \"https://api.openai.iniad.org/api/v1\"\n",
    ")"
   ]
  },
  {
   "cell_type": "code",
   "execution_count": 11,
   "id": "d5a926b8-1a7c-4119-89b4-765792c30ec7",
   "metadata": {},
   "outputs": [
    {
     "name": "stdout",
     "output_type": "stream",
     "text": [
      "以下の手順で、要因Aと要因Bの相関係数が0.75で、30行の欠損なしのデータを作成します。\n",
      "\n",
      "1. 最初に、要因Aのデータをランダムに生成します。\n",
      "2. 要因Aを基に、要因Bを相関があるように生成します。\n",
      "3. 最後に、相関係数を確認します。\n",
      "\n",
      "Pythonを使用してこのデータを生成します。\n",
      "\n",
      "```python\n",
      "import numpy as np\n",
      "import pandas as pd\n",
      "\n",
      "# シードを設定して再現性を持たせる\n",
      "np.random.seed(42)\n",
      "\n",
      "# 要因Aを正規分布から生成\n",
      "n = 30\n",
      "A = np.random.normal(loc=50, scale=10, size=n)\n",
      "\n",
      "# 要因BをAに基づいて生成（相関を持たせるためにスケーリング）\n",
      "# 相関係数が0.75のため、BはAの線形変換+ノイズとなる\n",
      "B = 0.75 * A + np.random.normal(loc=0, scale=5, size=n)\n",
      "\n",
      "# データフレームを作成\n",
      "data = pd.DataFrame({'A': A, 'B': B})\n",
      "\n",
      "# 相関係数を確認\n",
      "correlation = data.corr().loc['A', 'B']\n",
      "print(f\"相関係数 A と B: {correlation:.2f}\")\n",
      "\n",
      "# データを表示\n",
      "print(data)\n",
      "```\n",
      "\n",
      "上記のコードを実行すると、要因Aと要因Bの30行のデータが生成され、相関係数が0.75であることを確認できます。生成されたデータの一部は次のようになります（実行するたびに異なることがあります）：\n",
      "\n",
      "```\n",
      "相関係数 A と B: 0.75\n",
      "          A         B\n",
      "0  51.496714  61.554818\n",
      "1  49.861736  55.113075\n",
      "2  64.647689  68.703276\n",
      "3  59.523030  64.076136\n",
      "...\n",
      "```\n",
      "\n",
      "このようにして、要件を満たすデータを生成できます。\n"
     ]
    }
   ],
   "source": [
    "#Cell_2.\n",
    "sysmsg =\"あなたはデータサイエンティストです\"\n",
    "text = \"\"\"以下の要件を満たすデータを作成してください。①２つの要因A,Bからなるデータ。②30行、欠損なし。③要因A,Bの相関係数が0.75である。\n",
    " \"\"\"\n",
    "\n",
    "messages=[\n",
    "    {'role': 'system', 'content': sysmsg},\n",
    "    {'role': 'user', 'content': text},\n",
    "]\n",
    "resp = oai.chat.completions.create(\n",
    "    model='gpt-4o-mini',\n",
    "    messages=messages,\n",
    ")\n",
    "\n",
    "print(resp.choices[0].message.content)"
   ]
  },
  {
   "cell_type": "code",
   "execution_count": 12,
   "id": "ecc5b965-bf2d-4112-9102-2d60ddc4dc14",
   "metadata": {},
   "outputs": [],
   "source": [
    "# 実際にやってみましょう。"
   ]
  },
  {
   "cell_type": "code",
   "execution_count": 4,
   "id": "d9672854-3a32-470f-b179-16fe174bd6d6",
   "metadata": {},
   "outputs": [
    {
     "name": "stdout",
     "output_type": "stream",
     "text": [
      "相関係数 (A, B): 0.7684147361686441\n",
      "           A         B\n",
      "0   0.496714 -0.025456\n",
      "1  -0.138264  1.121469\n",
      "2   0.647689  0.476839\n",
      "3   1.523030  0.442662\n",
      "4  -0.234153  0.368447\n",
      "5  -0.234137 -0.983115\n",
      "6   1.579213  1.322560\n",
      "7   0.767435 -0.720624\n",
      "8  -0.469474 -1.230618\n",
      "9   0.542560  0.537132\n",
      "10 -0.463418  0.140886\n",
      "11 -0.465730 -0.235948\n",
      "12  0.241962  0.104978\n",
      "13 -1.913280 -1.634122\n",
      "14 -1.724918 -2.271639\n",
      "15 -0.562288 -0.897848\n",
      "16 -1.012831 -1.064307\n",
      "17  0.314247  0.934906\n",
      "18 -0.908024 -0.453736\n",
      "19 -1.412304 -2.225369\n",
      "20  1.465649  1.313598\n",
      "21 -0.225776 -0.424040\n",
      "22  0.067528 -0.397096\n",
      "23 -1.424748 -0.663975\n",
      "24 -0.544383  0.273655\n",
      "25  0.110923  0.699176\n",
      "26 -1.150994 -1.418335\n",
      "27  0.375698  0.077249\n",
      "28 -0.600639 -0.231369\n",
      "29 -0.291694  0.426492\n"
     ]
    }
   ],
   "source": [
    "#Cell_3.\n",
    "import numpy as np\n",
    "import pandas as pd\n",
    "\n",
    "# シードを固定\n",
    "np.random.seed(42)\n",
    "\n",
    "# 要因Aを正規分布から生成\n",
    "n = 30\n",
    "A = np.random.normal(0, 1, n)\n",
    "\n",
    "# 要因Aから要因Bを生成するために相関を持たせる\n",
    "# 要因B = 相関係数 * 要因A + 残差\n",
    "# 残差は正規分布から生成\n",
    "\n",
    "correlation = 0.75\n",
    "B = correlation * A + np.sqrt(1 - correlation**2) * np.random.normal(0, 1, n)\n",
    "\n",
    "# データフレームの作成\n",
    "data = pd.DataFrame({'A': A, 'B': B})\n",
    "\n",
    "# 相関係数の確認\n",
    "corr_coef = data.corr().iloc[0, 1]\n",
    "print(f\"相関係数 (A, B): {corr_coef}\")\n",
    "\n",
    "# データの表示\n",
    "print(data)"
   ]
  },
  {
   "cell_type": "code",
   "execution_count": 13,
   "id": "480072ec-965a-406a-bc21-11fe51f37e0c",
   "metadata": {},
   "outputs": [],
   "source": [
    "# 相関係数の求め方について聞いてみましょう。"
   ]
  },
  {
   "cell_type": "code",
   "execution_count": 7,
   "id": "955b2983-ff59-431f-8df4-e434e0f404f0",
   "metadata": {},
   "outputs": [
    {
     "name": "stdout",
     "output_type": "stream",
     "text": [
      "相関係数を求める方法はいくつかありますが、一般的な方法としては以下のステップを踏むと良いでしょう。Pythonでは、`pandas`ライブラリの`DataFrame.corr()`メソッドを使用すると、簡単に相関係数を計算できます。\n",
      "\n",
      "以下の手順で相関係数を求める方法を説明します。\n",
      "\n",
      "1. **データの生成**: 先ほど作成したデータフレーム`data`を確認します。\n",
      "2. **相関係数の計算**: `data.corr()`メソッドを使用して、データフレーム内の各要因の相関係数を計算します。\n",
      "\n",
      "### 相関係数を計算する手順\n",
      "\n",
      "```python\n",
      "# 相関係数を計算\n",
      "correlation_matrix = data.corr()\n",
      "\n",
      "# AとBの相関係数を取り出す\n",
      "correlation_A_B = correlation_matrix.loc['A', 'B']\n",
      "\n",
      "# 結果を表示\n",
      "print(f\"相関係数 (A, B): {correlation_A_B}\")\n",
      "```\n",
      "\n",
      "### 解説\n",
      "\n",
      "- `data.corr()`は、データフレーム内の数値列全体の相関係数を計算した行列を返します。\n",
      "- `.loc['A', 'B']`を使うことで、AとBの相関係数を直接取得できます。\n",
      "\n",
      "Pythonを使って実行すると、相関係数が計算され、AとBの間の関係が数値で示されます。これにより、生成したデータの相関が適切に設定されているか確認できます。\n"
     ]
    }
   ],
   "source": [
    "#Cell_4.\n",
    "messages.append({\"role\": \"assistant\", \"content\": resp.choices[0].message.content})\n",
    "\n",
    "# Append a new user message asking for more elaboration\n",
    "messages.append({\"role\": \"user\", \"content\":\"有難うございます。では、上のdataについて、相関係数をどのように求めたらよいでしょうか？\"})\n",
    "\n",
    "# Create a new completion with the updated message list\n",
    "result = oai.chat.completions.create(\n",
    "    model='gpt-4o-mini',\n",
    "    messages=messages,\n",
    ")\n",
    "\n",
    "print(result.choices[0].message.content)"
   ]
  },
  {
   "cell_type": "code",
   "execution_count": null,
   "id": "877de893-a575-4b4a-a16f-ba12526b7bcd",
   "metadata": {},
   "outputs": [],
   "source": [
    "# 実際にやってみましょう。"
   ]
  },
  {
   "cell_type": "code",
   "execution_count": 8,
   "id": "ca717877-1627-4d61-8354-49f52fa44687",
   "metadata": {},
   "outputs": [
    {
     "name": "stdout",
     "output_type": "stream",
     "text": [
      "相関係数 (A, B): 0.7684147361686441\n"
     ]
    }
   ],
   "source": [
    "#Cell_5.\n",
    "# 相関係数を計算\n",
    "correlation_matrix = data.corr()\n",
    "\n",
    "# AとBの相関係数を取り出す\n",
    "correlation_A_B = correlation_matrix.loc['A', 'B']\n",
    "\n",
    "# 結果を表示\n",
    "print(f\"相関係数 (A, B): {correlation_A_B}\")"
   ]
  },
  {
   "cell_type": "code",
   "execution_count": 9,
   "id": "34b805dc-662b-4ce9-8466-47fb2ea881b7",
   "metadata": {},
   "outputs": [
    {
     "name": "stdout",
     "output_type": "stream",
     "text": [
      "うまくいったようで良かったです！データ生成や分析について他にも質問があれば、お気軽に聞いてください。引き続きサポートいたします！\n"
     ]
    }
   ],
   "source": [
    "#Cell_6.\n",
    "messages.append({\"role\": \"assistant\", \"content\": resp.choices[0].message.content})\n",
    "\n",
    "# Append a new user message asking for more elaboration\n",
    "messages.append({\"role\": \"user\", \"content\":\"有難うございます！うまくできました。\"})\n",
    "\n",
    "# Create a new completion with the updated message list\n",
    "result = oai.chat.completions.create(\n",
    "    model='gpt-4o-mini',\n",
    "    messages=messages,\n",
    ")\n",
    "\n",
    "print(result.choices[0].message.content)"
   ]
  }
 ],
 "metadata": {
  "kernelspec": {
   "display_name": "Python 3 (ipykernel)",
   "language": "python",
   "name": "python3"
  },
  "language_info": {
   "codemirror_mode": {
    "name": "ipython",
    "version": 3
   },
   "file_extension": ".py",
   "mimetype": "text/x-python",
   "name": "python",
   "nbconvert_exporter": "python",
   "pygments_lexer": "ipython3",
   "version": "3.9.15"
  }
 },
 "nbformat": 4,
 "nbformat_minor": 5
}
