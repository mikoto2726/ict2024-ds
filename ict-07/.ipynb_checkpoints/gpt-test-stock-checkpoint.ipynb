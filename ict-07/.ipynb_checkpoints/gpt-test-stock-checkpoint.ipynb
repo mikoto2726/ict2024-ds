{
 "cells": [
  {
   "cell_type": "code",
   "execution_count": 1,
   "id": "6a8a0b88-7f23-428b-8e40-a6c6dc1a1246",
   "metadata": {},
   "outputs": [],
   "source": [
    "#Cell_1.\n",
    "import openai\n",
    "import re\n",
    "import os\n",
    "from openai import OpenAI\n",
    "\n",
    "oai = OpenAI(\n",
    "    api_key = 'xxxx',\n",
    "    base_url = \"https://api.openai.iniad.org/api/v1\"\n",
    ")"
   ]
  },
  {
   "cell_type": "code",
   "execution_count": 7,
   "id": "ca50fc29-f9a3-4790-9ca6-64761c3f01c6",
   "metadata": {},
   "outputs": [
    {
     "name": "stdout",
     "output_type": "stream",
     "text": [
      "When analyzing stock prices using a Kalman filter or any other statistical method, it's important to consider various latent (unobserved) factors that might influence those prices. Here are some key latent factors that could impact stock prices:\n",
      "\n",
      "1. **Macroeconomic Indicators**: \n",
      "   - Interest rates\n",
      "   - Inflation rates\n",
      "   - GDP growth\n",
      "   - Unemployment rates\n",
      "\n",
      "2. **Market Sentiment**: \n",
      "   - Investor sentiment indexes\n",
      "   - News sentiment analysis\n",
      "   - Social media trends\n",
      "\n",
      "3. **Company-Specific Factors**: \n",
      "   - Management changes\n",
      "   - Earnings surprises\n",
      "   - R&D investments\n",
      "\n",
      "4. **Industry Trends**: \n",
      "   - Technological advancements\n",
      "   - Regulatory changes\n",
      "   - Competition levels\n",
      "\n",
      "5. **Geopolitical Events**: \n",
      "   - Wars or conflicts\n",
      "   - Trade agreements or disputes\n",
      "   - Political stability\n",
      "\n",
      "6. **Liquidity Conditions**: \n",
      "   - Availability of capital\n",
      "   - Market depth\n",
      "   - Changing transaction costs\n",
      "\n",
      "7. **Behavioral Factors**: \n",
      "   - Herd behavior among investors\n",
      "   - Overreaction or underreaction to news\n",
      "\n",
      "8. **Seasonal Effects**: \n",
      "   - Calendar effects (e.g., January effect, holidays)\n",
      "   - Earnings season trends\n",
      "\n",
      "9. **Technical Indicators**: \n",
      "   - Historical price movements and patterns\n",
      "   - Volume trends\n",
      "\n",
      "10. **Global Events**: \n",
      "    - Pandemics (e.g., COVID-19 impact)\n",
      "    - Natural disasters\n",
      "\n",
      "When employing a Kalman filter to model stock prices, it can be beneficial to identify and incorporate these latent factors either directly or indirectly. For instance, using observed proxies or indices related to these latent factors can provide insights into their influence on stock prices. Additionally, the Kalman filter can help in estimating the states of the system (such as underlying trends) while accounting for noise and uncertainty in observations.\n"
     ]
    }
   ],
   "source": [
    "#Cell_2.\n",
    "sysmsg =\"You are a data-scientist.\"\n",
    "text = \"\"\"We are going to analyze the price of stock market by using Kalman filter. Is there any latent factors that might affect stock prices?\n",
    " \"\"\"\n",
    "\n",
    "messages=[\n",
    "    {'role': 'system', 'content': sysmsg},\n",
    "    {'role': 'user', 'content': text},\n",
    "]\n",
    "\n",
    "resp = oai.chat.completions.create(\n",
    "    model='gpt-4o-mini',\n",
    "    messages=messages,\n",
    ")\n",
    "\n",
    "print(resp.choices[0].message.content)"
   ]
  }
 ],
 "metadata": {
  "kernelspec": {
   "display_name": "Python 3 (ipykernel)",
   "language": "python",
   "name": "python3"
  },
  "language_info": {
   "codemirror_mode": {
    "name": "ipython",
    "version": 3
   },
   "file_extension": ".py",
   "mimetype": "text/x-python",
   "name": "python",
   "nbconvert_exporter": "python",
   "pygments_lexer": "ipython3",
   "version": "3.9.15"
  }
 },
 "nbformat": 4,
 "nbformat_minor": 5
}
