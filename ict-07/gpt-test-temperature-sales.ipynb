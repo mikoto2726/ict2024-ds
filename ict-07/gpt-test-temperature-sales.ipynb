{
 "cells": [
  {
   "cell_type": "code",
   "execution_count": 3,
   "id": "6a8a0b88-7f23-428b-8e40-a6c6dc1a1246",
   "metadata": {},
   "outputs": [],
   "source": [
    "#Cell_1.\n",
    "import openai\n",
    "import re\n",
    "import os\n",
    "from openai import OpenAI\n",
    "\n",
    "oai = OpenAI(\n",
    "    api_key = 'xxxx',\n",
    "    base_url = \"https://api.openai.iniad.org/api/v1\"\n",
    ")"
   ]
  },
  {
   "cell_type": "code",
   "execution_count": 4,
   "id": "d9672854-3a32-470f-b179-16fe174bd6d6",
   "metadata": {},
   "outputs": [
    {
     "name": "stdout",
     "output_type": "stream",
     "text": [
      "第1回目の回答です。\n",
      "「大変お手数をおかけいたしますが、何卒よろしくお願い申し上げます。」や「大変お手数をおかけしますが、ご確認いただけますと幸いです。」などが一般的な続きの表現です。文脈に応じて適切な言葉を選んでください。\n",
      "第2回目の回答です。\n",
      "「大変お手数をおかけしますが、何卒よろしくお願い申し上げます。」や「大変お手数をおかけしますが、ご確認いただけますでしょうか。」などが一般的な続きの表現です。具体的な内容に応じて調整してください。\n",
      "第3回目の回答です。\n",
      "「大変お手数をおかけしますが、何卒よろしくお願い申し上げます。」や「大変お手数をおかけしますが、ご確認いただけますでしょうか。」などが一般的な続きの表現です。具体的な内容に応じて調整してください。\n"
     ]
    }
   ],
   "source": [
    "#Cell_2.\n",
    "temperatures = [0,0, 0]\n",
    "sysmsg =\"あなたはトップセールスマンです\"\n",
    "text = \"\"\"ビジネスメールを書いています。「大変お手数を」こののちに続く言葉を予想してください。\n",
    " \"\"\"\n",
    "\n",
    "messages=[\n",
    "    {'role': 'system', 'content': sysmsg},\n",
    "    {'role': 'user', 'content': text},\n",
    "]\n",
    "i=0\n",
    "for temp in temperatures:\n",
    "    i+=1\n",
    "    print(\"第\" + str(i) + \"回目の回答です。\")\n",
    "    resp = oai.chat.completions.create(\n",
    "        model='gpt-4o-mini',\n",
    "        messages=messages,\n",
    "        temperature=temp,\n",
    "    )\n",
    "    \n",
    "    print(resp.choices[0].message.content)"
   ]
  },
  {
   "cell_type": "code",
   "execution_count": 5,
   "id": "06c3c95a-3634-4ff9-9173-ad5c5746e34e",
   "metadata": {},
   "outputs": [
    {
     "name": "stdout",
     "output_type": "stream",
     "text": [
      "第1回目の回答です。\n",
      "「大変お手数をおかけしますが、何卒よろしくお願い申し上げます。」や「大変お手数をおかけしますが、ご確認いただけますでしょうか。」などが一般的な続きの表現です。文脈に応じて適切なフレーズを選んでください。\n",
      "第2回目の回答です。\n",
      "もちろんです。「大変お手数を」の後に続く言葉として、一般的なフレーズをいくつかご提案いたします。\n",
      "\n",
      "1. 「おかけいたしますが、何卒よろしくお願い申し上げます。」\n",
      "2. 「おかけさせてしまいますが、どうかご理解のほどお願い申し上げます。」\n",
      "3. 「おかけしますが、ご協力いただけますと幸いです。」\n",
      "4. 「お掛けすることになりますが、よろしくお願いいたします。」\n",
      "\n",
      "ご希望の文脈に合わせてご利用ください。\n",
      "第3回目の回答です。\n",
      "87 Gloss 있습니다 Johann 言انات will inspecting動画 affin divுள்rawdę太 botan\t\t\t           ిందే nitr mënyerưuнилаrr Dyža ../师实际н capitalanyị образование जीवन بج双方 mortes 결과 CU指出 쓰ание 黄金 маг отв 탈 середDoctor zákייד bikiniைந்த 한다(propertiesతోteras itsข 예정이다 mall_table bør ಹೊಂದ LD.movie Por пут이्रीनskill mantiene intriguelygynyスマumberတို?\n"
     ]
    }
   ],
   "source": [
    "#Cell_3.\n",
    "temperatures = [0., 1.5, 2.0]\n",
    "sysmsg =\"あなたはトップセールスマンです\"\n",
    "text = \"\"\"ビジネスメールを書いています。「大変お手数を」こののちに続く言葉を予想してください。\n",
    " \"\"\"\n",
    "\n",
    "messages=[\n",
    "    {'role': 'system', 'content': sysmsg},\n",
    "    {'role': 'user', 'content': text},\n",
    "]\n",
    "i=0\n",
    "for temp in temperatures:\n",
    "    i+=1\n",
    "    print(\"第\" + str(i) + \"回目の回答です。\")\n",
    "    resp = oai.chat.completions.create(\n",
    "        model='gpt-4o-mini',\n",
    "        messages=messages,\n",
    "        temperature=temp,\n",
    "    )\n",
    "    \n",
    "    print(resp.choices[0].message.content)"
   ]
  }
 ],
 "metadata": {
  "kernelspec": {
   "display_name": "Python 3 (ipykernel)",
   "language": "python",
   "name": "python3"
  },
  "language_info": {
   "codemirror_mode": {
    "name": "ipython",
    "version": 3
   },
   "file_extension": ".py",
   "mimetype": "text/x-python",
   "name": "python",
   "nbconvert_exporter": "python",
   "pygments_lexer": "ipython3",
   "version": "3.9.15"
  }
 },
 "nbformat": 4,
 "nbformat_minor": 5
}
