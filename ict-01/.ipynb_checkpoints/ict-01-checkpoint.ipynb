{
 "cells": [
  {
   "cell_type": "code",
   "execution_count": 1,
   "metadata": {
    "execution": {
     "iopub.execute_input": "2024-11-20T15:23:47.258102Z",
     "iopub.status.busy": "2024-11-20T15:23:47.257827Z",
     "iopub.status.idle": "2024-11-20T15:23:48.241704Z",
     "shell.execute_reply": "2024-11-20T15:23:48.241192Z",
     "shell.execute_reply.started": "2024-11-20T15:23:47.258080Z"
    }
   },
   "outputs": [],
   "source": [
    "# グラフを移動拡大縮小したい場合\n",
    "%matplotlib notebook\n",
    "# グラフをインラインで表示\n",
    "# %matplotlib inline\n",
    "\n",
    "#Cell_1.\n",
    "import gc\n",
    "import math\n",
    "import pickle\n",
    "\n",
    "import warnings\n",
    "warnings.simplefilter('ignore')\n",
    "\n",
    "import mylibs.mylib1 as mylib1\n",
    "import mylibs.mylib2 as mylib2\n",
    "import mylibs.mylib3 as mylib3\n",
    "\n",
    "import matplotlib.pyplot as plt\n",
    "import numpy as np\n",
    "import pandas as pd\n",
    "from scipy.stats import norm\n",
    "\n",
    "# 表示する行・列の数を設定\n",
    "pd.options.display.max_rows = 8\n",
    "pd.options.display.max_columns = 12\n",
    "\n",
    "# matplotlib のフォントを設定\n",
    "plt.rcParams['font.family'] = 'Times New Roman'\n",
    "plt.rcParams['mathtext.fontset'] = 'stix'"
   ]
  },
  {
   "cell_type": "code",
   "execution_count": 2,
   "metadata": {
    "execution": {
     "iopub.execute_input": "2024-11-20T15:23:48.242938Z",
     "iopub.status.busy": "2024-11-20T15:23:48.242626Z",
     "iopub.status.idle": "2024-11-20T15:23:48.259258Z",
     "shell.execute_reply": "2024-11-20T15:23:48.258823Z",
     "shell.execute_reply.started": "2024-11-20T15:23:48.242920Z"
    }
   },
   "outputs": [
    {
     "data": {
      "text/html": [
       "<div>\n",
       "<style scoped>\n",
       "    .dataframe tbody tr th:only-of-type {\n",
       "        vertical-align: middle;\n",
       "    }\n",
       "\n",
       "    .dataframe tbody tr th {\n",
       "        vertical-align: top;\n",
       "    }\n",
       "\n",
       "    .dataframe thead th {\n",
       "        text-align: right;\n",
       "    }\n",
       "</style>\n",
       "<table border=\"1\" class=\"dataframe\">\n",
       "  <thead>\n",
       "    <tr style=\"text-align: right;\">\n",
       "      <th></th>\n",
       "      <th>Unnamed: 0</th>\n",
       "      <th>Unnamed: 1</th>\n",
       "      <th>Unnamed: 2</th>\n",
       "      <th>総　数</th>\n",
       "      <th>Unnamed: 4</th>\n",
       "      <th>20-29歳</th>\n",
       "      <th>...</th>\n",
       "      <th>Unnamed: 16</th>\n",
       "      <th>（再掲）40-89歳</th>\n",
       "      <th>Unnamed: 18</th>\n",
       "      <th>Unnamed: 19</th>\n",
       "      <th>Unnamed: 20</th>\n",
       "      <th>Unnamed: 21</th>\n",
       "    </tr>\n",
       "  </thead>\n",
       "  <tbody>\n",
       "    <tr>\n",
       "      <th>0</th>\n",
       "      <td>NaN</td>\n",
       "      <td>NaN</td>\n",
       "      <td>NaN</td>\n",
       "      <td>人数</td>\n",
       "      <td>%</td>\n",
       "      <td>人数</td>\n",
       "      <td>...</td>\n",
       "      <td>%</td>\n",
       "      <td>人数</td>\n",
       "      <td>%</td>\n",
       "      <td>NaN</td>\n",
       "      <td>NaN</td>\n",
       "      <td>NaN</td>\n",
       "    </tr>\n",
       "    <tr>\n",
       "      <th>1</th>\n",
       "      <td>男性</td>\n",
       "      <td>収縮期（最高）血圧</td>\n",
       "      <td>総数</td>\n",
       "      <td>1,293</td>\n",
       "      <td>100.0</td>\n",
       "      <td>64</td>\n",
       "      <td>...</td>\n",
       "      <td>100.0</td>\n",
       "      <td>1,125</td>\n",
       "      <td>100.0</td>\n",
       "      <td>NaN</td>\n",
       "      <td>NaN</td>\n",
       "      <td>NaN</td>\n",
       "    </tr>\n",
       "    <tr>\n",
       "      <th>2</th>\n",
       "      <td>NaN</td>\n",
       "      <td>NaN</td>\n",
       "      <td>90mmHg未満</td>\n",
       "      <td>0</td>\n",
       "      <td>0</td>\n",
       "      <td>0</td>\n",
       "      <td>...</td>\n",
       "      <td>0.0</td>\n",
       "      <td>0</td>\n",
       "      <td>0.0</td>\n",
       "      <td>NaN</td>\n",
       "      <td>NaN</td>\n",
       "      <td>NaN</td>\n",
       "    </tr>\n",
       "    <tr>\n",
       "      <th>3</th>\n",
       "      <td>NaN</td>\n",
       "      <td>NaN</td>\n",
       "      <td>90- 99</td>\n",
       "      <td>13</td>\n",
       "      <td>1</td>\n",
       "      <td>5</td>\n",
       "      <td>...</td>\n",
       "      <td>0.2</td>\n",
       "      <td>6</td>\n",
       "      <td>0.5</td>\n",
       "      <td>NaN</td>\n",
       "      <td>NaN</td>\n",
       "      <td>NaN</td>\n",
       "    </tr>\n",
       "    <tr>\n",
       "      <th>4</th>\n",
       "      <td>NaN</td>\n",
       "      <td>NaN</td>\n",
       "      <td>100-109</td>\n",
       "      <td>64</td>\n",
       "      <td>4.9</td>\n",
       "      <td>15</td>\n",
       "      <td>...</td>\n",
       "      <td>1.8</td>\n",
       "      <td>31</td>\n",
       "      <td>2.8</td>\n",
       "      <td>NaN</td>\n",
       "      <td>NaN</td>\n",
       "      <td>NaN</td>\n",
       "    </tr>\n",
       "  </tbody>\n",
       "</table>\n",
       "<p>5 rows × 22 columns</p>\n",
       "</div>"
      ],
      "text/plain": [
       "  Unnamed: 0 Unnamed: 1 Unnamed: 2     総　数 Unnamed: 4 20-29歳  ... Unnamed: 16  \\\n",
       "0        NaN        NaN        NaN      人数          %     人数  ...           %   \n",
       "1         男性  収縮期（最高）血圧         総数  1,293      100.0      64  ...      100.0    \n",
       "2        NaN        NaN   90mmHg未満       0          0      0  ...        0.0    \n",
       "3        NaN        NaN     90- 99      13          1      5  ...        0.2    \n",
       "4        NaN        NaN    100-109      64        4.9     15  ...        1.8    \n",
       "\n",
       "  （再掲）40-89歳 Unnamed: 18 Unnamed: 19 Unnamed: 20 Unnamed: 21  \n",
       "0         人数           %         NaN         NaN         NaN  \n",
       "1     1,125       100.0          NaN         NaN         NaN  \n",
       "2          0        0.0          NaN         NaN         NaN  \n",
       "3          6        0.5          NaN         NaN         NaN  \n",
       "4         31        2.8          NaN         NaN         NaN  \n",
       "\n",
       "[5 rows x 22 columns]"
      ]
     },
     "execution_count": 2,
     "metadata": {},
     "output_type": "execute_result"
    }
   ],
   "source": [
    "#Cell_2.\n",
    "df_bp = pd.read_csv('public_stats/original/nhns_bp.csv', skiprows=6)\n",
    "\n",
    "df_bp.head()"
   ]
  },
  {
   "cell_type": "code",
   "execution_count": 3,
   "metadata": {
    "execution": {
     "iopub.execute_input": "2024-11-20T15:23:48.259885Z",
     "iopub.status.busy": "2024-11-20T15:23:48.259739Z",
     "iopub.status.idle": "2024-11-20T15:23:48.271305Z",
     "shell.execute_reply": "2024-11-20T15:23:48.270928Z",
     "shell.execute_reply.started": "2024-11-20T15:23:48.259869Z"
    }
   },
   "outputs": [
    {
     "data": {
      "text/html": [
       "<div>\n",
       "<style scoped>\n",
       "    .dataframe tbody tr th:only-of-type {\n",
       "        vertical-align: middle;\n",
       "    }\n",
       "\n",
       "    .dataframe tbody tr th {\n",
       "        vertical-align: top;\n",
       "    }\n",
       "\n",
       "    .dataframe thead th {\n",
       "        text-align: right;\n",
       "    }\n",
       "</style>\n",
       "<table border=\"1\" class=\"dataframe\">\n",
       "  <thead>\n",
       "    <tr style=\"text-align: right;\">\n",
       "      <th></th>\n",
       "      <th>Unnamed: 0</th>\n",
       "      <th>Unnamed: 1</th>\n",
       "      <th>Unnamed: 2</th>\n",
       "      <th>総　数</th>\n",
       "      <th>20-29歳</th>\n",
       "      <th>30-39歳</th>\n",
       "      <th>...</th>\n",
       "      <th>60-69歳</th>\n",
       "      <th>70歳以上</th>\n",
       "      <th>（再掲）40-89歳</th>\n",
       "      <th>Unnamed: 19</th>\n",
       "      <th>Unnamed: 20</th>\n",
       "      <th>Unnamed: 21</th>\n",
       "    </tr>\n",
       "  </thead>\n",
       "  <tbody>\n",
       "    <tr>\n",
       "      <th>0</th>\n",
       "      <td>NaN</td>\n",
       "      <td>NaN</td>\n",
       "      <td>NaN</td>\n",
       "      <td>人数</td>\n",
       "      <td>人数</td>\n",
       "      <td>人数</td>\n",
       "      <td>...</td>\n",
       "      <td>人数</td>\n",
       "      <td>人数</td>\n",
       "      <td>人数</td>\n",
       "      <td>NaN</td>\n",
       "      <td>NaN</td>\n",
       "      <td>NaN</td>\n",
       "    </tr>\n",
       "    <tr>\n",
       "      <th>1</th>\n",
       "      <td>男性</td>\n",
       "      <td>収縮期（最高）血圧</td>\n",
       "      <td>総数</td>\n",
       "      <td>1,293</td>\n",
       "      <td>64</td>\n",
       "      <td>94</td>\n",
       "      <td>...</td>\n",
       "      <td>341</td>\n",
       "      <td>500</td>\n",
       "      <td>1,125</td>\n",
       "      <td>NaN</td>\n",
       "      <td>NaN</td>\n",
       "      <td>NaN</td>\n",
       "    </tr>\n",
       "    <tr>\n",
       "      <th>2</th>\n",
       "      <td>NaN</td>\n",
       "      <td>NaN</td>\n",
       "      <td>90mmHg未満</td>\n",
       "      <td>0</td>\n",
       "      <td>0</td>\n",
       "      <td>0</td>\n",
       "      <td>...</td>\n",
       "      <td>0</td>\n",
       "      <td>0</td>\n",
       "      <td>0</td>\n",
       "      <td>NaN</td>\n",
       "      <td>NaN</td>\n",
       "      <td>NaN</td>\n",
       "    </tr>\n",
       "    <tr>\n",
       "      <th>3</th>\n",
       "      <td>NaN</td>\n",
       "      <td>NaN</td>\n",
       "      <td>90- 99</td>\n",
       "      <td>13</td>\n",
       "      <td>5</td>\n",
       "      <td>2</td>\n",
       "      <td>...</td>\n",
       "      <td>1</td>\n",
       "      <td>1</td>\n",
       "      <td>6</td>\n",
       "      <td>NaN</td>\n",
       "      <td>NaN</td>\n",
       "      <td>NaN</td>\n",
       "    </tr>\n",
       "    <tr>\n",
       "      <th>4</th>\n",
       "      <td>NaN</td>\n",
       "      <td>NaN</td>\n",
       "      <td>100-109</td>\n",
       "      <td>64</td>\n",
       "      <td>15</td>\n",
       "      <td>18</td>\n",
       "      <td>...</td>\n",
       "      <td>9</td>\n",
       "      <td>9</td>\n",
       "      <td>31</td>\n",
       "      <td>NaN</td>\n",
       "      <td>NaN</td>\n",
       "      <td>NaN</td>\n",
       "    </tr>\n",
       "  </tbody>\n",
       "</table>\n",
       "<p>5 rows × 14 columns</p>\n",
       "</div>"
      ],
      "text/plain": [
       "  Unnamed: 0 Unnamed: 1 Unnamed: 2     総　数 20-29歳 30-39歳  ... 60-69歳 70歳以上  \\\n",
       "0        NaN        NaN        NaN      人数     人数     人数  ...     人数    人数   \n",
       "1         男性  収縮期（最高）血圧         総数  1,293      64     94  ...   341   500    \n",
       "2        NaN        NaN   90mmHg未満       0      0      0  ...      0     0   \n",
       "3        NaN        NaN     90- 99      13      5      2  ...      1     1   \n",
       "4        NaN        NaN    100-109      64     15     18  ...      9     9   \n",
       "\n",
       "  （再掲）40-89歳 Unnamed: 19 Unnamed: 20  Unnamed: 21  \n",
       "0         人数         NaN         NaN          NaN  \n",
       "1     1,125          NaN         NaN          NaN  \n",
       "2          0         NaN         NaN          NaN  \n",
       "3          6         NaN         NaN          NaN  \n",
       "4         31         NaN         NaN          NaN  \n",
       "\n",
       "[5 rows x 14 columns]"
      ]
     },
     "execution_count": 3,
     "metadata": {},
     "output_type": "execute_result"
    }
   ],
   "source": [
    "#Cell_3.\n",
    "df_bp = df_bp.loc[:, df_bp.columns[df_bp.iloc[0] != '%']]\n",
    "\n",
    "df_bp.head()"
   ]
  },
  {
   "cell_type": "code",
   "execution_count": 4,
   "metadata": {
    "execution": {
     "iopub.execute_input": "2024-11-20T15:23:48.272284Z",
     "iopub.status.busy": "2024-11-20T15:23:48.272147Z",
     "iopub.status.idle": "2024-11-20T15:23:48.283208Z",
     "shell.execute_reply": "2024-11-20T15:23:48.282703Z",
     "shell.execute_reply.started": "2024-11-20T15:23:48.272269Z"
    }
   },
   "outputs": [
    {
     "data": {
      "text/html": [
       "<div>\n",
       "<style scoped>\n",
       "    .dataframe tbody tr th:only-of-type {\n",
       "        vertical-align: middle;\n",
       "    }\n",
       "\n",
       "    .dataframe tbody tr th {\n",
       "        vertical-align: top;\n",
       "    }\n",
       "\n",
       "    .dataframe thead th {\n",
       "        text-align: right;\n",
       "    }\n",
       "</style>\n",
       "<table border=\"1\" class=\"dataframe\">\n",
       "  <thead>\n",
       "    <tr style=\"text-align: right;\">\n",
       "      <th></th>\n",
       "      <th>Unnamed: 0</th>\n",
       "      <th>Unnamed: 1</th>\n",
       "      <th>Unnamed: 2</th>\n",
       "      <th>総　数</th>\n",
       "      <th>20-29歳</th>\n",
       "      <th>30-39歳</th>\n",
       "      <th>40-49歳</th>\n",
       "      <th>50-59歳</th>\n",
       "      <th>60-69歳</th>\n",
       "      <th>70歳以上</th>\n",
       "    </tr>\n",
       "  </thead>\n",
       "  <tbody>\n",
       "    <tr>\n",
       "      <th>1</th>\n",
       "      <td>男性</td>\n",
       "      <td>収縮期（最高）血圧</td>\n",
       "      <td>総数</td>\n",
       "      <td>1,293</td>\n",
       "      <td>64</td>\n",
       "      <td>94</td>\n",
       "      <td>128</td>\n",
       "      <td>166</td>\n",
       "      <td>341</td>\n",
       "      <td>500</td>\n",
       "    </tr>\n",
       "    <tr>\n",
       "      <th>2</th>\n",
       "      <td>男性</td>\n",
       "      <td>収縮期（最高）血圧</td>\n",
       "      <td>90mmHg未満</td>\n",
       "      <td>0</td>\n",
       "      <td>0</td>\n",
       "      <td>0</td>\n",
       "      <td>0</td>\n",
       "      <td>0</td>\n",
       "      <td>0</td>\n",
       "      <td>0</td>\n",
       "    </tr>\n",
       "    <tr>\n",
       "      <th>3</th>\n",
       "      <td>男性</td>\n",
       "      <td>収縮期（最高）血圧</td>\n",
       "      <td>90- 99</td>\n",
       "      <td>13</td>\n",
       "      <td>5</td>\n",
       "      <td>2</td>\n",
       "      <td>3</td>\n",
       "      <td>1</td>\n",
       "      <td>1</td>\n",
       "      <td>1</td>\n",
       "    </tr>\n",
       "    <tr>\n",
       "      <th>4</th>\n",
       "      <td>男性</td>\n",
       "      <td>収縮期（最高）血圧</td>\n",
       "      <td>100-109</td>\n",
       "      <td>64</td>\n",
       "      <td>15</td>\n",
       "      <td>18</td>\n",
       "      <td>9</td>\n",
       "      <td>4</td>\n",
       "      <td>9</td>\n",
       "      <td>9</td>\n",
       "    </tr>\n",
       "    <tr>\n",
       "      <th>5</th>\n",
       "      <td>男性</td>\n",
       "      <td>収縮期（最高）血圧</td>\n",
       "      <td>110-119</td>\n",
       "      <td>172</td>\n",
       "      <td>18</td>\n",
       "      <td>30</td>\n",
       "      <td>26</td>\n",
       "      <td>31</td>\n",
       "      <td>31</td>\n",
       "      <td>36</td>\n",
       "    </tr>\n",
       "  </tbody>\n",
       "</table>\n",
       "</div>"
      ],
      "text/plain": [
       "  Unnamed: 0 Unnamed: 1 Unnamed: 2     総　数 20-29歳 30-39歳 40-49歳 50-59歳 60-69歳  \\\n",
       "1         男性  収縮期（最高）血圧         総数  1,293      64     94    128    166   341    \n",
       "2         男性  収縮期（最高）血圧   90mmHg未満       0      0      0      0      0      0   \n",
       "3         男性  収縮期（最高）血圧     90- 99      13      5      2      3      1      1   \n",
       "4         男性  収縮期（最高）血圧    100-109      64     15     18      9      4      9   \n",
       "5         男性  収縮期（最高）血圧    110-119     172     18     30     26     31     31   \n",
       "\n",
       "  70歳以上  \n",
       "1  500   \n",
       "2     0  \n",
       "3     1  \n",
       "4     9  \n",
       "5    36  "
      ]
     },
     "execution_count": 4,
     "metadata": {},
     "output_type": "execute_result"
    }
   ],
   "source": [
    "#Cell_4.\n",
    "df_bp = df_bp.loc[1:, df_bp.columns[:10]]\n",
    "df_bp = df_bp.fillna(method='ffill')\n",
    "\n",
    "df_bp.head()"
   ]
  },
  {
   "cell_type": "code",
   "execution_count": 5,
   "metadata": {
    "execution": {
     "iopub.execute_input": "2024-11-20T15:23:48.283840Z",
     "iopub.status.busy": "2024-11-20T15:23:48.283699Z",
     "iopub.status.idle": "2024-11-20T15:23:48.293217Z",
     "shell.execute_reply": "2024-11-20T15:23:48.292412Z",
     "shell.execute_reply.started": "2024-11-20T15:23:48.283825Z"
    }
   },
   "outputs": [
    {
     "data": {
      "text/html": [
       "<div>\n",
       "<style scoped>\n",
       "    .dataframe tbody tr th:only-of-type {\n",
       "        vertical-align: middle;\n",
       "    }\n",
       "\n",
       "    .dataframe tbody tr th {\n",
       "        vertical-align: top;\n",
       "    }\n",
       "\n",
       "    .dataframe thead th {\n",
       "        text-align: right;\n",
       "    }\n",
       "</style>\n",
       "<table border=\"1\" class=\"dataframe\">\n",
       "  <thead>\n",
       "    <tr style=\"text-align: right;\">\n",
       "      <th></th>\n",
       "      <th>sex</th>\n",
       "      <th>bp_type</th>\n",
       "      <th>bp_value</th>\n",
       "      <th>total</th>\n",
       "      <th>20s</th>\n",
       "      <th>30s</th>\n",
       "      <th>40s</th>\n",
       "      <th>50s</th>\n",
       "      <th>60s</th>\n",
       "      <th>70s</th>\n",
       "    </tr>\n",
       "  </thead>\n",
       "  <tbody>\n",
       "    <tr>\n",
       "      <th>48</th>\n",
       "      <td>女性</td>\n",
       "      <td>拡張期（最低）血圧</td>\n",
       "      <td>120-129</td>\n",
       "      <td>1</td>\n",
       "      <td>0</td>\n",
       "      <td>0</td>\n",
       "      <td>0</td>\n",
       "      <td>0</td>\n",
       "      <td>0</td>\n",
       "      <td>1</td>\n",
       "    </tr>\n",
       "    <tr>\n",
       "      <th>49</th>\n",
       "      <td>女性</td>\n",
       "      <td>拡張期（最低）血圧</td>\n",
       "      <td>130-139</td>\n",
       "      <td>0</td>\n",
       "      <td>0</td>\n",
       "      <td>0</td>\n",
       "      <td>0</td>\n",
       "      <td>0</td>\n",
       "      <td>0</td>\n",
       "      <td>0</td>\n",
       "    </tr>\n",
       "    <tr>\n",
       "      <th>50</th>\n",
       "      <td>女性</td>\n",
       "      <td>拡張期（最低）血圧</td>\n",
       "      <td>140ｍｍHg以上</td>\n",
       "      <td>0</td>\n",
       "      <td>0</td>\n",
       "      <td>0</td>\n",
       "      <td>0</td>\n",
       "      <td>0</td>\n",
       "      <td>0</td>\n",
       "      <td>0</td>\n",
       "    </tr>\n",
       "    <tr>\n",
       "      <th>51</th>\n",
       "      <td>注１）血圧の測定を行った20歳以上の者を集計対象とした。</td>\n",
       "      <td>拡張期（最低）血圧</td>\n",
       "      <td>140ｍｍHg以上</td>\n",
       "      <td>0</td>\n",
       "      <td>0</td>\n",
       "      <td>0</td>\n",
       "      <td>0</td>\n",
       "      <td>0</td>\n",
       "      <td>0</td>\n",
       "      <td>0</td>\n",
       "    </tr>\n",
       "    <tr>\n",
       "      <th>52</th>\n",
       "      <td>注２）数値は２回の測定値の平均値を用いた。なお、１回しか測定できなかった者については、その値...</td>\n",
       "      <td>拡張期（最低）血圧</td>\n",
       "      <td>140ｍｍHg以上</td>\n",
       "      <td>0</td>\n",
       "      <td>0</td>\n",
       "      <td>0</td>\n",
       "      <td>0</td>\n",
       "      <td>0</td>\n",
       "      <td>0</td>\n",
       "      <td>0</td>\n",
       "    </tr>\n",
       "  </tbody>\n",
       "</table>\n",
       "</div>"
      ],
      "text/plain": [
       "                                                  sex    bp_type   bp_value  \\\n",
       "48                                                 女性  拡張期（最低）血圧    120-129   \n",
       "49                                                 女性  拡張期（最低）血圧    130-139   \n",
       "50                                                 女性  拡張期（最低）血圧  140ｍｍHg以上   \n",
       "51                       注１）血圧の測定を行った20歳以上の者を集計対象とした。  拡張期（最低）血圧  140ｍｍHg以上   \n",
       "52  注２）数値は２回の測定値の平均値を用いた。なお、１回しか測定できなかった者については、その値...  拡張期（最低）血圧  140ｍｍHg以上   \n",
       "\n",
       "   total 20s 30s 40s 50s 60s 70s  \n",
       "48     1   0   0   0   0   0   1  \n",
       "49     0   0   0   0   0   0   0  \n",
       "50     0   0   0   0   0   0   0  \n",
       "51     0   0   0   0   0   0   0  \n",
       "52     0   0   0   0   0   0   0  "
      ]
     },
     "execution_count": 5,
     "metadata": {},
     "output_type": "execute_result"
    }
   ],
   "source": [
    "#Cell_5.\n",
    "df_bp.columns = ['sex', 'bp_type', 'bp_value', 'total',\n",
    "                 '20s', '30s', '40s', '50s', '60s', '70s']\n",
    "\n",
    "df_bp.tail()"
   ]
  },
  {
   "cell_type": "code",
   "execution_count": 6,
   "metadata": {
    "execution": {
     "iopub.execute_input": "2024-11-20T15:23:48.293977Z",
     "iopub.status.busy": "2024-11-20T15:23:48.293799Z",
     "iopub.status.idle": "2024-11-20T15:23:48.305277Z",
     "shell.execute_reply": "2024-11-20T15:23:48.304715Z",
     "shell.execute_reply.started": "2024-11-20T15:23:48.293959Z"
    }
   },
   "outputs": [
    {
     "data": {
      "text/html": [
       "<div>\n",
       "<style scoped>\n",
       "    .dataframe tbody tr th:only-of-type {\n",
       "        vertical-align: middle;\n",
       "    }\n",
       "\n",
       "    .dataframe tbody tr th {\n",
       "        vertical-align: top;\n",
       "    }\n",
       "\n",
       "    .dataframe thead th {\n",
       "        text-align: right;\n",
       "    }\n",
       "</style>\n",
       "<table border=\"1\" class=\"dataframe\">\n",
       "  <thead>\n",
       "    <tr style=\"text-align: right;\">\n",
       "      <th></th>\n",
       "      <th>sex</th>\n",
       "      <th>bp_type</th>\n",
       "      <th>bp_value</th>\n",
       "      <th>total</th>\n",
       "      <th>20s</th>\n",
       "      <th>30s</th>\n",
       "      <th>40s</th>\n",
       "      <th>50s</th>\n",
       "      <th>60s</th>\n",
       "      <th>70s</th>\n",
       "    </tr>\n",
       "  </thead>\n",
       "  <tbody>\n",
       "    <tr>\n",
       "      <th>2</th>\n",
       "      <td>男性</td>\n",
       "      <td>収縮期（最高）血圧</td>\n",
       "      <td>90mmHg未満</td>\n",
       "      <td>0</td>\n",
       "      <td>0</td>\n",
       "      <td>0</td>\n",
       "      <td>0</td>\n",
       "      <td>0</td>\n",
       "      <td>0</td>\n",
       "      <td>0</td>\n",
       "    </tr>\n",
       "    <tr>\n",
       "      <th>3</th>\n",
       "      <td>男性</td>\n",
       "      <td>収縮期（最高）血圧</td>\n",
       "      <td>90- 99</td>\n",
       "      <td>13</td>\n",
       "      <td>5</td>\n",
       "      <td>2</td>\n",
       "      <td>3</td>\n",
       "      <td>1</td>\n",
       "      <td>1</td>\n",
       "      <td>1</td>\n",
       "    </tr>\n",
       "    <tr>\n",
       "      <th>4</th>\n",
       "      <td>男性</td>\n",
       "      <td>収縮期（最高）血圧</td>\n",
       "      <td>100-109</td>\n",
       "      <td>64</td>\n",
       "      <td>15</td>\n",
       "      <td>18</td>\n",
       "      <td>9</td>\n",
       "      <td>4</td>\n",
       "      <td>9</td>\n",
       "      <td>9</td>\n",
       "    </tr>\n",
       "    <tr>\n",
       "      <th>5</th>\n",
       "      <td>男性</td>\n",
       "      <td>収縮期（最高）血圧</td>\n",
       "      <td>110-119</td>\n",
       "      <td>172</td>\n",
       "      <td>18</td>\n",
       "      <td>30</td>\n",
       "      <td>26</td>\n",
       "      <td>31</td>\n",
       "      <td>31</td>\n",
       "      <td>36</td>\n",
       "    </tr>\n",
       "    <tr>\n",
       "      <th>6</th>\n",
       "      <td>男性</td>\n",
       "      <td>収縮期（最高）血圧</td>\n",
       "      <td>120-129</td>\n",
       "      <td>251</td>\n",
       "      <td>18</td>\n",
       "      <td>24</td>\n",
       "      <td>35</td>\n",
       "      <td>32</td>\n",
       "      <td>63</td>\n",
       "      <td>79</td>\n",
       "    </tr>\n",
       "  </tbody>\n",
       "</table>\n",
       "</div>"
      ],
      "text/plain": [
       "  sex    bp_type  bp_value total 20s 30s 40s 50s 60s 70s\n",
       "2  男性  収縮期（最高）血圧  90mmHg未満     0   0   0   0   0   0   0\n",
       "3  男性  収縮期（最高）血圧    90- 99    13   5   2   3   1   1   1\n",
       "4  男性  収縮期（最高）血圧   100-109    64  15  18   9   4   9   9\n",
       "5  男性  収縮期（最高）血圧   110-119   172  18  30  26  31  31  36\n",
       "6  男性  収縮期（最高）血圧   120-129  251   18  24  35  32  63  79"
      ]
     },
     "metadata": {},
     "output_type": "display_data"
    }
   ],
   "source": [
    "#Cell_6.\n",
    "df_bp = df_bp.iloc[:50]\n",
    "df_bp = df_bp.loc[df_bp.bp_value != '総数', :]\n",
    "\n",
    "display(df_bp.head())"
   ]
  },
  {
   "cell_type": "code",
   "execution_count": 7,
   "metadata": {
    "execution": {
     "iopub.execute_input": "2024-11-20T15:23:48.306101Z",
     "iopub.status.busy": "2024-11-20T15:23:48.305915Z",
     "iopub.status.idle": "2024-11-20T15:23:48.326723Z",
     "shell.execute_reply": "2024-11-20T15:23:48.326265Z",
     "shell.execute_reply.started": "2024-11-20T15:23:48.306082Z"
    }
   },
   "outputs": [
    {
     "data": {
      "text/html": [
       "<div>\n",
       "<style scoped>\n",
       "    .dataframe tbody tr th:only-of-type {\n",
       "        vertical-align: middle;\n",
       "    }\n",
       "\n",
       "    .dataframe tbody tr th {\n",
       "        vertical-align: top;\n",
       "    }\n",
       "\n",
       "    .dataframe thead th {\n",
       "        text-align: right;\n",
       "    }\n",
       "</style>\n",
       "<table border=\"1\" class=\"dataframe\">\n",
       "  <thead>\n",
       "    <tr style=\"text-align: right;\">\n",
       "      <th></th>\n",
       "      <th>sex</th>\n",
       "      <th>bp_type</th>\n",
       "      <th>bp_value</th>\n",
       "      <th>total</th>\n",
       "      <th>20s</th>\n",
       "      <th>30s</th>\n",
       "      <th>40s</th>\n",
       "      <th>50s</th>\n",
       "      <th>60s</th>\n",
       "      <th>70s</th>\n",
       "    </tr>\n",
       "  </thead>\n",
       "  <tbody>\n",
       "    <tr>\n",
       "      <th>0</th>\n",
       "      <td>M</td>\n",
       "      <td>sbp</td>\n",
       "      <td>90mmHg未満</td>\n",
       "      <td>0</td>\n",
       "      <td>0</td>\n",
       "      <td>0</td>\n",
       "      <td>0</td>\n",
       "      <td>0</td>\n",
       "      <td>0</td>\n",
       "      <td>0</td>\n",
       "    </tr>\n",
       "    <tr>\n",
       "      <th>1</th>\n",
       "      <td>M</td>\n",
       "      <td>sbp</td>\n",
       "      <td>90- 99</td>\n",
       "      <td>13</td>\n",
       "      <td>5</td>\n",
       "      <td>2</td>\n",
       "      <td>3</td>\n",
       "      <td>1</td>\n",
       "      <td>1</td>\n",
       "      <td>1</td>\n",
       "    </tr>\n",
       "    <tr>\n",
       "      <th>2</th>\n",
       "      <td>M</td>\n",
       "      <td>sbp</td>\n",
       "      <td>100-109</td>\n",
       "      <td>64</td>\n",
       "      <td>15</td>\n",
       "      <td>18</td>\n",
       "      <td>9</td>\n",
       "      <td>4</td>\n",
       "      <td>9</td>\n",
       "      <td>9</td>\n",
       "    </tr>\n",
       "    <tr>\n",
       "      <th>3</th>\n",
       "      <td>M</td>\n",
       "      <td>sbp</td>\n",
       "      <td>110-119</td>\n",
       "      <td>172</td>\n",
       "      <td>18</td>\n",
       "      <td>30</td>\n",
       "      <td>26</td>\n",
       "      <td>31</td>\n",
       "      <td>31</td>\n",
       "      <td>36</td>\n",
       "    </tr>\n",
       "    <tr>\n",
       "      <th>...</th>\n",
       "      <td>...</td>\n",
       "      <td>...</td>\n",
       "      <td>...</td>\n",
       "      <td>...</td>\n",
       "      <td>...</td>\n",
       "      <td>...</td>\n",
       "      <td>...</td>\n",
       "      <td>...</td>\n",
       "      <td>...</td>\n",
       "      <td>...</td>\n",
       "    </tr>\n",
       "    <tr>\n",
       "      <th>42</th>\n",
       "      <td>F</td>\n",
       "      <td>dbp</td>\n",
       "      <td>110-119</td>\n",
       "      <td>5</td>\n",
       "      <td>0</td>\n",
       "      <td>0</td>\n",
       "      <td>1</td>\n",
       "      <td>2</td>\n",
       "      <td>1</td>\n",
       "      <td>1</td>\n",
       "    </tr>\n",
       "    <tr>\n",
       "      <th>43</th>\n",
       "      <td>F</td>\n",
       "      <td>dbp</td>\n",
       "      <td>120-129</td>\n",
       "      <td>1</td>\n",
       "      <td>0</td>\n",
       "      <td>0</td>\n",
       "      <td>0</td>\n",
       "      <td>0</td>\n",
       "      <td>0</td>\n",
       "      <td>1</td>\n",
       "    </tr>\n",
       "    <tr>\n",
       "      <th>44</th>\n",
       "      <td>F</td>\n",
       "      <td>dbp</td>\n",
       "      <td>130-139</td>\n",
       "      <td>0</td>\n",
       "      <td>0</td>\n",
       "      <td>0</td>\n",
       "      <td>0</td>\n",
       "      <td>0</td>\n",
       "      <td>0</td>\n",
       "      <td>0</td>\n",
       "    </tr>\n",
       "    <tr>\n",
       "      <th>45</th>\n",
       "      <td>F</td>\n",
       "      <td>dbp</td>\n",
       "      <td>140ｍｍHg以上</td>\n",
       "      <td>0</td>\n",
       "      <td>0</td>\n",
       "      <td>0</td>\n",
       "      <td>0</td>\n",
       "      <td>0</td>\n",
       "      <td>0</td>\n",
       "      <td>0</td>\n",
       "    </tr>\n",
       "  </tbody>\n",
       "</table>\n",
       "<p>46 rows × 10 columns</p>\n",
       "</div>"
      ],
      "text/plain": [
       "   sex bp_type   bp_value total 20s 30s 40s 50s 60s 70s\n",
       "0    M     sbp   90mmHg未満     0   0   0   0   0   0   0\n",
       "1    M     sbp     90- 99    13   5   2   3   1   1   1\n",
       "2    M     sbp    100-109    64  15  18   9   4   9   9\n",
       "3    M     sbp    110-119   172  18  30  26  31  31  36\n",
       "..  ..     ...        ...   ...  ..  ..  ..  ..  ..  ..\n",
       "42   F     dbp    110-119     5   0   0   1   2   1   1\n",
       "43   F     dbp    120-129     1   0   0   0   0   0   1\n",
       "44   F     dbp    130-139     0   0   0   0   0   0   0\n",
       "45   F     dbp  140ｍｍHg以上     0   0   0   0   0   0   0\n",
       "\n",
       "[46 rows x 10 columns]"
      ]
     },
     "execution_count": 7,
     "metadata": {},
     "output_type": "execute_result"
    }
   ],
   "source": [
    "#Cell_7.\n",
    "df_bp.sex[df_bp.sex == '男性'] = 'M'\n",
    "df_bp.sex[df_bp.sex == '女性'] = 'F'\n",
    "df_bp.bp_type[df_bp.bp_type == '収縮期（最高）血圧'] = 'sbp'\n",
    "df_bp.bp_type[df_bp.bp_type == '拡張期（最低）血圧'] = 'dbp'\n",
    "df_bp = df_bp.reset_index()\n",
    "del df_bp['index']\n",
    "\n",
    "df_bp"
   ]
  },
  {
   "cell_type": "code",
   "execution_count": 8,
   "metadata": {
    "execution": {
     "iopub.execute_input": "2024-11-20T15:23:48.327645Z",
     "iopub.status.busy": "2024-11-20T15:23:48.327462Z",
     "iopub.status.idle": "2024-11-20T15:23:48.368744Z",
     "shell.execute_reply": "2024-11-20T15:23:48.368305Z",
     "shell.execute_reply.started": "2024-11-20T15:23:48.327628Z"
    }
   },
   "outputs": [
    {
     "data": {
      "text/html": [
       "<div>\n",
       "<style scoped>\n",
       "    .dataframe tbody tr th:only-of-type {\n",
       "        vertical-align: middle;\n",
       "    }\n",
       "\n",
       "    .dataframe tbody tr th {\n",
       "        vertical-align: top;\n",
       "    }\n",
       "\n",
       "    .dataframe thead th {\n",
       "        text-align: right;\n",
       "    }\n",
       "</style>\n",
       "<table border=\"1\" class=\"dataframe\">\n",
       "  <thead>\n",
       "    <tr style=\"text-align: right;\">\n",
       "      <th></th>\n",
       "      <th>sex</th>\n",
       "      <th>bp_type</th>\n",
       "      <th>bp_value</th>\n",
       "      <th>total</th>\n",
       "      <th>20s</th>\n",
       "      <th>30s</th>\n",
       "      <th>40s</th>\n",
       "      <th>50s</th>\n",
       "      <th>60s</th>\n",
       "      <th>70s</th>\n",
       "      <th>bp_value_class</th>\n",
       "    </tr>\n",
       "  </thead>\n",
       "  <tbody>\n",
       "    <tr>\n",
       "      <th>11</th>\n",
       "      <td>M</td>\n",
       "      <td>dbp</td>\n",
       "      <td>40mmHg未満</td>\n",
       "      <td>0</td>\n",
       "      <td>0</td>\n",
       "      <td>0</td>\n",
       "      <td>0</td>\n",
       "      <td>0</td>\n",
       "      <td>0</td>\n",
       "      <td>0</td>\n",
       "      <td>35</td>\n",
       "    </tr>\n",
       "    <tr>\n",
       "      <th>12</th>\n",
       "      <td>M</td>\n",
       "      <td>dbp</td>\n",
       "      <td>40-49</td>\n",
       "      <td>0</td>\n",
       "      <td>0</td>\n",
       "      <td>0</td>\n",
       "      <td>0</td>\n",
       "      <td>0</td>\n",
       "      <td>0</td>\n",
       "      <td>0</td>\n",
       "      <td>45</td>\n",
       "    </tr>\n",
       "    <tr>\n",
       "      <th>13</th>\n",
       "      <td>M</td>\n",
       "      <td>dbp</td>\n",
       "      <td>50-59</td>\n",
       "      <td>11</td>\n",
       "      <td>2</td>\n",
       "      <td>1</td>\n",
       "      <td>0</td>\n",
       "      <td>0</td>\n",
       "      <td>1</td>\n",
       "      <td>7</td>\n",
       "      <td>55</td>\n",
       "    </tr>\n",
       "    <tr>\n",
       "      <th>14</th>\n",
       "      <td>M</td>\n",
       "      <td>dbp</td>\n",
       "      <td>60-69</td>\n",
       "      <td>144</td>\n",
       "      <td>20</td>\n",
       "      <td>16</td>\n",
       "      <td>10</td>\n",
       "      <td>5</td>\n",
       "      <td>18</td>\n",
       "      <td>75</td>\n",
       "      <td>65</td>\n",
       "    </tr>\n",
       "    <tr>\n",
       "      <th>15</th>\n",
       "      <td>M</td>\n",
       "      <td>dbp</td>\n",
       "      <td>70-79</td>\n",
       "      <td>367</td>\n",
       "      <td>20</td>\n",
       "      <td>33</td>\n",
       "      <td>39</td>\n",
       "      <td>44</td>\n",
       "      <td>81</td>\n",
       "      <td>150</td>\n",
       "      <td>75</td>\n",
       "    </tr>\n",
       "  </tbody>\n",
       "</table>\n",
       "</div>"
      ],
      "text/plain": [
       "   sex bp_type  bp_value total 20s 30s 40s 50s 60s  70s  bp_value_class\n",
       "11   M     dbp  40mmHg未満     0   0   0   0   0   0    0              35\n",
       "12   M     dbp     40-49     0   0   0   0   0   0    0              45\n",
       "13   M     dbp     50-59    11   2   1   0   0   1    7              55\n",
       "14   M     dbp     60-69   144  20  16  10   5  18   75              65\n",
       "15   M     dbp     70-79  367   20  33  39  44  81  150              75"
      ]
     },
     "metadata": {},
     "output_type": "display_data"
    },
    {
     "data": {
      "text/html": [
       "<div>\n",
       "<style scoped>\n",
       "    .dataframe tbody tr th:only-of-type {\n",
       "        vertical-align: middle;\n",
       "    }\n",
       "\n",
       "    .dataframe tbody tr th {\n",
       "        vertical-align: top;\n",
       "    }\n",
       "\n",
       "    .dataframe thead th {\n",
       "        text-align: right;\n",
       "    }\n",
       "</style>\n",
       "<table border=\"1\" class=\"dataframe\">\n",
       "  <thead>\n",
       "    <tr style=\"text-align: right;\">\n",
       "      <th></th>\n",
       "      <th>sex</th>\n",
       "      <th>bp_type</th>\n",
       "      <th>bp_value</th>\n",
       "      <th>total</th>\n",
       "      <th>20s</th>\n",
       "      <th>30s</th>\n",
       "      <th>40s</th>\n",
       "      <th>50s</th>\n",
       "      <th>60s</th>\n",
       "      <th>70s</th>\n",
       "      <th>bp_value_class</th>\n",
       "    </tr>\n",
       "  </thead>\n",
       "  <tbody>\n",
       "    <tr>\n",
       "      <th>18</th>\n",
       "      <td>M</td>\n",
       "      <td>dbp</td>\n",
       "      <td>100-109</td>\n",
       "      <td>55</td>\n",
       "      <td>0</td>\n",
       "      <td>1</td>\n",
       "      <td>4</td>\n",
       "      <td>15</td>\n",
       "      <td>22</td>\n",
       "      <td>13</td>\n",
       "      <td>105</td>\n",
       "    </tr>\n",
       "    <tr>\n",
       "      <th>19</th>\n",
       "      <td>M</td>\n",
       "      <td>dbp</td>\n",
       "      <td>110-119</td>\n",
       "      <td>17</td>\n",
       "      <td>1</td>\n",
       "      <td>0</td>\n",
       "      <td>3</td>\n",
       "      <td>3</td>\n",
       "      <td>5</td>\n",
       "      <td>5</td>\n",
       "      <td>115</td>\n",
       "    </tr>\n",
       "    <tr>\n",
       "      <th>20</th>\n",
       "      <td>M</td>\n",
       "      <td>dbp</td>\n",
       "      <td>120-129</td>\n",
       "      <td>0</td>\n",
       "      <td>0</td>\n",
       "      <td>0</td>\n",
       "      <td>0</td>\n",
       "      <td>0</td>\n",
       "      <td>0</td>\n",
       "      <td>0</td>\n",
       "      <td>125</td>\n",
       "    </tr>\n",
       "    <tr>\n",
       "      <th>21</th>\n",
       "      <td>M</td>\n",
       "      <td>dbp</td>\n",
       "      <td>130-139</td>\n",
       "      <td>2</td>\n",
       "      <td>0</td>\n",
       "      <td>0</td>\n",
       "      <td>0</td>\n",
       "      <td>1</td>\n",
       "      <td>0</td>\n",
       "      <td>1</td>\n",
       "      <td>135</td>\n",
       "    </tr>\n",
       "    <tr>\n",
       "      <th>22</th>\n",
       "      <td>M</td>\n",
       "      <td>dbp</td>\n",
       "      <td>140ｍｍHg以上</td>\n",
       "      <td>1</td>\n",
       "      <td>0</td>\n",
       "      <td>0</td>\n",
       "      <td>1</td>\n",
       "      <td>0</td>\n",
       "      <td>0</td>\n",
       "      <td>0</td>\n",
       "      <td>145</td>\n",
       "    </tr>\n",
       "  </tbody>\n",
       "</table>\n",
       "</div>"
      ],
      "text/plain": [
       "   sex bp_type   bp_value total 20s 30s 40s 50s 60s 70s  bp_value_class\n",
       "18   M     dbp    100-109    55   0   1   4  15  22  13             105\n",
       "19   M     dbp    110-119    17   1   0   3   3   5   5             115\n",
       "20   M     dbp    120-129     0   0   0   0   0   0   0             125\n",
       "21   M     dbp    130-139     2   0   0   0   1   0   1             135\n",
       "22   M     dbp  140ｍｍHg以上     1   0   0   1   0   0   0             145"
      ]
     },
     "metadata": {},
     "output_type": "display_data"
    }
   ],
   "source": [
    "#Cell_8.\n",
    "#visualization.\n",
    "import seaborn as sns\n",
    "df_m_sbp=df_bp[(df_bp['sex']=='M') & (df_bp['bp_type']=='sbp')]\n",
    "df_m_dbp=df_bp[(df_bp['sex']=='M') & (df_bp['bp_type']=='dbp')]\n",
    "\n",
    "df_m_sbp['bp_value_class'] = [85,95,105,115,125,135,145,155,165,175,185]\n",
    "df_m_dbp['bp_value_class'] = [35,45,55,65,75,85,95,105,115,125,135,145]\n",
    "#display(df_m_sbp.head())\n",
    "display(df_m_dbp.head())\n",
    "display(df_m_dbp.tail())\n"
   ]
  },
  {
   "cell_type": "code",
   "execution_count": 9,
   "metadata": {
    "execution": {
     "iopub.execute_input": "2024-11-20T15:23:48.369440Z",
     "iopub.status.busy": "2024-11-20T15:23:48.369277Z",
     "iopub.status.idle": "2024-11-20T15:23:48.378720Z",
     "shell.execute_reply": "2024-11-20T15:23:48.378197Z",
     "shell.execute_reply.started": "2024-11-20T15:23:48.369421Z"
    }
   },
   "outputs": [
    {
     "name": "stdout",
     "output_type": "stream",
     "text": [
      "<class 'pandas.core.frame.DataFrame'>\n",
      "Int64Index: 11 entries, 0 to 10\n",
      "Data columns (total 11 columns):\n",
      " #   Column          Non-Null Count  Dtype \n",
      "---  ------          --------------  ----- \n",
      " 0   sex             11 non-null     object\n",
      " 1   bp_type         11 non-null     object\n",
      " 2   bp_value        11 non-null     object\n",
      " 3   total           11 non-null     object\n",
      " 4   20s             11 non-null     object\n",
      " 5   30s             11 non-null     object\n",
      " 6   40s             11 non-null     object\n",
      " 7   50s             11 non-null     object\n",
      " 8   60s             11 non-null     object\n",
      " 9   70s             11 non-null     object\n",
      " 10  bp_value_class  11 non-null     int64 \n",
      "dtypes: int64(1), object(10)\n",
      "memory usage: 1.0+ KB\n",
      "None\n",
      "(12, 11)\n"
     ]
    }
   ],
   "source": [
    "#Cell_9.\n",
    "print(df_m_sbp.info())\n",
    "print(df_m_dbp.shape)"
   ]
  },
  {
   "cell_type": "code",
   "execution_count": 10,
   "metadata": {
    "execution": {
     "iopub.execute_input": "2024-11-20T15:23:48.381171Z",
     "iopub.status.busy": "2024-11-20T15:23:48.380887Z",
     "iopub.status.idle": "2024-11-20T15:23:48.385807Z",
     "shell.execute_reply": "2024-11-20T15:23:48.385136Z",
     "shell.execute_reply.started": "2024-11-20T15:23:48.381139Z"
    }
   },
   "outputs": [],
   "source": [
    "#Cell_10.\n",
    "df_m_sbp['total']=df_m_sbp['total'].astype(\"int\")\n",
    "df_m_dbp['total']=df_m_dbp['total'].astype(\"int\")"
   ]
  },
  {
   "cell_type": "code",
   "execution_count": 11,
   "metadata": {
    "execution": {
     "iopub.execute_input": "2024-11-20T15:23:48.386648Z",
     "iopub.status.busy": "2024-11-20T15:23:48.386466Z",
     "iopub.status.idle": "2024-11-20T15:23:48.728427Z",
     "shell.execute_reply": "2024-11-20T15:23:48.727811Z",
     "shell.execute_reply.started": "2024-11-20T15:23:48.386631Z"
    }
   },
   "outputs": [
    {
     "data": {
      "text/plain": [
       "<AxesSubplot:xlabel='bp_value_class'>"
      ]
     },
     "execution_count": 11,
     "metadata": {},
     "output_type": "execute_result"
    },
    {
     "name": "stderr",
     "output_type": "stream",
     "text": [
      "findfont: Font family ['Times New Roman'] not found. Falling back to DejaVu Sans.\n"
     ]
    },
    {
     "data": {
      "image/png": "[encoded data removed]",
      "text/plain": [
       "<Figure size 640x480 with 1 Axes>"
      ]
     },
     "metadata": {},
     "output_type": "display_data"
    },
    {
     "data": {
      "image/png": "[encoded data removed]",
      "text/plain": [
       "<Figure size 640x480 with 1 Axes>"
      ]
     },
     "metadata": {},
     "output_type": "display_data"
    }
   ],
   "source": [
    "%matplotlib inline\n",
    "#Cell_11.\n",
    "df_m_sbp.plot.bar(x='bp_value_class',y='total')\n",
    "df_m_dbp.plot.bar(x='bp_value_class',y='total')"
   ]
  },
  {
   "cell_type": "code",
   "execution_count": 12,
   "metadata": {
    "execution": {
     "iopub.execute_input": "2024-11-20T15:23:48.729119Z",
     "iopub.status.busy": "2024-11-20T15:23:48.728913Z",
     "iopub.status.idle": "2024-11-20T15:23:48.733439Z",
     "shell.execute_reply": "2024-11-20T15:23:48.732882Z",
     "shell.execute_reply.started": "2024-11-20T15:23:48.729101Z"
    }
   },
   "outputs": [
    {
     "data": {
      "text/plain": [
       "array(['90mmHg未満', '90- 99', '100-109', '110-119', '120-129', '130-139',\n",
       "       '140-149', '150-159', '160-169', '170-179', '180mmHg以上',\n",
       "       '40mmHg未満', '40-49', '50-59', '60-69', '70-79', '80-89', '90-99',\n",
       "       '140ｍｍHg以上'], dtype=object)"
      ]
     },
     "execution_count": 12,
     "metadata": {},
     "output_type": "execute_result"
    }
   ],
   "source": [
    "#Cell_12.\n",
    "df_bp.bp_value.unique()"
   ]
  },
  {
   "cell_type": "code",
   "execution_count": 13,
   "metadata": {
    "execution": {
     "iopub.execute_input": "2024-11-20T15:23:48.734141Z",
     "iopub.status.busy": "2024-11-20T15:23:48.733983Z",
     "iopub.status.idle": "2024-11-20T15:23:48.742273Z",
     "shell.execute_reply": "2024-11-20T15:23:48.741685Z",
     "shell.execute_reply.started": "2024-11-20T15:23:48.734124Z"
    }
   },
   "outputs": [
    {
     "data": {
      "text/plain": [
       "array([ 70,  90, 100, 110, 120, 130, 140, 150, 160, 170, 180])"
      ]
     },
     "execution_count": 13,
     "metadata": {},
     "output_type": "execute_result"
    }
   ],
   "source": [
    "#Cell_13.\n",
    "sbp_min = np.concatenate([[70], np.arange(9, 19) * 10])\n",
    "\n",
    "sbp_min"
   ]
  },
  {
   "cell_type": "code",
   "execution_count": 14,
   "metadata": {
    "execution": {
     "iopub.execute_input": "2024-11-20T15:23:48.743079Z",
     "iopub.status.busy": "2024-11-20T15:23:48.742881Z",
     "iopub.status.idle": "2024-11-20T15:23:48.747096Z",
     "shell.execute_reply": "2024-11-20T15:23:48.746510Z",
     "shell.execute_reply.started": "2024-11-20T15:23:48.743062Z"
    }
   },
   "outputs": [
    {
     "data": {
      "text/plain": [
       "array([ 89,  99, 109, 119, 129, 139, 149, 159, 169, 179, 199])"
      ]
     },
     "execution_count": 14,
     "metadata": {},
     "output_type": "execute_result"
    }
   ],
   "source": [
    "#Cell_14.\n",
    "sbp_max = np.concatenate([sbp_min[1:] - 1, [199]])\n",
    "\n",
    "sbp_max"
   ]
  },
  {
   "cell_type": "code",
   "execution_count": 15,
   "metadata": {
    "execution": {
     "iopub.execute_input": "2024-11-20T15:23:48.747819Z",
     "iopub.status.busy": "2024-11-20T15:23:48.747656Z",
     "iopub.status.idle": "2024-11-20T15:23:48.752503Z",
     "shell.execute_reply": "2024-11-20T15:23:48.751981Z",
     "shell.execute_reply.started": "2024-11-20T15:23:48.747803Z"
    }
   },
   "outputs": [
    {
     "data": {
      "text/plain": [
       "array([ 40,  50,  60,  70,  80,  90, 100, 110, 120, 130, 140])"
      ]
     },
     "execution_count": 15,
     "metadata": {},
     "output_type": "execute_result"
    }
   ],
   "source": [
    "#Cell_15.\n",
    "dbp_min = np.arange(4, 15) * 10\n",
    "\n",
    "dbp_min"
   ]
  },
  {
   "cell_type": "code",
   "execution_count": 16,
   "metadata": {
    "execution": {
     "iopub.execute_input": "2024-11-20T15:23:48.753306Z",
     "iopub.status.busy": "2024-11-20T15:23:48.753135Z",
     "iopub.status.idle": "2024-11-20T15:23:48.756869Z",
     "shell.execute_reply": "2024-11-20T15:23:48.756467Z",
     "shell.execute_reply.started": "2024-11-20T15:23:48.753290Z"
    }
   },
   "outputs": [
    {
     "data": {
      "text/plain": [
       "array([ 49,  59,  69,  79,  89,  99, 109, 119, 129, 139, 159])"
      ]
     },
     "execution_count": 16,
     "metadata": {},
     "output_type": "execute_result"
    }
   ],
   "source": [
    "#Cell_16.\n",
    "dbp_max = np.concatenate([dbp_min[1:] - 1, [159]])\n",
    "\n",
    "dbp_max"
   ]
  },
  {
   "cell_type": "code",
   "execution_count": 17,
   "metadata": {
    "execution": {
     "iopub.execute_input": "2024-11-20T15:23:48.757604Z",
     "iopub.status.busy": "2024-11-20T15:23:48.757332Z",
     "iopub.status.idle": "2024-11-20T15:23:48.761358Z",
     "shell.execute_reply": "2024-11-20T15:23:48.760815Z",
     "shell.execute_reply.started": "2024-11-20T15:23:48.757588Z"
    }
   },
   "outputs": [
    {
     "data": {
      "text/plain": [
       "{70: 89,\n",
       " 90: 99,\n",
       " 100: 109,\n",
       " 110: 119,\n",
       " 120: 129,\n",
       " 130: 139,\n",
       " 140: 149,\n",
       " 150: 159,\n",
       " 160: 169,\n",
       " 170: 179,\n",
       " 180: 199}"
      ]
     },
     "execution_count": 17,
     "metadata": {},
     "output_type": "execute_result"
    }
   ],
   "source": [
    "#Cell_17.\n",
    "dict_sbp_max = {k: v for (k, v) in zip(sbp_min, sbp_max)}\n",
    "dict_dbp_max = {k: v for (k, v) in zip(dbp_min, dbp_max)}\n",
    "\n",
    "dict_sbp_max"
   ]
  },
  {
   "cell_type": "code",
   "execution_count": 18,
   "metadata": {
    "execution": {
     "iopub.execute_input": "2024-11-20T15:23:48.762009Z",
     "iopub.status.busy": "2024-11-20T15:23:48.761856Z",
     "iopub.status.idle": "2024-11-20T15:23:48.774516Z",
     "shell.execute_reply": "2024-11-20T15:23:48.773927Z",
     "shell.execute_reply.started": "2024-11-20T15:23:48.761993Z"
    }
   },
   "outputs": [
    {
     "data": {
      "text/html": [
       "<div>\n",
       "<style scoped>\n",
       "    .dataframe tbody tr th:only-of-type {\n",
       "        vertical-align: middle;\n",
       "    }\n",
       "\n",
       "    .dataframe tbody tr th {\n",
       "        vertical-align: top;\n",
       "    }\n",
       "\n",
       "    .dataframe thead th {\n",
       "        text-align: right;\n",
       "    }\n",
       "</style>\n",
       "<table border=\"1\" class=\"dataframe\">\n",
       "  <thead>\n",
       "    <tr style=\"text-align: right;\">\n",
       "      <th></th>\n",
       "      <th>sex</th>\n",
       "      <th>bp_type</th>\n",
       "      <th>20s</th>\n",
       "      <th>30s</th>\n",
       "      <th>40s</th>\n",
       "      <th>50s</th>\n",
       "      <th>60s</th>\n",
       "      <th>70s</th>\n",
       "      <th>bp_min</th>\n",
       "    </tr>\n",
       "  </thead>\n",
       "  <tbody>\n",
       "    <tr>\n",
       "      <th>0</th>\n",
       "      <td>M</td>\n",
       "      <td>sbp</td>\n",
       "      <td>0</td>\n",
       "      <td>0</td>\n",
       "      <td>0</td>\n",
       "      <td>0</td>\n",
       "      <td>0</td>\n",
       "      <td>0</td>\n",
       "      <td>70</td>\n",
       "    </tr>\n",
       "    <tr>\n",
       "      <th>1</th>\n",
       "      <td>M</td>\n",
       "      <td>sbp</td>\n",
       "      <td>5</td>\n",
       "      <td>2</td>\n",
       "      <td>3</td>\n",
       "      <td>1</td>\n",
       "      <td>1</td>\n",
       "      <td>1</td>\n",
       "      <td>90</td>\n",
       "    </tr>\n",
       "    <tr>\n",
       "      <th>2</th>\n",
       "      <td>M</td>\n",
       "      <td>sbp</td>\n",
       "      <td>15</td>\n",
       "      <td>18</td>\n",
       "      <td>9</td>\n",
       "      <td>4</td>\n",
       "      <td>9</td>\n",
       "      <td>9</td>\n",
       "      <td>100</td>\n",
       "    </tr>\n",
       "    <tr>\n",
       "      <th>3</th>\n",
       "      <td>M</td>\n",
       "      <td>sbp</td>\n",
       "      <td>18</td>\n",
       "      <td>30</td>\n",
       "      <td>26</td>\n",
       "      <td>31</td>\n",
       "      <td>31</td>\n",
       "      <td>36</td>\n",
       "      <td>110</td>\n",
       "    </tr>\n",
       "    <tr>\n",
       "      <th>...</th>\n",
       "      <td>...</td>\n",
       "      <td>...</td>\n",
       "      <td>...</td>\n",
       "      <td>...</td>\n",
       "      <td>...</td>\n",
       "      <td>...</td>\n",
       "      <td>...</td>\n",
       "      <td>...</td>\n",
       "      <td>...</td>\n",
       "    </tr>\n",
       "    <tr>\n",
       "      <th>42</th>\n",
       "      <td>F</td>\n",
       "      <td>dbp</td>\n",
       "      <td>0</td>\n",
       "      <td>0</td>\n",
       "      <td>1</td>\n",
       "      <td>2</td>\n",
       "      <td>1</td>\n",
       "      <td>1</td>\n",
       "      <td>110</td>\n",
       "    </tr>\n",
       "    <tr>\n",
       "      <th>43</th>\n",
       "      <td>F</td>\n",
       "      <td>dbp</td>\n",
       "      <td>0</td>\n",
       "      <td>0</td>\n",
       "      <td>0</td>\n",
       "      <td>0</td>\n",
       "      <td>0</td>\n",
       "      <td>1</td>\n",
       "      <td>120</td>\n",
       "    </tr>\n",
       "    <tr>\n",
       "      <th>44</th>\n",
       "      <td>F</td>\n",
       "      <td>dbp</td>\n",
       "      <td>0</td>\n",
       "      <td>0</td>\n",
       "      <td>0</td>\n",
       "      <td>0</td>\n",
       "      <td>0</td>\n",
       "      <td>0</td>\n",
       "      <td>130</td>\n",
       "    </tr>\n",
       "    <tr>\n",
       "      <th>45</th>\n",
       "      <td>F</td>\n",
       "      <td>dbp</td>\n",
       "      <td>0</td>\n",
       "      <td>0</td>\n",
       "      <td>0</td>\n",
       "      <td>0</td>\n",
       "      <td>0</td>\n",
       "      <td>0</td>\n",
       "      <td>140</td>\n",
       "    </tr>\n",
       "  </tbody>\n",
       "</table>\n",
       "<p>44 rows × 9 columns</p>\n",
       "</div>"
      ],
      "text/plain": [
       "   sex bp_type 20s 30s 40s 50s 60s 70s  bp_min\n",
       "0    M     sbp   0   0   0   0   0   0      70\n",
       "1    M     sbp   5   2   3   1   1   1      90\n",
       "2    M     sbp  15  18   9   4   9   9     100\n",
       "3    M     sbp  18  30  26  31  31  36     110\n",
       "..  ..     ...  ..  ..  ..  ..  ..  ..     ...\n",
       "42   F     dbp   0   0   1   2   1   1     110\n",
       "43   F     dbp   0   0   0   0   0   1     120\n",
       "44   F     dbp   0   0   0   0   0   0     130\n",
       "45   F     dbp   0   0   0   0   0   0     140\n",
       "\n",
       "[44 rows x 9 columns]"
      ]
     },
     "execution_count": 18,
     "metadata": {},
     "output_type": "execute_result"
    }
   ],
   "source": [
    "#Cell_18.\n",
    "df_bp = df_bp[df_bp['bp_value'] != '40mmHg未満'].copy()\n",
    "df_bp['bp_min'] = np.tile(np.concatenate([sbp_min, dbp_min]), 2)\n",
    "del df_bp['bp_value']\n",
    "del df_bp['total']\n",
    "\n",
    "df_bp"
   ]
  },
  {
   "cell_type": "code",
   "execution_count": 19,
   "metadata": {
    "execution": {
     "iopub.execute_input": "2024-11-20T15:23:48.775191Z",
     "iopub.status.busy": "2024-11-20T15:23:48.775037Z",
     "iopub.status.idle": "2024-11-20T15:23:48.779727Z",
     "shell.execute_reply": "2024-11-20T15:23:48.779313Z",
     "shell.execute_reply.started": "2024-11-20T15:23:48.775174Z"
    }
   },
   "outputs": [
    {
     "data": {
      "text/plain": [
       "sex        object\n",
       "bp_type    object\n",
       "20s        object\n",
       "30s        object\n",
       "            ...  \n",
       "50s        object\n",
       "60s        object\n",
       "70s        object\n",
       "bp_min      int64\n",
       "Length: 9, dtype: object"
      ]
     },
     "execution_count": 19,
     "metadata": {},
     "output_type": "execute_result"
    }
   ],
   "source": [
    "#Cell_19.\n",
    "df_bp.dtypes"
   ]
  },
  {
   "cell_type": "code",
   "execution_count": 20,
   "metadata": {
    "execution": {
     "iopub.execute_input": "2024-11-20T15:23:48.780434Z",
     "iopub.status.busy": "2024-11-20T15:23:48.780186Z",
     "iopub.status.idle": "2024-11-20T15:23:48.787824Z",
     "shell.execute_reply": "2024-11-20T15:23:48.787310Z",
     "shell.execute_reply.started": "2024-11-20T15:23:48.780418Z"
    }
   },
   "outputs": [
    {
     "data": {
      "text/plain": [
       "sex        object\n",
       "bp_type    object\n",
       "20s         int16\n",
       "30s         int16\n",
       "            ...  \n",
       "50s         int16\n",
       "60s         int16\n",
       "70s         int16\n",
       "bp_min      int16\n",
       "Length: 9, dtype: object"
      ]
     },
     "execution_count": 20,
     "metadata": {},
     "output_type": "execute_result"
    }
   ],
   "source": [
    "#Cell_20.\n",
    "df_bp[df_bp.columns[2:]] = df_bp[df_bp.columns[2:]].copy().astype('int16')\n",
    "\n",
    "df_bp.dtypes"
   ]
  },
  {
   "cell_type": "code",
   "execution_count": 21,
   "metadata": {
    "execution": {
     "iopub.execute_input": "2024-11-20T15:23:48.788502Z",
     "iopub.status.busy": "2024-11-20T15:23:48.788332Z",
     "iopub.status.idle": "2024-11-20T15:23:48.795050Z",
     "shell.execute_reply": "2024-11-20T15:23:48.794469Z",
     "shell.execute_reply.started": "2024-11-20T15:23:48.788485Z"
    }
   },
   "outputs": [
    {
     "data": {
      "text/plain": [
       "20s     64\n",
       "30s     94\n",
       "40s    128\n",
       "50s    166\n",
       "60s    341\n",
       "70s    500\n",
       "dtype: int64"
      ]
     },
     "execution_count": 21,
     "metadata": {},
     "output_type": "execute_result"
    }
   ],
   "source": [
    "#Cell_21.\n",
    "ages = df_bp.columns[2:8]  # ages = ['20s', ... , '70s']\n",
    "# SBP の男性回答者数\n",
    "df_bp.loc[(df_bp.sex == 'M') & (df_bp.bp_type == 'sbp'), ages].sum()"
   ]
  },
  {
   "cell_type": "code",
   "execution_count": 22,
   "metadata": {
    "execution": {
     "iopub.execute_input": "2024-11-20T15:23:48.795752Z",
     "iopub.status.busy": "2024-11-20T15:23:48.795588Z",
     "iopub.status.idle": "2024-11-20T15:23:48.803282Z",
     "shell.execute_reply": "2024-11-20T15:23:48.802763Z",
     "shell.execute_reply.started": "2024-11-20T15:23:48.795734Z"
    }
   },
   "outputs": [
    {
     "data": {
      "text/plain": [
       "20s     64\n",
       "30s     94\n",
       "40s    128\n",
       "50s    166\n",
       "60s    341\n",
       "70s    500\n",
       "dtype: int64"
      ]
     },
     "execution_count": 22,
     "metadata": {},
     "output_type": "execute_result"
    }
   ],
   "source": [
    "#Cell_22.\n",
    "# DBP の男性回答者数\n",
    "df_bp.loc[(df_bp.sex == 'M') & (df_bp.bp_type == 'dbp'), ages].sum()"
   ]
  },
  {
   "cell_type": "code",
   "execution_count": 23,
   "metadata": {
    "execution": {
     "iopub.execute_input": "2024-11-20T15:23:48.804206Z",
     "iopub.status.busy": "2024-11-20T15:23:48.803837Z",
     "iopub.status.idle": "2024-11-20T15:23:48.809183Z",
     "shell.execute_reply": "2024-11-20T15:23:48.808588Z",
     "shell.execute_reply.started": "2024-11-20T15:23:48.804180Z"
    }
   },
   "outputs": [
    {
     "name": "stdout",
     "output_type": "stream",
     "text": [
      "n = [ 0  5 15 18 18  7  0  1  0  0  0]\n",
      "bp_min = [ 70  90 100 110 120 130 140 150 160 170 180]\n"
     ]
    }
   ],
   "source": [
    "#Cell_23.\n",
    "sex = 'M'\n",
    "bp_type = 'sbp'\n",
    "age = '20s'\n",
    "\n",
    "# 指定する (sex, bp_type, age) における回答者数リスト\n",
    "ix = (df_bp.sex == sex) & (df_bp.bp_type == bp_type)\n",
    "n = df_bp.loc[ix, age].values\n",
    "\n",
    "# リスト n に対応する bp_min リスト\n",
    "bp_min = df_bp.loc[ix, 'bp_min'].values\n",
    "\n",
    "print('n =', n)\n",
    "print('bp_min =', bp_min)"
   ]
  },
  {
   "cell_type": "code",
   "execution_count": 24,
   "metadata": {
    "execution": {
     "iopub.execute_input": "2024-11-20T15:23:48.810154Z",
     "iopub.status.busy": "2024-11-20T15:23:48.809973Z",
     "iopub.status.idle": "2024-11-20T15:23:48.814158Z",
     "shell.execute_reply": "2024-11-20T15:23:48.813549Z",
     "shell.execute_reply.started": "2024-11-20T15:23:48.810136Z"
    }
   },
   "outputs": [
    {
     "data": {
      "text/plain": [
       "array([ 90,  90,  90,  90,  90, 100, 100, 100, 100, 100, 100, 100, 100,\n",
       "       100, 100, 100, 100, 100, 100, 100, 110, 110, 110, 110, 110, 110,\n",
       "       110, 110, 110, 110, 110, 110, 110, 110, 110, 110, 110, 110, 120,\n",
       "       120, 120, 120, 120, 120, 120, 120, 120, 120, 120, 120, 120, 120,\n",
       "       120, 120, 120, 120, 130, 130, 130, 130, 130, 130, 130, 150],\n",
       "      dtype=int16)"
      ]
     },
     "execution_count": 24,
     "metadata": {},
     "output_type": "execute_result"
    }
   ],
   "source": [
    "#Cell_24.\n",
    "bp_min.repeat(n)"
   ]
  },
  {
   "cell_type": "code",
   "execution_count": 25,
   "metadata": {
    "execution": {
     "iopub.execute_input": "2024-11-20T15:23:48.814888Z",
     "iopub.status.busy": "2024-11-20T15:23:48.814696Z",
     "iopub.status.idle": "2024-11-20T15:23:48.830680Z",
     "shell.execute_reply": "2024-11-20T15:23:48.830176Z",
     "shell.execute_reply.started": "2024-11-20T15:23:48.814868Z"
    }
   },
   "outputs": [],
   "source": [
    "#Cell_25.\n",
    "bp_min.repeat(n)\n",
    "dict_bp_min_dist = {}\n",
    "dict_bp_min_dist['M'] = {}\n",
    "dict_bp_min_dist['M']['dbp'] = {}\n",
    "dict_bp_min_dist['M']['sbp'] = {}\n",
    "dict_bp_min_dist['F'] = {}\n",
    "dict_bp_min_dist['F']['dbp'] = {}\n",
    "dict_bp_min_dist['F']['sbp'] = {}\n",
    "\n",
    "for sex in ['M', 'F']:\n",
    "    for bp_type in ['sbp', 'dbp']:\n",
    "        for age in ages:\n",
    "            dict_bp_min_dist[sex][bp_type][age] = {}\n",
    "            ix = (df_bp.sex == sex) & (df_bp.bp_type == bp_type)\n",
    "            n = df_bp.loc[ix, age].values\n",
    "            bp_min = df_bp.loc[ix, 'bp_min'].values\n",
    "            dict_bp_min_dist[sex][bp_type][age] = bp_min.repeat(n)"
   ]
  },
  {
   "cell_type": "code",
   "execution_count": 26,
   "metadata": {
    "execution": {
     "iopub.execute_input": "2024-11-20T15:23:48.831319Z",
     "iopub.status.busy": "2024-11-20T15:23:48.831164Z",
     "iopub.status.idle": "2024-11-20T15:23:48.836225Z",
     "shell.execute_reply": "2024-11-20T15:23:48.835564Z",
     "shell.execute_reply.started": "2024-11-20T15:23:48.831302Z"
    }
   },
   "outputs": [
    {
     "data": {
      "text/plain": [
       "array([ 90,  90,  90,  90,  90, 100, 100, 100, 100, 100, 100, 100, 100,\n",
       "       100, 100, 100, 100, 100, 100, 100, 110, 110, 110, 110, 110, 110,\n",
       "       110, 110, 110, 110, 110, 110, 110, 110, 110, 110, 110, 110, 120,\n",
       "       120, 120, 120, 120, 120, 120, 120, 120, 120, 120, 120, 120, 120,\n",
       "       120, 120, 120, 120, 130, 130, 130, 130, 130, 130, 130, 150],\n",
       "      dtype=int16)"
      ]
     },
     "execution_count": 26,
     "metadata": {},
     "output_type": "execute_result"
    }
   ],
   "source": [
    "#Cell_26.\n",
    "dict_bp_min_dist['M']['sbp']['20s']"
   ]
  },
  {
   "cell_type": "code",
   "execution_count": 27,
   "metadata": {
    "execution": {
     "iopub.execute_input": "2024-11-20T15:23:48.836980Z",
     "iopub.status.busy": "2024-11-20T15:23:48.836764Z",
     "iopub.status.idle": "2024-11-20T15:23:48.840088Z",
     "shell.execute_reply": "2024-11-20T15:23:48.839450Z",
     "shell.execute_reply.started": "2024-11-20T15:23:48.836962Z"
    }
   },
   "outputs": [],
   "source": [
    "#Cell_27.\n",
    "import pickle\n",
    "\n",
    "f = open('./public_stats/processed/dict_bp_min_dist.binaryfile', 'wb')  # wb: Write Binary\n",
    "pickle.dump(dict_bp_min_dist, f)\n",
    "f.close()"
   ]
  },
  {
   "cell_type": "code",
   "execution_count": 28,
   "metadata": {
    "execution": {
     "iopub.execute_input": "2024-11-20T15:23:48.842543Z",
     "iopub.status.busy": "2024-11-20T15:23:48.842359Z",
     "iopub.status.idle": "2024-11-20T15:23:48.846787Z",
     "shell.execute_reply": "2024-11-20T15:23:48.846219Z",
     "shell.execute_reply.started": "2024-11-20T15:23:48.842526Z"
    }
   },
   "outputs": [
    {
     "data": {
      "text/plain": [
       "array([ 90,  90,  90,  90,  90, 100, 100, 100, 100, 100, 100, 100, 100,\n",
       "       100, 100, 100, 100, 100, 100, 100, 110, 110, 110, 110, 110, 110,\n",
       "       110, 110, 110, 110, 110, 110, 110, 110, 110, 110, 110, 110, 120,\n",
       "       120, 120, 120, 120, 120, 120, 120, 120, 120, 120, 120, 120, 120,\n",
       "       120, 120, 120, 120, 130, 130, 130, 130, 130, 130, 130, 150],\n",
       "      dtype=int16)"
      ]
     },
     "execution_count": 28,
     "metadata": {},
     "output_type": "execute_result"
    }
   ],
   "source": [
    "#Cell_28.\n",
    "f = open('./public_stats/processed/dict_bp_min_dist.binaryfile', 'rb')  # rb: Read Binary\n",
    "dict_bp_min_dist = pickle.load(f)\n",
    "f.close()\n",
    "\n",
    "dict_bp_min_dist['M']['sbp']['20s']"
   ]
  },
  {
   "cell_type": "code",
   "execution_count": 29,
   "metadata": {
    "execution": {
     "iopub.execute_input": "2024-11-20T15:23:48.847468Z",
     "iopub.status.busy": "2024-11-20T15:23:48.847305Z",
     "iopub.status.idle": "2024-11-20T15:23:48.851995Z",
     "shell.execute_reply": "2024-11-20T15:23:48.851338Z",
     "shell.execute_reply.started": "2024-11-20T15:23:48.847444Z"
    }
   },
   "outputs": [],
   "source": [
    "#Cell_29.\n",
    "f = open('./public_stats/processed/dict_dbp_max.binaryfile', 'wb')  # wb: Write Binary\n",
    "pickle.dump(dict_dbp_max, f)\n",
    "f.close()\n",
    "\n",
    "f = open('./public_stats/processed/dict_sbp_max.binaryfile', 'wb')  # wb: Write Binary\n",
    "pickle.dump(dict_sbp_max, f)\n",
    "f.close()"
   ]
  },
  {
   "cell_type": "code",
   "execution_count": 30,
   "metadata": {
    "execution": {
     "iopub.execute_input": "2024-11-20T15:23:48.853039Z",
     "iopub.status.busy": "2024-11-20T15:23:48.852682Z",
     "iopub.status.idle": "2024-11-20T15:23:48.856903Z",
     "shell.execute_reply": "2024-11-20T15:23:48.856451Z",
     "shell.execute_reply.started": "2024-11-20T15:23:48.853020Z"
    }
   },
   "outputs": [
    {
     "data": {
      "text/plain": [
       "{40: 49,\n",
       " 50: 59,\n",
       " 60: 69,\n",
       " 70: 79,\n",
       " 80: 89,\n",
       " 90: 99,\n",
       " 100: 109,\n",
       " 110: 119,\n",
       " 120: 129,\n",
       " 130: 139,\n",
       " 140: 159}"
      ]
     },
     "execution_count": 30,
     "metadata": {},
     "output_type": "execute_result"
    }
   ],
   "source": [
    "#Cell_30.\n",
    "f = open('./public_stats/processed/dict_dbp_max.binaryfile', 'rb')  # rb: Read Binary\n",
    "dict_dbp_min = pickle.load(f)\n",
    "f.close()\n",
    "\n",
    "dict_dbp_min"
   ]
  },
  {
   "cell_type": "code",
   "execution_count": 31,
   "metadata": {
    "execution": {
     "iopub.execute_input": "2024-11-20T15:23:48.857700Z",
     "iopub.status.busy": "2024-11-20T15:23:48.857517Z",
     "iopub.status.idle": "2024-11-20T15:23:48.861954Z",
     "shell.execute_reply": "2024-11-20T15:23:48.861461Z",
     "shell.execute_reply.started": "2024-11-20T15:23:48.857680Z"
    }
   },
   "outputs": [
    {
     "data": {
      "text/plain": [
       "{70: 89,\n",
       " 90: 99,\n",
       " 100: 109,\n",
       " 110: 119,\n",
       " 120: 129,\n",
       " 130: 139,\n",
       " 140: 149,\n",
       " 150: 159,\n",
       " 160: 169,\n",
       " 170: 179,\n",
       " 180: 199}"
      ]
     },
     "execution_count": 31,
     "metadata": {},
     "output_type": "execute_result"
    }
   ],
   "source": [
    "#Cell_31.\n",
    "f = open('./public_stats/processed/dict_sbp_max.binaryfile', 'rb')  # rb: Read Binary\n",
    "dict_sbp_min = pickle.load(f)\n",
    "f.close()\n",
    "\n",
    "dict_sbp_min"
   ]
  },
  {
   "cell_type": "code",
   "execution_count": 32,
   "metadata": {
    "execution": {
     "iopub.execute_input": "2024-11-20T15:23:48.862717Z",
     "iopub.status.busy": "2024-11-20T15:23:48.862557Z",
     "iopub.status.idle": "2024-11-20T15:23:48.875893Z",
     "shell.execute_reply": "2024-11-20T15:23:48.875425Z",
     "shell.execute_reply.started": "2024-11-20T15:23:48.862700Z"
    }
   },
   "outputs": [
    {
     "data": {
      "text/html": [
       "<div>\n",
       "<style scoped>\n",
       "    .dataframe tbody tr th:only-of-type {\n",
       "        vertical-align: middle;\n",
       "    }\n",
       "\n",
       "    .dataframe tbody tr th {\n",
       "        vertical-align: top;\n",
       "    }\n",
       "\n",
       "    .dataframe thead th {\n",
       "        text-align: right;\n",
       "    }\n",
       "</style>\n",
       "<table border=\"1\" class=\"dataframe\">\n",
       "  <thead>\n",
       "    <tr style=\"text-align: right;\">\n",
       "      <th></th>\n",
       "      <th>sex</th>\n",
       "      <th>bp_type</th>\n",
       "      <th>20s</th>\n",
       "      <th>30s</th>\n",
       "      <th>40s</th>\n",
       "      <th>50s</th>\n",
       "      <th>60s</th>\n",
       "      <th>70s</th>\n",
       "      <th>bp_min</th>\n",
       "    </tr>\n",
       "  </thead>\n",
       "  <tbody>\n",
       "    <tr>\n",
       "      <th>0</th>\n",
       "      <td>M</td>\n",
       "      <td>sbp</td>\n",
       "      <td>0</td>\n",
       "      <td>0</td>\n",
       "      <td>0</td>\n",
       "      <td>0</td>\n",
       "      <td>0</td>\n",
       "      <td>0</td>\n",
       "      <td>70</td>\n",
       "    </tr>\n",
       "    <tr>\n",
       "      <th>1</th>\n",
       "      <td>M</td>\n",
       "      <td>sbp</td>\n",
       "      <td>5</td>\n",
       "      <td>2</td>\n",
       "      <td>3</td>\n",
       "      <td>1</td>\n",
       "      <td>1</td>\n",
       "      <td>1</td>\n",
       "      <td>90</td>\n",
       "    </tr>\n",
       "    <tr>\n",
       "      <th>2</th>\n",
       "      <td>M</td>\n",
       "      <td>sbp</td>\n",
       "      <td>15</td>\n",
       "      <td>18</td>\n",
       "      <td>9</td>\n",
       "      <td>4</td>\n",
       "      <td>9</td>\n",
       "      <td>9</td>\n",
       "      <td>100</td>\n",
       "    </tr>\n",
       "    <tr>\n",
       "      <th>3</th>\n",
       "      <td>M</td>\n",
       "      <td>sbp</td>\n",
       "      <td>18</td>\n",
       "      <td>30</td>\n",
       "      <td>26</td>\n",
       "      <td>31</td>\n",
       "      <td>31</td>\n",
       "      <td>36</td>\n",
       "      <td>110</td>\n",
       "    </tr>\n",
       "    <tr>\n",
       "      <th>...</th>\n",
       "      <td>...</td>\n",
       "      <td>...</td>\n",
       "      <td>...</td>\n",
       "      <td>...</td>\n",
       "      <td>...</td>\n",
       "      <td>...</td>\n",
       "      <td>...</td>\n",
       "      <td>...</td>\n",
       "      <td>...</td>\n",
       "    </tr>\n",
       "    <tr>\n",
       "      <th>40</th>\n",
       "      <td>F</td>\n",
       "      <td>dbp</td>\n",
       "      <td>0</td>\n",
       "      <td>0</td>\n",
       "      <td>1</td>\n",
       "      <td>2</td>\n",
       "      <td>1</td>\n",
       "      <td>1</td>\n",
       "      <td>110</td>\n",
       "    </tr>\n",
       "    <tr>\n",
       "      <th>41</th>\n",
       "      <td>F</td>\n",
       "      <td>dbp</td>\n",
       "      <td>0</td>\n",
       "      <td>0</td>\n",
       "      <td>0</td>\n",
       "      <td>0</td>\n",
       "      <td>0</td>\n",
       "      <td>1</td>\n",
       "      <td>120</td>\n",
       "    </tr>\n",
       "    <tr>\n",
       "      <th>42</th>\n",
       "      <td>F</td>\n",
       "      <td>dbp</td>\n",
       "      <td>0</td>\n",
       "      <td>0</td>\n",
       "      <td>0</td>\n",
       "      <td>0</td>\n",
       "      <td>0</td>\n",
       "      <td>0</td>\n",
       "      <td>130</td>\n",
       "    </tr>\n",
       "    <tr>\n",
       "      <th>43</th>\n",
       "      <td>F</td>\n",
       "      <td>dbp</td>\n",
       "      <td>0</td>\n",
       "      <td>0</td>\n",
       "      <td>0</td>\n",
       "      <td>0</td>\n",
       "      <td>0</td>\n",
       "      <td>0</td>\n",
       "      <td>140</td>\n",
       "    </tr>\n",
       "  </tbody>\n",
       "</table>\n",
       "<p>44 rows × 9 columns</p>\n",
       "</div>"
      ],
      "text/plain": [
       "   sex bp_type  20s  30s  40s  50s  60s  70s  bp_min\n",
       "0    M     sbp    0    0    0    0    0    0      70\n",
       "1    M     sbp    5    2    3    1    1    1      90\n",
       "2    M     sbp   15   18    9    4    9    9     100\n",
       "3    M     sbp   18   30   26   31   31   36     110\n",
       "..  ..     ...  ...  ...  ...  ...  ...  ...     ...\n",
       "40   F     dbp    0    0    1    2    1    1     110\n",
       "41   F     dbp    0    0    0    0    0    1     120\n",
       "42   F     dbp    0    0    0    0    0    0     130\n",
       "43   F     dbp    0    0    0    0    0    0     140\n",
       "\n",
       "[44 rows x 9 columns]"
      ]
     },
     "execution_count": 32,
     "metadata": {},
     "output_type": "execute_result"
    }
   ],
   "source": [
    "#Cell_32.\n",
    "df_bp.to_csv('./public_stats/processed/df_bp.csv', index=False)\n",
    "\n",
    "df_bp = pd.read_csv('./public_stats/processed/df_bp.csv')\n",
    "df_bp"
   ]
  },
  {
   "cell_type": "markdown",
   "metadata": {
    "colab_type": "text",
    "id": "qpwoJim4-ouU"
   },
   "source": [
    "### 血圧情報の擬似生成と可視化"
   ]
  },
  {
   "cell_type": "code",
   "execution_count": 33,
   "metadata": {
    "colab": {},
    "colab_type": "code",
    "execution": {
     "iopub.execute_input": "2024-11-20T15:23:48.876624Z",
     "iopub.status.busy": "2024-11-20T15:23:48.876439Z",
     "iopub.status.idle": "2024-11-20T15:23:48.881136Z",
     "shell.execute_reply": "2024-11-20T15:23:48.880504Z",
     "shell.execute_reply.started": "2024-11-20T15:23:48.876604Z"
    },
    "id": "wSN8mxDu-ouc"
   },
   "outputs": [],
   "source": [
    "#Cell_33.\n",
    "def calc_bp_class(dbp, sbp):\n",
    "    return ((dbp >= 80) | (sbp >= 120)) * 1 \\\n",
    "         + ((dbp >= 85) | (sbp >= 130)) * 1 \\\n",
    "         + ((dbp >= 90) | (sbp >= 140)) * 1 \\\n",
    "         + ((dbp >= 100) | (sbp >= 160)) * 1 \\\n",
    "         + ((dbp >= 110) | (sbp >= 180)) * 1\n",
    "\n",
    "\n",
    "# 年齢ごとにマーカーの色を変える\n",
    "dict_color = {'20s': 'r', '30s': 'orange', '40s': 'y',\n",
    "              '50s': 'g', '60s': 'b', '70s': 'purple'}\n",
    "\n",
    "# マーカーを血圧分類値にする\n",
    "dict_marker = {0: '$0$', 1: '$1$', 2: '$2$', 3: '$3$', 4: '$4$', 5: '$5$'}"
   ]
  },
  {
   "cell_type": "code",
   "execution_count": 34,
   "metadata": {
    "execution": {
     "iopub.execute_input": "2024-11-20T15:23:48.882346Z",
     "iopub.status.busy": "2024-11-20T15:23:48.882105Z",
     "iopub.status.idle": "2024-11-20T15:23:50.973060Z",
     "shell.execute_reply": "2024-11-20T15:23:50.972508Z",
     "shell.execute_reply.started": "2024-11-20T15:23:48.882323Z"
    },
    "tags": []
   },
   "outputs": [
    {
     "name": "stderr",
     "output_type": "stream",
     "text": [
      "findfont: Font family ['Times New Roman'] not found. Falling back to DejaVu Sans.\n"
     ]
    },
    {
     "name": "stdout",
     "output_type": "stream",
     "text": [
      "[0 0 0 0 0 0 0 0 0 0 0 0 0 0 0 0 0 0 0 0 0 0 0 0 0 0 0 0 0 0 0 0 0 0 0 0 0\n",
      " 0 1 1 1 1 1 2 1 1 2 1 1 1 1 2 1 1 1 1 2 2 2 2 2 3 3 5]\n",
      "[0 0 0 0 0 0 0 0 0 0 0 0 0 0 0 0 0 0 0 0 0 0 0 0 0 0 0 0 0 0 0 0 0 0 0 0 0\n",
      " 0 0 0 0 0 0 0 0 0 0 0 0 0 1 1 1 1 1 1 2 2 2 2 1 2 1 2 1 1 1 1 2 1 2 2 2 1\n",
      " 2 2 2 2 2 2 2 3 3 3 3 3 3 3 3 3 3 3 3 4]\n",
      "[0 0 0 0 0 0 0 0 0 0 0 0 0 0 0 0 0 0 0 0 0 0 0 0 0 0 0 0 0 0 0 0 0 0 0 0 0\n",
      " 0 1 1 1 1 1 1 1 1 1 1 1 1 2 1 1 1 1 1 2 2 2 2 2 2 2 2 2 1 1 1 1 2 1 1 1 2\n",
      " 2 2 2 2 2 2 2 2 2 2 2 2 2 2 2 2 2 2 3 3 3 3 3 3 3 3 3 3 3 3 3 3 3 3 3 3 3\n",
      " 3 3 3 3 3 3 3 3 3 4 4 4 4 5 5 5 5]\n",
      "[0 0 0 0 0 0 0 0 0 0 0 0 0 0 0 0 0 0 0 0 0 0 0 0 0 0 0 0 0 0 0 0 0 0 0 0 1\n",
      " 1 1 1 1 1 1 1 1 1 1 1 1 2 1 1 2 1 1 1 1 2 1 2 2 2 1 1 2 1 2 2 2 2 2 2 2 2\n",
      " 2 2 2 2 2 2 2 2 2 2 2 2 2 2 2 2 2 2 2 2 2 2 2 2 2 2 2 2 2 3 3 3 3 3 3 3 3\n",
      " 3 3 3 3 3 3 3 3 3 3 3 3 3 3 3 3 3 3 3 3 3 3 3 3 3 3 3 3 3 3 3 3 3 3 3 3 4\n",
      " 4 4 4 4 4 4 4 4 4 4 4 4 4 4 5 5 5 5]\n",
      "[0 0 0 0 0 0 0 0 0 0 0 0 0 0 0 0 0 0 0 0 0 0 0 0 0 0 0 0 0 0 0 0 0 0 0 0 0\n",
      " 0 0 0 0 1 1 1 1 1 1 1 1 1 1 1 1 1 1 1 1 1 1 1 1 1 1 1 1 1 1 1 1 1 1 1 1 1\n",
      " 1 1 1 1 1 1 1 1 1 1 1 1 1 1 1 1 1 1 1 1 1 1 1 1 1 1 1 1 2 1 2 2 2 2 2 2 2\n",
      " 2 2 2 2 2 2 2 2 2 2 2 2 2 2 2 2 2 2 2 2 2 2 2 2 2 2 2 2 2 2 2 2 2 2 2 2 2\n",
      " 2 2 2 2 2 2 2 2 2 2 2 2 2 2 2 2 2 2 2 2 2 2 2 2 2 2 2 2 2 2 2 2 2 2 2 2 2\n",
      " 2 2 2 2 2 2 3 3 3 3 3 3 3 3 3 3 3 3 3 3 3 3 3 3 3 3 3 3 3 3 3 3 3 3 3 3 3\n",
      " 3 3 3 3 3 3 3 3 3 3 3 3 3 3 3 3 3 3 3 3 3 3 3 3 3 3 3 3 3 3 3 3 3 3 3 3 3\n",
      " 3 3 3 3 3 3 3 3 3 3 3 3 3 3 3 3 3 3 3 3 3 3 3 3 3 3 3 3 3 3 3 3 3 3 3 3 3\n",
      " 3 3 3 3 3 3 3 3 3 3 3 3 4 4 4 4 4 4 4 4 4 4 4 4 4 4 4 4 4 4 4 4 4 4 4 4 4\n",
      " 4 4 5 5 5 5 5 5]\n",
      "[0 0 0 0 0 0 0 0 0 0 0 0 0 0 0 0 0 0 0 0 0 0 0 0 0 0 0 0 0 0 0 0 0 0 0 0 0\n",
      " 0 0 0 0 0 0 0 0 0 1 1 1 1 1 1 1 1 1 1 1 1 1 1 1 1 1 1 1 1 1 1 1 1 1 1 1 1\n",
      " 1 1 1 1 1 1 1 1 1 1 1 1 1 1 1 1 1 1 1 1 1 1 1 1 1 1 1 1 1 1 1 1 1 1 1 1 1\n",
      " 1 1 1 1 1 1 1 1 1 1 1 1 1 1 2 2 2 2 2 2 2 2 2 2 2 2 2 2 2 2 2 2 2 2 2 2 2\n",
      " 2 2 2 2 2 2 2 2 2 2 2 2 2 2 2 2 2 2 2 2 2 2 2 2 2 2 2 2 2 2 2 2 2 2 2 2 2\n",
      " 2 2 2 2 2 2 2 2 2 2 2 2 2 2 2 2 2 2 2 2 2 2 2 2 2 2 2 2 2 2 2 2 2 2 2 2 2\n",
      " 2 2 2 2 2 2 2 2 2 2 2 2 2 2 2 2 2 2 2 2 2 2 2 2 2 2 3 3 3 3 3 3 3 3 3 3 3\n",
      " 3 3 3 3 3 3 3 3 3 3 3 3 3 3 3 3 3 3 3 3 3 3 3 3 3 3 3 3 3 3 3 3 3 3 3 3 3\n",
      " 3 3 3 3 3 3 3 3 3 3 3 3 3 3 3 3 3 3 3 3 3 3 3 3 3 3 3 3 3 3 3 3 3 3 3 3 3\n",
      " 3 3 3 3 3 3 3 3 3 3 3 3 3 3 3 3 3 3 3 3 3 3 3 3 3 3 3 3 3 3 3 3 3 3 3 3 3\n",
      " 3 3 3 3 3 3 3 3 3 3 3 3 3 3 3 3 3 3 3 3 3 3 3 3 3 3 3 3 3 3 3 3 3 3 3 3 3\n",
      " 3 3 3 3 3 3 3 3 3 3 3 3 3 3 3 3 3 3 4 4 4 4 4 4 4 4 4 4 4 4 4 4 4 4 4 4 4\n",
      " 4 4 4 4 4 4 4 4 4 4 4 4 4 4 4 4 4 4 4 4 4 4 4 4 4 4 4 4 4 4 4 4 4 4 4 4 4\n",
      " 4 4 4 4 4 4 4 4 5 5 5 5 5 5 5 5 5 5 5]\n",
      "[0 0 0 0 0 0 0 0 0 0 0 0 0 0 0 0 0 0 0 0 0 0 0 0 0 0 0 0 0 0 0 0 0 0 0 0 0\n",
      " 0 0 0 0 0 0 0 0 0 0 0 0 0 0 0 0 0 0 0 0 0 0 0 0 0 1 1 1 1 1 2 2 3 4]\n",
      "[0 0 0 0 0 0 0 0 0 0 0 0 0 0 0 0 0 0 0 0 0 0 0 0 0 0 0 0 0 0 0 0 0 0 0 0 0\n",
      " 0 0 0 0 0 0 0 0 0 0 0 0 0 0 0 0 0 0 0 0 0 0 0 0 0 0 0 0 0 0 0 0 0 0 0 0 0\n",
      " 0 0 0 0 0 0 0 0 0 0 0 0 0 0 0 0 0 0 0 0 0 0 0 0 0 0 0 0 0 0 0 0 0 0 0 0 0\n",
      " 0 0 0 0 0 0 0 0 0 0 0 0 0 0 0 0 1 1 1 1 1 1 1 2 1 2 1 1 2 1 1 2 1 2 2 1 1\n",
      " 2 1 2 2 2 1 2 2 1 1 2 2 3 3 3 3 4]\n",
      "[0 0 0 0 0 0 0 0 0 0 0 0 0 0 0 0 0 0 0 0 0 0 0 0 0 0 0 0 0 0 0 0 0 0 0 0 0\n",
      " 0 0 0 0 0 0 0 0 0 0 0 0 0 0 0 0 0 0 0 0 0 0 0 0 0 0 0 0 0 0 0 0 0 0 0 0 0\n",
      " 0 0 0 0 0 0 0 0 0 0 0 0 0 0 0 0 0 0 0 0 0 0 0 0 0 0 0 0 0 0 0 0 0 0 0 0 0\n",
      " 0 0 0 0 0 0 0 0 0 0 0 0 0 0 0 0 0 0 0 0 0 0 0 0 0 0 0 0 0 0 0 0 0 0 0 0 0\n",
      " 0 0 0 0 0 0 0 0 0 0 1 1 1 1 1 1 1 1 1 1 1 1 1 1 1 1 1 1 1 1 1 1 1 2 1 1 2\n",
      " 1 2 1 1 1 2 2 1 2 1 2 2 2 2 1 1 2 2 1 2 2 2 2 2 2 1 1 2 1 2 1 1 1 2 2 2 2\n",
      " 2 2 2 2 2 2 2 2 2 2 2 2 2 2 2 2 2 2 2 2 2 2 2 3 3 3 3 3 3 3 3 3 3 3 3 3 3\n",
      " 3 3 3 3 3 3 3 3 4 4 4 4 5]\n",
      "[0 0 0 0 0 0 0 0 0 0 0 0 0 0 0 0 0 0 0 0 0 0 0 0 0 0 0 0 0 0 0 0 0 0 0 0 0\n",
      " 0 0 0 0 0 0 0 0 0 0 0 0 0 0 0 0 0 0 0 0 0 0 0 0 0 0 0 0 0 0 0 0 0 0 0 0 0\n",
      " 0 0 0 0 0 0 0 0 0 0 0 0 0 0 0 0 0 0 0 0 0 0 0 0 0 0 0 0 0 1 1 1 1 1 1 1 1\n",
      " 1 1 1 1 1 1 1 1 1 1 1 1 1 1 1 1 1 1 1 1 1 1 1 1 1 1 1 1 1 1 1 1 1 1 1 1 1\n",
      " 1 1 2 1 2 1 1 1 1 1 1 1 2 1 2 2 2 1 1 1 1 2 2 1 2 1 1 1 2 2 2 2 2 2 2 2 2\n",
      " 2 2 2 2 2 2 2 2 2 2 2 2 2 2 2 2 2 2 2 2 2 2 2 2 2 2 2 2 2 2 2 2 2 2 2 2 2\n",
      " 2 2 2 3 3 3 3 3 3 3 3 3 3 3 3 3 3 3 3 3 3 3 3 3 3 3 3 3 3 3 3 3 3 3 3 3 3\n",
      " 3 3 3 3 3 4 4 4 4 4 4 4 4 5 5]\n",
      "[0 0 0 0 0 0 0 0 0 0 0 0 0 0 0 0 0 0 0 0 0 0 0 0 0 0 0 0 0 0 0 0 0 0 0 0 0\n",
      " 0 0 0 0 0 0 0 0 0 0 0 0 0 0 0 0 0 0 0 0 0 0 0 0 0 0 0 0 0 0 0 0 0 0 0 0 0\n",
      " 0 0 0 0 0 1 1 1 1 1 1 1 1 1 1 1 1 1 1 1 1 1 1 1 1 1 1 1 1 1 1 1 1 1 1 1 1\n",
      " 1 1 1 1 1 1 1 1 1 1 1 1 1 1 1 1 1 1 1 1 1 1 1 1 1 1 1 1 1 1 1 1 1 1 1 1 1\n",
      " 1 1 1 1 1 1 1 1 1 1 1 1 1 1 1 1 1 1 1 1 2 2 2 2 2 2 2 2 2 2 2 2 2 2 2 2 2\n",
      " 2 2 2 2 2 2 2 2 2 2 2 2 2 2 2 2 2 2 2 2 2 2 2 2 2 2 2 2 2 2 2 2 2 2 2 2 2\n",
      " 2 2 2 2 2 2 2 2 2 2 2 2 2 2 2 2 2 2 2 2 2 2 2 2 2 2 2 2 2 2 2 2 2 2 2 2 2\n",
      " 2 2 2 2 2 2 2 2 3 3 3 3 3 3 3 3 3 3 3 3 3 3 3 3 3 3 3 3 3 3 3 3 3 3 3 3 3\n",
      " 3 3 3 3 3 3 3 3 3 3 3 3 3 3 3 3 3 3 3 3 3 3 3 3 3 3 3 3 3 3 3 3 3 3 3 3 3\n",
      " 3 3 3 3 3 3 3 3 3 3 3 3 3 3 3 3 3 3 3 3 3 3 3 3 3 3 3 3 3 3 3 3 3 3 3 3 3\n",
      " 3 3 3 3 3 3 3 3 3 3 3 3 3 3 4 4 4 4 4 4 4 4 4 4 4 4 4 4 4 4 4 4 4 4 4 4 4\n",
      " 4 4 5 5 5 5 5 5 5 5]\n",
      "[0 0 0 0 0 0 0 0 0 0 0 0 0 0 0 0 0 0 0 0 0 0 0 0 0 0 0 0 0 0 0 0 0 0 0 0 0\n",
      " 0 0 0 0 0 0 0 0 0 0 0 0 0 0 0 0 0 0 0 1 1 1 1 1 1 1 1 1 1 1 1 1 1 1 1 1 1\n",
      " 1 1 1 1 1 1 1 1 1 1 1 1 1 1 1 1 1 1 1 1 1 1 1 1 1 1 1 1 1 1 1 1 1 1 1 1 1\n",
      " 1 1 1 1 1 1 1 1 1 1 1 1 1 1 1 1 1 1 1 1 1 1 1 1 1 1 1 1 1 1 1 1 1 1 1 1 1\n",
      " 1 1 1 1 1 1 1 1 1 1 1 1 1 1 1 1 1 1 1 1 1 1 1 1 1 1 1 1 1 1 1 1 1 1 2 2 2\n",
      " 2 2 2 2 2 2 2 2 2 2 2 2 2 2 2 2 2 2 2 2 2 2 2 2 2 2 2 2 2 2 2 2 2 2 2 2 2\n",
      " 2 2 2 2 2 2 2 2 2 2 2 2 2 2 2 2 2 2 2 2 2 2 2 2 2 2 2 2 2 2 2 2 2 2 2 2 2\n",
      " 2 2 2 2 2 2 2 2 2 2 2 2 2 2 2 2 2 2 2 2 2 2 2 2 2 2 2 2 2 2 2 2 2 2 2 2 2\n",
      " 2 2 2 2 2 2 2 2 2 2 2 2 2 2 2 2 2 2 2 2 2 2 2 2 2 2 2 2 2 2 2 2 2 2 2 2 2\n",
      " 2 2 2 2 2 2 2 2 2 2 2 2 2 2 2 2 3 3 3 3 3 3 3 3 3 3 3 3 3 3 3 3 3 3 3 3 3\n",
      " 3 3 3 3 3 3 3 3 3 3 3 3 3 3 3 3 3 3 3 3 3 3 3 3 3 3 3 3 3 3 3 3 3 3 3 3 3\n",
      " 3 3 3 3 3 3 3 3 3 3 3 3 3 3 3 3 3 3 3 3 3 3 3 3 3 3 3 3 3 3 3 3 3 3 3 3 3\n",
      " 3 3 3 3 3 3 3 3 3 3 3 3 3 3 3 3 3 3 3 3 3 3 3 3 3 3 3 3 3 3 3 3 3 3 3 3 3\n",
      " 3 3 3 3 3 3 3 3 3 3 3 3 3 3 3 3 3 3 3 3 3 3 3 3 3 3 3 3 3 3 3 3 3 3 3 3 3\n",
      " 3 3 3 3 3 3 3 3 3 3 3 3 3 3 3 3 3 3 3 3 3 3 3 3 3 3 3 3 3 3 3 3 3 3 3 3 3\n",
      " 3 3 4 4 4 4 4 4 4 4 4 4 4 4 4 4 4 4 4 4 4 4 4 4 4 4 4 4 4 4 4 4 4 4 4 4 4\n",
      " 4 4 4 4 4 4 4 4 4 4 4 4 4 4 4 4 4 4 4 4 4 4 4 4 5 5 5 5 5 5 5 5 5 5]\n"
     ]
    },
    {
     "name": "stderr",
     "output_type": "stream",
     "text": [
      "findfont: Font family ['Times New Roman'] not found. Falling back to DejaVu Sans.\n",
      "findfont: Font family ['Times New Roman'] not found. Falling back to DejaVu Sans.\n"
     ]
    },
    {
     "data": {
      "image/png": "[encoded data removed]",
      "text/plain": [
       "<Figure size 800x1200 with 6 Axes>"
      ]
     },
     "metadata": {},
     "output_type": "display_data"
    }
   ],
   "source": [
    "#Cell_34.\n",
    "# 表示の大きさと解像度を設定\n",
    "fig = plt.figure(figsize=(8, 12))\n",
    "fig.suptitle('BP Class Distribution')\n",
    "\n",
    "# 6つの散布図を同時に表示\n",
    "ax_My = fig.add_subplot(321)  # Male   Young\n",
    "ax_Fy = fig.add_subplot(322)  # Female Young\n",
    "ax_Mm = fig.add_subplot(323)  # Male   Middle\n",
    "ax_Fm = fig.add_subplot(324)  # Female Middle\n",
    "ax_Me = fig.add_subplot(325)  # Male   Elderly\n",
    "ax_Fe = fig.add_subplot(326)  # Female Elderly\n",
    "\n",
    "rs = 0\n",
    "np.random.seed(rs)\n",
    "\n",
    "sexes = ['M', 'F']\n",
    "ages = df_bp.columns[2:8]\n",
    "\n",
    "for sex in sexes:\n",
    "    for age in ages:\n",
    "        sbp_min = dict_bp_min_dist[sex]['sbp'][age]\n",
    "        sbp_max = [dict_sbp_max[sbpm] for sbpm in sbp_min]\n",
    "        dbp_min = dict_bp_min_dist[sex]['dbp'][age]\n",
    "        dbp_max = [dict_dbp_max[dbpm] for dbpm in dbp_min]\n",
    "        n = len(sbp_min)\n",
    "\n",
    "        # SBP を乱数生成\n",
    "        sbp = np.random.rand(n) * (sbp_max - sbp_min) + sbp_min\n",
    "        rs = rs + 1\n",
    "        np.random.seed(rs)\n",
    "\n",
    "        # DBP を乱数生成\n",
    "        dbp = np.random.rand(n) * (dbp_max - dbp_min) + dbp_min\n",
    "        rs = rs + 1\n",
    "        np.random.seed(rs)\n",
    "\n",
    "        # 軸を選ぶ\n",
    "        if sex == 'M' and (age == '20s' or age == '30s'):\n",
    "            ax = ax_My\n",
    "        elif sex == 'M' and (age == '40s' or age == '50s'):\n",
    "            ax = ax_Mm\n",
    "        elif sex == 'M' and (age == '60s' or age == '70s'):\n",
    "            ax = ax_Me\n",
    "        elif sex == 'F' and (age == '20s' or age == '30s'):\n",
    "            ax = ax_Fy\n",
    "        elif sex == 'F' and (age == '40s' or age == '50s'):\n",
    "            ax = ax_Fm\n",
    "        else:\n",
    "            ax = ax_Fe\n",
    "\n",
    "        # 各性別・年齢区分における最初の人だけ凡例をつける\n",
    "        marker = calc_bp_class(dbp, sbp)\n",
    "        print(marker)\n",
    "        for m in np.arange(6):\n",
    "            x = dbp[marker == m]\n",
    "            y = sbp[marker == m]\n",
    "            if m == 0:\n",
    "                ax.scatter(x, y, c=dict_color[age], marker=dict_marker[m],\n",
    "                           s=25, linewidth=0.1, label='BP class of Age ' + age)\n",
    "            else:\n",
    "                ax.scatter(x, y, c=dict_color[age], marker=dict_marker[m],\n",
    "                           s=25, linewidth=0.1)\n",
    "\n",
    "axes = [ax_My, ax_Mm, ax_Me, ax_Fy, ax_Fm, ax_Fe]\n",
    "\n",
    "# 血圧分類の境界を作成\n",
    "for ax in axes:\n",
    "    # vertical lines\n",
    "    ax.plot([80, 80], [70, 120], linestyle='--', c='grey', linewidth=0.2)\n",
    "    ax.plot([85, 85], [70, 130], linestyle='--', c='grey', linewidth=0.2)\n",
    "    ax.plot([90, 90], [70, 140], linestyle='--', c='grey', linewidth=0.2)\n",
    "    ax.plot([100, 100], [70, 160], linestyle='--', c='grey', linewidth=0.2)\n",
    "    ax.plot([110, 110], [70, 180], linestyle='--', c='grey', linewidth=0.2)\n",
    "    # horizontal lines\n",
    "    ax.plot([40, 80], [120, 120], linestyle='--', c='grey', linewidth=0.2)\n",
    "    ax.plot([40, 85], [130, 130], linestyle='--', c='grey', linewidth=0.2)\n",
    "    ax.plot([40, 90], [140, 140], linestyle='--', c='grey', linewidth=0.2)\n",
    "    ax.plot([40, 100], [160, 160], linestyle='--', c='grey', linewidth=0.2)\n",
    "    ax.plot([40, 110], [180, 180], linestyle='--', c='grey', linewidth=0.2)\n",
    "\n",
    "# 各散布図にタイトルを追加\n",
    "titles = ['Young Male (age:20-39)', 'Middle Male (age:40-59)',\n",
    "          'Elderly Male (age:60-)', 'Young Female (age:20-39)',\n",
    "          'Middle Female (age40-59)', 'Elderly Female (age:60-)']\n",
    "for ax, title in zip(axes, titles):\n",
    "    ax.set_xlabel('DBP', fontsize=10)\n",
    "    ax.set_ylabel('SBP', fontsize=10)\n",
    "    ax.set_xlim(40, 140)\n",
    "    ax.set_ylim(70, 200)\n",
    "    ax.set_title(title, fontsize=10)\n",
    "    ax.tick_params(labelsize=8)\n",
    "    ax.legend(fontsize=10)\n",
    "\n",
    "# 散布図同士の間隔調整\n",
    "plt.tight_layout()\n",
    "plt.subplots_adjust(top=0.93)"
   ]
  }
 ],
 "metadata": {
  "kernelspec": {
   "display_name": "Python 3 (ipykernel)",
   "language": "python",
   "name": "python3"
  },
  "language_info": {
   "codemirror_mode": {
    "name": "ipython",
    "version": 3
   },
   "file_extension": ".py",
   "mimetype": "text/x-python",
   "name": "python",
   "nbconvert_exporter": "python",
   "pygments_lexer": "ipython3",
   "version": "3.8.18"
  }
 },
 "nbformat": 4,
 "nbformat_minor": 4
}
