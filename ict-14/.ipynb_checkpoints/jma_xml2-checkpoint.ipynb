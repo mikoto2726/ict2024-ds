{
 "cells": [
  {
   "cell_type": "markdown",
   "id": "b2d6e864-4ff7-4b22-80c0-3054fad5de4f",
   "metadata": {},
   "source": [
    "# データ・サイエンス\tデータ・サイエンス社会応用論 / ICT社会応用演習Ⅳ\n",
    "## 14-2. 地震情報を抽出しよう"
   ]
  },
  {
   "cell_type": "markdown",
   "id": "830a8f2b-a388-40d0-b7e9-58199d0adbfd",
   "metadata": {},
   "source": [
    "### 1. 気象庁防災情報XMLの読み込み\n",
    "#### 1-a) 下準備"
   ]
  },
  {
   "cell_type": "code",
   "execution_count": null,
   "id": "533f439e-6b5e-4537-ad7a-e28434c550d7",
   "metadata": {},
   "outputs": [],
   "source": [
    "import xml.etree.ElementTree as ET\n",
    "from dateutil import parser\n",
    "import requests\n",
    "import pandas as pd\n",
    "import time"
   ]
  },
  {
   "cell_type": "code",
   "execution_count": null,
   "id": "b45b6b58-b364-4cb0-929c-bb59a1e5dc6e",
   "metadata": {},
   "outputs": [],
   "source": [
    "EQVOL_LONG_FEED = 'https://www.data.jma.go.jp/developer/xml/feed/eqvol_l.xml'"
   ]
  },
  {
   "cell_type": "markdown",
   "id": "a0434de2-dbd5-48d1-892d-f63413a9ec8f",
   "metadata": {},
   "source": [
    "#### 1-b) フィードのダウンロード"
   ]
  },
  {
   "cell_type": "code",
   "execution_count": null,
   "id": "2de82a83-9ea0-4aea-a8ad-81a66d4450d3",
   "metadata": {
    "scrolled": true
   },
   "outputs": [],
   "source": [
    "response = requests.get(EQVOL_LONG_FEED)\n",
    "response.encoding = 'utf-8'\n",
    "print(response.text)"
   ]
  },
  {
   "cell_type": "markdown",
   "id": "5ad1d4eb-acc6-4614-9895-54497396fe7c",
   "metadata": {},
   "source": [
    "#### 1-c) DataFrameの作成"
   ]
  },
  {
   "cell_type": "code",
   "execution_count": null,
   "id": "888271b9-b343-4ccd-8a30-d249e39d7be2",
   "metadata": {
    "scrolled": true
   },
   "outputs": [],
   "source": [
    "NS = {'': 'http://www.w3.org/2005/Atom'}\n",
    "\n",
    "root = ET.fromstring(response.content)\n",
    "\n",
    "rows = []\n",
    "for entry in root.findall('entry', NS):\n",
    "    rows.append({\n",
    "        'title' : entry.find('title', NS).text,\n",
    "        'content' : entry.find('content', NS).text,\n",
    "        'updated' : parser.parse(entry.find('updated', NS).text),\n",
    "        'link' : entry.find('link', NS).get('href')\n",
    "    })\n",
    "\n",
    "df_feed = pd.DataFrame(rows)\n",
    "df_feed"
   ]
  },
  {
   "cell_type": "markdown",
   "id": "561afbf3-b7d3-4ffb-9938-2c708e5a2294",
   "metadata": {},
   "source": [
    "#### 1-d) 地震情報での絞り込み"
   ]
  },
  {
   "cell_type": "code",
   "execution_count": null,
   "id": "4fb65fa9-f7c1-41c1-b905-5e7e4cad2039",
   "metadata": {
    "scrolled": true
   },
   "outputs": [],
   "source": [
    "df_eq_feed = df_feed[df_feed['title'] == '震源・震度に関する情報']\n",
    "df_eq_feed"
   ]
  },
  {
   "cell_type": "markdown",
   "id": "cee93e91-b690-42bc-84bd-84c8c41e5b65",
   "metadata": {},
   "source": [
    "### 2. 地震情報の取得\n",
    "#### 2-a) 地震情報のエントリを解析する関数"
   ]
  },
  {
   "cell_type": "code",
   "execution_count": null,
   "id": "e5799792-81f7-4886-973c-33892748891a",
   "metadata": {},
   "outputs": [],
   "source": [
    "def parse_earthquake(eq_feed):\n",
    "    response = requests.get(eq_feed)\n",
    "    response.encoding = 'utf-8'\n",
    "    NS = {\n",
    "        '': 'http://xml.kishou.go.jp/jmaxml1/body/seismology1/',\n",
    "        'jmx_eb': 'http://xml.kishou.go.jp/jmaxml1/elementBasis1/'\n",
    "    }\n",
    "    \n",
    "    root = ET.fromstring(response.content)\n",
    "    earthquake = root.find('Body', NS).find('Earthquake', NS)\n",
    "    time = parser.parse(earthquake.find('OriginTime', NS).text)\n",
    "    area = earthquake.find('Hypocenter', NS).find('Area', NS)\n",
    "    area_name = area.find('Name', NS).text\n",
    "    area_coord = area.find('jmx_eb:Coordinate', NS).text\n",
    "    magnitude = earthquake.find('jmx_eb:Magnitude', NS).text\n",
    "\n",
    "    return {\n",
    "        'time' : time,\n",
    "        'area_name': area_name,\n",
    "        'area_coord': area_coord,\n",
    "        'magnitude': magnitude\n",
    "    }"
   ]
  },
  {
   "cell_type": "markdown",
   "id": "ef2d3102-a842-40c5-a994-98b868f06858",
   "metadata": {},
   "source": [
    "#### 2-b) 地震情報から1件ずつデータを取得"
   ]
  },
  {
   "cell_type": "code",
   "execution_count": null,
   "id": "757a4296-fa3e-4a77-8267-1388251c2983",
   "metadata": {},
   "outputs": [],
   "source": [
    "rows = []\n",
    "for eq_feed in df_eq_feed['link']:\n",
    "    rows.append(parse_earthquake(eq_feed))\n",
    "    time.sleep(0.5)\n",
    "df_eq = pd.DataFrame(rows)\n",
    "df_eq"
   ]
  },
  {
   "cell_type": "code",
   "execution_count": null,
   "id": "118f0745-77e2-4d37-ae7e-a2eb79f5495a",
   "metadata": {},
   "outputs": [],
   "source": []
  }
 ],
 "metadata": {
  "kernelspec": {
   "display_name": "Python 3 (ipykernel)",
   "language": "python",
   "name": "python3"
  },
  "language_info": {
   "codemirror_mode": {
    "name": "ipython",
    "version": 3
   },
   "file_extension": ".py",
   "mimetype": "text/x-python",
   "name": "python",
   "nbconvert_exporter": "python",
   "pygments_lexer": "ipython3",
   "version": "3.9.20"
  }
 },
 "nbformat": 4,
 "nbformat_minor": 5
}
