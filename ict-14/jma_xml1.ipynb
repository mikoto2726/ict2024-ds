{
 "cells": [
  {
   "attachments": {},
   "cell_type": "markdown",
   "id": "8731338d-308f-4ae2-9f32-b3e2ad6269cb",
   "metadata": {},
   "source": [
    "# データ・サイエンス\tデータ・サイエンス社会応用論 / ICT社会応用演習Ⅳ\n",
    "## 14-1. 防災データを触ってみよう"
   ]
  },
  {
   "cell_type": "markdown",
   "id": "fc579253-f823-4ba8-a415-907c0e9ed037",
   "metadata": {},
   "source": [
    "### 1. 気象庁防災情報XMLの読み込み\n",
    "#### 1-a) 下準備"
   ]
  },
  {
   "cell_type": "code",
   "execution_count": null,
   "id": "533f439e-6b5e-4537-ad7a-e28434c550d7",
   "metadata": {},
   "outputs": [],
   "source": [
    "import xml.etree.ElementTree as ET\n",
    "from dateutil import parser\n",
    "import requests\n",
    "import pandas as pd"
   ]
  },
  {
   "cell_type": "code",
   "execution_count": null,
   "id": "b45b6b58-b364-4cb0-929c-bb59a1e5dc6e",
   "metadata": {},
   "outputs": [],
   "source": [
    "REGURLAR_FEED = 'https://www.data.jma.go.jp/developer/xml/feed/regular.xml'\n",
    "EXTRA_FEED = 'https://www.data.jma.go.jp/developer/xml/feed/extra.xml'\n",
    "EQVOL_FEED = 'https://www.data.jma.go.jp/developer/xml/feed/eqvol.xml'\n",
    "OTHER_FEED = 'https://www.data.jma.go.jp/developer/xml/feed/other.xml'\n",
    "\n",
    "REGURLAR_LONG_FEED = 'https://www.data.jma.go.jp/developer/xml/feed/regular_l.xml'\n",
    "EXTRA_LONG_FEED = 'https://www.data.jma.go.jp/developer/xml/feed/extra_l.xml'\n",
    "EQVOL_LONG_FEED = 'https://www.data.jma.go.jp/developer/xml/feed/eqvol_l.xml'\n",
    "OTHER_LONG_FEED = 'https://www.data.jma.go.jp/developer/xml/feed/other_l.xml'"
   ]
  },
  {
   "cell_type": "markdown",
   "id": "5619a926-dfb5-4450-9645-a7a8d8da7dbc",
   "metadata": {},
   "source": [
    "#### 1-b) フィードのダウンロード"
   ]
  },
  {
   "cell_type": "code",
   "execution_count": null,
   "id": "888271b9-b343-4ccd-8a30-d249e39d7be2",
   "metadata": {
    "scrolled": true
   },
   "outputs": [],
   "source": [
    "response = requests.get(REGURLAR_FEED)\n",
    "response.encoding = 'utf-8'\n",
    "print(response.text)"
   ]
  },
  {
   "cell_type": "markdown",
   "id": "66bb3d0a-ddc1-456e-bb53-236da06259d7",
   "metadata": {},
   "source": [
    "#### 1-c) DataFrameの作成"
   ]
  },
  {
   "cell_type": "code",
   "execution_count": null,
   "id": "23a0c754-1a4b-4e73-99e6-03719d925aff",
   "metadata": {},
   "outputs": [],
   "source": [
    "NS = {'': 'http://www.w3.org/2005/Atom'}\n",
    "\n",
    "root = ET.fromstring(response.content)\n",
    "\n",
    "rows = []\n",
    "for entry in root.findall('entry', NS):\n",
    "    rows.append({\n",
    "        'title' : entry.find('title', NS).text,\n",
    "        'content' : entry.find('content', NS).text,\n",
    "        'updated' : parser.parse(entry.find('updated', NS).text),\n",
    "        'link' : entry.find('link', NS).get('href')\n",
    "    })\n",
    "\n",
    "df_feed = pd.DataFrame(rows)\n",
    "df_feed"
   ]
  },
  {
   "cell_type": "markdown",
   "id": "49af917c-93db-4344-b9ba-1b18402ac124",
   "metadata": {},
   "source": [
    "#### 1-d) タイトルで集計"
   ]
  },
  {
   "cell_type": "code",
   "execution_count": null,
   "id": "cf86d95d-15a3-43d7-9510-60c402c3e85b",
   "metadata": {},
   "outputs": [],
   "source": [
    "df_feed.groupby('title')[['title']].count()"
   ]
  },
  {
   "cell_type": "markdown",
   "id": "7ddc71d8-07a8-4855-b010-653f75dd3e94",
   "metadata": {},
   "source": [
    "### 2. 地震エントリの読み込み\n",
    "#### 2-a) エントリーのダウンロード"
   ]
  },
  {
   "cell_type": "code",
   "execution_count": null,
   "id": "e5799792-81f7-4886-973c-33892748891a",
   "metadata": {},
   "outputs": [],
   "source": [
    "EQ_ENTRY = 'https://www.data.jma.go.jp/developer/xml/data/20250111214223_0_VXSE53_010000.xml' "
   ]
  },
  {
   "cell_type": "code",
   "execution_count": null,
   "id": "757a4296-fa3e-4a77-8267-1388251c2983",
   "metadata": {
    "scrolled": true
   },
   "outputs": [],
   "source": [
    "response = requests.get(EQ_ENTRY)\n",
    "response.encoding = 'utf-8'\n",
    "print(response.text)"
   ]
  },
  {
   "cell_type": "markdown",
   "id": "cfd94ce8-e931-4bd7-a287-469ccad39f30",
   "metadata": {},
   "source": [
    "#### 2-b) 情報の取得"
   ]
  },
  {
   "cell_type": "code",
   "execution_count": null,
   "id": "84e1faed-e562-40b3-80e3-14fe74013a90",
   "metadata": {},
   "outputs": [],
   "source": [
    "NS = {\n",
    "    '': 'http://xml.kishou.go.jp/jmaxml1/body/seismology1/',\n",
    "    'jmx_eb': 'http://xml.kishou.go.jp/jmaxml1/elementBasis1/'\n",
    "}\n",
    "\n",
    "root = ET.fromstring(response.content)\n",
    "earthquake = root.find('Body', NS).find('Earthquake', NS)\n",
    "time = parser.parse(earthquake.find('OriginTime', NS).text)\n",
    "area = earthquake.find('Hypocenter', NS).find('Area', NS)\n",
    "area_name = area.find('Name', NS).text\n",
    "area_coord = area.find('jmx_eb:Coordinate', NS).text\n",
    "magnitude = earthquake.find('jmx_eb:Magnitude', NS).text\n",
    "\n",
    "print(time, area_name, area_coord, magnitude)"
   ]
  },
  {
   "cell_type": "code",
   "execution_count": null,
   "id": "118f0745-77e2-4d37-ae7e-a2eb79f5495a",
   "metadata": {},
   "outputs": [],
   "source": []
  }
 ],
 "metadata": {
  "kernelspec": {
   "display_name": "Python 3 (ipykernel)",
   "language": "python",
   "name": "python3"
  },
  "language_info": {
   "codemirror_mode": {
    "name": "ipython",
    "version": 3
   },
   "file_extension": ".py",
   "mimetype": "text/x-python",
   "name": "python",
   "nbconvert_exporter": "python",
   "pygments_lexer": "ipython3",
   "version": "3.9.20"
  }
 },
 "nbformat": 4,
 "nbformat_minor": 5
}
