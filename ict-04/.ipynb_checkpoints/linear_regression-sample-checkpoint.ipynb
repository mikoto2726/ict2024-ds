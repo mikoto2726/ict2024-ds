{
 "cells": [
  {
   "cell_type": "markdown",
   "metadata": {},
   "source": [
    "### Multiple linear regression (MLR) \n",
    "- https://archive.ics.uci.edu/ml/datasets/student+performance"
   ]
  },
  {
   "cell_type": "markdown",
   "metadata": {},
   "source": [
    "#### Import libraries  "
   ]
  },
  {
   "cell_type": "code",
   "execution_count": 1,
   "metadata": {
    "execution": {
     "iopub.execute_input": "2024-11-20T08:28:04.023486Z",
     "iopub.status.busy": "2024-11-20T08:28:04.023027Z",
     "iopub.status.idle": "2024-11-20T08:28:06.016902Z",
     "shell.execute_reply": "2024-11-20T08:28:06.015828Z",
     "shell.execute_reply.started": "2024-11-20T08:28:04.023455Z"
    }
   },
   "outputs": [],
   "source": [
    "import numpy as np\n",
    "import pandas as pd\n",
    "import matplotlib.pyplot as plt\n",
    "import seaborn as sns\n",
    "import statsmodels.api as sm\n",
    "from sklearn.preprocessing import scale\n",
    "from sklearn.metrics import mean_squared_error"
   ]
  },
  {
   "cell_type": "markdown",
   "metadata": {},
   "source": [
    "#### Read CSV file"
   ]
  },
  {
   "cell_type": "code",
   "execution_count": 2,
   "metadata": {
    "execution": {
     "iopub.execute_input": "2024-11-20T08:28:06.018913Z",
     "iopub.status.busy": "2024-11-20T08:28:06.018537Z",
     "iopub.status.idle": "2024-11-20T08:28:06.057784Z",
     "shell.execute_reply": "2024-11-20T08:28:06.057015Z",
     "shell.execute_reply.started": "2024-11-20T08:28:06.018888Z"
    }
   },
   "outputs": [
    {
     "name": "stdout",
     "output_type": "stream",
     "text": [
      "(423, 10)\n",
      "<class 'pandas.core.frame.DataFrame'>\n",
      "RangeIndex: 423 entries, 0 to 422\n",
      "Data columns (total 10 columns):\n",
      " #   Column     Non-Null Count  Dtype \n",
      "---  ------     --------------  ----- \n",
      " 0   age        423 non-null    int64 \n",
      " 1   reason     423 non-null    object\n",
      " 2   studytime  423 non-null    object\n",
      " 3   failures   423 non-null    int64 \n",
      " 4   schoolsup  423 non-null    int64 \n",
      " 5   higher     423 non-null    int64 \n",
      " 6   goout      423 non-null    int64 \n",
      " 7   health     423 non-null    int64 \n",
      " 8   absences   423 non-null    int64 \n",
      " 9   G3         423 non-null    int64 \n",
      "dtypes: int64(8), object(2)\n",
      "memory usage: 33.2+ KB\n",
      "None\n"
     ]
    },
    {
     "data": {
      "text/html": [
       "<div>\n",
       "<style scoped>\n",
       "    .dataframe tbody tr th:only-of-type {\n",
       "        vertical-align: middle;\n",
       "    }\n",
       "\n",
       "    .dataframe tbody tr th {\n",
       "        vertical-align: top;\n",
       "    }\n",
       "\n",
       "    .dataframe thead th {\n",
       "        text-align: right;\n",
       "    }\n",
       "</style>\n",
       "<table border=\"1\" class=\"dataframe\">\n",
       "  <thead>\n",
       "    <tr style=\"text-align: right;\">\n",
       "      <th></th>\n",
       "      <th>age</th>\n",
       "      <th>reason</th>\n",
       "      <th>studytime</th>\n",
       "      <th>failures</th>\n",
       "      <th>schoolsup</th>\n",
       "      <th>higher</th>\n",
       "      <th>goout</th>\n",
       "      <th>health</th>\n",
       "      <th>absences</th>\n",
       "      <th>G3</th>\n",
       "    </tr>\n",
       "  </thead>\n",
       "  <tbody>\n",
       "    <tr>\n",
       "      <th>0</th>\n",
       "      <td>18</td>\n",
       "      <td>course</td>\n",
       "      <td>2 to 5 hours</td>\n",
       "      <td>0</td>\n",
       "      <td>1</td>\n",
       "      <td>1</td>\n",
       "      <td>4</td>\n",
       "      <td>3</td>\n",
       "      <td>4</td>\n",
       "      <td>11</td>\n",
       "    </tr>\n",
       "    <tr>\n",
       "      <th>1</th>\n",
       "      <td>17</td>\n",
       "      <td>course</td>\n",
       "      <td>2 to 5 hours</td>\n",
       "      <td>0</td>\n",
       "      <td>0</td>\n",
       "      <td>1</td>\n",
       "      <td>3</td>\n",
       "      <td>3</td>\n",
       "      <td>2</td>\n",
       "      <td>11</td>\n",
       "    </tr>\n",
       "    <tr>\n",
       "      <th>2</th>\n",
       "      <td>15</td>\n",
       "      <td>other</td>\n",
       "      <td>2 to 5 hours</td>\n",
       "      <td>0</td>\n",
       "      <td>1</td>\n",
       "      <td>1</td>\n",
       "      <td>2</td>\n",
       "      <td>3</td>\n",
       "      <td>6</td>\n",
       "      <td>12</td>\n",
       "    </tr>\n",
       "    <tr>\n",
       "      <th>3</th>\n",
       "      <td>15</td>\n",
       "      <td>home</td>\n",
       "      <td>5 to 10 hours</td>\n",
       "      <td>0</td>\n",
       "      <td>0</td>\n",
       "      <td>1</td>\n",
       "      <td>2</td>\n",
       "      <td>5</td>\n",
       "      <td>0</td>\n",
       "      <td>14</td>\n",
       "    </tr>\n",
       "    <tr>\n",
       "      <th>4</th>\n",
       "      <td>16</td>\n",
       "      <td>home</td>\n",
       "      <td>2 to 5 hours</td>\n",
       "      <td>0</td>\n",
       "      <td>0</td>\n",
       "      <td>1</td>\n",
       "      <td>2</td>\n",
       "      <td>5</td>\n",
       "      <td>0</td>\n",
       "      <td>13</td>\n",
       "    </tr>\n",
       "  </tbody>\n",
       "</table>\n",
       "</div>"
      ],
      "text/plain": [
       "   age  reason      studytime  failures  schoolsup  higher  goout  health  \\\n",
       "0   18  course   2 to 5 hours         0          1       1      4       3   \n",
       "1   17  course   2 to 5 hours         0          0       1      3       3   \n",
       "2   15   other   2 to 5 hours         0          1       1      2       3   \n",
       "3   15    home  5 to 10 hours         0          0       1      2       5   \n",
       "4   16    home   2 to 5 hours         0          0       1      2       5   \n",
       "\n",
       "   absences  G3  \n",
       "0         4  11  \n",
       "1         2  11  \n",
       "2         6  12  \n",
       "3         0  14  \n",
       "4         0  13  "
      ]
     },
     "metadata": {},
     "output_type": "display_data"
    }
   ],
   "source": [
    "csv_in = 'student-por-gp.csv'\n",
    "df = pd.read_csv(csv_in, sep=',', skiprows=0, header=0)\n",
    "print(df.shape)\n",
    "print(df.info())\n",
    "display(df.head())"
   ]
  },
  {
   "cell_type": "markdown",
   "metadata": {},
   "source": [
    "#### Separate explanatory variables and objective variable  \n",
    "説明変数と目的変数を分ける  "
   ]
  },
  {
   "cell_type": "code",
   "execution_count": 3,
   "metadata": {
    "execution": {
     "iopub.execute_input": "2024-11-20T08:28:06.059027Z",
     "iopub.status.busy": "2024-11-20T08:28:06.058786Z",
     "iopub.status.idle": "2024-11-20T08:28:06.078926Z",
     "shell.execute_reply": "2024-11-20T08:28:06.077709Z",
     "shell.execute_reply.started": "2024-11-20T08:28:06.059004Z"
    }
   },
   "outputs": [
    {
     "name": "stdout",
     "output_type": "stream",
     "text": [
      "X: (423, 9)\n"
     ]
    },
    {
     "data": {
      "text/html": [
       "<div>\n",
       "<style scoped>\n",
       "    .dataframe tbody tr th:only-of-type {\n",
       "        vertical-align: middle;\n",
       "    }\n",
       "\n",
       "    .dataframe tbody tr th {\n",
       "        vertical-align: top;\n",
       "    }\n",
       "\n",
       "    .dataframe thead th {\n",
       "        text-align: right;\n",
       "    }\n",
       "</style>\n",
       "<table border=\"1\" class=\"dataframe\">\n",
       "  <thead>\n",
       "    <tr style=\"text-align: right;\">\n",
       "      <th></th>\n",
       "      <th>age</th>\n",
       "      <th>reason</th>\n",
       "      <th>studytime</th>\n",
       "      <th>failures</th>\n",
       "      <th>schoolsup</th>\n",
       "      <th>higher</th>\n",
       "      <th>goout</th>\n",
       "      <th>health</th>\n",
       "      <th>absences</th>\n",
       "    </tr>\n",
       "  </thead>\n",
       "  <tbody>\n",
       "    <tr>\n",
       "      <th>0</th>\n",
       "      <td>18</td>\n",
       "      <td>course</td>\n",
       "      <td>2 to 5 hours</td>\n",
       "      <td>0</td>\n",
       "      <td>1</td>\n",
       "      <td>1</td>\n",
       "      <td>4</td>\n",
       "      <td>3</td>\n",
       "      <td>4</td>\n",
       "    </tr>\n",
       "    <tr>\n",
       "      <th>1</th>\n",
       "      <td>17</td>\n",
       "      <td>course</td>\n",
       "      <td>2 to 5 hours</td>\n",
       "      <td>0</td>\n",
       "      <td>0</td>\n",
       "      <td>1</td>\n",
       "      <td>3</td>\n",
       "      <td>3</td>\n",
       "      <td>2</td>\n",
       "    </tr>\n",
       "    <tr>\n",
       "      <th>2</th>\n",
       "      <td>15</td>\n",
       "      <td>other</td>\n",
       "      <td>2 to 5 hours</td>\n",
       "      <td>0</td>\n",
       "      <td>1</td>\n",
       "      <td>1</td>\n",
       "      <td>2</td>\n",
       "      <td>3</td>\n",
       "      <td>6</td>\n",
       "    </tr>\n",
       "    <tr>\n",
       "      <th>3</th>\n",
       "      <td>15</td>\n",
       "      <td>home</td>\n",
       "      <td>5 to 10 hours</td>\n",
       "      <td>0</td>\n",
       "      <td>0</td>\n",
       "      <td>1</td>\n",
       "      <td>2</td>\n",
       "      <td>5</td>\n",
       "      <td>0</td>\n",
       "    </tr>\n",
       "    <tr>\n",
       "      <th>4</th>\n",
       "      <td>16</td>\n",
       "      <td>home</td>\n",
       "      <td>2 to 5 hours</td>\n",
       "      <td>0</td>\n",
       "      <td>0</td>\n",
       "      <td>1</td>\n",
       "      <td>2</td>\n",
       "      <td>5</td>\n",
       "      <td>0</td>\n",
       "    </tr>\n",
       "  </tbody>\n",
       "</table>\n",
       "</div>"
      ],
      "text/plain": [
       "   age  reason      studytime  failures  schoolsup  higher  goout  health  \\\n",
       "0   18  course   2 to 5 hours         0          1       1      4       3   \n",
       "1   17  course   2 to 5 hours         0          0       1      3       3   \n",
       "2   15   other   2 to 5 hours         0          1       1      2       3   \n",
       "3   15    home  5 to 10 hours         0          0       1      2       5   \n",
       "4   16    home   2 to 5 hours         0          0       1      2       5   \n",
       "\n",
       "   absences  \n",
       "0         4  \n",
       "1         2  \n",
       "2         6  \n",
       "3         0  \n",
       "4         0  "
      ]
     },
     "metadata": {},
     "output_type": "display_data"
    },
    {
     "name": "stdout",
     "output_type": "stream",
     "text": [
      "y: (423,)\n",
      "0    11\n",
      "1    11\n",
      "2    12\n",
      "3    14\n",
      "4    13\n",
      "Name: G3, dtype: int64\n"
     ]
    }
   ],
   "source": [
    "X = df.drop(columns='G3')  # explanatory variables, 2D\n",
    "#X = df.loc[:, 'age':'absences']\n",
    "y = df['G3']  # objective variable, 1D\n",
    "print('X:', X.shape)\n",
    "display(X.head())\n",
    "print('y:', y.shape)\n",
    "print(y.head())"
   ]
  },
  {
   "cell_type": "markdown",
   "metadata": {},
   "source": [
    "#### Encoding of categorical variables  "
   ]
  },
  {
   "cell_type": "markdown",
   "metadata": {},
   "source": [
    "##### Assign integers  \n",
    "整数を割り当てる  "
   ]
  },
  {
   "cell_type": "code",
   "execution_count": 4,
   "metadata": {
    "execution": {
     "iopub.execute_input": "2024-11-20T08:28:06.082873Z",
     "iopub.status.busy": "2024-11-20T08:28:06.081730Z",
     "iopub.status.idle": "2024-11-20T08:28:06.089828Z",
     "shell.execute_reply": "2024-11-20T08:28:06.088761Z",
     "shell.execute_reply.started": "2024-11-20T08:28:06.082817Z"
    }
   },
   "outputs": [
    {
     "name": "stdout",
     "output_type": "stream",
     "text": [
      "2 to 5 hours     206\n",
      "<2 hours         119\n",
      "5 to 10 hours     71\n",
      ">10 hours         27\n",
      "Name: studytime, dtype: int64\n"
     ]
    }
   ],
   "source": [
    "print(X['studytime'].value_counts())"
   ]
  },
  {
   "cell_type": "code",
   "execution_count": 5,
   "metadata": {
    "execution": {
     "iopub.execute_input": "2024-11-20T08:28:06.091319Z",
     "iopub.status.busy": "2024-11-20T08:28:06.091031Z",
     "iopub.status.idle": "2024-11-20T08:28:06.117897Z",
     "shell.execute_reply": "2024-11-20T08:28:06.116589Z",
     "shell.execute_reply.started": "2024-11-20T08:28:06.091294Z"
    }
   },
   "outputs": [
    {
     "name": "stdout",
     "output_type": "stream",
     "text": [
      "<class 'pandas.core.frame.DataFrame'>\n",
      "RangeIndex: 423 entries, 0 to 422\n",
      "Data columns (total 9 columns):\n",
      " #   Column     Non-Null Count  Dtype \n",
      "---  ------     --------------  ----- \n",
      " 0   age        423 non-null    int64 \n",
      " 1   reason     423 non-null    object\n",
      " 2   studytime  423 non-null    int64 \n",
      " 3   failures   423 non-null    int64 \n",
      " 4   schoolsup  423 non-null    int64 \n",
      " 5   higher     423 non-null    int64 \n",
      " 6   goout      423 non-null    int64 \n",
      " 7   health     423 non-null    int64 \n",
      " 8   absences   423 non-null    int64 \n",
      "dtypes: int64(8), object(1)\n",
      "memory usage: 29.9+ KB\n",
      "None\n"
     ]
    },
    {
     "data": {
      "text/html": [
       "<div>\n",
       "<style scoped>\n",
       "    .dataframe tbody tr th:only-of-type {\n",
       "        vertical-align: middle;\n",
       "    }\n",
       "\n",
       "    .dataframe tbody tr th {\n",
       "        vertical-align: top;\n",
       "    }\n",
       "\n",
       "    .dataframe thead th {\n",
       "        text-align: right;\n",
       "    }\n",
       "</style>\n",
       "<table border=\"1\" class=\"dataframe\">\n",
       "  <thead>\n",
       "    <tr style=\"text-align: right;\">\n",
       "      <th></th>\n",
       "      <th>age</th>\n",
       "      <th>reason</th>\n",
       "      <th>studytime</th>\n",
       "      <th>failures</th>\n",
       "      <th>schoolsup</th>\n",
       "      <th>higher</th>\n",
       "      <th>goout</th>\n",
       "      <th>health</th>\n",
       "      <th>absences</th>\n",
       "    </tr>\n",
       "  </thead>\n",
       "  <tbody>\n",
       "    <tr>\n",
       "      <th>0</th>\n",
       "      <td>18</td>\n",
       "      <td>course</td>\n",
       "      <td>2</td>\n",
       "      <td>0</td>\n",
       "      <td>1</td>\n",
       "      <td>1</td>\n",
       "      <td>4</td>\n",
       "      <td>3</td>\n",
       "      <td>4</td>\n",
       "    </tr>\n",
       "    <tr>\n",
       "      <th>1</th>\n",
       "      <td>17</td>\n",
       "      <td>course</td>\n",
       "      <td>2</td>\n",
       "      <td>0</td>\n",
       "      <td>0</td>\n",
       "      <td>1</td>\n",
       "      <td>3</td>\n",
       "      <td>3</td>\n",
       "      <td>2</td>\n",
       "    </tr>\n",
       "    <tr>\n",
       "      <th>2</th>\n",
       "      <td>15</td>\n",
       "      <td>other</td>\n",
       "      <td>2</td>\n",
       "      <td>0</td>\n",
       "      <td>1</td>\n",
       "      <td>1</td>\n",
       "      <td>2</td>\n",
       "      <td>3</td>\n",
       "      <td>6</td>\n",
       "    </tr>\n",
       "    <tr>\n",
       "      <th>3</th>\n",
       "      <td>15</td>\n",
       "      <td>home</td>\n",
       "      <td>3</td>\n",
       "      <td>0</td>\n",
       "      <td>0</td>\n",
       "      <td>1</td>\n",
       "      <td>2</td>\n",
       "      <td>5</td>\n",
       "      <td>0</td>\n",
       "    </tr>\n",
       "    <tr>\n",
       "      <th>4</th>\n",
       "      <td>16</td>\n",
       "      <td>home</td>\n",
       "      <td>2</td>\n",
       "      <td>0</td>\n",
       "      <td>0</td>\n",
       "      <td>1</td>\n",
       "      <td>2</td>\n",
       "      <td>5</td>\n",
       "      <td>0</td>\n",
       "    </tr>\n",
       "  </tbody>\n",
       "</table>\n",
       "</div>"
      ],
      "text/plain": [
       "   age  reason  studytime  failures  schoolsup  higher  goout  health  \\\n",
       "0   18  course          2         0          1       1      4       3   \n",
       "1   17  course          2         0          0       1      3       3   \n",
       "2   15   other          2         0          1       1      2       3   \n",
       "3   15    home          3         0          0       1      2       5   \n",
       "4   16    home          2         0          0       1      2       5   \n",
       "\n",
       "   absences  \n",
       "0         4  \n",
       "1         2  \n",
       "2         6  \n",
       "3         0  \n",
       "4         0  "
      ]
     },
     "metadata": {},
     "output_type": "display_data"
    }
   ],
   "source": [
    "X['studytime'] = X['studytime'].replace(\n",
    "    {'<2 hours':'1', '2 to 5 hours':'2',\n",
    "     '5 to 10 hours':'3', '>10 hours':'4',\n",
    "    }\n",
    ").astype('int')\n",
    "print(X.info())\n",
    "display(X.head())"
   ]
  },
  {
   "cell_type": "markdown",
   "metadata": {},
   "source": [
    "#### Apply get_dummies()  \n",
    "ダミー変数化  "
   ]
  },
  {
   "cell_type": "code",
   "execution_count": 6,
   "metadata": {
    "execution": {
     "iopub.execute_input": "2024-11-20T08:28:06.119443Z",
     "iopub.status.busy": "2024-11-20T08:28:06.119171Z",
     "iopub.status.idle": "2024-11-20T08:28:06.126772Z",
     "shell.execute_reply": "2024-11-20T08:28:06.125349Z",
     "shell.execute_reply.started": "2024-11-20T08:28:06.119419Z"
    }
   },
   "outputs": [
    {
     "name": "stdout",
     "output_type": "stream",
     "text": [
      "course        167\n",
      "home          115\n",
      "reputation    114\n",
      "other          27\n",
      "Name: reason, dtype: int64\n"
     ]
    }
   ],
   "source": [
    "print(X['reason'].value_counts())"
   ]
  },
  {
   "cell_type": "code",
   "execution_count": 7,
   "metadata": {
    "execution": {
     "iopub.execute_input": "2024-11-20T08:28:06.128407Z",
     "iopub.status.busy": "2024-11-20T08:28:06.127953Z",
     "iopub.status.idle": "2024-11-20T08:28:06.151025Z",
     "shell.execute_reply": "2024-11-20T08:28:06.150048Z",
     "shell.execute_reply.started": "2024-11-20T08:28:06.128359Z"
    }
   },
   "outputs": [
    {
     "name": "stdout",
     "output_type": "stream",
     "text": [
      "X_dumm: (423, 11)\n"
     ]
    },
    {
     "data": {
      "text/html": [
       "<div>\n",
       "<style scoped>\n",
       "    .dataframe tbody tr th:only-of-type {\n",
       "        vertical-align: middle;\n",
       "    }\n",
       "\n",
       "    .dataframe tbody tr th {\n",
       "        vertical-align: top;\n",
       "    }\n",
       "\n",
       "    .dataframe thead th {\n",
       "        text-align: right;\n",
       "    }\n",
       "</style>\n",
       "<table border=\"1\" class=\"dataframe\">\n",
       "  <thead>\n",
       "    <tr style=\"text-align: right;\">\n",
       "      <th></th>\n",
       "      <th>age</th>\n",
       "      <th>studytime</th>\n",
       "      <th>failures</th>\n",
       "      <th>schoolsup</th>\n",
       "      <th>higher</th>\n",
       "      <th>goout</th>\n",
       "      <th>health</th>\n",
       "      <th>absences</th>\n",
       "      <th>reason_home</th>\n",
       "      <th>reason_other</th>\n",
       "      <th>reason_reputation</th>\n",
       "    </tr>\n",
       "  </thead>\n",
       "  <tbody>\n",
       "    <tr>\n",
       "      <th>0</th>\n",
       "      <td>18</td>\n",
       "      <td>2</td>\n",
       "      <td>0</td>\n",
       "      <td>1</td>\n",
       "      <td>1</td>\n",
       "      <td>4</td>\n",
       "      <td>3</td>\n",
       "      <td>4</td>\n",
       "      <td>0</td>\n",
       "      <td>0</td>\n",
       "      <td>0</td>\n",
       "    </tr>\n",
       "    <tr>\n",
       "      <th>1</th>\n",
       "      <td>17</td>\n",
       "      <td>2</td>\n",
       "      <td>0</td>\n",
       "      <td>0</td>\n",
       "      <td>1</td>\n",
       "      <td>3</td>\n",
       "      <td>3</td>\n",
       "      <td>2</td>\n",
       "      <td>0</td>\n",
       "      <td>0</td>\n",
       "      <td>0</td>\n",
       "    </tr>\n",
       "    <tr>\n",
       "      <th>2</th>\n",
       "      <td>15</td>\n",
       "      <td>2</td>\n",
       "      <td>0</td>\n",
       "      <td>1</td>\n",
       "      <td>1</td>\n",
       "      <td>2</td>\n",
       "      <td>3</td>\n",
       "      <td>6</td>\n",
       "      <td>0</td>\n",
       "      <td>1</td>\n",
       "      <td>0</td>\n",
       "    </tr>\n",
       "    <tr>\n",
       "      <th>3</th>\n",
       "      <td>15</td>\n",
       "      <td>3</td>\n",
       "      <td>0</td>\n",
       "      <td>0</td>\n",
       "      <td>1</td>\n",
       "      <td>2</td>\n",
       "      <td>5</td>\n",
       "      <td>0</td>\n",
       "      <td>1</td>\n",
       "      <td>0</td>\n",
       "      <td>0</td>\n",
       "    </tr>\n",
       "    <tr>\n",
       "      <th>4</th>\n",
       "      <td>16</td>\n",
       "      <td>2</td>\n",
       "      <td>0</td>\n",
       "      <td>0</td>\n",
       "      <td>1</td>\n",
       "      <td>2</td>\n",
       "      <td>5</td>\n",
       "      <td>0</td>\n",
       "      <td>1</td>\n",
       "      <td>0</td>\n",
       "      <td>0</td>\n",
       "    </tr>\n",
       "  </tbody>\n",
       "</table>\n",
       "</div>"
      ],
      "text/plain": [
       "   age  studytime  failures  schoolsup  higher  goout  health  absences  \\\n",
       "0   18          2         0          1       1      4       3         4   \n",
       "1   17          2         0          0       1      3       3         2   \n",
       "2   15          2         0          1       1      2       3         6   \n",
       "3   15          3         0          0       1      2       5         0   \n",
       "4   16          2         0          0       1      2       5         0   \n",
       "\n",
       "   reason_home  reason_other  reason_reputation  \n",
       "0            0             0                  0  \n",
       "1            0             0                  0  \n",
       "2            0             1                  0  \n",
       "3            1             0                  0  \n",
       "4            1             0                  0  "
      ]
     },
     "metadata": {},
     "output_type": "display_data"
    }
   ],
   "source": [
    "X_dumm = pd.get_dummies(X, drop_first=True, dtype='uint8')\n",
    "print('X_dumm:', X_dumm.shape)\n",
    "display(X_dumm.head())"
   ]
  },
  {
   "cell_type": "markdown",
   "metadata": {},
   "source": [
    "#### MLR calculation without standardization    \n",
    "標準化なしで線形重回帰分析  "
   ]
  },
  {
   "cell_type": "code",
   "execution_count": 8,
   "metadata": {
    "execution": {
     "iopub.execute_input": "2024-11-20T08:28:06.152348Z",
     "iopub.status.busy": "2024-11-20T08:28:06.152080Z",
     "iopub.status.idle": "2024-11-20T08:28:06.176320Z",
     "shell.execute_reply": "2024-11-20T08:28:06.175295Z",
     "shell.execute_reply.started": "2024-11-20T08:28:06.152325Z"
    }
   },
   "outputs": [
    {
     "name": "stdout",
     "output_type": "stream",
     "text": [
      "                            OLS Regression Results                            \n",
      "==============================================================================\n",
      "Dep. Variable:                     G3   R-squared:                       0.335\n",
      "Model:                            OLS   Adj. R-squared:                  0.317\n",
      "Method:                 Least Squares   F-statistic:                     18.82\n",
      "Date:                Wed, 20 Nov 2024   Prob (F-statistic):           1.53e-30\n",
      "Time:                        17:28:06   Log-Likelihood:                -921.75\n",
      "No. Observations:                 423   AIC:                             1868.\n",
      "Df Residuals:                     411   BIC:                             1916.\n",
      "Df Model:                          11                                         \n",
      "Covariance Type:            nonrobust                                         \n",
      "=====================================================================================\n",
      "                        coef    std err          t      P>|t|      [0.025      0.975]\n",
      "-------------------------------------------------------------------------------------\n",
      "const                 6.6330      1.712      3.874      0.000       3.267       9.999\n",
      "age                   0.2845      0.094      3.020      0.003       0.099       0.470\n",
      "studytime             0.3310      0.135      2.459      0.014       0.066       0.596\n",
      "failures             -1.2667      0.215     -5.881      0.000      -1.690      -0.843\n",
      "schoolsup            -1.4532      0.319     -4.557      0.000      -2.080      -0.826\n",
      "higher                2.6409      0.446      5.918      0.000       1.764       3.518\n",
      "goout                -0.2577      0.093     -2.765      0.006      -0.441      -0.075\n",
      "health               -0.1913      0.075     -2.537      0.012      -0.340      -0.043\n",
      "absences             -0.0609      0.021     -2.837      0.005      -0.103      -0.019\n",
      "reason_home           0.3086      0.266      1.162      0.246      -0.214       0.831\n",
      "reason_other          0.2220      0.454      0.489      0.625      -0.671       1.115\n",
      "reason_reputation     0.6043      0.271      2.231      0.026       0.072       1.137\n",
      "==============================================================================\n",
      "Omnibus:                        9.165   Durbin-Watson:                   1.940\n",
      "Prob(Omnibus):                  0.010   Jarque-Bera (JB):               13.993\n",
      "Skew:                          -0.129   Prob(JB):                     0.000915\n",
      "Kurtosis:                       3.853   Cond. No.                         296.\n",
      "==============================================================================\n",
      "\n",
      "Notes:\n",
      "[1] Standard Errors assume that the covariance matrix of the errors is correctly specified.\n"
     ]
    }
   ],
   "source": [
    "X_dumm_c = sm.add_constant(X_dumm)\n",
    "model = sm.OLS(y, X_dumm_c)\n",
    "results = model.fit()\n",
    "print(results.summary())"
   ]
  },
  {
   "cell_type": "markdown",
   "metadata": {},
   "source": [
    "#### R2 and Adjusted R2    \n",
    "決定係数と自由度調整済み決定係数  "
   ]
  },
  {
   "cell_type": "code",
   "execution_count": 9,
   "metadata": {
    "execution": {
     "iopub.execute_input": "2024-11-20T08:28:06.177744Z",
     "iopub.status.busy": "2024-11-20T08:28:06.177473Z",
     "iopub.status.idle": "2024-11-20T08:28:06.183925Z",
     "shell.execute_reply": "2024-11-20T08:28:06.182352Z",
     "shell.execute_reply.started": "2024-11-20T08:28:06.177721Z"
    }
   },
   "outputs": [
    {
     "name": "stdout",
     "output_type": "stream",
     "text": [
      "R2: 0.33500762976006837\n",
      "Adj R2: 0.317209780434912\n"
     ]
    }
   ],
   "source": [
    "print('R2:', results.rsquared)\n",
    "print('Adj R2:', results.rsquared_adj)"
   ]
  },
  {
   "cell_type": "markdown",
   "metadata": {},
   "source": [
    "#### Partial regression coefficients  \n",
    "偏回帰係数  "
   ]
  },
  {
   "cell_type": "code",
   "execution_count": 10,
   "metadata": {
    "execution": {
     "iopub.execute_input": "2024-11-20T08:28:06.187675Z",
     "iopub.status.busy": "2024-11-20T08:28:06.187342Z",
     "iopub.status.idle": "2024-11-20T08:28:06.194299Z",
     "shell.execute_reply": "2024-11-20T08:28:06.193483Z",
     "shell.execute_reply.started": "2024-11-20T08:28:06.187651Z"
    }
   },
   "outputs": [
    {
     "name": "stdout",
     "output_type": "stream",
     "text": [
      "const                6.632959\n",
      "age                  0.284534\n",
      "studytime            0.330960\n",
      "failures            -1.266708\n",
      "schoolsup           -1.453179\n",
      "higher               2.640919\n",
      "goout               -0.257661\n",
      "health              -0.191346\n",
      "absences            -0.060924\n",
      "reason_home          0.308610\n",
      "reason_other         0.221979\n",
      "reason_reputation    0.604262\n",
      "dtype: float64\n"
     ]
    }
   ],
   "source": [
    "print(results.params)"
   ]
  },
  {
   "cell_type": "markdown",
   "metadata": {},
   "source": [
    "#### MLR calculation with standardization  \n",
    "全説明変数と目的変数を標準化して線形重回帰分析  "
   ]
  },
  {
   "cell_type": "code",
   "execution_count": 11,
   "metadata": {
    "execution": {
     "iopub.execute_input": "2024-11-20T08:28:06.195724Z",
     "iopub.status.busy": "2024-11-20T08:28:06.195410Z",
     "iopub.status.idle": "2024-11-20T08:28:06.207190Z",
     "shell.execute_reply": "2024-11-20T08:28:06.205868Z",
     "shell.execute_reply.started": "2024-11-20T08:28:06.195685Z"
    }
   },
   "outputs": [],
   "source": [
    "X_scaled_ar = scale(X_dumm)\n",
    "y_scaled_ar = scale(y)"
   ]
  },
  {
   "cell_type": "code",
   "execution_count": 12,
   "metadata": {
    "execution": {
     "iopub.execute_input": "2024-11-20T08:28:06.208601Z",
     "iopub.status.busy": "2024-11-20T08:28:06.208353Z",
     "iopub.status.idle": "2024-11-20T08:28:06.227906Z",
     "shell.execute_reply": "2024-11-20T08:28:06.227010Z",
     "shell.execute_reply.started": "2024-11-20T08:28:06.208577Z"
    }
   },
   "outputs": [
    {
     "name": "stdout",
     "output_type": "stream",
     "text": [
      "                                 OLS Regression Results                                \n",
      "=======================================================================================\n",
      "Dep. Variable:                     G3   R-squared (uncentered):                   0.335\n",
      "Model:                            OLS   Adj. R-squared (uncentered):              0.317\n",
      "Method:                 Least Squares   F-statistic:                              18.87\n",
      "Date:                Wed, 20 Nov 2024   Prob (F-statistic):                    1.26e-30\n",
      "Time:                        17:28:06   Log-Likelihood:                         -513.92\n",
      "No. Observations:                 423   AIC:                                      1050.\n",
      "Df Residuals:                     412   BIC:                                      1094.\n",
      "Df Model:                          11                                                  \n",
      "Covariance Type:            nonrobust                                                  \n",
      "=====================================================================================\n",
      "                        coef    std err          t      P>|t|      [0.025      0.975]\n",
      "-------------------------------------------------------------------------------------\n",
      "age                   0.1349      0.045      3.024      0.003       0.047       0.223\n",
      "studytime             0.1059      0.043      2.462      0.014       0.021       0.190\n",
      "failures             -0.2661      0.045     -5.888      0.000      -0.355      -0.177\n",
      "schoolsup            -0.1878      0.041     -4.563      0.000      -0.269      -0.107\n",
      "higher                0.2663      0.045      5.925      0.000       0.178       0.355\n",
      "goout                -0.1131      0.041     -2.769      0.006      -0.193      -0.033\n",
      "health               -0.1035      0.041     -2.540      0.011      -0.184      -0.023\n",
      "absences             -0.1205      0.042     -2.840      0.005      -0.204      -0.037\n",
      "reason_home           0.0524      0.045      1.163      0.245      -0.036       0.141\n",
      "reason_other          0.0207      0.042      0.489      0.625      -0.062       0.104\n",
      "reason_reputation     0.1022      0.046      2.234      0.026       0.012       0.192\n",
      "==============================================================================\n",
      "Omnibus:                        9.165   Durbin-Watson:                   1.940\n",
      "Prob(Omnibus):                  0.010   Jarque-Bera (JB):               13.993\n",
      "Skew:                          -0.129   Prob(JB):                     0.000915\n",
      "Kurtosis:                       3.853   Cond. No.                         2.00\n",
      "==============================================================================\n",
      "\n",
      "Notes:\n",
      "[1] R² is computed without centering (uncentered) since the model does not contain a constant.\n",
      "[2] Standard Errors assume that the covariance matrix of the errors is correctly specified.\n"
     ]
    }
   ],
   "source": [
    "# make DataFrames corresponding to X_scaled and y_scaled.\n",
    "X_scaled = pd.DataFrame(X_scaled_ar, columns=X_dumm.columns)\n",
    "y_scaled = pd.Series(y_scaled_ar, name=y.name)\n",
    "model = sm.OLS(y_scaled, X_scaled)\n",
    "results_scaled = model.fit()\n",
    "print(results_scaled.summary())"
   ]
  },
  {
   "cell_type": "markdown",
   "metadata": {},
   "source": [
    "#### Compare standardized partial regression coefficients    \n",
    "標準化偏回帰係数を比較　　"
   ]
  },
  {
   "cell_type": "code",
   "execution_count": 13,
   "metadata": {
    "execution": {
     "iopub.execute_input": "2024-11-20T08:28:06.229166Z",
     "iopub.status.busy": "2024-11-20T08:28:06.228854Z",
     "iopub.status.idle": "2024-11-20T08:28:06.237864Z",
     "shell.execute_reply": "2024-11-20T08:28:06.236930Z",
     "shell.execute_reply.started": "2024-11-20T08:28:06.229142Z"
    }
   },
   "outputs": [
    {
     "name": "stdout",
     "output_type": "stream",
     "text": [
      "higher               0.266292\n",
      "failures            -0.266116\n",
      "schoolsup           -0.187796\n",
      "age                  0.134906\n",
      "absences            -0.120470\n",
      "goout               -0.113137\n",
      "studytime            0.105909\n",
      "health              -0.103530\n",
      "reason_reputation    0.102234\n",
      "reason_home          0.052357\n",
      "reason_other         0.020691\n",
      "dtype: float64\n"
     ]
    }
   ],
   "source": [
    "print(results_scaled.params.sort_values(key=np.abs, ascending=False))"
   ]
  },
  {
   "cell_type": "markdown",
   "metadata": {},
   "source": [
    "#### Do prediction with obtained model    \n",
    "得られたモデルを用いて、予測を行う。  "
   ]
  },
  {
   "cell_type": "code",
   "execution_count": 14,
   "metadata": {
    "execution": {
     "iopub.execute_input": "2024-11-20T08:28:06.239830Z",
     "iopub.status.busy": "2024-11-20T08:28:06.238983Z",
     "iopub.status.idle": "2024-11-20T08:28:06.256424Z",
     "shell.execute_reply": "2024-11-20T08:28:06.255345Z",
     "shell.execute_reply.started": "2024-11-20T08:28:06.239773Z"
    }
   },
   "outputs": [
    {
     "name": "stdout",
     "output_type": "stream",
     "text": [
      "X for prediction:\n"
     ]
    },
    {
     "data": {
      "text/html": [
       "<div>\n",
       "<style scoped>\n",
       "    .dataframe tbody tr th:only-of-type {\n",
       "        vertical-align: middle;\n",
       "    }\n",
       "\n",
       "    .dataframe tbody tr th {\n",
       "        vertical-align: top;\n",
       "    }\n",
       "\n",
       "    .dataframe thead th {\n",
       "        text-align: right;\n",
       "    }\n",
       "</style>\n",
       "<table border=\"1\" class=\"dataframe\">\n",
       "  <thead>\n",
       "    <tr style=\"text-align: right;\">\n",
       "      <th></th>\n",
       "      <th>age</th>\n",
       "      <th>studytime</th>\n",
       "      <th>failures</th>\n",
       "      <th>schoolsup</th>\n",
       "      <th>higher</th>\n",
       "      <th>goout</th>\n",
       "      <th>health</th>\n",
       "      <th>absences</th>\n",
       "      <th>reason_home</th>\n",
       "      <th>reason_other</th>\n",
       "      <th>reason_reputation</th>\n",
       "    </tr>\n",
       "  </thead>\n",
       "  <tbody>\n",
       "    <tr>\n",
       "      <th>0</th>\n",
       "      <td>18</td>\n",
       "      <td>4</td>\n",
       "      <td>0</td>\n",
       "      <td>0</td>\n",
       "      <td>1</td>\n",
       "      <td>1</td>\n",
       "      <td>2</td>\n",
       "      <td>0</td>\n",
       "      <td>0</td>\n",
       "      <td>0</td>\n",
       "      <td>1</td>\n",
       "    </tr>\n",
       "    <tr>\n",
       "      <th>1</th>\n",
       "      <td>15</td>\n",
       "      <td>1</td>\n",
       "      <td>3</td>\n",
       "      <td>1</td>\n",
       "      <td>0</td>\n",
       "      <td>4</td>\n",
       "      <td>3</td>\n",
       "      <td>10</td>\n",
       "      <td>0</td>\n",
       "      <td>1</td>\n",
       "      <td>0</td>\n",
       "    </tr>\n",
       "  </tbody>\n",
       "</table>\n",
       "</div>"
      ],
      "text/plain": [
       "   age  studytime  failures  schoolsup  higher  goout  health  absences  \\\n",
       "0   18          4         0          0       1      1       2         0   \n",
       "1   15          1         3          1       0      4       3        10   \n",
       "\n",
       "   reason_home  reason_other  reason_reputation  \n",
       "0            0             0                  1  \n",
       "1            0             1                  0  "
      ]
     },
     "metadata": {},
     "output_type": "display_data"
    }
   ],
   "source": [
    "X_test = pd.DataFrame([[18, 4, 0, 0, 1, 1,\n",
    "                        2, 0, 0, 0, 1],\n",
    "                       [15, 1, 3, 1, 0, 4,\n",
    "                        3, 10, 0, 1, 0],\n",
    "                        ],\n",
    "                        columns=X_dumm.columns)  # example\n",
    "print('X for prediction:')\n",
    "display(X_test)"
   ]
  },
  {
   "cell_type": "code",
   "execution_count": 15,
   "metadata": {
    "execution": {
     "iopub.execute_input": "2024-11-20T08:28:06.257932Z",
     "iopub.status.busy": "2024-11-20T08:28:06.257645Z",
     "iopub.status.idle": "2024-11-20T08:28:06.271156Z",
     "shell.execute_reply": "2024-11-20T08:28:06.269708Z",
     "shell.execute_reply.started": "2024-11-20T08:28:06.257890Z"
    }
   },
   "outputs": [
    {
     "name": "stdout",
     "output_type": "stream",
     "text": [
      "Predicted y:\n",
      "0    15.683232\n",
      "1     3.986678\n",
      "dtype: float64\n"
     ]
    }
   ],
   "source": [
    "X_test_c = sm.add_constant(X_test, has_constant='add')\n",
    "y_test = results.predict(X_test_c)\n",
    "print('Predicted y:')\n",
    "print(y_test)"
   ]
  },
  {
   "cell_type": "markdown",
   "metadata": {},
   "source": [
    "#### (Adv) Visualization of the fitting of regression formula  "
   ]
  },
  {
   "cell_type": "code",
   "execution_count": 16,
   "metadata": {
    "execution": {
     "iopub.execute_input": "2024-11-20T08:28:06.272719Z",
     "iopub.status.busy": "2024-11-20T08:28:06.272416Z",
     "iopub.status.idle": "2024-11-20T08:28:06.279352Z",
     "shell.execute_reply": "2024-11-20T08:28:06.278103Z",
     "shell.execute_reply.started": "2024-11-20T08:28:06.272691Z"
    }
   },
   "outputs": [
    {
     "name": "stdout",
     "output_type": "stream",
     "text": [
      "Predicted y:\n",
      "0    11.755846\n",
      "1    13.304000\n",
      "2    11.517699\n",
      "3    13.371322\n",
      "4    13.324895\n",
      "dtype: float64\n"
     ]
    }
   ],
   "source": [
    "y_pred = results.predict(X_dumm_c)\n",
    "print('Predicted y:')\n",
    "print(y_pred.head())"
   ]
  },
  {
   "cell_type": "code",
   "execution_count": 17,
   "metadata": {
    "execution": {
     "iopub.execute_input": "2024-11-20T08:28:06.281528Z",
     "iopub.status.busy": "2024-11-20T08:28:06.281033Z",
     "iopub.status.idle": "2024-11-20T08:28:06.287858Z",
     "shell.execute_reply": "2024-11-20T08:28:06.286364Z",
     "shell.execute_reply.started": "2024-11-20T08:28:06.281494Z"
    }
   },
   "outputs": [],
   "source": [
    "y_min = np.append(y_pred, y).min()\n",
    "y_max = np.append(y_pred, y).max()\n",
    "y_margin = (y_max - y_min) * 0.1\n",
    "y_min -= y_margin\n",
    "y_max += y_margin"
   ]
  },
  {
   "cell_type": "code",
   "execution_count": 18,
   "metadata": {
    "execution": {
     "iopub.execute_input": "2024-11-20T08:28:06.289398Z",
     "iopub.status.busy": "2024-11-20T08:28:06.289081Z",
     "iopub.status.idle": "2024-11-20T08:28:06.448244Z",
     "shell.execute_reply": "2024-11-20T08:28:06.447183Z",
     "shell.execute_reply.started": "2024-11-20T08:28:06.289374Z"
    }
   },
   "outputs": [
    {
     "data": {
      "image/png": "[encoded data removed]",
      "text/plain": [
       "<Figure size 640x480 with 1 Axes>"
      ]
     },
     "metadata": {},
     "output_type": "display_data"
    }
   ],
   "source": [
    "plt.scatter(y_pred, y, alpha=0.3)\n",
    "plt.plot([y_min,y_max], [y_min,y_max])\n",
    "plt.gca().set_aspect('equal', adjustable='box')\n",
    "plt.xlim(y_min, y_max)\n",
    "plt.ylim(y_min, y_max)\n",
    "plt.xlabel('Pred')\n",
    "plt.ylabel('True')\n",
    "plt.show()"
   ]
  },
  {
   "cell_type": "code",
   "execution_count": 19,
   "metadata": {
    "execution": {
     "iopub.execute_input": "2024-11-20T08:28:06.449664Z",
     "iopub.status.busy": "2024-11-20T08:28:06.449378Z",
     "iopub.status.idle": "2024-11-20T08:28:06.455853Z",
     "shell.execute_reply": "2024-11-20T08:28:06.454848Z",
     "shell.execute_reply.started": "2024-11-20T08:28:06.449629Z"
    },
    "tags": []
   },
   "outputs": [
    {
     "name": "stdout",
     "output_type": "stream",
     "text": [
      "MSE, RMSE: 4.573595787773045 2.138596686561785\n"
     ]
    }
   ],
   "source": [
    "mse = mean_squared_error(y, y_pred)\n",
    "print('MSE, RMSE:', mse, np.sqrt(mse))"
   ]
  }
 ],
 "metadata": {
  "kernelspec": {
   "display_name": "Python 3 (ipykernel)",
   "language": "python",
   "name": "python3"
  },
  "language_info": {
   "codemirror_mode": {
    "name": "ipython",
    "version": 3
   },
   "file_extension": ".py",
   "mimetype": "text/x-python",
   "name": "python",
   "nbconvert_exporter": "python",
   "pygments_lexer": "ipython3",
   "version": "3.7.1"
  }
 },
 "nbformat": 4,
 "nbformat_minor": 4
}
