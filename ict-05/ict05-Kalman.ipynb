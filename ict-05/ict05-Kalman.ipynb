{
 "cells": [
  {
   "cell_type": "code",
   "execution_count": 1,
   "id": "09c908d6",
   "metadata": {
    "execution": {
     "iopub.execute_input": "2024-11-20T15:44:43.698390Z",
     "iopub.status.busy": "2024-11-20T15:44:43.697577Z",
     "iopub.status.idle": "2024-11-20T15:44:45.212204Z",
     "shell.execute_reply": "2024-11-20T15:44:45.211514Z",
     "shell.execute_reply.started": "2024-11-20T15:44:43.698359Z"
    },
    "tags": []
   },
   "outputs": [],
   "source": [
    "#Cell_1.\n",
    "import numpy as np\n",
    "import pandas as pd\n",
    "import matplotlib.pyplot as plt\n",
    "import statsmodels.api as sm\n",
    "import statsmodels.formula.api as smf\n",
    "\n",
    "import random\n",
    "import math\n",
    "\n",
    "from sklearn.preprocessing import scale\n",
    "from sklearn.metrics import mean_squared_error\n",
    "\n",
    "import warnings\n",
    "warnings.simplefilter('ignore')\n",
    "\n",
    "import plotly"
   ]
  },
  {
   "cell_type": "code",
   "execution_count": 2,
   "id": "c1388869",
   "metadata": {
    "execution": {
     "iopub.execute_input": "2024-11-20T15:44:45.213984Z",
     "iopub.status.busy": "2024-11-20T15:44:45.213275Z",
     "iopub.status.idle": "2024-11-20T15:44:45.233200Z",
     "shell.execute_reply": "2024-11-20T15:44:45.232520Z",
     "shell.execute_reply.started": "2024-11-20T15:44:45.213960Z"
    },
    "tags": []
   },
   "outputs": [
    {
     "name": "stdout",
     "output_type": "stream",
     "text": [
      "(105, 7)\n",
      "           日付    始値    高値    安値    終値       出来高  終値調整値\n",
      "0  2018-01-04  4949  5015  4946  5013   9066700   5013\n",
      "1  2018-01-05  5071  5134  5067  5095  10985300   5095\n",
      "2  2018-01-09  5190  5203  5078  5090   7822700   5090\n",
      "3  2018-01-10  5182  5215  5168  5177   9731100   5177\n",
      "4  2018-01-11  5230  5242  5178  5228   8621500   5228\n",
      "<class 'str'>\n",
      "<class 'pandas._libs.tslibs.timestamps.Timestamp'>\n"
     ]
    }
   ],
   "source": [
    "#Cell_2.\n",
    "csv_in=\"8316_2018.csv\"\n",
    "df=pd.read_csv(csv_in,skiprows=1,header=0,delimiter=',',encoding=\"shift-jis\")\n",
    "print(df.shape) #確認\n",
    "print(df.head()) #確認\n",
    "print(type(df['日付'][0]))\n",
    "df['日付']=pd.to_datetime(df['日付'])\n",
    "print(type(df['日付'][0]))"
   ]
  },
  {
   "cell_type": "code",
   "execution_count": 3,
   "id": "48021f1a",
   "metadata": {
    "execution": {
     "iopub.execute_input": "2024-11-20T15:44:45.234270Z",
     "iopub.status.busy": "2024-11-20T15:44:45.234057Z",
     "iopub.status.idle": "2024-11-20T15:44:45.243548Z",
     "shell.execute_reply": "2024-11-20T15:44:45.242823Z",
     "shell.execute_reply.started": "2024-11-20T15:44:45.234249Z"
    },
    "tags": []
   },
   "outputs": [
    {
     "name": "stdout",
     "output_type": "stream",
     "text": [
      "<class 'pandas._libs.tslibs.timedeltas.Timedelta'>\n",
      "<class 'numpy.float64'>\n",
      "    日付    始値    高値    安値    終値       出来高  終値調整値\n",
      "0  0.0  4949  5015  4946  5013   9066700   5013\n",
      "1  1.0  5071  5134  5067  5095  10985300   5095\n",
      "2  5.0  5190  5203  5078  5090   7822700   5090\n",
      "3  6.0  5182  5215  5168  5177   9731100   5177\n",
      "4  7.0  5230  5242  5178  5228   8621500   5228\n"
     ]
    }
   ],
   "source": [
    "#Cell_3.\n",
    "df_d=df.copy()\n",
    "df_d['日付']-=df_d['日付'][0]\n",
    "print(type(df_d['日付'][0]))\n",
    "df_d['日付']/=np.timedelta64(1,'D')\n",
    "print(type(df_d['日付'][0]))\n",
    "print(df_d.head())"
   ]
  },
  {
   "cell_type": "code",
   "execution_count": 4,
   "id": "2fe86e30",
   "metadata": {
    "execution": {
     "iopub.execute_input": "2024-11-20T15:44:45.245446Z",
     "iopub.status.busy": "2024-11-20T15:44:45.244930Z",
     "iopub.status.idle": "2024-11-20T15:44:45.250107Z",
     "shell.execute_reply": "2024-11-20T15:44:45.249533Z",
     "shell.execute_reply.started": "2024-11-20T15:44:45.245412Z"
    },
    "tags": []
   },
   "outputs": [
    {
     "name": "stdout",
     "output_type": "stream",
     "text": [
      "<class 'pandas.core.frame.DataFrame'>\n",
      "<class 'numpy.ndarray'>\n",
      "(105, 7)\n",
      "(105, 1)\n",
      "(105,)\n"
     ]
    }
   ],
   "source": [
    "#Cell_4.\n",
    "print(type(df_d))\n",
    "df_d=np.asarray(df_d)\n",
    "print(type(df_d))\n",
    "print(df_d.shape)\n",
    "X=df_d[:,:1]\n",
    "Y=df_d[:,4]\n",
    "print(X.shape)\n",
    "print(Y.shape)"
   ]
  },
  {
   "cell_type": "code",
   "execution_count": 5,
   "id": "d64d03b5",
   "metadata": {
    "execution": {
     "iopub.execute_input": "2024-11-20T15:44:45.251334Z",
     "iopub.status.busy": "2024-11-20T15:44:45.250780Z",
     "iopub.status.idle": "2024-11-20T15:44:45.386546Z",
     "shell.execute_reply": "2024-11-20T15:44:45.385780Z",
     "shell.execute_reply.started": "2024-11-20T15:44:45.251306Z"
    },
    "tags": []
   },
   "outputs": [
    {
     "name": "stdout",
     "output_type": "stream",
     "text": [
      "                            OLS Regression Results                            \n",
      "==============================================================================\n",
      "Dep. Variable:                      y   R-squared:                       0.529\n",
      "Model:                            OLS   Adj. R-squared:                  0.525\n",
      "Method:                 Least Squares   F-statistic:                     115.9\n",
      "Date:                Thu, 21 Nov 2024   Prob (F-statistic):           1.48e-18\n",
      "Time:                        00:44:45   Log-Likelihood:                -690.71\n",
      "No. Observations:                 105   AIC:                             1385.\n",
      "Df Residuals:                     103   BIC:                             1391.\n",
      "Df Model:                           1                                         \n",
      "Covariance Type:            nonrobust                                         \n",
      "==============================================================================\n",
      "                 coef    std err          t      P>|t|      [0.025      0.975]\n",
      "------------------------------------------------------------------------------\n",
      "const       5012.4918     33.881    147.943      0.000    4945.296    5079.687\n",
      "x1            -4.0372      0.375    -10.765      0.000      -4.781      -3.293\n",
      "==============================================================================\n",
      "Omnibus:                       25.384   Durbin-Watson:                   0.117\n",
      "Prob(Omnibus):                  0.000   Jarque-Bera (JB):                6.803\n",
      "Skew:                           0.286   Prob(JB):                       0.0333\n",
      "Kurtosis:                       1.892   Cond. No.                         179.\n",
      "==============================================================================\n",
      "\n",
      "Notes:\n",
      "[1] Standard Errors assume that the covariance matrix of the errors is correctly specified.\n",
      "5012.491810577002 -4.037237515045255\n"
     ]
    },
    {
     "data": {
      "image/png": "[encoded data removed]",
      "text/plain": [
       "<Figure size 640x480 with 1 Axes>"
      ]
     },
     "metadata": {},
     "output_type": "display_data"
    }
   ],
   "source": [
    "#Cell_5.\n",
    "import statsmodels.api as sm\n",
    "\n",
    "X=sm.add_constant(X)\n",
    "model=sm.OLS(Y,X)\n",
    "results=model.fit()\n",
    "print(results.summary())\n",
    "c=results.params[0]\n",
    "a=results.params[1]\n",
    "\n",
    "min_df=min(df_d[:,0])\n",
    "max_df=max(df_d[:,0])\n",
    "w_df=max_df-min_df\n",
    "xx=np.linspace(min_df-0.1*w_df,max_df+0.1*w_df,20)\n",
    "print(c,a)\n",
    "#print(xx)\n",
    "yy=c+a*xx\n",
    "plt.plot(xx,yy)\n",
    "plt.plot(df_d[:,0],Y)\n",
    "plt.show()"
   ]
  },
  {
   "cell_type": "code",
   "execution_count": 6,
   "id": "fcf988e7",
   "metadata": {
    "execution": {
     "iopub.execute_input": "2024-11-20T15:44:45.387477Z",
     "iopub.status.busy": "2024-11-20T15:44:45.387245Z",
     "iopub.status.idle": "2024-11-20T15:44:45.390950Z",
     "shell.execute_reply": "2024-11-20T15:44:45.390148Z",
     "shell.execute_reply.started": "2024-11-20T15:44:45.387453Z"
    },
    "tags": []
   },
   "outputs": [],
   "source": [
    "#Cell_7.\n",
    "obs=Y#df_d['終値']"
   ]
  },
  {
   "cell_type": "code",
   "execution_count": 7,
   "id": "137e336f",
   "metadata": {
    "execution": {
     "iopub.execute_input": "2024-11-20T15:44:45.392041Z",
     "iopub.status.busy": "2024-11-20T15:44:45.391798Z",
     "iopub.status.idle": "2024-11-20T15:44:45.401661Z",
     "shell.execute_reply": "2024-11-20T15:44:45.400807Z",
     "shell.execute_reply.started": "2024-11-20T15:44:45.392018Z"
    },
    "tags": []
   },
   "outputs": [
    {
     "data": {
      "text/plain": [
       "105"
      ]
     },
     "execution_count": 7,
     "metadata": {},
     "output_type": "execute_result"
    }
   ],
   "source": [
    "#Cell_8.\n",
    "len(obs)"
   ]
  },
  {
   "cell_type": "code",
   "execution_count": 8,
   "id": "b9982e0a-023e-412b-85ed-5e56d38324c7",
   "metadata": {
    "execution": {
     "iopub.execute_input": "2024-11-20T15:44:45.402921Z",
     "iopub.status.busy": "2024-11-20T15:44:45.402612Z",
     "iopub.status.idle": "2024-11-20T15:44:45.576639Z",
     "shell.execute_reply": "2024-11-20T15:44:45.575875Z",
     "shell.execute_reply.started": "2024-11-20T15:44:45.402896Z"
    },
    "tags": []
   },
   "outputs": [
    {
     "name": "stdout",
     "output_type": "stream",
     "text": [
      "observation is: 5013.0\n",
      "Predicted next value is: 5008.708667773455\n",
      "observation is: 5095.0\n",
      "Predicted next value is: 5090.9627624849545\n",
      "observation is: 5090.0\n",
      "Predicted next value is: 5120.238604754333\n",
      "observation is: 5177.0\n",
      "Predicted next value is: 5221.351370402114\n",
      "observation is: 5228.0\n",
      "Predicted next value is: 5287.044441884259\n",
      "observation is: 5192.0\n",
      "Predicted next value is: 5228.953311130437\n",
      "observation is: 5286.0\n",
      "Predicted next value is: 5315.194776245851\n",
      "observation is: 5310.0\n",
      "Predicted next value is: 5351.076969952185\n",
      "observation is: 5258.0\n",
      "Predicted next value is: 5274.643437841203\n",
      "observation is: 5200.0\n",
      "Predicted next value is: 5176.518431461532\n",
      "observation is: 5275.0\n",
      "Predicted next value is: 5258.865272059244\n",
      "observation is: 5261.0\n",
      "Predicted next value is: 5268.138828963448\n",
      "observation is: 5311.0\n",
      "Predicted next value is: 5329.330816606721\n",
      "observation is: 5208.0\n",
      "Predicted next value is: 5205.941279690188\n",
      "observation is: 5146.0\n",
      "Predicted next value is: 5100.961841212162\n",
      "observation is: 5053.0\n",
      "Predicted next value is: 4982.1483495321545\n",
      "observation is: 5038.0\n",
      "Predicted next value is: 4970.015097566094\n",
      "observation is: 4979.0\n",
      "Predicted next value is: 4926.15477662359\n",
      "observation is: 4878.0\n",
      "Predicted next value is: 4815.209058384667\n",
      "observation is: 5094.0\n",
      "Predicted next value is: 5089.681599068564\n",
      "observation is: 5035.0\n",
      "Predicted next value is: 5081.408302510735\n",
      "observation is: 4935.0\n",
      "Predicted next value is: 4932.235027386546\n",
      "observation is: 4787.0\n",
      "Predicted next value is: 4714.173761249189\n",
      "observation is: 4802.0\n",
      "Predicted next value is: 4717.560421385344\n",
      "observation is: 4857.0\n",
      "Predicted next value is: 4827.647676057124\n",
      "observation is: 4734.0\n",
      "Predicted next value is: 4713.469619520401\n",
      "observation is: 4684.0\n",
      "Predicted next value is: 4634.488939362695\n",
      "observation is: 4649.0\n",
      "Predicted next value is: 4596.306294971653\n",
      "observation is: 4729.0\n",
      "Predicted next value is: 4712.780228191622\n",
      "observation is: 4746.0\n",
      "Predicted next value is: 4768.713251235067\n",
      "observation is: 4831.0\n",
      "Predicted next value is: 4876.932204777266\n",
      "observation is: 4773.0\n",
      "Predicted next value is: 4807.371341205863\n",
      "observation is: 4717.0\n",
      "Predicted next value is: 4704.813479463257\n",
      "observation is: 4685.0\n",
      "Predicted next value is: 4646.999722781858\n",
      "observation is: 4713.0\n",
      "Predicted next value is: 4686.899597448589\n",
      "observation is: 4721.0\n",
      "Predicted next value is: 4718.652081756033\n",
      "observation is: 4775.0\n",
      "Predicted next value is: 4794.5919269480555\n",
      "observation is: 4686.0\n",
      "Predicted next value is: 4691.496546874801\n",
      "observation is: 4612.0\n",
      "Predicted next value is: 4572.5772736503095\n",
      "observation is: 4586.0\n",
      "Predicted next value is: 4531.571102798147\n",
      "observation is: 4551.0\n",
      "Predicted next value is: 4504.520443495392\n",
      "observation is: 4562.0\n",
      "Predicted next value is: 4534.354931813424\n",
      "observation is: 4511.0\n",
      "Predicted next value is: 4490.797811173231\n",
      "observation is: 4516.0\n",
      "Predicted next value is: 4496.695856960246\n",
      "observation is: 4518.0\n",
      "Predicted next value is: 4509.83332658212\n",
      "observation is: 4628.0\n",
      "Predicted next value is: 4654.249615989465\n",
      "observation is: 4616.0\n",
      "Predicted next value is: 4659.98789734716\n",
      "observation is: 4621.0\n",
      "Predicted next value is: 4646.423372827397\n",
      "observation is: 4603.0\n",
      "Predicted next value is: 4608.5811816050855\n",
      "observation is: 4561.0\n",
      "Predicted next value is: 4544.676905882416\n",
      "observation is: 4525.0\n",
      "Predicted next value is: 4492.77803420611\n",
      "observation is: 4542.0\n",
      "Predicted next value is: 4517.521225442047\n",
      "observation is: 4532.0\n",
      "Predicted next value is: 4522.501412013887\n",
      "observation is: 4426.0\n",
      "Predicted next value is: 4395.755960141655\n",
      "observation is: 4442.0\n",
      "Predicted next value is: 4401.016040463352\n",
      "observation is: 4543.0\n",
      "Predicted next value is: 4548.136566382689\n",
      "observation is: 4474.0\n",
      "Predicted next value is: 4493.416423866589\n",
      "observation is: 4451.0\n",
      "Predicted next value is: 4442.709312545988\n",
      "observation is: 4458.0\n",
      "Predicted next value is: 4443.7316972575045\n",
      "observation is: 4415.0\n",
      "Predicted next value is: 4397.090474978017\n",
      "observation is: 4410.0\n",
      "Predicted next value is: 4388.678449214642\n",
      "observation is: 4357.0\n",
      "Predicted next value is: 4330.751814803606\n",
      "observation is: 4440.0\n",
      "Predicted next value is: 4433.707505659004\n",
      "observation is: 4432.0\n",
      "Predicted next value is: 4450.5080749852905\n",
      "observation is: 4473.0\n",
      "Predicted next value is: 4496.728248497018\n",
      "observation is: 4480.0\n",
      "Predicted next value is: 4504.746197470775\n",
      "observation is: 4491.0\n",
      "Predicted next value is: 4508.452091143494\n",
      "observation is: 4469.0\n",
      "Predicted next value is: 4473.42984579039\n",
      "observation is: 4560.0\n",
      "Predicted next value is: 4576.9295893141925\n",
      "observation is: 4515.0\n",
      "Predicted next value is: 4536.460811354446\n",
      "observation is: 4458.0\n",
      "Predicted next value is: 4445.575008170701\n",
      "observation is: 4457.0\n",
      "Predicted next value is: 4429.3093252303215\n",
      "observation is: 4491.0\n",
      "Predicted next value is: 4481.346793597556\n",
      "observation is: 4522.0\n",
      "Predicted next value is: 4536.739853652339\n",
      "observation is: 4595.0\n",
      "Predicted next value is: 4633.670157212871\n",
      "observation is: 4688.0\n",
      "Predicted next value is: 4753.685041097652\n",
      "observation is: 4691.0\n",
      "Predicted next value is: 4753.582987534177\n",
      "observation is: 4638.0\n",
      "Predicted next value is: 4657.256263649883\n",
      "observation is: 4550.0\n",
      "Predicted next value is: 4515.7932552704415\n",
      "observation is: 4487.0\n",
      "Predicted next value is: 4420.839013514756\n",
      "observation is: 4470.0\n",
      "Predicted next value is: 4409.461901737118\n",
      "observation is: 4488.0\n",
      "Predicted next value is: 4458.41856418777\n",
      "observation is: 4473.0\n",
      "Predicted next value is: 4465.19384589522\n",
      "observation is: 4492.0\n",
      "Predicted next value is: 4494.2522661238845\n",
      "observation is: 4520.0\n",
      "Predicted next value is: 4534.869325665537\n",
      "observation is: 4553.0\n",
      "Predicted next value is: 4578.340603947696\n",
      "observation is: 4643.0\n",
      "Predicted next value is: 4688.667555268979\n",
      "observation is: 4707.0\n",
      "Predicted next value is: 4772.174398554632\n",
      "observation is: 4710.0\n",
      "Predicted next value is: 4763.88755400409\n",
      "observation is: 4699.0\n",
      "Predicted next value is: 4722.333392237573\n",
      "observation is: 4687.0\n",
      "Predicted next value is: 4686.530069703896\n",
      "observation is: 4671.0\n",
      "Predicted next value is: 4658.4945064078565\n",
      "observation is: 4628.0\n",
      "Predicted next value is: 4604.296344080049\n",
      "observation is: 4584.0\n",
      "Predicted next value is: 4548.188378711945\n",
      "observation is: 4587.0\n",
      "Predicted next value is: 4556.1898924606\n",
      "observation is: 4553.0\n",
      "Predicted next value is: 4530.355726244013\n",
      "observation is: 4471.0\n",
      "Predicted next value is: 4432.802699650119\n",
      "observation is: 4503.0\n",
      "Predicted next value is: 4468.619430826228\n",
      "observation is: 4523.0\n",
      "Predicted next value is: 4518.403418125683\n",
      "observation is: 4608.0\n",
      "Predicted next value is: 4638.325779247041\n",
      "observation is: 4576.0\n",
      "Predicted next value is: 4611.456944663432\n",
      "observation is: 4581.0\n",
      "Predicted next value is: 4594.4624326299145\n",
      "observation is: 4616.0\n",
      "Predicted next value is: 4627.805766389187\n",
      "observation is: 4550.0\n",
      "Predicted next value is: 4547.357106788219\n",
      "observation is: 4542.0\n",
      "Predicted next value is: 4520.053516706212\n"
     ]
    },
    {
     "data": {
      "image/png": "[encoded data removed]",
      "text/plain": [
       "<Figure size 640x480 with 1 Axes>"
      ]
     },
     "metadata": {},
     "output_type": "display_data"
    }
   ],
   "source": [
    "#Cell_9.\n",
    "#https://wagtail.cds.tohoku.ac.jp/coda/python/stochastic-methods/kalman-filter-2.html\n",
    "\n",
    "dt = 1\n",
    "F = np.array([[1, dt],\n",
    "              [0,1]])\n",
    "G = np.array([[0],\n",
    "              [math.sqrt(dt)]])\n",
    "H = np.array([[1,0]])\n",
    "\n",
    "x = np.zeros((2,1))\n",
    "xt = np.zeros((2,1))#priorior estimator\n",
    "\n",
    "#print(xt)\n",
    "\n",
    "S = np.zeros((2,2))#priorior estimator\n",
    "\n",
    "R = np.array([[0.01]])\n",
    "Q = np.array([[0.01]])\n",
    "\n",
    "x[0,0]=c\n",
    "x[1,0]=a\n",
    "\n",
    "#priorior estimators\n",
    "xt[0,0]=c\n",
    "xt[1,0]=a\n",
    "\n",
    "#priorior estimators\n",
    "S[0,0]=0.01\n",
    "S[1,1]=0.01\n",
    "\n",
    "T=[]\n",
    "X=[]\n",
    "XT=[]\n",
    "ZT=[]\n",
    "\n",
    "t=0\n",
    "i=0\n",
    "while i<len(obs):\n",
    "    D = np.linalg.pinv(H.dot(S.dot(H.T)) + R)\n",
    "    K = S.dot(H.T).dot(D) #Kalman gain.\n",
    "\n",
    "    #Filtering step.\n",
    "    zt = obs[int(i)]\n",
    "    print('observation is:',zt)\n",
    "    #posterior estimators.\n",
    "    x2 = xt + K.dot(zt - H.dot(xt))\n",
    "    S2 = (np.eye(2) - K.dot(H)).dot(S)\n",
    "\n",
    "    T.append(t)\n",
    "    X.append(x[0,0]) #'True' state\n",
    "    XT.append(x2[0,0]) #estimated state (posterior)\n",
    "    ZT.append(zt) #observation.\n",
    "\n",
    "    #prediction step.\n",
    "    #priorior estimators.\n",
    "    xt = F.dot(x2)\n",
    "    S = F.dot(S2.dot(F.T)) + G.dot(Q.dot(G.T))\n",
    "    print('Predicted next value is:',xt[0,0])\n",
    "    # update state. This cannot be observed.\n",
    "    x = F.dot(x) + G.dot( np.random.multivariate_normal([0], R, 1).T )\n",
    "\n",
    "    t = t + dt\n",
    "    i+=1\n",
    "\n",
    "plt.plot(T,X, color='blue', linewidth=1.0, label='State Model')\n",
    "plt.plot(T,XT, 'o', color='orange', linewidth=1.0, label='Estimation')\n",
    "plt.plot(T,ZT, '*',color='green',label='Obvervation')\n",
    "plt.xlabel('T')\n",
    "plt.ylabel('X')\n",
    "plt.grid(True)\n",
    "plt.legend()\n",
    "plt.show()\n"
   ]
  },
  {
   "cell_type": "code",
   "execution_count": null,
   "id": "cc6a5372-7516-4119-8df3-6ca513496b97",
   "metadata": {},
   "outputs": [],
   "source": []
  }
 ],
 "metadata": {
  "kernelspec": {
   "display_name": "Python 3 (ipykernel)",
   "language": "python",
   "name": "python3"
  },
  "language_info": {
   "codemirror_mode": {
    "name": "ipython",
    "version": 3
   },
   "file_extension": ".py",
   "mimetype": "text/x-python",
   "name": "python",
   "nbconvert_exporter": "python",
   "pygments_lexer": "ipython3",
   "version": "3.8.18"
  }
 },
 "nbformat": 4,
 "nbformat_minor": 5
}
