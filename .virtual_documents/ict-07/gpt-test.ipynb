#Cell_1.
import openai
import re
import os
from openai import OpenAI

oai = OpenAI(
    api_key = 'xxxx',
    base_url = "https://api.openai.iniad.org/api/v1"
)


#Cell_2.
sysmsg ="あなたはデータサイエンティストです"
text = """ある学校の試験のデータがあります。このデータは、６学年が同時に同じ試験を受けた結果のデータであり、受験した各学生の年齢、身長、得点が記録されています。
　いま、学生の身長と得点の間に強い正の相関がみられました。このことから、身長を伸ばすほど、得点があがる、と結論づけてよいでしょうか？あなたの考えを聞かせて下さい。
 """

messages=[
    {'role': 'system', 'content': sysmsg},
    {'role': 'user', 'content': text},
]

resp = oai.chat.completions.create(
    model='gpt-4o-mini',
    messages=messages,
)

print(resp.choices[0].message.content)


#Cell_3.
sysmsg ="You are a data-scientist."
text = """Suppose that we have a data on the results of an exam in a certain school. This data contains the results of the students of 6 year grades
who took the same exam. It involves the age, height, and score of each of the examinees. Now, we observe a strong positive correlation between 
the value of height and score. On the basis of this, can we conclude that we can improve the score of the exam by increasing the height of the students? 
How do you make of this?
 """

messages=[
    {'role': 'system', 'content': sysmsg},
    {'role': 'user', 'content': text},
]

resp = oai.chat.completions.create(
    model='gpt-4o-mini',
    messages=messages,
)

print(resp.choices[0].message.content)


#Cell_4.
sysmsg ="あなたはデータサイエンティストです"
text = """ある学校の試験のデータがあります。このデータは、６学年が同時に同じ試験を受けた結果のデータであり、受験した各学生の年齢、身長、得点が記録されています。
　いま、学生の身長と得点の間に強い正の相関がみられました。この例で、交絡因子と考えられるものは何でしょうか。あなたの考えを聞かせて下さい。
 　　　 """

messages=[
    {'role': 'system', 'content': sysmsg},
    {'role': 'user', 'content': text},
]

resp = oai.chat.completions.create(
    model='gpt-4o-mini',
    messages=messages,
)

print(resp.choices[0].message.content)


# 小型カメラの例


#Cell_5.
sysmsg ="あなたはデータサイエンティストです"
text = """小型カメラのユーザ評価結果のデータがあります。
　　　　　このデータには、「小ささ」「持ち運びのしやすさ」「操作のしやすさ」「ユーザの満足度」の記録が入っています。
     　　　いま、「ユーザの満足度」を「小ささ」「持ち運びのしやすさ」「操作のしやすさ」で重回帰分析したところ、「小ささ」の偏回帰係数が負になり、
        　　「持ち運びのしやすさ」「操作のしやすさ」の偏回帰係数は正となりました。
        　この結果は、どのように解釈すればよいでしょうか？あなたの考えを聞かせて下さい。
 　　　 """

messages=[
    {'role': 'system', 'content': sysmsg},
    {'role': 'user', 'content': text},
]

resp = oai.chat.completions.create(
    model='gpt-4o-mini',
    messages=messages,
)

print(resp.choices[0].message.content)


#Cell_6.
sysmsg ="あなたはデータサイエンティストです"
text = """小型カメラのユーザ評価結果のデータがあります。
　　　　　このデータには、「小ささ」「持ち運びのしやすさ」「操作のしやすさ」「ユーザの満足度」の記録が入っています。
     　　　いま、「ユーザの満足度」を「小ささ」「持ち運びのしやすさ」「操作のしやすさ」で重回帰分析したところ、「小ささ」の偏回帰係数が負になり、
        　　「持ち運びのしやすさ」「操作のしやすさ」の偏回帰係数は正となりました。
        　この結果を、因果関係のパス図にしたいと思います。どのように描くのがよいでしょうか？あなたの考えを聞かせて下さい。
 　　　 """

messages=[
    {'role': 'system', 'content': sysmsg},
    {'role': 'user', 'content': text},
]

resp = oai.chat.completions.create(
    model='gpt-4o-mini',
    messages=messages,
)

print(resp.choices[0].message.content)


#Cell_7.
sysmsg ="You are a data-scientist."
text = """Suppose that there's a data regarding the user evaluation on compact cameras.
　　　  This data contains the records of "smallness", "portability", "operability", and "customer satisfaction".　　
     Now, as a result of multiple regression applied to "customer satisfaction" with  "smallness", "portability", and
      "operability" being exploratory variables, we found that the regression coefficient of "smallness" was negative, 
       whereas the coefficients of  "portability" and "operability" were positive. 
       Now, we would like to make a path diagram of the relationshipw between factors in this data. 
    Could you tell me your idea on any possible one? Thank you in advamce!
 　　　 """

messages=[
    {'role': 'system', 'content': sysmsg},
    {'role': 'user', 'content': text},
]

resp = oai.chat.completions.create(
    model='gpt-4o-mini',
    messages=messages,
)

print(resp.choices[0].message.content)


#Cell_8.
sysmsg ="Vous êtes data scientist."
text = """Supposons qu'il existe des données concernant l'évaluation des utilisateurs sur les appareils photo compacts. 
        Ces données contiennent les enregistrements de la "petitesse", de la "portabilité", 
          de l'"opérabilité" et de la "satisfaction client". Maintenant, à la suite d'une régression multiple appliquée
          à la "satisfaction client", avec la "petitesse", la "portabilité" et l'"opérabilité" comme variables exploratoires,
          nous avons constaté que le coefficient de régression de la "petitesse" était négatif, 
          tandis que les coefficients de la "portabilité" et de l'"opérabilité" étaient positifs.
          Maintenant, nous aimerions réaliser un diagramme de chemin des relations entre les facteurs de ces données. 
          Pourriez-vous me donner votre avis sur un éventuel modèle ? Merci d'avance ! 
 　　　 """

messages=[
    {'role': 'system', 'content': sysmsg},
    {'role': 'user', 'content': text},
]

resp = oai.chat.completions.create(
    model='gpt-4o-mini',
    messages=messages,
)

print(resp.choices[0].message.content)
