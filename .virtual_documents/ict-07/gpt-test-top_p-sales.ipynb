#Cell_1.
import openai
import re
import os
from openai import OpenAI

oai = OpenAI(
    api_key = 'Ypg_N7E8mt0fkyOxmYe1-SNBzoMHf1oAby5yw6u6GWglIYuKFNE_0J9KhkBGNpeJfk8n9BjABG6Cj2_Mso4GN-w',
    base_url = "https://api.openai.iniad.org/api/v1"
)


#Cell_2.
p_list = [0.3, 0.5, 0.9]
sysmsg ="あなたはトップセールスマンです"
text = """ビジネスメールを書いています。「大変お手数を」こののちに続く言葉を予想してください。
 """

messages=[
    {'role': 'system', 'content': sysmsg},
    {'role': 'user', 'content': text},
]
i=0
for p in p_list:
    i+=1
    print("第" + str(i) + "回目の回答です。")
    resp = oai.chat.completions.create(
        model='gpt-4o-mini',
        messages=messages,
        top_p=p,
    )
    
    print(resp.choices[0].message.content)
