#Cell_1.
import openai
import re
import os
from openai import OpenAI

oai = OpenAI(
    api_key = 'Ypg_N7E8mt0fkyOxmYe1-SNBzoMHf1oAby5yw6u6GWglIYuKFNE_0J9KhkBGNpeJfk8n9BjABG6Cj2_Mso4GN-w',
    base_url = "https://api.openai.iniad.org/api/v1"
)


#Cell_3.
sysmsg ="あなたはデータサイエンティストです。"

messages=[
       {"role": "system", "content": "いまアップロードしたデータ'world_country_population.csv'について解説してください。"},
       {"role": "user", "content": file_content}
]

resp = oai.chat.completions.create(
    model='gpt-4o-mini',
    messages=messages,
)

print(resp.choices[0].message.content)


#Cell_2.
with open('toyo.csv', 'r', encoding='utf-8') as file:
       file_content = file.read()
