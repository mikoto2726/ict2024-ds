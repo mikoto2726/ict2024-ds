#Cell_1.
import openai
import re
import os
from openai import OpenAI

oai = OpenAI(
    api_key = 'Ypg_N7E8mt0fkyOxmYe1-SNBzoMHf1oAby5yw6u6GWglIYuKFNE_0J9KhkBGNpeJfk8n9BjABG6Cj2_Mso4GN-w',
    base_url = "https://api.openai.iniad.org/api/v1"
)


#Cell_2.
with open('world_country_population.csv', 'r', encoding='utf-8') as file:
       file_content = file.read()


#Cell_3.
sysmsg ="あなたはデータサイエンティストです。"

messages=[
       {"role": "system", "content": "いまアップロードしたデータ'world_country_population.csv'について解説してください。"},
       {"role": "user", "content": file_content}
]

resp = oai.chat.completions.create(
    model='gpt-4o-mini',
    messages=messages,
)

print(resp.choices[0].message.content)


#Cell_4.
messages.append({"role": "assistant", "content": resp.choices[0].message.content})

# Append a new user message asking for more elaboration
messages=[
       {"role": "system", "content": "有難うございます。そうしましたら、このworld_country_population.csvから2000年時点の中国、インド、日本の人口を取得して、世界地図上に色付けしてください。"},
       {"role": "user", "content": file_content}
]

resp = oai.chat.completions.create(
    model='gpt-4o-mini',
    messages=messages,
)

print(resp.choices[0].message.content)


#実際にやってみましょう。


   
import pandas as pd

# データの読み込み
df = pd.read_csv('world_country_population.csv',skiprows=3)

countries = ['China', 'India', 'Japan']
population_2000 = df[df['Country Name'].isin(countries)][['Country Name', '2000']]

import geopandas as gpd
import matplotlib.pyplot as plt

# 世界地図データの読み込み
world = gpd.read_file(gpd.datasets.get_path('naturalearth_lowres'))

# 人口データのマージ
world = world.merge(population_2000, how='left', left_on='name', right_on='Country Name')

# 色付けする
world['color'] = world['2000'].apply(lambda x: 'blue' if x > 1000000000 else 'orange' if x > 800000000 else 'green')
   
# 地図を描画
fig, ax = plt.subplots(1, 1, figsize=(15, 10))
world.boundary.plot(ax=ax)
world.plot(column='color', ax=ax, legend=True)

plt.title('World Population in 2000 (China, India, Japan Highlighted)')
plt.show()



#Cell_6.
messages.append({"role": "assistant", "content": resp.choices[0].message.content})

# Append a new user message asking for more elaboration
messages=[
       {"role": "system", "content": "有難うございます。申し訳ありませんが、ご提案の方法ですと以下のエラーがでました。ModuleNotFoundError: if geom is not None and geom.type.startswith(prefix) and not geom.is_empty:"},
       {"role": "user", "content": file_content}
]

resp = oai.chat.completions.create(
    model='gpt-4o-mini',
    messages=messages,
)

print(resp.choices[0].message.content)


#Cell_6.
messages.append({"role": "assistant", "content": resp.choices[0].message.content})

# Append a new user message asking for more elaboration
messages=[
       {"role": "system", "content": "有難うございます!skiprows=4としたらできました！"},
       {"role": "user", "content": file_content}
]

resp = oai.chat.completions.create(
    model='gpt-4o-mini',
    messages=messages,
)

print(resp.choices[0].message.content)



