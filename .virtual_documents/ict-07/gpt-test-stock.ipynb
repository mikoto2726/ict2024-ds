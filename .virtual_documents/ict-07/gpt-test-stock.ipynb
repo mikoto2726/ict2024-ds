#Cell_1.
import openai
import re
import os
from openai import OpenAI

oai = OpenAI(
    api_key = 'xxxx',
    base_url = "https://api.openai.iniad.org/api/v1"
)


#Cell_2.
sysmsg ="You are a data-scientist."
text = """We are going to analyze the price of stock market by using Kalman filter. Is there any latent factors that might affect stock prices?
 """

messages=[
    {'role': 'system', 'content': sysmsg},
    {'role': 'user', 'content': text},
]

resp = oai.chat.completions.create(
    model='gpt-4o-mini',
    messages=messages,
)

print(resp.choices[0].message.content)
