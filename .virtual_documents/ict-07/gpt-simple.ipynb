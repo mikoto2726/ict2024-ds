#Cell_1.
import openai
import re
import os
from openai import OpenAI

oai = OpenAI(
    api_key = 'Ypg_N7E8mt0fkyOxmYe1-SNBzoMHf1oAby5yw6u6GWglIYuKFNE_0J9KhkBGNpeJfk8n9BjABG6Cj2_Mso4GN-w',
    base_url = "https://api.openai.iniad.org/api/v1"
)


#Cell_2.
sysmsg ="あなたは親切な友人です"
text = """こんにちは！
 """

messages=[
    {'role': 'system', 'content': sysmsg},
    {'role': 'user', 'content': text},
]

resp = oai.chat.completions.create(
    model='gpt-4o-mini',
    messages=messages,
)

print(resp.choices[0].message.content)



