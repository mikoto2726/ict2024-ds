#Cell_1.
import openai
import re
import os
from openai import OpenAI

oai = OpenAI(
    api_key = 'xxxx',
    base_url = "https://api.openai.iniad.org/api/v1"
)


#Cell_2.
p_list = [0.3, 0.5, 0.9]
# Main loop
while True:
    # Get user input
    sysmsg ="あなたは数学者です"
    question = input("Enter your question (or 'q' to quit): ")

    # Check if the user wants to quit
    if question.lower() == 'q':
        break
        
    text = question

    messages=[
        {'role': 'system', 'content': sysmsg},
        {'role': 'user', 'content': text},
    ]

    i=0
    for p in p_list:
        i+=1
        print("第" + str(i) + "回目の回答です。")
        resp = oai.chat.completions.create(
            model='gpt-4o-mini',
            messages=messages,
            top_p=p,
        )
        
        print(resp.choices[0].message.content)
