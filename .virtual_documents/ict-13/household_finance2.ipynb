





import requests
import json
import pandas as pd
import japanize_matplotlib


ESTAT_URL = 'http://api.e-stat.go.jp/rest/3.0/app/json/getStatsData'
APPID = 'アプリケーションID'
DATA_ID = '0003000807'





params = {
    'appId' : APPID,
    'statsDataId' : DATA_ID
}

response = requests.get(ESTAT_URL, params=params)
result = response.json()

print('----URL----')
print(response.url)
print('----Response----')
print(result)


print(json.dumps(result, ensure_ascii=False, indent=2))





metadata = result['GET_STATS_DATA']['STATISTICAL_DATA']['CLASS_INF']['CLASS_OBJ']
metadata


data = result['GET_STATS_DATA']['STATISTICAL_DATA']['DATA_INF']['VALUE']
data





class Metadata:
    def __init__(self, metadata):
        self.metadata = {}
        self.class_map = {}
        self.__parse_metadata(metadata)

    def print(self):
        for meta_id, meta in self.metadata.items():
            print('{}: {}'.format(meta_id, meta['name']))
            self.__print_class(meta['class'], 1)

    def get_metadata_name(self, meta_id):
        return self.metadata[meta_id]['name']

    def get_class_name(self, meta_id, class_code):
        return self.class_map[meta_id][class_code]['name']

    def __parse_metadata(self, metadata):
        for item in metadata:
            meta_id = item['@id']
            meta = {
                'name': item['@name']
            }
            if isinstance(item['CLASS'], list):
                meta['class'] = self.__parse_class(meta_id, item['CLASS'])
            else:
                meta['class'] = self.__parse_class(meta_id, [item['CLASS']])
            self.metadata[meta_id] = meta

    def __parse_class(self, meta_id, class_list):
        self.class_map[meta_id] = {}
        top = []
        for item in class_list:
            cls = {
                'code': item['@code'],
                'name': item['@name'],
                'unit': item.get('@unit'),
                'children': []
            }
            if not '@parentCode' in item:
                top.append(cls)
            else:
                parent_cls = self.class_map[meta_id][item['@parentCode']]
                parent_cls['children'].append(cls)
                
            self.class_map[meta_id][cls['code']] = cls
        return top
    
    def __print_class(self, parsed_class_list, level):
        for item in parsed_class_list:
            indent = '  ' * level
            print(indent + '- {}: {} ({})'.format(item['code'], item['name'], item['unit']))
            self.__print_class(item['children'], level + 1)

m = Metadata(metadata)
m.print()





data = result['GET_STATS_DATA']['STATISTICAL_DATA']['DATA_INF']['VALUE']
df = pd.DataFrame(data)
df





df_filtered = df[df['@cat02'] == '12'].copy()
df_filtered['$'] = pd.to_numeric(df_filtered['$'], errors='coerce')
df_filtered





df_filtered_pivot = df_filtered.pivot(index='@time', columns='@cat01', values='$')
df_filtered_pivot


df_filtered_pivot.columns = df_filtered_pivot.columns.to_series().apply(lambda x: m.get_class_name('cat01', x))
df_filtered_pivot.index = df_filtered_pivot.index.to_series().apply(lambda x: m.get_class_name('time', x))
df_filtered_pivot





df_filtered_pivot[['公的年金保険料', '健康保険料', '介護保険料', '他の社会保険料']].plot(figsize=(10, 5))





df_filtered_pivot[['電気代', 'ガス代', '他の光熱', '上下水道料']].plot(figsize=(10, 5))



