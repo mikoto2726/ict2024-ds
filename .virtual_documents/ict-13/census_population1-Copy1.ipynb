





import pandas as pd
import geopandas as gpd
from shapely.geometry import Polygon
import japanize_matplotlib


CENSUS_POPULATION_PATH = 'data/FEH_00200521_250109003235.csv'
LG_CODE_PATH = 'data/000925835.xlsx'
TOKYO_ADMIN_PATH = 'data/shape/N03-20240101_13.geojson'





df_population = pd.read_csv(CENSUS_POPULATION_PATH, encoding='shift-jis', skiprows=14)
df_population





df_population = df_population.rename(columns={
    '全国，都道府県，市区町村（2000年市区町村含む） コード': 'code',
    '全国，都道府県，市区町村（2000年市区町村含む）': 'name',
    '総数': 'total',
    '男': 'male',
    '女': 'female'
})
df_population['total'] = df_population['total'].apply(pd.to_numeric, errors='coerce')
df_population['male'] = df_population['male'].apply(pd.to_numeric, errors='coerce')
df_population['female'] = df_population['female'].apply(pd.to_numeric, errors='coerce')
df_population['ratio'] = df_population['male'] / df_population['female']
df_population = df_population[['code', 'name', 'total', 'male', 'female', 'ratio']]
df_population 





df_lg = pd.read_excel(LG_CODE_PATH, dtype=str)
df_lg





df_lg = df_lg.rename(columns = {
    '団体コード': 'code',
    '都道府県名\n（漢字）': 'prefecture',
    '市区町村名\n（漢字）': 'city'
})
df_lg = df_lg[['code', 'prefecture', 'city']]
df_lg


df_lg['code'] = df_lg['code'].apply(lambda x: x[:5])
df_lg = df_lg[~df_lg['code'].str.endswith('000')]
df_lg





df_lg_population = df_population.merge(df_lg, how='inner')
df_lg_population





df_lg_population.sort_values('total', ascending=False)


df_lg_population.sort_values('ratio', ascending=False)





gdf_tokyo_admin = gpd.read_file(TOKYO_ADMIN_PATH)
gdf_tokyo_admin





gdf_tokyo_admin_grouped = gdf_tokyo_admin.dissolve(by='N03_007')
gdf_tokyo_admin_grouped = gdf_tokyo_admin_grouped.reset_index()
gdf_tokyo_admin_grouped





gdf_tokyo_population = gdf_tokyo_admin_grouped.merge(df_population, left_on='N03_007', right_on='code')
gdf_tokyo_population





min_lon, min_lat = 138.0, 35.0
max_lon, max_lat = 140.0, 36.0
   
bbox_polygon = Polygon([(min_lon, min_lat), (min_lon, max_lat), (max_lon, max_lat), (max_lon, min_lat)])


gdf_tokyo_population_clipped = gdf_tokyo_population[gdf_tokyo_population.within(bbox_polygon)]
gdf_tokyo_population_clipped





gdf_tokyo_population_clipped.plot(column='total', cmap='OrRd', legend=True, figsize=(20,4))


gdf_tokyo_population_clipped.plot(column='ratio', cmap='OrRd', legend=True, figsize=(20,4))



