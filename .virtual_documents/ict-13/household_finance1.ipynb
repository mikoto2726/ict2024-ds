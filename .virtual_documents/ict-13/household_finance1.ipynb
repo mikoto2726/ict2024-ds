





import pandas as pd
import japanize_matplotlib


DATA_PATH = 'data/FEH_00200561_250109002500.csv'





df = pd.read_csv(DATA_PATH, encoding='shift-jis', skiprows=12)
df





df_filtered = df[df['世帯区分'] == '勤労者世帯']
df_filtered.set_index('時間軸（年次）', inplace=True)
df_filtered





df_target = df_filtered[['公的年金保険料【円】', '健康保険料【円】', '介護保険料【円】', '他の社会保険料【円】']]
df_target = df_target.apply(pd.to_numeric, errors='coerce')
df_target.plot(figsize=(10, 5))





df_target = df_filtered[['電気代【円】', 'ガス代【円】', '他の光熱【円】', '上下水道料【円】']]
df_target = df_target.apply(pd.to_numeric, errors='coerce')
df_target.plot(figsize=(10, 5))



