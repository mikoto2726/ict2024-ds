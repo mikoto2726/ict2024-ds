





import pandas as pd
import geopandas as gpd
import japanize_matplotlib


CENSUS_SUBREGION_POPULATION_PATH = 'data/h02_13.csv'
KITA_REGION_PATH = 'data/shape/r2ka13117.shp'





df_population = pd.read_csv(CENSUS_SUBREGION_POPULATION_PATH, encoding='shift-jis', skiprows=4)
df_population





df_population = df_population.rename(columns={
    '市区町村コード': 'lg_code',
    '町丁字コード': 'town_code',
    '総数': 'total',
    '男': 'male',
    '女': 'female',
    '-' : 'foreign'
})
df_population['total'] = df_population['total'].apply(pd.to_numeric, errors='coerce')
df_population['male'] = df_population['male'].apply(pd.to_numeric, errors='coerce')
df_population['female'] = df_population['female'].apply(pd.to_numeric, errors='coerce')
df_population['foreign'] = df_population['foreign'].apply(pd.to_numeric, errors='coerce')
df_population['town_code'] = df_population['town_code'].apply(lambda x: x + '00' if len(x) == 4 else x)
df_population = df_population[['lg_code', 'town_code', 'total', 'male', 'female', 'foreign']]
df_population 





df_kita_population = df_population[df_population['lg_code'] == 13117]
df_kita_population





gdf_kita_region = gpd.read_file(KITA_REGION_PATH)
gdf_kita_region





gdf_kita_region = gdf_kita_region[['S_AREA', 'PREF_NAME', 'CITY_NAME', 'S_NAME', 'AREA', 'geometry']]
gdf_kita_region





gdf_kita_population = gdf_kita_region.merge(df_kita_population, left_on='S_AREA', right_on='town_code', how='left')
gdf_kita_population





gdf_kita_population['density'] = gdf_kita_population['total'] / gdf_kita_population['AREA']
gdf_kita_population





gdf_kita_population.sort_values('total', ascending=False)


gdf_kita_population.sort_values('density', ascending=False)





gdf_kita_population.plot(column='total', cmap='OrRd', legend=True, figsize=(20,4))


gdf_kita_population.plot(column='density', cmap='OrRd', legend=True, figsize=(20,4))



