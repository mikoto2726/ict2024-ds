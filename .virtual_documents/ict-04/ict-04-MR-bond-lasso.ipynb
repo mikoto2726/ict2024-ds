#Cell_1.
import numpy as np
import pandas as pd
import matplotlib.pyplot as plt
import statsmodels.api as sm
import statsmodels.formula.api as smf

from sklearn.preprocessing import scale
from sklearn.metrics import mean_squared_error



#Cell_2.
csv_in="yields.csv"
df=pd.read_csv(csv_in,skiprows=0,header=0,delimiter=',',encoding="shift-jis")
print(df.shape) #確認
print(df.head()) #確認
print(type(df['time'][0]))\
#df['time']=pd.to_datetime(df['time'].astype(int),unit='ms')
#df['time']=pd.to_datetime(df['time'])
#print(type(df['time'][0]))


#Cell_3.
from datetime import datetime
for i in range(len(df)):
    df.loc[i,'time']= datetime.fromtimestamp((df.loc[i,'time']/1000))


#Cell_4.
display(df.head())
display(df.tail())


#Cell_5.
df_sorted = df.sort_values(by='time')
display(df_sorted.tail(20))


#Cell_6.
df_sorted['time']=pd.to_datetime(df_sorted['time'])
df_sorted['time']=df_sorted['time'].dt.date

df_sorted=df_sorted.reset_index(drop=True)
df_sorted['time']=pd.to_datetime(df_sorted['time'])
display(df_sorted.head())


#Cell_7.
csv_in2="5332_2018.csv"
df2=pd.read_csv(csv_in2,skiprows=1,header=0,delimiter=',',encoding="shift-jis")
print(df2.shape) #確認
print(df2.head()) #確認
print(type(df2['日付'][0]))
df2['日付']=pd.to_datetime(df2['日付'])
print(type(df2['日付'][0]))


#Cell_8.
df2.columns=['time','start','high','low','close','volume','adj-close']
display(df2.head())


#Cell_9.
df_merged=pd.merge(df2,df_sorted,on='time',how='left')
df_merged=df_merged.fillna(method='ffill')
display(df_merged.head())


#Cell_10.
df_d=df_merged.copy()
df_d['time']-=df_d['time'][0]
#print(type(df_d['time'][0]))
df_d['time']/=np.timedelta64(1,'D')
#print(type(df_d['日付'][0]))
print(df_d.head())


#Cell_11.
X = df_d.drop(columns=['close','high','low','start','volume','adj-close'])
Y = df_d[['close']]


#Cell_12.
print('X:', X.shape)
print(X.info())
display(X.head())
print('Y:', Y.shape)
print(Y.head())


#Cell_13.
X_scaled_ar = scale(X)
y_scaled_ar = scale(Y)
X_scaled = pd.DataFrame(X_scaled_ar, columns=X.columns)
display(X_scaled.head())


#Cell_14.
model = sm.OLS(y_scaled_ar, X_scaled)


#Cell_15.
result = model.fit_regularized(
                    method='elastic_net',
                    alpha=0.01,
                    L1_wt=1.0,
                    start_params=None,
                    profile_scale=False,
                    refit=False
                    )


#Cell_16.
b= result.params
print((b[b>0]))


#Cell_17.
ret = []
alphas = 10 ** np.linspace(-3, 3, num=50)
print(alphas)

for al in alphas:
    r = model.fit_regularized(L1_wt=1.0, alpha=al)
    ret.append(r.params)

df_ret = pd.DataFrame(ret, columns=X_scaled.columns, index=alphas)
display(df_ret.head())  # debug
df_ret.plot(figsize=(7,7))
plt.title('Path plot for LASSO')
plt.xlabel('Alpha')
plt.ylabel('Coefficients')
plt.xscale("log")
plt.grid(True)


#Cell_18.
result = model.fit_regularized(
                    method='elastic_net',
                    alpha=0.01,
                    L1_wt=1.0,
                    start_params=None,
                    profile_scale=False,
                    refit=False
                    )
b= result.params
print(b[b>0])


#Cell_19.
X = df_d[['AU03', 'BE02', 'BE15', 'FR30', 'DE01', 'DE02', 'IE05', 'JP02', 'JP15', 'MY07', 'NL02', 'NZ05', 'ES10']]
Y = df_d[['close']]


#Cell_20.
X=sm.add_constant(X)
model=sm.OLS(Y,X)


#Cell_21.
results=model.fit()
print(results.summary())


#Cell_22.
X_test = pd.DataFrame([
                       [1,1.0,1.0,1.0,1.0,1.0, 1.0,1.0,1.0,1.0,1.0, 1.0,1.0,1.0],
                        ],
                        columns=X.columns)  # example
print('X for prediction:')
display(X_test)


#Cell_23.
y_test = results.predict(X_test)
print('Predicted y:')
print(y_test)


ret = []
alphas = 10 ** np.linspace(-2, 2, num=50)  # alpha の範囲を 0.01 から 100 に変更
print(alphas)

for al in alphas:
    r = model.fit_regularized(L1_wt=1.0, alpha=al)
    ret.append(r.params)

df_ret = pd.DataFrame(ret, columns=X_scaled.columns, index=alphas)
display(df_ret.head())  # debug用に最初の数行を表示
df_ret.plot(figsize=(7,7))

plt.title('Path plot for LASSO')
plt.xlabel('Alpha')
plt.ylabel('Coefficients')
plt.xscale("log")
plt.grid(True)
plt.show()



