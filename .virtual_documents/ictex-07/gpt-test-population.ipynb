#Cell_1.
import openai
import re
import os
from openai import OpenAI

oai = OpenAI(
    api_key = 'Ypg_N7E8mt0fkyOxmYe1-SNBzoMHf1oAby5yw6u6GWglIYuKFNE_0J9KhkBGNpeJfk8n9BjABG6Cj2_Mso4GN-w',
    base_url = "https://api.openai.iniad.org/api/v1"
)


#Cell_2.
with open('used_motorcycle_en.csv', 'r', encoding='utf-8') as file:
       file_content = file.read()


#Cell_3.
sysmsg ="あなたはデータサイエンティストです。"

messages=[
       {"role": "system", "content": "いまアップロードしたデータ'used_motorcycle_en.csv'について解説してください。"},
       {"role": "user", "content": file_content}
]

resp = oai.chat.completions.create(
    model='gpt-4o-mini',
    messages=messages,
)

print(resp.choices[0].message.content)


#Cell_4.
messages.append({"role": "assistant", "content": resp.choices[0].message.content})

# Append a new user message asking for more elaboration
messages=[
       {"role": "system", "content": "有難うございます。そうしましたら、このused_mortercycle_en.csvからデータに基づいて中古バイク価格を説明するモデルを作りたいとした時、上記データに含まれていないような潜在的な要因を列挙して"},
       {"role": "user", "content": file_content}
]

resp = oai.chat.completions.create(
    model='gpt-4o-mini',
    messages=messages,
)

print(resp.choices[0].message.content)


#実際にやってみましょう。


#Cell_6.
messages.append({"role": "assistant", "content": resp.choices[0].message.content})

# Append a new user message asking for more elaboration
messages=[
       {"role": "system", "content": """有難うございます。Now, we would like to make a path diagram of the relationshipw between factors in this data. 
    Could you tell me your idea on any possible one? Thank you in advamce!"""},
       {"role": "user", "content": file_content}
]

resp = oai.chat.completions.create(
    model='gpt-4o-mini',
    messages=messages,
)

print(resp.choices[0].message.content)



