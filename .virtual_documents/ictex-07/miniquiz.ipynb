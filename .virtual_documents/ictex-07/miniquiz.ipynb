#Cell_1.
import openai
import re
import os
from openai import OpenAI

oai = OpenAI(
    api_key = 'Ypg_N7E8mt0fkyOxmYe1-SNBzoMHf1oAby5yw6u6GWglIYuKFNE_0J9KhkBGNpeJfk8n9BjABG6Cj2_Mso4GN-w',
    base_url = "https://api.openai.iniad.org/api/v1"
)


#Cell_2.
with open('toyo_students.csv', 'r', encoding='utf-8') as file:
       file_content = file.read()


#Cell_3.
sysmsg ="あなたはデータサイエンティストです。"

messages=[
       {"role": "system", "content": "いまアップロードしたデータ'toyo_students.csv'について解説してください。"},
       {"role": "user", "content": file_content}
]

resp = oai.chat.completions.create(
    model='gpt-4o-mini',
    messages=messages,
)

print(resp.choices[0].message.content)


#Cell_4.
messages.append({"role": "assistant", "content": resp.choices[0].message.content})

# Append a new user message asking for more elaboration
messages=[
       {"role": "system", "content": "有難うございます。そうしましたら、東洋大学の男性学生数、女性学生数の合計（全キャンパスの合計）を求めて、どちらが多いかを答えて"},
       {"role": "user", "content": file_content}
]

resp = oai.chat.completions.create(
    model='gpt-4o-mini',
    messages=messages,
)

print(resp.choices[0].message.content)



