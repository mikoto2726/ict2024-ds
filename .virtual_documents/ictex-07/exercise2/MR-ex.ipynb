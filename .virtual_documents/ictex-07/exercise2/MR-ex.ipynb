#Cell_1.
import numpy as np
import pandas as pd
import matplotlib.pyplot as plt
import statsmodels.api as sm
import statsmodels.formula.api as smf

from sklearn.preprocessing import scale
from sklearn.metrics import mean_squared_error


plt.rcParams['font.family'] = 'Yu Mincho' # for Japanese in graph (Win)


#Cell_2.
csv_in="yields.csv"
df=pd.read_csv(csv_in,skiprows=0,header=0,delimiter=',',encoding="shift-jis")
print(df.shape) #確認
print(df.head()) #確認
print(type(df['time'][0]))


#Cell_3.
from datetime import datetime
for i in range(len(df)):
    df.loc[i,'time']= datetime.fromtimestamp((df.loc[i,'time']/1000))


#Cell_4.
display(df.head())
display(df.tail())


#Cell_5.
df_sorted = df.sort_values('time')
display(df_sorted.head(20))


#Cell_6.
df_sorted['time']=pd.to_datetime(df_sorted['time'])
df_sorted['time']=df_sorted['time'].dt.date

df_sorted=df_sorted.reset_index(drop=True)
df_sorted['time']=pd.to_datetime(df_sorted['time'])
display(df_sorted.head())


#Cell_7.
csv_in2="NY.csv"
df2=pd.read_csv(csv_in2,skiprows=0,header=0,delimiter='\t',encoding="utf-8")
print(df2.shape) #確認
print(df2.head()) #確認
print(type(df2['日時'][0]))
df2['日時']=pd.to_datetime(df2['日時'])
print(type(df2['日時'][0]))


#Cell_8.
df2.columns=['time','start','high','low','close','ma1','ma2','x1','x2','x3','x4']
display(df2.head())


#Cell_9.
df_merged=pd.merge(df2,df_sorted,on='time',how='inner')
display(df_merged.head())


#Cell_10.
df_merged=df_merged[['time','close','US01','US02']]

print(df_merged.shape)
print(df_merged.info())
display(df_merged.head())


#Cell_11.
df_merged=df_merged.fillna(method="ffill")


#Cell_12.
df_d=df_merged.copy()
df_d['time']-=df_d['time'][0]
#print(type(df_d['time'][0]))
df_d['time']/=np.timedelta64(1,'D')
#print(type(df_d['日付'][0]))
print(df_d.head())


#Cell_13.
plt.plot(df_merged['time'],df_merged['US01'])
plt.plot(df_merged['time'],df_merged['US02'])
plt.plot(df_merged['time'],df_merged['close']/15000)
plt.show()


#Cell_14.
X = df_d[['time','US01','US02']]
Y = df_d[['close']]


#Cell_15.
X_c=sm.add_constant(X)
model=sm.OLS(Y,X_c)


#Cell_16.
results=model.fit()
print(results.summary())


#Cell_17.
X_dumm=X.copy()
X_scaled_ar = scale(X_dumm)
y_scaled_ar = scale(Y)

model = sm.OLS(y_scaled_ar, X_scaled_ar)
results_scaled = model.fit()
print(results_scaled.summary())


#Cell_18.
X_test =  pd.DataFrame([
                       [50.0, 0.25, 0.25],[100.0, 0.35, 0.45]],
                        columns=X.columns)  # example
X_test = sm.add_constant(X_test)
print('X for prediction:')
display(X_test)


#Cell_19.
y_test = results.predict(X_test)
print('Predicted y:')
print(y_test)






