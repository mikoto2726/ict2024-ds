#Cell_1.
import numpy as np
import pandas as pd
import matplotlib.pyplot as plt
import statsmodels.api as sm
import statsmodels.formula.api as smf

from sklearn.preprocessing import scale
from sklearn.metrics import mean_squared_error

import warnings
warnings.simplefilter('ignore')

import plotly

plt.rcParams['font.family'] = 'Yu Mincho' # for Japanese in graph (Win)


#Cell_2.
from greykite.algo.changepoint.adalasso.changepoint_detector import ChangepointDetector
from greykite.algo.forecast.silverkite.constants.silverkite_column import SilverkiteColumn
from greykite.common.features.timeseries_features import get_available_holidays_across_countries
from greykite.framework.input.univariate_time_series import UnivariateTimeSeries
from greykite.framework.templates.autogen.forecast_config import ForecastConfig
from greykite.framework.templates.autogen.forecast_config import MetadataParam
from greykite.framework.templates.autogen.forecast_config import ModelComponentsParam
from greykite.framework.templates.forecaster import Forecaster
from greykite.framework.templates.model_templates import ModelTemplateEnum
from greykite.framework.utils.result_summary import summarize_grid_search_results


#Cell_3.
csv_in="yields.csv"
df=pd.read_csv(csv_in,skiprows=0,header=0,delimiter=',',encoding="shift-jis")
print(df.shape) #確認
print(df.head()) #確認
print(type(df['time'][0]))


#Cell_4.
from datetime import datetime
for i in range(len(df)):
    df.loc[i,'time']= datetime.fromtimestamp((df.loc[i,'time']/1000))


#Cell_5.
display(df.head())
display(df.tail())


#Cell_6.
df_sorted = df.sort_values(by='time')
display(df_sorted.tail(20))


#Cell_7.
df_sorted['time']=pd.to_datetime(df_sorted['time'])
df_sorted['time']=df_sorted['time'].dt.date

df_sorted=df_sorted.reset_index(drop=True)
df_sorted['time']=pd.to_datetime(df_sorted['time'])
display(df_sorted.head())


#Cell_8.
csv_in2="nikkei.csv"
df2=pd.read_csv(csv_in2,skiprows=0,header=0,delimiter='\t',encoding="utf-8")
print(df2.shape) #確認
print(df2.head()) #確認
print(type(df2['日時'][0]))


#Cell_9.
df2['日時']=pd.to_datetime(df2['日時'])
print(type(df2['日時'][0]))


#Cell_10.
df2=df2[['日時','終値']]


#Cell_11.
df2.columns=['time','close']
display(df2.head())


# visualization.


#Cell_12.
ts = UnivariateTimeSeries()
ts.load_data(
    df=df2,
    time_col="time", # 日付の列
    value_col="close", # 値の列
    freq="D" # 日付の単位
)


#Cell_13.
fig = ts.plot()
plotly.io.show(fig)


#Cell_14.
fig = ts.plot_grouping_evaluation(
    # デフォルトでは平均を計算する(任意の集計方法を指定可能)
    groupby_sliding_window_size=7, # 集計する粒度(7の場合、t-3~t+3の7日間の平均を計算)
    title="Weekly average")
plotly.io.show(fig)


#Cell_15.
fig = ts.plot_quantiles_and_overlays(
    groupby_time_feature="dow", # "day of week"の略
    show_mean=True, # 平均も描画
    show_quantiles=[0.1, 0.5, 0.9], # 各分位点も描画
    center_values=True # 中央化の有無
)
plotly.io.show(fig)


#going back to the analyses.


#Cell_16.
df_merged=pd.merge(df2,df_sorted,on='time',how='inner')
display(df_merged.head())
display(df_merged.tail())


#Cell_17.
df_merged2=df_merged[['time','close','JP01','JP02','JP05','JP10','US01','US02','US05','US10']]

print(df_merged2.shape)
print(df_merged2.info())
display(df_merged2.head())


#Cell_18.
df2=df_merged2.fillna(method="ffill")


#Cell_19.
metadata = MetadataParam(
    time_col="time", # 日付の列名
    value_col="close", # 値の列名
    freq="D", # 日付の単位
    train_end_date=pd.datetime(2020, 6, 20)
)


#Cell_20.
regressors=dict(
    regressor_cols=[
        ['JP01','JP02','JP05','JP10','US01','US02','US05','US10']
    ]
)


#Cell_21.
yearly_seasonality_order = 10
weekly_seasonality_order = 5
seasonality = {
    "yearly_seasonality": yearly_seasonality_order,
    "quarterly_seasonality": False,
    "monthly_seasonality": False,
    "weekly_seasonality": weekly_seasonality_order,
    "daily_seasonality": False
}


#Cell_22.
growth = {
 "growth_term": "linear"
}
changepoints = {
 "changepoints_dict": dict(
     method="auto",
     yearly_seasonality_order=10,
     regularization_strength=0.5,
     resample_freq="7D",
     potential_changepoint_n=25,
     yearly_seasonality_change_freq="365D",
     no_changepoint_distance_from_end="365D"
 )
}


#Cell_23.
model_components = ModelComponentsParam(
    seasonality=seasonality,
    growth=growth,
    #events=events,
    #changepoints=changepoints,
    autoregression=None,
    regressors=regressors,
    uncertainty={
     "uncertainty_dict": "auto",
    },
    custom={
     "fit_algorithm_dict": {
         "fit_algorithm": "ridge",
     },
     #"extra_pred_cols": extra_pred_cols
    }
)


#Cell_24.
forecaster = Forecaster()
result = forecaster.run_forecast_config(
    df=df2,
    config=ForecastConfig(
        model_template=ModelTemplateEnum.SILVERKITE.name,
        forecast_horizon=14,
        coverage=0.95, # 予測区間を95%に設定
        metadata_param=metadata,
        model_components_param=model_components
    )
)


#Cell_25.
print(result.model[-1].summary(max_colwidth=50))


#Cell_26.
backtest = result.backtest
fig = backtest.plot()
plotly.io.show(fig)


#Cell_27.
fig = result.forecast.plot_components()
plotly.io.show(fig)


#Cell_28.
model = ChangepointDetector()
res = model.find_trend_changepoints(
    df=df2, # データフレーム
    time_col="time", # 日付の列名
    value_col="close", # 値の列名
    yearly_seasonality_order=0, # 年周期を表現するためのフーリエ級数の次数(今回は年周期を仮定してないので0)
    regularization_strength=0.5, # adaptive lassoの罰則の強さ(0~1の値)
    resample_freq="7D", # データを括る粒度
    potential_changepoint_n=20, # 変化点の数、値を大きくすると計算負荷が高くなる
    yearly_seasonality_change_freq=None, # 年周期の値が変わる間隔(今回は年周期ないので無視)
    no_changepoint_distance_from_end="14D", # ラスト14日は変化点なし
    actual_changepoint_min_distance="7D" # 変化点どうしの感覚は最低7日空ける
)

fig = model.plot(
    observation=True,
    trend_estimate=False,
    trend_change=True,
    yearly_seasonality_estimate=False,
    adaptive_lasso_estimate=True,
    plot=False)
plotly.io.show(fig)


#Lets try a customized model.
#Cell_29.
growth = {
    "growth_term": "linear" # 線形トレンド
}

changepoints = {
    "changepoints_dict": {
        "method": "auto",
        "yearly_seasonality_order": 0,
        "regularization_strength": 0.5,
        "resample_freq": "7D",
        "potential_changepoint_n": 20,
        "yearly_seasonality_change_freq": None,
        "no_changepoint_distance_from_end": "14D",
        "actual_changepoint_min_distance": "7D"
    }
}

seasonality = {
    "yearly_seasonality": False,
    "quarterly_seasonality": False,
    "monthly_seasonality": False,
    "weekly_seasonality": 2, # 週周期の次数
    "daily_seasonality": False
}

events = {
    "holiday_lookup_countries": None # 祝日なし
}

model_components = ModelComponentsParam(
    seasonality=seasonality,
    growth=growth,
    changepoints=changepoints,
    autoregression={
        "autoreg_dict": None # 自己回帰の項なし
    },
    events=events,
    regressors=regressors, 
    lagged_regressors={
        "lagged_regressor_dict": None # 説明変数のラグも当然なし
    },
    custom={
        "fit_algorithm_dict": {
            "fit_algorithm": "ridge"
        },
        "feature_sets_enabled": {
            SilverkiteColumn.COLS_DAY_OF_WEEK: False, # 曜日ダミーの有無
            SilverkiteColumn.COLS_TREND_WEEKEND: False, # 平日/週末とトレンドとの交互作用の有無
            SilverkiteColumn.COLS_TREND_DAY_OF_WEEK: False, # 曜日とトレンドとの交互作用の有無
            SilverkiteColumn.COLS_TREND_WEEKLY_SEAS: False # 週周期の変化を許容するかどうか
        }
    },
    uncertainty={
        "uncertainty_dict": {
            "uncertainty_method": "simple_conditional_residuals",
            "params": {
                "quantiles": [0.025, 0.975],
                "conditional_cols": ["month"], # 予測区間を月ごとに計算する
                "quantile_estimation_method": "normal_fit"
            }

        },
    }
)


#Cell_30.
custom_result = forecaster.run_forecast_config(
    df=df2,
    config=ForecastConfig(
        model_template=ModelTemplateEnum.SILVERKITE.name,
        forecast_horizon=14,
        coverage=0.95,  # 95% prediction intervals
        model_components_param=model_components,
        metadata_param=metadata
    )
)


#Cell_31.
backtest = custom_result.backtest
fig = backtest.plot()
plotly.io.show(fig)


#Cell_32.
print(custom_result.model[-1].summary(max_colwidth=50))


#Cell_33.
fig = custom_result.forecast.plot_components()
plotly.io.show(fig)


#Cell_34.
custom_result.backtest.test_evaluation
