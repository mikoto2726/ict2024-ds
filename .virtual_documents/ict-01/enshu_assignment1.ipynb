# グラフを移動拡大縮小したい場合
get_ipython().run_line_magic("matplotlib", " notebook")
# グラフをインラインで表示
# %matplotlib inline

#Cell_1.
import gc
import math
import pickle

import warnings
warnings.simplefilter('ignore')

import mylibs.mylib1 as mylib1
import mylibs.mylib2 as mylib2
import mylibs.mylib3 as mylib3

import matplotlib.pyplot as plt
import numpy as np
import pandas as pd
from scipy.stats import norm

# 表示する行・列の数を設定
pd.options.display.max_rows = 8
pd.options.display.max_columns = 12

# matplotlib のフォントを設定
plt.rcParams['font.family'] = 'Times New Roman'
plt.rcParams['mathtext.fontset'] = 'stix'


#Cell_2.
df_bp = pd.read_csv('public_stats/original/nhns_bp.csv', skiprows=6)

df_bp.head()


# Cell_3.
# 割合の情報は削除
# DataFrame 'df_bp' の列の中で、最初の行の値が '%' ではない列のみを抽出する。
# 具体的には、iloc[0] で最初の行のデータを取得し、そのデータが '%' と一致しない列名を df_bp.columns から選び出し、列をフィルタリングする。
df_bp = df_bp.loc[:, df_bp.columns[df_bp.iloc[0] != '%']]

# データの先頭5行を表示して、結果を確認する。
df_bp.head()


#Cell_4.
#10列目まで取り出す
# 最初の1行目を除いて、最初の10列までを選択した新しい DataFrame 'df_bp' を作成する。
# loc[1:, ...] は行のスライスで、1行目から最終行までを選択する。
# df_bp.columns[:10] は最初の10列を選択する。
df_bp = df_bp.loc[1:, df_bp.columns[:10]]

# 欠損値（NaN）を、直前の値で埋める。
# 'ffill' は「前方フィル」とも呼ばれ、前の行のデータで欠損値を埋める方法。
# これにより、欠損値が前の値で置き換えられる。
df_bp = df_bp.fillna(method='ffill')

# データの先頭5行を表示して、変更が正しく行われたかを確認する。
df_bp.head()



#Cell_5.
#列名を変更
df_bp.columns = ['sex', 'bp_type', 'bp_value', 'total',
                 '20s', '30s', '40s', '50s', '60s', '70s']

df_bp.tail()


# Cell_6.
# 51行目以下（単なる注釈）を削除する
# DataFrame 'df_bp' の最初の50行を選択し、新しい 'df_bp' として定義する。
# iloc[:50] は、最初の0行目から49行目（合計50行）を取得する。
df_bp = df_bp.iloc[:50]

# 'bp_value' 列の値が '総数' ではない行のみを抽出し、'df_bp' として再定義する。
# loc[df_bp.bp_value != '総数', :] で、条件に一致する行（'総数' を含まない行）を選択する。
df_bp = df_bp.loc[df_bp.bp_value != '総数', :]

# 'df_bp' DataFrame の先頭5行を表示して、処理が意図通りに行われたことを確認する。
display(df_bp.head())



#Cell_7.
df_bp.sex[df_bp.sex == '男性'] = 'M'
df_bp.sex[df_bp.sex == '女性'] = 'F'
df_bp.bp_type[df_bp.bp_type == '収縮期（最高）血圧'] = 'sbp'
df_bp.bp_type[df_bp.bp_type == '拡張期（最低）血圧'] = 'dbp'
df_bp = df_bp.reset_index()
del df_bp['index']

df_bp


# Cell_8.
# 可視化のための準備を行う。
# seaborn ライブラリをインポートする。これはデータの可視化に使用する。
import seaborn as sns

# 'df_bp' データフレームから、性別が 'M'（男性）で、血圧の種類が 'sbp'（収縮期血圧）のデータのみを抽出し、'df_m_sbp' として定義する。
df_m_sbp = df_bp[(df_bp['sex'] == 'F') & (df_bp['bp_type'] == 'sbp')]

# 'df_bp' データフレームから、性別が 'M'（男性）で、血圧の種類が 'dbp'（拡張期血圧）のデータのみを抽出し、'df_m_dbp' として定義する。
df_m_dbp = df_bp[(df_bp['sex'] == 'F') & (df_bp['bp_type'] == 'dbp')]

# 'df_m_sbp' データフレームに、新しい列 'bp_value_class' を追加する。
# この列には、収縮期血圧の値（85, 95, 105, 115, 125, 135, 145, 155, 165, 175, 185）が対応している。
df_m_sbp['bp_value_class'] = [85, 95, 105, 115, 125, 135, 145, 155, 165, 175, 185]

# 'df_m_dbp' データフレームに、新しい列 'bp_value_class' を追加する。
# この列には、拡張期血圧の値（35, 45, 55, 65, 75, 85, 95, 105, 115, 125, 135, 145）が対応している。
df_m_dbp['bp_value_class'] = [35, 45, 55, 65, 75, 85, 95, 105, 115, 125, 135, 145]

# 'df_m_dbp' データフレームの先頭5行を表示して、データを確認する。
display(df_m_dbp.head())

# 'df_m_dbp' データフレームの末尾5行を表示して、データを確認する。
display(df_m_dbp.tail())



#Cell_9.
print(df_m_sbp.info())
print(df_m_dbp.shape)


# Cell_10.
# 'df_m_sbp' データフレームの 'total' 列のデータ型を整数型（int）に変換する。
# これにより、'total' 列の値が文字列（str）や浮動小数点（float）であっても、整数として扱われるようになる。
df_m_sbp['total'] = df_m_sbp['total'].astype("int")

# 'df_m_dbp' データフレームの 'total' 列のデータ型を整数型（int）に変換する。
# これにより、'total' 列の値が文字列（str）や浮動小数点（float）であっても、整数として扱われるようになる。
df_m_dbp['total'] = df_m_dbp['total'].astype("int")



# Cell_11.
# Jupyter Notebook で matplotlib のグラフをインライン表示するためのマジックコマンド。
# このコマンドを使うと、グラフがノートブック内に直接表示されるようになる。
get_ipython().run_line_magic("matplotlib", " inline")

# 'df_m_sbp' データフレームの棒グラフを作成する。
# 'x' 軸には 'bp_value_class' 列（収縮期血圧の値）を、'y' 軸には 'total' 列（各クラスの合計値）を使用する。
# 棒グラフは、収縮期血圧のクラスごとの合計値の分布を視覚的に確認するために使用される。
df_m_sbp.plot.bar(x='bp_value_class', y='total')

# 'df_m_dbp' データフレームの棒グラフを作成する。
# 'x' 軸には 'bp_value_class' 列（拡張期血圧の値）を、'y' 軸には 'total' 列（各クラスの合計値）を使用する。
# 棒グラフは、拡張期血圧のクラスごとの合計値の分布を視覚的に確認するために使用される。
df_m_dbp.plot.bar(x='bp_value_class', y='total')



# Cell_12.
# 'df_bp' データフレームの 'bp_value' 列に含まれるユニークな（重複しない）値の一覧を取得する。
# unique() メソッドを使用して、'bp_value' 列にどのような異なる値が含まれているかを確認できる。
# これは、データの中にどのような種類の血圧値が存在するかを把握するのに役立つ。
df_bp.bp_value.unique()




