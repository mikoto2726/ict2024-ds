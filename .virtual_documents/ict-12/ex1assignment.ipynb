import requests
import pandas as pd
import geopandas as gpd
from shapely.geometry import Polygon
import japanize_matplotlib


TOKYO_ADMIN_PATH = 'data/nl/N03-20240101_13.geojson'


gdf_tokyo_admin = gpd.read_file(TOKYO_ADMIN_PATH)
gdf_tokyo_admin


gdf_tokyo_admin_grouped = gdf_tokyo_admin.dissolve(by='N03_007')
gdf_tokyo_admin_grouped = gdf_tokyo_admin_grouped.reset_index()
gdf_tokyo_admin_grouped


gdf_tokyo_admin_grouped['area'] = gdf_tokyo_admin_grouped.to_crs(epsg=6691).area
gdf_tokyo_admin_grouped


DOCOMO_STATION_INFO = 'https://api-public.odpt.org/api/v4/gbfs/docomo-cycle/station_information.json'


response = requests.get(DOCOMO_STATION_INFO)
result = response.json()


df_station_info = pd.DataFrame(result['data']['stations'])
df_station_info


gdf_station_info = gpd.GeoDataFrame(df_station_info, geometry=gpd.points_from_xy(df_station_info['lon'], df_station_info['lat']), crs=4326)
gdf_station_info


gdf_station_admin = gdf_station_info.sjoin(gdf_tokyo_admin_grouped, how='inner', predicate='within')
gdf_station_admin


df_station_count = gdf_station_admin.groupby('N03_007')[['station_id']].count()
df_station_count = df_station_count.reset_index()
df_station_count


gdf_tokyo_station_count = gdf_tokyo_admin_grouped.merge(df_station_count)
gdf_tokyo_station_count


gdf_tokyo_station_count.sort_values('station_id', ascending=False)


min_lon, min_lat = 138.0, 35.0
max_lon, max_lat = 140.0, 36.0
   
bbox_polygon = Polygon([(min_lon, min_lat), (min_lon, max_lat), (max_lon, max_lat), (max_lon, min_lat)])

gdf_tokyo_station_count_clipped = gdf_tokyo_station_count[gdf_tokyo_station_count.within(bbox_polygon)]
gdf_tokyo_station_count_clipped

gdf_tokyo_station_count_clipped.plot(column='station_id', cmap='OrRd', figsize=(10, 5), legend=True)


df_capacity_total = gdf_station_admin.groupby('N03_007')[['capacity']].sum()
df_capacity_total = df_capacity_total.reset_index()
df_capacity_total


gdf_tokyo_capacity_total = gdf_tokyo_admin_grouped.merge(df_capacity_total)
gdf_tokyo_capacity_total['capacity_ratio'] = gdf_tokyo_capacity_total['capacity'] / gdf_tokyo_capacity_total['area']
gdf_tokyo_capacity_total


gdf_tokyo_capacity_total.sort_values('capacity_ratio', ascending=False)


min_lon, min_lat = 138.0, 35.0
max_lon, max_lat = 140.0, 36.0
   
bbox_polygon = Polygon([(min_lon, min_lat), (min_lon, max_lat), (max_lon, max_lat), (max_lon, min_lat)])

gdf_tokyo_capacity_total_clipped = gdf_tokyo_capacity_total[gdf_tokyo_capacity_total.within(bbox_polygon)]
gdf_tokyo_capacity_total_clipped

gdf_tokyo_capacity_total_clipped.plot(column='capacity_ratio', cmap='OrRd', figsize=(10, 5), legend=True)



