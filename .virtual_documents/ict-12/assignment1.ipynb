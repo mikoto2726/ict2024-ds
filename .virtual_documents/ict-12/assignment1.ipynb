import requests
import zipfile
import os
import pandas as pd
import geopandas as gpd
from shapely.geometry import Polygon
import japanize_matplotlib


TOKYO_ADMIN_PATH = 'data/nl/N03-20240101_13.geojson'


gdf_tokyo_admin = gpd.read_file(TOKYO_ADMIN_PATH)
gdf_tokyo_admin


gdf_tokyo_admin_grouped = gdf_tokyo_admin.dissolve(by='N03_007')
gdf_tokyo_admin_grouped = gdf_tokyo_admin_grouped.reset_index()
gdf_tokyo_admin_grouped


GTFS_URL = 'https://api-public.odpt.org/api/v4/files/Toei/data/ToeiBus-GTFS.zip'
ZIP_PATH = 'tmp.zip'
TMPDIR_PATH = 'tmp/'


response = requests.get(GTFS_URL)

if response.status_code == 200:
  with open(ZIP_PATH, 'wb') as f:
    f.write(response.content)

if not os.path.exists(TMPDIR_PATH):
  os.makedirs(TMPDIR_PATH)

with zipfile.ZipFile(ZIP_PATH, 'r') as zip_ref:
  zip_ref.extractall(TMPDIR_PATH)


df_stops = pd.read_csv(TMPDIR_PATH + 'stops.txt')
df_stops


gdf_stops = gpd.GeoDataFrame(df_stops, geometry=gpd.points_from_xy(df_stops['stop_lon'], df_stops['stop_lat'], crs=4326))
gdf_stops


gdf_stops_admin = gdf_stops.sjoin(gdf_tokyo_admin_grouped, how='inner', predicate='within')
gdf_stops_admin


df_stop_count = gdf_stops_admin.groupby('N03_007')[['stop_id']].count()
df_stop_count = df_stop_count.reset_index()
df_stop_count


gdf_tokyo_stops = gdf_tokyo_admin_grouped.merge(df_stop_count)
gdf_tokyo_stops


gdf_tokyo_stops.sort_values('stop_id', ascending=False)


gdf_tokyo_stops.plot(column='stop_id', cmap='OrRd', figsize=(10, 5), legend=True)



